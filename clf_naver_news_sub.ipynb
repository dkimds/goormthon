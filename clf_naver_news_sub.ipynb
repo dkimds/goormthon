{
  "nbformat": 4,
  "nbformat_minor": 0,
  "metadata": {
    "colab": {
      "provenance": [],
      "authorship_tag": "ABX9TyMnnqQ6uSb/2NMtA0Qcj5pf",
      "include_colab_link": true
    },
    "kernelspec": {
      "name": "python3",
      "display_name": "Python 3"
    },
    "language_info": {
      "name": "python"
    }
  },
  "cells": [
    {
      "cell_type": "markdown",
      "metadata": {
        "id": "view-in-github",
        "colab_type": "text"
      },
      "source": [
        "<a href=\"https://colab.research.google.com/github/dkimds/goormthon/blob/main/%08clf_naver_news_sub.ipynb\" target=\"_parent\"><img src=\"https://colab.research.google.com/assets/colab-badge.svg\" alt=\"Open In Colab\"/></a>"
      ]
    },
    {
      "cell_type": "markdown",
      "source": [
        "# 네이버 뉴스 카테고리 분류기 만들기"
      ],
      "metadata": {
        "id": "CqXNy0JNW9op"
      }
    },
    {
      "cell_type": "markdown",
      "source": [
        "## 자연어처리 라이브러리 설치"
      ],
      "metadata": {
        "id": "9lvMdlQxQ1w2"
      }
    },
    {
      "cell_type": "code",
      "source": [
        "# nltk.download()  # 텍스트 데이터 처리를 위한 패키지 다운로더\n",
        "\n",
        "# Download following packages\n",
        "# Corpora : stopwords, wordnet\n",
        "# Models : averaged_perceptron_tagger, maxent_treebank_pos_tagger, punkt\n",
        "import nltk\n",
        "nltk.download()"
      ],
      "metadata": {
        "id": "3xeJG2nyXB1e"
      },
      "execution_count": null,
      "outputs": []
    },
    {
      "cell_type": "code",
      "source": [
        "# Install konlpy\n",
        "!curl -s https://raw.githubusercontent.com/teddylee777/machine-learning/master/99-Misc/01-Colab/mecab-colab.sh | bash"
      ],
      "metadata": {
        "id": "f3XXscvEafNs"
      },
      "execution_count": null,
      "outputs": []
    },
    {
      "cell_type": "markdown",
      "source": [
        "## 데이터셋 불러오기"
      ],
      "metadata": {
        "id": "W2qWBp8VQWkg"
      }
    },
    {
      "cell_type": "code",
      "source": [
        "!ls"
      ],
      "metadata": {
        "id": "64vteeMeae7K",
        "colab": {
          "base_uri": "https://localhost:8080/"
        },
        "outputId": "375edb03-7724-4dd2-ebf7-e7184829b2bc"
      },
      "execution_count": null,
      "outputs": [
        {
          "output_type": "stream",
          "name": "stdout",
          "text": [
            "clf_news_MultinomialNB_v1.pkl  result_231210_0127.csv  result_231210_0221.csv  sample_data\n",
            "result_231210_0111.csv\t       result_231210_0206.csv  result_231210_0239.csv\n"
          ]
        }
      ]
    },
    {
      "cell_type": "code",
      "source": [
        "import pandas as pd\n",
        "import numpy as np\n",
        "\n",
        "csv_list = ['result_231210_0111.csv',\n",
        "            'result_231210_0206.csv',\n",
        "            'result_231210_0239.csv',\n",
        "            'result_231210_0127.csv',\n",
        "            'result_231210_0221.csv']\n",
        "news_df = pd.DataFrame()\n",
        "for csv in csv_list:\n",
        "    df_data = pd.read_csv(csv)\n",
        "    news_df = news_df.append(df_data)\n",
        "\n",
        "print('전체 리뷰 수:', len(news_df))\n",
        "news_df.head()"
      ],
      "metadata": {
        "colab": {
          "base_uri": "https://localhost:8080/",
          "height": 510
        },
        "id": "rxuiI59ubOfx",
        "outputId": "1d6bc8d4-abae-403f-8247-9ef957d0d912"
      },
      "execution_count": null,
      "outputs": [
        {
          "output_type": "stream",
          "name": "stdout",
          "text": [
            "전체 리뷰 수: 2316\n"
          ]
        },
        {
          "output_type": "stream",
          "name": "stderr",
          "text": [
            "<ipython-input-3-9f634c9de91f>:12: FutureWarning: The frame.append method is deprecated and will be removed from pandas in a future version. Use pandas.concat instead.\n",
            "  news_df = news_df.append(df_data)\n",
            "<ipython-input-3-9f634c9de91f>:12: FutureWarning: The frame.append method is deprecated and will be removed from pandas in a future version. Use pandas.concat instead.\n",
            "  news_df = news_df.append(df_data)\n",
            "<ipython-input-3-9f634c9de91f>:12: FutureWarning: The frame.append method is deprecated and will be removed from pandas in a future version. Use pandas.concat instead.\n",
            "  news_df = news_df.append(df_data)\n",
            "<ipython-input-3-9f634c9de91f>:12: FutureWarning: The frame.append method is deprecated and will be removed from pandas in a future version. Use pandas.concat instead.\n",
            "  news_df = news_df.append(df_data)\n",
            "<ipython-input-3-9f634c9de91f>:12: FutureWarning: The frame.append method is deprecated and will be removed from pandas in a future version. Use pandas.concat instead.\n",
            "  news_df = news_df.append(df_data)\n"
          ]
        },
        {
          "output_type": "execute_result",
          "data": {
            "text/plain": [
              "                   date category   press                                title  \\\n",
              "0  2023.11.29. 오후 12:00       사회    연합뉴스  3분기 출산율 0.7명 '역대 최저'…0.6명대 추락 '빨간불'   \n",
              "1   2023.11.29. 오후 6:04       경제    한국경제   통계나올 때마다 '쇼크'…3분기 출산율 0.7명 또 역대 최저   \n",
              "2   2023.11.30. 오전 5:03       사회    서울신문            3분기도 출산율 최저… 올 0.7명도 위태롭다   \n",
              "3   2023.11.29. 오후 3:29       경제  한경비즈니스      “이러다 한국 진짜 망한다”...또 다시 ‘출산율 쇼크’   \n",
              "4   2023.11.29. 오후 9:33       경제    TV조선   3분기 합계 출산율, 0.7명…올해 출생아 20만 명대 턱걸이   \n",
              "\n",
              "                                            document  \\\n",
              "0  통계청, 9월 인구동향…작년 3분기比 0.1명↓47개월째 인구 자연감소(세종=연합뉴...   \n",
              "1  통계청 인구동향17개 광역시·도 일제히 하락광주 0.2명 줄어 하락폭 최대 인구 4...   \n",
              "2  1년 전보다 0.1명 줄어들어 0.7명9월 출생아 수·혼인도 가장 낮아다문화 혼인은...   \n",
              "3  3분기 합계출산율 0.7명 기록3분기 기준 역대 최저치4분기에는 더 떨어질 가능성 ...   \n",
              "4  [앵커]출산율 감소, 혼인율 감소 저도 계속   전하는 입장에서 뾰족한  대책이 없...   \n",
              "\n",
              "                                                link  \n",
              "0  https://n.news.naver.com/mnews/article/001/001...  \n",
              "1  https://n.news.naver.com/mnews/article/015/000...  \n",
              "2  https://n.news.naver.com/mnews/article/081/000...  \n",
              "3  https://n.news.naver.com/mnews/article/050/000...  \n",
              "4  https://n.news.naver.com/mnews/article/448/000...  "
            ],
            "text/html": [
              "\n",
              "  <div id=\"df-99138852-3c18-4d6c-b31a-8791aa20b6be\" class=\"colab-df-container\">\n",
              "    <div>\n",
              "<style scoped>\n",
              "    .dataframe tbody tr th:only-of-type {\n",
              "        vertical-align: middle;\n",
              "    }\n",
              "\n",
              "    .dataframe tbody tr th {\n",
              "        vertical-align: top;\n",
              "    }\n",
              "\n",
              "    .dataframe thead th {\n",
              "        text-align: right;\n",
              "    }\n",
              "</style>\n",
              "<table border=\"1\" class=\"dataframe\">\n",
              "  <thead>\n",
              "    <tr style=\"text-align: right;\">\n",
              "      <th></th>\n",
              "      <th>date</th>\n",
              "      <th>category</th>\n",
              "      <th>press</th>\n",
              "      <th>title</th>\n",
              "      <th>document</th>\n",
              "      <th>link</th>\n",
              "    </tr>\n",
              "  </thead>\n",
              "  <tbody>\n",
              "    <tr>\n",
              "      <th>0</th>\n",
              "      <td>2023.11.29. 오후 12:00</td>\n",
              "      <td>사회</td>\n",
              "      <td>연합뉴스</td>\n",
              "      <td>3분기 출산율 0.7명 '역대 최저'…0.6명대 추락 '빨간불'</td>\n",
              "      <td>통계청, 9월 인구동향…작년 3분기比 0.1명↓47개월째 인구 자연감소(세종=연합뉴...</td>\n",
              "      <td>https://n.news.naver.com/mnews/article/001/001...</td>\n",
              "    </tr>\n",
              "    <tr>\n",
              "      <th>1</th>\n",
              "      <td>2023.11.29. 오후 6:04</td>\n",
              "      <td>경제</td>\n",
              "      <td>한국경제</td>\n",
              "      <td>통계나올 때마다 '쇼크'…3분기 출산율 0.7명 또 역대 최저</td>\n",
              "      <td>통계청 인구동향17개 광역시·도 일제히 하락광주 0.2명 줄어 하락폭 최대 인구 4...</td>\n",
              "      <td>https://n.news.naver.com/mnews/article/015/000...</td>\n",
              "    </tr>\n",
              "    <tr>\n",
              "      <th>2</th>\n",
              "      <td>2023.11.30. 오전 5:03</td>\n",
              "      <td>사회</td>\n",
              "      <td>서울신문</td>\n",
              "      <td>3분기도 출산율 최저… 올 0.7명도 위태롭다</td>\n",
              "      <td>1년 전보다 0.1명 줄어들어 0.7명9월 출생아 수·혼인도 가장 낮아다문화 혼인은...</td>\n",
              "      <td>https://n.news.naver.com/mnews/article/081/000...</td>\n",
              "    </tr>\n",
              "    <tr>\n",
              "      <th>3</th>\n",
              "      <td>2023.11.29. 오후 3:29</td>\n",
              "      <td>경제</td>\n",
              "      <td>한경비즈니스</td>\n",
              "      <td>“이러다 한국 진짜 망한다”...또 다시 ‘출산율 쇼크’</td>\n",
              "      <td>3분기 합계출산율 0.7명 기록3분기 기준 역대 최저치4분기에는 더 떨어질 가능성 ...</td>\n",
              "      <td>https://n.news.naver.com/mnews/article/050/000...</td>\n",
              "    </tr>\n",
              "    <tr>\n",
              "      <th>4</th>\n",
              "      <td>2023.11.29. 오후 9:33</td>\n",
              "      <td>경제</td>\n",
              "      <td>TV조선</td>\n",
              "      <td>3분기 합계 출산율, 0.7명…올해 출생아 20만 명대 턱걸이</td>\n",
              "      <td>[앵커]출산율 감소, 혼인율 감소 저도 계속   전하는 입장에서 뾰족한  대책이 없...</td>\n",
              "      <td>https://n.news.naver.com/mnews/article/448/000...</td>\n",
              "    </tr>\n",
              "  </tbody>\n",
              "</table>\n",
              "</div>\n",
              "    <div class=\"colab-df-buttons\">\n",
              "\n",
              "  <div class=\"colab-df-container\">\n",
              "    <button class=\"colab-df-convert\" onclick=\"convertToInteractive('df-99138852-3c18-4d6c-b31a-8791aa20b6be')\"\n",
              "            title=\"Convert this dataframe to an interactive table.\"\n",
              "            style=\"display:none;\">\n",
              "\n",
              "  <svg xmlns=\"http://www.w3.org/2000/svg\" height=\"24px\" viewBox=\"0 -960 960 960\">\n",
              "    <path d=\"M120-120v-720h720v720H120Zm60-500h600v-160H180v160Zm220 220h160v-160H400v160Zm0 220h160v-160H400v160ZM180-400h160v-160H180v160Zm440 0h160v-160H620v160ZM180-180h160v-160H180v160Zm440 0h160v-160H620v160Z\"/>\n",
              "  </svg>\n",
              "    </button>\n",
              "\n",
              "  <style>\n",
              "    .colab-df-container {\n",
              "      display:flex;\n",
              "      gap: 12px;\n",
              "    }\n",
              "\n",
              "    .colab-df-convert {\n",
              "      background-color: #E8F0FE;\n",
              "      border: none;\n",
              "      border-radius: 50%;\n",
              "      cursor: pointer;\n",
              "      display: none;\n",
              "      fill: #1967D2;\n",
              "      height: 32px;\n",
              "      padding: 0 0 0 0;\n",
              "      width: 32px;\n",
              "    }\n",
              "\n",
              "    .colab-df-convert:hover {\n",
              "      background-color: #E2EBFA;\n",
              "      box-shadow: 0px 1px 2px rgba(60, 64, 67, 0.3), 0px 1px 3px 1px rgba(60, 64, 67, 0.15);\n",
              "      fill: #174EA6;\n",
              "    }\n",
              "\n",
              "    .colab-df-buttons div {\n",
              "      margin-bottom: 4px;\n",
              "    }\n",
              "\n",
              "    [theme=dark] .colab-df-convert {\n",
              "      background-color: #3B4455;\n",
              "      fill: #D2E3FC;\n",
              "    }\n",
              "\n",
              "    [theme=dark] .colab-df-convert:hover {\n",
              "      background-color: #434B5C;\n",
              "      box-shadow: 0px 1px 3px 1px rgba(0, 0, 0, 0.15);\n",
              "      filter: drop-shadow(0px 1px 2px rgba(0, 0, 0, 0.3));\n",
              "      fill: #FFFFFF;\n",
              "    }\n",
              "  </style>\n",
              "\n",
              "    <script>\n",
              "      const buttonEl =\n",
              "        document.querySelector('#df-99138852-3c18-4d6c-b31a-8791aa20b6be button.colab-df-convert');\n",
              "      buttonEl.style.display =\n",
              "        google.colab.kernel.accessAllowed ? 'block' : 'none';\n",
              "\n",
              "      async function convertToInteractive(key) {\n",
              "        const element = document.querySelector('#df-99138852-3c18-4d6c-b31a-8791aa20b6be');\n",
              "        const dataTable =\n",
              "          await google.colab.kernel.invokeFunction('convertToInteractive',\n",
              "                                                    [key], {});\n",
              "        if (!dataTable) return;\n",
              "\n",
              "        const docLinkHtml = 'Like what you see? Visit the ' +\n",
              "          '<a target=\"_blank\" href=https://colab.research.google.com/notebooks/data_table.ipynb>data table notebook</a>'\n",
              "          + ' to learn more about interactive tables.';\n",
              "        element.innerHTML = '';\n",
              "        dataTable['output_type'] = 'display_data';\n",
              "        await google.colab.output.renderOutput(dataTable, element);\n",
              "        const docLink = document.createElement('div');\n",
              "        docLink.innerHTML = docLinkHtml;\n",
              "        element.appendChild(docLink);\n",
              "      }\n",
              "    </script>\n",
              "  </div>\n",
              "\n",
              "\n",
              "<div id=\"df-4138aeee-d1ca-4cac-840e-5cdbf8ef31c0\">\n",
              "  <button class=\"colab-df-quickchart\" onclick=\"quickchart('df-4138aeee-d1ca-4cac-840e-5cdbf8ef31c0')\"\n",
              "            title=\"Suggest charts\"\n",
              "            style=\"display:none;\">\n",
              "\n",
              "<svg xmlns=\"http://www.w3.org/2000/svg\" height=\"24px\"viewBox=\"0 0 24 24\"\n",
              "     width=\"24px\">\n",
              "    <g>\n",
              "        <path d=\"M19 3H5c-1.1 0-2 .9-2 2v14c0 1.1.9 2 2 2h14c1.1 0 2-.9 2-2V5c0-1.1-.9-2-2-2zM9 17H7v-7h2v7zm4 0h-2V7h2v10zm4 0h-2v-4h2v4z\"/>\n",
              "    </g>\n",
              "</svg>\n",
              "  </button>\n",
              "\n",
              "<style>\n",
              "  .colab-df-quickchart {\n",
              "      --bg-color: #E8F0FE;\n",
              "      --fill-color: #1967D2;\n",
              "      --hover-bg-color: #E2EBFA;\n",
              "      --hover-fill-color: #174EA6;\n",
              "      --disabled-fill-color: #AAA;\n",
              "      --disabled-bg-color: #DDD;\n",
              "  }\n",
              "\n",
              "  [theme=dark] .colab-df-quickchart {\n",
              "      --bg-color: #3B4455;\n",
              "      --fill-color: #D2E3FC;\n",
              "      --hover-bg-color: #434B5C;\n",
              "      --hover-fill-color: #FFFFFF;\n",
              "      --disabled-bg-color: #3B4455;\n",
              "      --disabled-fill-color: #666;\n",
              "  }\n",
              "\n",
              "  .colab-df-quickchart {\n",
              "    background-color: var(--bg-color);\n",
              "    border: none;\n",
              "    border-radius: 50%;\n",
              "    cursor: pointer;\n",
              "    display: none;\n",
              "    fill: var(--fill-color);\n",
              "    height: 32px;\n",
              "    padding: 0;\n",
              "    width: 32px;\n",
              "  }\n",
              "\n",
              "  .colab-df-quickchart:hover {\n",
              "    background-color: var(--hover-bg-color);\n",
              "    box-shadow: 0 1px 2px rgba(60, 64, 67, 0.3), 0 1px 3px 1px rgba(60, 64, 67, 0.15);\n",
              "    fill: var(--button-hover-fill-color);\n",
              "  }\n",
              "\n",
              "  .colab-df-quickchart-complete:disabled,\n",
              "  .colab-df-quickchart-complete:disabled:hover {\n",
              "    background-color: var(--disabled-bg-color);\n",
              "    fill: var(--disabled-fill-color);\n",
              "    box-shadow: none;\n",
              "  }\n",
              "\n",
              "  .colab-df-spinner {\n",
              "    border: 2px solid var(--fill-color);\n",
              "    border-color: transparent;\n",
              "    border-bottom-color: var(--fill-color);\n",
              "    animation:\n",
              "      spin 1s steps(1) infinite;\n",
              "  }\n",
              "\n",
              "  @keyframes spin {\n",
              "    0% {\n",
              "      border-color: transparent;\n",
              "      border-bottom-color: var(--fill-color);\n",
              "      border-left-color: var(--fill-color);\n",
              "    }\n",
              "    20% {\n",
              "      border-color: transparent;\n",
              "      border-left-color: var(--fill-color);\n",
              "      border-top-color: var(--fill-color);\n",
              "    }\n",
              "    30% {\n",
              "      border-color: transparent;\n",
              "      border-left-color: var(--fill-color);\n",
              "      border-top-color: var(--fill-color);\n",
              "      border-right-color: var(--fill-color);\n",
              "    }\n",
              "    40% {\n",
              "      border-color: transparent;\n",
              "      border-right-color: var(--fill-color);\n",
              "      border-top-color: var(--fill-color);\n",
              "    }\n",
              "    60% {\n",
              "      border-color: transparent;\n",
              "      border-right-color: var(--fill-color);\n",
              "    }\n",
              "    80% {\n",
              "      border-color: transparent;\n",
              "      border-right-color: var(--fill-color);\n",
              "      border-bottom-color: var(--fill-color);\n",
              "    }\n",
              "    90% {\n",
              "      border-color: transparent;\n",
              "      border-bottom-color: var(--fill-color);\n",
              "    }\n",
              "  }\n",
              "</style>\n",
              "\n",
              "  <script>\n",
              "    async function quickchart(key) {\n",
              "      const quickchartButtonEl =\n",
              "        document.querySelector('#' + key + ' button');\n",
              "      quickchartButtonEl.disabled = true;  // To prevent multiple clicks.\n",
              "      quickchartButtonEl.classList.add('colab-df-spinner');\n",
              "      try {\n",
              "        const charts = await google.colab.kernel.invokeFunction(\n",
              "            'suggestCharts', [key], {});\n",
              "      } catch (error) {\n",
              "        console.error('Error during call to suggestCharts:', error);\n",
              "      }\n",
              "      quickchartButtonEl.classList.remove('colab-df-spinner');\n",
              "      quickchartButtonEl.classList.add('colab-df-quickchart-complete');\n",
              "    }\n",
              "    (() => {\n",
              "      let quickchartButtonEl =\n",
              "        document.querySelector('#df-4138aeee-d1ca-4cac-840e-5cdbf8ef31c0 button');\n",
              "      quickchartButtonEl.style.display =\n",
              "        google.colab.kernel.accessAllowed ? 'block' : 'none';\n",
              "    })();\n",
              "  </script>\n",
              "</div>\n",
              "    </div>\n",
              "  </div>\n"
            ]
          },
          "metadata": {},
          "execution_count": 3
        }
      ]
    },
    {
      "cell_type": "code",
      "source": [
        "news_df.info()"
      ],
      "metadata": {
        "colab": {
          "base_uri": "https://localhost:8080/"
        },
        "id": "eimkvFOapQCr",
        "outputId": "67dd6f08-b7ca-4799-928d-972e178bcc1f"
      },
      "execution_count": null,
      "outputs": [
        {
          "output_type": "stream",
          "name": "stdout",
          "text": [
            "<class 'pandas.core.frame.DataFrame'>\n",
            "Int64Index: 2316 entries, 0 to 469\n",
            "Data columns (total 6 columns):\n",
            " #   Column    Non-Null Count  Dtype \n",
            "---  ------    --------------  ----- \n",
            " 0   date      2316 non-null   object\n",
            " 1   category  2316 non-null   object\n",
            " 2   press     2316 non-null   object\n",
            " 3   title     2316 non-null   object\n",
            " 4   document  2307 non-null   object\n",
            " 5   link      2316 non-null   object\n",
            "dtypes: object(6)\n",
            "memory usage: 126.7+ KB\n"
          ]
        }
      ]
    },
    {
      "cell_type": "code",
      "source": [
        "news_df = news_df.dropna()"
      ],
      "metadata": {
        "id": "G8shTEYZppq6"
      },
      "execution_count": null,
      "outputs": []
    },
    {
      "cell_type": "code",
      "source": [
        "set(news_df['category'])"
      ],
      "metadata": {
        "colab": {
          "base_uri": "https://localhost:8080/"
        },
        "id": "2aAQV_tgqQ1d",
        "outputId": "53c96134-9590-44be-dded-513b44b8a0cf"
      },
      "execution_count": null,
      "outputs": [
        {
          "output_type": "execute_result",
          "data": {
            "text/plain": [
              "{'IT', '경제', '사회', '생활', '세계', '오피니언', '정치'}"
            ]
          },
          "metadata": {},
          "execution_count": 6
        }
      ]
    },
    {
      "cell_type": "code",
      "source": [
        "import re\n",
        "\n",
        "def tokenize_and_stemming(sentence, tokenizer):\n",
        "\n",
        "    sentence = re.sub(\"[^\\s0-9a-zA-Zㄱ-ㅎㅏ-ㅣ가-힣]\", \"\", sentence)\n",
        "\n",
        "    raw_pos_tagged = tokenizer.pos(sentence, stem=True) # POS Tagging with stemming\n",
        "\n",
        "    sentence_tokenized = []\n",
        "    for token, pos in raw_pos_tagged: # ex) word <- ('서울', 'Noun')\n",
        "        # pos 기준 제거 대상 : [\"Josa\", \"Eomi\", \"Punctuation\", \"Foreign\", \"Number\", \"Suffix\", \"Determiner\"]\n",
        "        # 리뷰 텍스트 상 형태소의 순서를 고려하는 경우 의미를 갖게 됨 : \"VerbPrefix\" (잘/안/못), \"Conjunction\"(하지만/그러나/그리고), \"KoreanParticle\"(ㅋㅋㅋ/ㅎㅎㅎ/ㅠㅠ)\n",
        "        if (len(token) != 1) & (pos in [\"Noun\", \"VerbPrefix\", \"Verb\", \"Adverb\", \"Adjective\", \"Conjunction\", \"KoreanParticle\"]):\n",
        "            sentence_tokenized.append(token)\n",
        "\n",
        "    return sentence_tokenized"
      ],
      "metadata": {
        "id": "orFbAHCSB0Cs"
      },
      "execution_count": null,
      "outputs": []
    },
    {
      "cell_type": "code",
      "source": [
        "from konlpy.tag import Okt\n",
        "import tqdm\n",
        "\n",
        "okt = Okt()\n",
        "tokenized_sentences = []\n",
        "\n",
        "for sentence in tqdm.tqdm(news_df['document']):\n",
        "    try:\n",
        "        tokenized_sentences.append(tokenize_and_stemming(sentence, okt))\n",
        "    except:\n",
        "        print(\"Error occured at :\", sentence)\n",
        "        tokenized_sentences.append([])\n",
        "\n",
        "news_df['document'] = tokenized_sentences"
      ],
      "metadata": {
        "colab": {
          "base_uri": "https://localhost:8080/"
        },
        "id": "EJSR449QCJ0M",
        "outputId": "06808e2e-b86a-4f10-f4c0-8f381dc42c55"
      },
      "execution_count": null,
      "outputs": [
        {
          "output_type": "stream",
          "name": "stderr",
          "text": [
            "100%|██████████| 2307/2307 [04:32<00:00,  8.47it/s]\n"
          ]
        }
      ]
    },
    {
      "cell_type": "code",
      "source": [
        "# https://scikit-learn.org/stable/auto_examples/compose/plot_column_transformer_mixed_types.html\n",
        "\n",
        "from sklearn.preprocessing import LabelEncoder\n",
        "le = LabelEncoder()"
      ],
      "metadata": {
        "id": "eJxVeXuh67aF"
      },
      "execution_count": null,
      "outputs": []
    },
    {
      "cell_type": "code",
      "source": [
        "categories = news_df['category'].tolist()\n",
        "le.fit(categories)\n",
        "news_df['category'] = le.transform(categories)"
      ],
      "metadata": {
        "id": "t-C4euGcKzJT"
      },
      "execution_count": null,
      "outputs": []
    },
    {
      "cell_type": "code",
      "source": [
        "news_df.head()"
      ],
      "metadata": {
        "colab": {
          "base_uri": "https://localhost:8080/",
          "height": 292
        },
        "id": "m8SP5O2CNks7",
        "outputId": "d0d087e6-9448-45ed-e923-33a1edc34de5"
      },
      "execution_count": null,
      "outputs": [
        {
          "output_type": "execute_result",
          "data": {
            "text/plain": [
              "                   date  category   press  \\\n",
              "0  2023.11.29. 오후 12:00         2    연합뉴스   \n",
              "1   2023.11.29. 오후 6:04         1    한국경제   \n",
              "2   2023.11.30. 오전 5:03         2    서울신문   \n",
              "3   2023.11.29. 오후 3:29         1  한경비즈니스   \n",
              "4   2023.11.29. 오후 9:33         1    TV조선   \n",
              "\n",
              "                                 title  \\\n",
              "0  3분기 출산율 0.7명 '역대 최저'…0.6명대 추락 '빨간불'   \n",
              "1   통계나올 때마다 '쇼크'…3분기 출산율 0.7명 또 역대 최저   \n",
              "2            3분기도 출산율 최저… 올 0.7명도 위태롭다   \n",
              "3      “이러다 한국 진짜 망한다”...또 다시 ‘출산율 쇼크’   \n",
              "4   3분기 합계 출산율, 0.7명…올해 출생아 20만 명대 턱걸이   \n",
              "\n",
              "                                            document  \\\n",
              "0  [통계청, 인구, 동향, 작년, 개월, 인구, 자연, 감소, 세종, 연합뉴스, 이준...   \n",
              "1  [통계청, 인구, 동향, 광역시, 일제, 하락, 광주, 줄다, 하락, 최대, 인구,...   \n",
              "2  [전보, 줄어들다, 출생, 혼인, 가장, 낮다, 다문화, 혼인, 늘다, 올해, 합계...   \n",
              "3  [합계출산율, 기록, 기준, 역대, 최저, 떨어지다, 가능성, 높다, 통계청, 발표...   \n",
              "4  [앵커, 출산율, 감소, 혼인, 감소, 계속, 전하, 입장, 뾰족, 대책, 없다, ...   \n",
              "\n",
              "                                                link  \n",
              "0  https://n.news.naver.com/mnews/article/001/001...  \n",
              "1  https://n.news.naver.com/mnews/article/015/000...  \n",
              "2  https://n.news.naver.com/mnews/article/081/000...  \n",
              "3  https://n.news.naver.com/mnews/article/050/000...  \n",
              "4  https://n.news.naver.com/mnews/article/448/000...  "
            ],
            "text/html": [
              "\n",
              "  <div id=\"df-6a8b423e-227e-4309-8cf4-0cc80e756705\" class=\"colab-df-container\">\n",
              "    <div>\n",
              "<style scoped>\n",
              "    .dataframe tbody tr th:only-of-type {\n",
              "        vertical-align: middle;\n",
              "    }\n",
              "\n",
              "    .dataframe tbody tr th {\n",
              "        vertical-align: top;\n",
              "    }\n",
              "\n",
              "    .dataframe thead th {\n",
              "        text-align: right;\n",
              "    }\n",
              "</style>\n",
              "<table border=\"1\" class=\"dataframe\">\n",
              "  <thead>\n",
              "    <tr style=\"text-align: right;\">\n",
              "      <th></th>\n",
              "      <th>date</th>\n",
              "      <th>category</th>\n",
              "      <th>press</th>\n",
              "      <th>title</th>\n",
              "      <th>document</th>\n",
              "      <th>link</th>\n",
              "    </tr>\n",
              "  </thead>\n",
              "  <tbody>\n",
              "    <tr>\n",
              "      <th>0</th>\n",
              "      <td>2023.11.29. 오후 12:00</td>\n",
              "      <td>2</td>\n",
              "      <td>연합뉴스</td>\n",
              "      <td>3분기 출산율 0.7명 '역대 최저'…0.6명대 추락 '빨간불'</td>\n",
              "      <td>[통계청, 인구, 동향, 작년, 개월, 인구, 자연, 감소, 세종, 연합뉴스, 이준...</td>\n",
              "      <td>https://n.news.naver.com/mnews/article/001/001...</td>\n",
              "    </tr>\n",
              "    <tr>\n",
              "      <th>1</th>\n",
              "      <td>2023.11.29. 오후 6:04</td>\n",
              "      <td>1</td>\n",
              "      <td>한국경제</td>\n",
              "      <td>통계나올 때마다 '쇼크'…3분기 출산율 0.7명 또 역대 최저</td>\n",
              "      <td>[통계청, 인구, 동향, 광역시, 일제, 하락, 광주, 줄다, 하락, 최대, 인구,...</td>\n",
              "      <td>https://n.news.naver.com/mnews/article/015/000...</td>\n",
              "    </tr>\n",
              "    <tr>\n",
              "      <th>2</th>\n",
              "      <td>2023.11.30. 오전 5:03</td>\n",
              "      <td>2</td>\n",
              "      <td>서울신문</td>\n",
              "      <td>3분기도 출산율 최저… 올 0.7명도 위태롭다</td>\n",
              "      <td>[전보, 줄어들다, 출생, 혼인, 가장, 낮다, 다문화, 혼인, 늘다, 올해, 합계...</td>\n",
              "      <td>https://n.news.naver.com/mnews/article/081/000...</td>\n",
              "    </tr>\n",
              "    <tr>\n",
              "      <th>3</th>\n",
              "      <td>2023.11.29. 오후 3:29</td>\n",
              "      <td>1</td>\n",
              "      <td>한경비즈니스</td>\n",
              "      <td>“이러다 한국 진짜 망한다”...또 다시 ‘출산율 쇼크’</td>\n",
              "      <td>[합계출산율, 기록, 기준, 역대, 최저, 떨어지다, 가능성, 높다, 통계청, 발표...</td>\n",
              "      <td>https://n.news.naver.com/mnews/article/050/000...</td>\n",
              "    </tr>\n",
              "    <tr>\n",
              "      <th>4</th>\n",
              "      <td>2023.11.29. 오후 9:33</td>\n",
              "      <td>1</td>\n",
              "      <td>TV조선</td>\n",
              "      <td>3분기 합계 출산율, 0.7명…올해 출생아 20만 명대 턱걸이</td>\n",
              "      <td>[앵커, 출산율, 감소, 혼인, 감소, 계속, 전하, 입장, 뾰족, 대책, 없다, ...</td>\n",
              "      <td>https://n.news.naver.com/mnews/article/448/000...</td>\n",
              "    </tr>\n",
              "  </tbody>\n",
              "</table>\n",
              "</div>\n",
              "    <div class=\"colab-df-buttons\">\n",
              "\n",
              "  <div class=\"colab-df-container\">\n",
              "    <button class=\"colab-df-convert\" onclick=\"convertToInteractive('df-6a8b423e-227e-4309-8cf4-0cc80e756705')\"\n",
              "            title=\"Convert this dataframe to an interactive table.\"\n",
              "            style=\"display:none;\">\n",
              "\n",
              "  <svg xmlns=\"http://www.w3.org/2000/svg\" height=\"24px\" viewBox=\"0 -960 960 960\">\n",
              "    <path d=\"M120-120v-720h720v720H120Zm60-500h600v-160H180v160Zm220 220h160v-160H400v160Zm0 220h160v-160H400v160ZM180-400h160v-160H180v160Zm440 0h160v-160H620v160ZM180-180h160v-160H180v160Zm440 0h160v-160H620v160Z\"/>\n",
              "  </svg>\n",
              "    </button>\n",
              "\n",
              "  <style>\n",
              "    .colab-df-container {\n",
              "      display:flex;\n",
              "      gap: 12px;\n",
              "    }\n",
              "\n",
              "    .colab-df-convert {\n",
              "      background-color: #E8F0FE;\n",
              "      border: none;\n",
              "      border-radius: 50%;\n",
              "      cursor: pointer;\n",
              "      display: none;\n",
              "      fill: #1967D2;\n",
              "      height: 32px;\n",
              "      padding: 0 0 0 0;\n",
              "      width: 32px;\n",
              "    }\n",
              "\n",
              "    .colab-df-convert:hover {\n",
              "      background-color: #E2EBFA;\n",
              "      box-shadow: 0px 1px 2px rgba(60, 64, 67, 0.3), 0px 1px 3px 1px rgba(60, 64, 67, 0.15);\n",
              "      fill: #174EA6;\n",
              "    }\n",
              "\n",
              "    .colab-df-buttons div {\n",
              "      margin-bottom: 4px;\n",
              "    }\n",
              "\n",
              "    [theme=dark] .colab-df-convert {\n",
              "      background-color: #3B4455;\n",
              "      fill: #D2E3FC;\n",
              "    }\n",
              "\n",
              "    [theme=dark] .colab-df-convert:hover {\n",
              "      background-color: #434B5C;\n",
              "      box-shadow: 0px 1px 3px 1px rgba(0, 0, 0, 0.15);\n",
              "      filter: drop-shadow(0px 1px 2px rgba(0, 0, 0, 0.3));\n",
              "      fill: #FFFFFF;\n",
              "    }\n",
              "  </style>\n",
              "\n",
              "    <script>\n",
              "      const buttonEl =\n",
              "        document.querySelector('#df-6a8b423e-227e-4309-8cf4-0cc80e756705 button.colab-df-convert');\n",
              "      buttonEl.style.display =\n",
              "        google.colab.kernel.accessAllowed ? 'block' : 'none';\n",
              "\n",
              "      async function convertToInteractive(key) {\n",
              "        const element = document.querySelector('#df-6a8b423e-227e-4309-8cf4-0cc80e756705');\n",
              "        const dataTable =\n",
              "          await google.colab.kernel.invokeFunction('convertToInteractive',\n",
              "                                                    [key], {});\n",
              "        if (!dataTable) return;\n",
              "\n",
              "        const docLinkHtml = 'Like what you see? Visit the ' +\n",
              "          '<a target=\"_blank\" href=https://colab.research.google.com/notebooks/data_table.ipynb>data table notebook</a>'\n",
              "          + ' to learn more about interactive tables.';\n",
              "        element.innerHTML = '';\n",
              "        dataTable['output_type'] = 'display_data';\n",
              "        await google.colab.output.renderOutput(dataTable, element);\n",
              "        const docLink = document.createElement('div');\n",
              "        docLink.innerHTML = docLinkHtml;\n",
              "        element.appendChild(docLink);\n",
              "      }\n",
              "    </script>\n",
              "  </div>\n",
              "\n",
              "\n",
              "<div id=\"df-51b5e25f-b4f5-4d98-b52e-960d5b80ae4b\">\n",
              "  <button class=\"colab-df-quickchart\" onclick=\"quickchart('df-51b5e25f-b4f5-4d98-b52e-960d5b80ae4b')\"\n",
              "            title=\"Suggest charts\"\n",
              "            style=\"display:none;\">\n",
              "\n",
              "<svg xmlns=\"http://www.w3.org/2000/svg\" height=\"24px\"viewBox=\"0 0 24 24\"\n",
              "     width=\"24px\">\n",
              "    <g>\n",
              "        <path d=\"M19 3H5c-1.1 0-2 .9-2 2v14c0 1.1.9 2 2 2h14c1.1 0 2-.9 2-2V5c0-1.1-.9-2-2-2zM9 17H7v-7h2v7zm4 0h-2V7h2v10zm4 0h-2v-4h2v4z\"/>\n",
              "    </g>\n",
              "</svg>\n",
              "  </button>\n",
              "\n",
              "<style>\n",
              "  .colab-df-quickchart {\n",
              "      --bg-color: #E8F0FE;\n",
              "      --fill-color: #1967D2;\n",
              "      --hover-bg-color: #E2EBFA;\n",
              "      --hover-fill-color: #174EA6;\n",
              "      --disabled-fill-color: #AAA;\n",
              "      --disabled-bg-color: #DDD;\n",
              "  }\n",
              "\n",
              "  [theme=dark] .colab-df-quickchart {\n",
              "      --bg-color: #3B4455;\n",
              "      --fill-color: #D2E3FC;\n",
              "      --hover-bg-color: #434B5C;\n",
              "      --hover-fill-color: #FFFFFF;\n",
              "      --disabled-bg-color: #3B4455;\n",
              "      --disabled-fill-color: #666;\n",
              "  }\n",
              "\n",
              "  .colab-df-quickchart {\n",
              "    background-color: var(--bg-color);\n",
              "    border: none;\n",
              "    border-radius: 50%;\n",
              "    cursor: pointer;\n",
              "    display: none;\n",
              "    fill: var(--fill-color);\n",
              "    height: 32px;\n",
              "    padding: 0;\n",
              "    width: 32px;\n",
              "  }\n",
              "\n",
              "  .colab-df-quickchart:hover {\n",
              "    background-color: var(--hover-bg-color);\n",
              "    box-shadow: 0 1px 2px rgba(60, 64, 67, 0.3), 0 1px 3px 1px rgba(60, 64, 67, 0.15);\n",
              "    fill: var(--button-hover-fill-color);\n",
              "  }\n",
              "\n",
              "  .colab-df-quickchart-complete:disabled,\n",
              "  .colab-df-quickchart-complete:disabled:hover {\n",
              "    background-color: var(--disabled-bg-color);\n",
              "    fill: var(--disabled-fill-color);\n",
              "    box-shadow: none;\n",
              "  }\n",
              "\n",
              "  .colab-df-spinner {\n",
              "    border: 2px solid var(--fill-color);\n",
              "    border-color: transparent;\n",
              "    border-bottom-color: var(--fill-color);\n",
              "    animation:\n",
              "      spin 1s steps(1) infinite;\n",
              "  }\n",
              "\n",
              "  @keyframes spin {\n",
              "    0% {\n",
              "      border-color: transparent;\n",
              "      border-bottom-color: var(--fill-color);\n",
              "      border-left-color: var(--fill-color);\n",
              "    }\n",
              "    20% {\n",
              "      border-color: transparent;\n",
              "      border-left-color: var(--fill-color);\n",
              "      border-top-color: var(--fill-color);\n",
              "    }\n",
              "    30% {\n",
              "      border-color: transparent;\n",
              "      border-left-color: var(--fill-color);\n",
              "      border-top-color: var(--fill-color);\n",
              "      border-right-color: var(--fill-color);\n",
              "    }\n",
              "    40% {\n",
              "      border-color: transparent;\n",
              "      border-right-color: var(--fill-color);\n",
              "      border-top-color: var(--fill-color);\n",
              "    }\n",
              "    60% {\n",
              "      border-color: transparent;\n",
              "      border-right-color: var(--fill-color);\n",
              "    }\n",
              "    80% {\n",
              "      border-color: transparent;\n",
              "      border-right-color: var(--fill-color);\n",
              "      border-bottom-color: var(--fill-color);\n",
              "    }\n",
              "    90% {\n",
              "      border-color: transparent;\n",
              "      border-bottom-color: var(--fill-color);\n",
              "    }\n",
              "  }\n",
              "</style>\n",
              "\n",
              "  <script>\n",
              "    async function quickchart(key) {\n",
              "      const quickchartButtonEl =\n",
              "        document.querySelector('#' + key + ' button');\n",
              "      quickchartButtonEl.disabled = true;  // To prevent multiple clicks.\n",
              "      quickchartButtonEl.classList.add('colab-df-spinner');\n",
              "      try {\n",
              "        const charts = await google.colab.kernel.invokeFunction(\n",
              "            'suggestCharts', [key], {});\n",
              "      } catch (error) {\n",
              "        console.error('Error during call to suggestCharts:', error);\n",
              "      }\n",
              "      quickchartButtonEl.classList.remove('colab-df-spinner');\n",
              "      quickchartButtonEl.classList.add('colab-df-quickchart-complete');\n",
              "    }\n",
              "    (() => {\n",
              "      let quickchartButtonEl =\n",
              "        document.querySelector('#df-51b5e25f-b4f5-4d98-b52e-960d5b80ae4b button');\n",
              "      quickchartButtonEl.style.display =\n",
              "        google.colab.kernel.accessAllowed ? 'block' : 'none';\n",
              "    })();\n",
              "  </script>\n",
              "</div>\n",
              "    </div>\n",
              "  </div>\n"
            ]
          },
          "metadata": {},
          "execution_count": 11
        }
      ]
    },
    {
      "cell_type": "markdown",
      "source": [
        "## 트레이닝/테스트 셋으로 나누기"
      ],
      "metadata": {
        "id": "RCVzgZcfQe04"
      }
    },
    {
      "cell_type": "code",
      "source": [
        "from sklearn import model_selection\n",
        "\n",
        "train_x, test_x, train_y, test_y = model_selection.train_test_split(news_df['document'], news_df['category'],\n",
        "                                                                    test_size=0.3,\n",
        "                                                                    random_state=42)"
      ],
      "metadata": {
        "id": "5v0DMcYex-WP"
      },
      "execution_count": null,
      "outputs": []
    },
    {
      "cell_type": "code",
      "source": [
        "from sklearn.feature_extraction.text import TfidfVectorizer # CountVectorizer\n",
        "\n",
        "def list_to_list(doc):\n",
        "    return doc\n",
        "\n",
        "vectorizer = TfidfVectorizer(tokenizer=list_to_list, token_pattern=None, lowercase=False) # CountVectorizer 적용 시 아주 약간 성능 저하 (88.15% -> 88.02%)\n",
        "vectorizer.fit(train_x)\n",
        "\n",
        "train_x_vector = vectorizer.transform(train_x) # .toarray() 함수를 연달아 적용하면 np.array 형태로 만들어진 행렬을 확인할 수 있으나, RAM이 초과되어 Colab이 초기화됩니다.\n",
        "test_x_vector = vectorizer.transform(test_x)"
      ],
      "metadata": {
        "id": "kC_SdBhMPCzb"
      },
      "execution_count": null,
      "outputs": []
    },
    {
      "cell_type": "markdown",
      "source": [
        "## 모델 생성"
      ],
      "metadata": {
        "id": "oCEeURaAPAG8"
      }
    },
    {
      "cell_type": "code",
      "source": [
        "from sklearn.naive_bayes import MultinomialNB, ComplementNB\n",
        "mnb_clf = MultinomialNB(force_alpha=True)\n",
        "cnb_clf = ComplementNB(force_alpha=True)"
      ],
      "metadata": {
        "id": "0tJJps2kN3Kj"
      },
      "execution_count": null,
      "outputs": []
    },
    {
      "cell_type": "markdown",
      "source": [
        "## 모델 학습"
      ],
      "metadata": {
        "id": "Lge0AxRHRMFr"
      }
    },
    {
      "cell_type": "code",
      "source": [
        "import numpy as np\n",
        "\n",
        "x = train_x_vector.toarray()\n",
        "\n",
        "mnb_clf.fit(train_x_vector, train_y)"
      ],
      "metadata": {
        "colab": {
          "base_uri": "https://localhost:8080/",
          "height": 74
        },
        "id": "axQPN91TRv0m",
        "outputId": "8544ac50-c9fc-4348-fcb5-7c48900f9f39"
      },
      "execution_count": null,
      "outputs": [
        {
          "output_type": "execute_result",
          "data": {
            "text/plain": [
              "MultinomialNB(force_alpha=True)"
            ],
            "text/html": [
              "<style>#sk-container-id-11 {color: black;background-color: white;}#sk-container-id-11 pre{padding: 0;}#sk-container-id-11 div.sk-toggleable {background-color: white;}#sk-container-id-11 label.sk-toggleable__label {cursor: pointer;display: block;width: 100%;margin-bottom: 0;padding: 0.3em;box-sizing: border-box;text-align: center;}#sk-container-id-11 label.sk-toggleable__label-arrow:before {content: \"▸\";float: left;margin-right: 0.25em;color: #696969;}#sk-container-id-11 label.sk-toggleable__label-arrow:hover:before {color: black;}#sk-container-id-11 div.sk-estimator:hover label.sk-toggleable__label-arrow:before {color: black;}#sk-container-id-11 div.sk-toggleable__content {max-height: 0;max-width: 0;overflow: hidden;text-align: left;background-color: #f0f8ff;}#sk-container-id-11 div.sk-toggleable__content pre {margin: 0.2em;color: black;border-radius: 0.25em;background-color: #f0f8ff;}#sk-container-id-11 input.sk-toggleable__control:checked~div.sk-toggleable__content {max-height: 200px;max-width: 100%;overflow: auto;}#sk-container-id-11 input.sk-toggleable__control:checked~label.sk-toggleable__label-arrow:before {content: \"▾\";}#sk-container-id-11 div.sk-estimator input.sk-toggleable__control:checked~label.sk-toggleable__label {background-color: #d4ebff;}#sk-container-id-11 div.sk-label input.sk-toggleable__control:checked~label.sk-toggleable__label {background-color: #d4ebff;}#sk-container-id-11 input.sk-hidden--visually {border: 0;clip: rect(1px 1px 1px 1px);clip: rect(1px, 1px, 1px, 1px);height: 1px;margin: -1px;overflow: hidden;padding: 0;position: absolute;width: 1px;}#sk-container-id-11 div.sk-estimator {font-family: monospace;background-color: #f0f8ff;border: 1px dotted black;border-radius: 0.25em;box-sizing: border-box;margin-bottom: 0.5em;}#sk-container-id-11 div.sk-estimator:hover {background-color: #d4ebff;}#sk-container-id-11 div.sk-parallel-item::after {content: \"\";width: 100%;border-bottom: 1px solid gray;flex-grow: 1;}#sk-container-id-11 div.sk-label:hover label.sk-toggleable__label {background-color: #d4ebff;}#sk-container-id-11 div.sk-serial::before {content: \"\";position: absolute;border-left: 1px solid gray;box-sizing: border-box;top: 0;bottom: 0;left: 50%;z-index: 0;}#sk-container-id-11 div.sk-serial {display: flex;flex-direction: column;align-items: center;background-color: white;padding-right: 0.2em;padding-left: 0.2em;position: relative;}#sk-container-id-11 div.sk-item {position: relative;z-index: 1;}#sk-container-id-11 div.sk-parallel {display: flex;align-items: stretch;justify-content: center;background-color: white;position: relative;}#sk-container-id-11 div.sk-item::before, #sk-container-id-11 div.sk-parallel-item::before {content: \"\";position: absolute;border-left: 1px solid gray;box-sizing: border-box;top: 0;bottom: 0;left: 50%;z-index: -1;}#sk-container-id-11 div.sk-parallel-item {display: flex;flex-direction: column;z-index: 1;position: relative;background-color: white;}#sk-container-id-11 div.sk-parallel-item:first-child::after {align-self: flex-end;width: 50%;}#sk-container-id-11 div.sk-parallel-item:last-child::after {align-self: flex-start;width: 50%;}#sk-container-id-11 div.sk-parallel-item:only-child::after {width: 0;}#sk-container-id-11 div.sk-dashed-wrapped {border: 1px dashed gray;margin: 0 0.4em 0.5em 0.4em;box-sizing: border-box;padding-bottom: 0.4em;background-color: white;}#sk-container-id-11 div.sk-label label {font-family: monospace;font-weight: bold;display: inline-block;line-height: 1.2em;}#sk-container-id-11 div.sk-label-container {text-align: center;}#sk-container-id-11 div.sk-container {/* jupyter's `normalize.less` sets `[hidden] { display: none; }` but bootstrap.min.css set `[hidden] { display: none !important; }` so we also need the `!important` here to be able to override the default hidden behavior on the sphinx rendered scikit-learn.org. See: https://github.com/scikit-learn/scikit-learn/issues/21755 */display: inline-block !important;position: relative;}#sk-container-id-11 div.sk-text-repr-fallback {display: none;}</style><div id=\"sk-container-id-11\" class=\"sk-top-container\"><div class=\"sk-text-repr-fallback\"><pre>MultinomialNB(force_alpha=True)</pre><b>In a Jupyter environment, please rerun this cell to show the HTML representation or trust the notebook. <br />On GitHub, the HTML representation is unable to render, please try loading this page with nbviewer.org.</b></div><div class=\"sk-container\" hidden><div class=\"sk-item\"><div class=\"sk-estimator sk-toggleable\"><input class=\"sk-toggleable__control sk-hidden--visually\" id=\"sk-estimator-id-11\" type=\"checkbox\" checked><label for=\"sk-estimator-id-11\" class=\"sk-toggleable__label sk-toggleable__label-arrow\">MultinomialNB</label><div class=\"sk-toggleable__content\"><pre>MultinomialNB(force_alpha=True)</pre></div></div></div></div></div>"
            ]
          },
          "metadata": {},
          "execution_count": 51
        }
      ]
    },
    {
      "cell_type": "code",
      "source": [
        "cnb_clf.fit(train_x_vector, train_y)"
      ],
      "metadata": {
        "colab": {
          "base_uri": "https://localhost:8080/",
          "height": 74
        },
        "id": "IrwEvlk4WARK",
        "outputId": "46f5c4b2-61da-4476-86a1-ec111df6e462"
      },
      "execution_count": null,
      "outputs": [
        {
          "output_type": "execute_result",
          "data": {
            "text/plain": [
              "ComplementNB(force_alpha=True)"
            ],
            "text/html": [
              "<style>#sk-container-id-12 {color: black;background-color: white;}#sk-container-id-12 pre{padding: 0;}#sk-container-id-12 div.sk-toggleable {background-color: white;}#sk-container-id-12 label.sk-toggleable__label {cursor: pointer;display: block;width: 100%;margin-bottom: 0;padding: 0.3em;box-sizing: border-box;text-align: center;}#sk-container-id-12 label.sk-toggleable__label-arrow:before {content: \"▸\";float: left;margin-right: 0.25em;color: #696969;}#sk-container-id-12 label.sk-toggleable__label-arrow:hover:before {color: black;}#sk-container-id-12 div.sk-estimator:hover label.sk-toggleable__label-arrow:before {color: black;}#sk-container-id-12 div.sk-toggleable__content {max-height: 0;max-width: 0;overflow: hidden;text-align: left;background-color: #f0f8ff;}#sk-container-id-12 div.sk-toggleable__content pre {margin: 0.2em;color: black;border-radius: 0.25em;background-color: #f0f8ff;}#sk-container-id-12 input.sk-toggleable__control:checked~div.sk-toggleable__content {max-height: 200px;max-width: 100%;overflow: auto;}#sk-container-id-12 input.sk-toggleable__control:checked~label.sk-toggleable__label-arrow:before {content: \"▾\";}#sk-container-id-12 div.sk-estimator input.sk-toggleable__control:checked~label.sk-toggleable__label {background-color: #d4ebff;}#sk-container-id-12 div.sk-label input.sk-toggleable__control:checked~label.sk-toggleable__label {background-color: #d4ebff;}#sk-container-id-12 input.sk-hidden--visually {border: 0;clip: rect(1px 1px 1px 1px);clip: rect(1px, 1px, 1px, 1px);height: 1px;margin: -1px;overflow: hidden;padding: 0;position: absolute;width: 1px;}#sk-container-id-12 div.sk-estimator {font-family: monospace;background-color: #f0f8ff;border: 1px dotted black;border-radius: 0.25em;box-sizing: border-box;margin-bottom: 0.5em;}#sk-container-id-12 div.sk-estimator:hover {background-color: #d4ebff;}#sk-container-id-12 div.sk-parallel-item::after {content: \"\";width: 100%;border-bottom: 1px solid gray;flex-grow: 1;}#sk-container-id-12 div.sk-label:hover label.sk-toggleable__label {background-color: #d4ebff;}#sk-container-id-12 div.sk-serial::before {content: \"\";position: absolute;border-left: 1px solid gray;box-sizing: border-box;top: 0;bottom: 0;left: 50%;z-index: 0;}#sk-container-id-12 div.sk-serial {display: flex;flex-direction: column;align-items: center;background-color: white;padding-right: 0.2em;padding-left: 0.2em;position: relative;}#sk-container-id-12 div.sk-item {position: relative;z-index: 1;}#sk-container-id-12 div.sk-parallel {display: flex;align-items: stretch;justify-content: center;background-color: white;position: relative;}#sk-container-id-12 div.sk-item::before, #sk-container-id-12 div.sk-parallel-item::before {content: \"\";position: absolute;border-left: 1px solid gray;box-sizing: border-box;top: 0;bottom: 0;left: 50%;z-index: -1;}#sk-container-id-12 div.sk-parallel-item {display: flex;flex-direction: column;z-index: 1;position: relative;background-color: white;}#sk-container-id-12 div.sk-parallel-item:first-child::after {align-self: flex-end;width: 50%;}#sk-container-id-12 div.sk-parallel-item:last-child::after {align-self: flex-start;width: 50%;}#sk-container-id-12 div.sk-parallel-item:only-child::after {width: 0;}#sk-container-id-12 div.sk-dashed-wrapped {border: 1px dashed gray;margin: 0 0.4em 0.5em 0.4em;box-sizing: border-box;padding-bottom: 0.4em;background-color: white;}#sk-container-id-12 div.sk-label label {font-family: monospace;font-weight: bold;display: inline-block;line-height: 1.2em;}#sk-container-id-12 div.sk-label-container {text-align: center;}#sk-container-id-12 div.sk-container {/* jupyter's `normalize.less` sets `[hidden] { display: none; }` but bootstrap.min.css set `[hidden] { display: none !important; }` so we also need the `!important` here to be able to override the default hidden behavior on the sphinx rendered scikit-learn.org. See: https://github.com/scikit-learn/scikit-learn/issues/21755 */display: inline-block !important;position: relative;}#sk-container-id-12 div.sk-text-repr-fallback {display: none;}</style><div id=\"sk-container-id-12\" class=\"sk-top-container\"><div class=\"sk-text-repr-fallback\"><pre>ComplementNB(force_alpha=True)</pre><b>In a Jupyter environment, please rerun this cell to show the HTML representation or trust the notebook. <br />On GitHub, the HTML representation is unable to render, please try loading this page with nbviewer.org.</b></div><div class=\"sk-container\" hidden><div class=\"sk-item\"><div class=\"sk-estimator sk-toggleable\"><input class=\"sk-toggleable__control sk-hidden--visually\" id=\"sk-estimator-id-12\" type=\"checkbox\" checked><label for=\"sk-estimator-id-12\" class=\"sk-toggleable__label sk-toggleable__label-arrow\">ComplementNB</label><div class=\"sk-toggleable__content\"><pre>ComplementNB(force_alpha=True)</pre></div></div></div></div></div>"
            ]
          },
          "metadata": {},
          "execution_count": 52
        }
      ]
    },
    {
      "cell_type": "markdown",
      "source": [
        "## 테스트 데이터 예측"
      ],
      "metadata": {
        "id": "jcOlmEueY4DR"
      }
    },
    {
      "cell_type": "code",
      "source": [
        "mnb_pred_y = mnb_clf.predict(test_x_vector)\n",
        "cnb_pred_y = cnb_clf.predict(test_x_vector)"
      ],
      "metadata": {
        "id": "BrdrdZXvUDfq"
      },
      "execution_count": null,
      "outputs": []
    },
    {
      "cell_type": "markdown",
      "source": [
        "# 모델 평가"
      ],
      "metadata": {
        "id": "ep3U7-ROXJcA"
      }
    },
    {
      "cell_type": "markdown",
      "source": [
        "## Cross Validation"
      ],
      "metadata": {
        "id": "tT-6kYBqfMVd"
      }
    },
    {
      "cell_type": "code",
      "source": [
        "from sklearn.model_selection import cross_val_score\n",
        "mnb_mean = sum(cross_val_score(mnb_clf, train_x_vector, train_y, cv=5))/5\n",
        "print(mnb_mean)"
      ],
      "metadata": {
        "id": "1fjzmnjfbJTq",
        "colab": {
          "base_uri": "https://localhost:8080/"
        },
        "outputId": "a2dd0600-675a-488d-fc43-a7f5caf88ac4"
      },
      "execution_count": null,
      "outputs": [
        {
          "output_type": "stream",
          "name": "stdout",
          "text": [
            "0.6555006441936042\n"
          ]
        }
      ]
    },
    {
      "cell_type": "code",
      "source": [
        "cnb_mean = sum(cross_val_score(cnb_clf, train_x_vector, train_y, cv=5))/5\n",
        "print(cnb_mean)"
      ],
      "metadata": {
        "colab": {
          "base_uri": "https://localhost:8080/"
        },
        "id": "dds4vdoqVJcT",
        "outputId": "14a04f80-a498-4cbe-a27b-3b10f5dc10a2"
      },
      "execution_count": null,
      "outputs": [
        {
          "output_type": "stream",
          "name": "stdout",
          "text": [
            "0.7044535892160068\n"
          ]
        }
      ]
    },
    {
      "cell_type": "markdown",
      "source": [
        "## Accuracy score"
      ],
      "metadata": {
        "id": "4xXPFAF4aKyy"
      }
    },
    {
      "cell_type": "code",
      "source": [
        "cnb_clf.score(test_x_vector, test_y)\n",
        "\n",
        "from sklearn.metrics import accuracy_score\n",
        "\n",
        "accuracy_score(test_y, cnb_pred_y)"
      ],
      "metadata": {
        "colab": {
          "base_uri": "https://localhost:8080/"
        },
        "id": "Q8QwDRRPYSWy",
        "outputId": "60685bfb-3996-4038-8783-d337361ca123"
      },
      "execution_count": null,
      "outputs": [
        {
          "output_type": "execute_result",
          "data": {
            "text/plain": [
              "0.7171717171717171"
            ]
          },
          "metadata": {},
          "execution_count": 60
        }
      ]
    },
    {
      "cell_type": "markdown",
      "source": [
        "## Classification Report"
      ],
      "metadata": {
        "id": "jk9tGwo5aQKf"
      }
    },
    {
      "cell_type": "code",
      "source": [
        "from sklearn.metrics import classification_report\n",
        "print(classification_report(test_y, cnb_pred_y))"
      ],
      "metadata": {
        "colab": {
          "base_uri": "https://localhost:8080/"
        },
        "id": "D5bHHZL8W--k",
        "outputId": "b5b8f594-1059-4a92-b2c7-8c191eda3d0c"
      },
      "execution_count": null,
      "outputs": [
        {
          "output_type": "stream",
          "name": "stdout",
          "text": [
            "              precision    recall  f1-score   support\n",
            "\n",
            "           0       0.61      0.46      0.52        50\n",
            "           1       0.73      0.82      0.77       215\n",
            "           2       0.81      0.69      0.74       220\n",
            "           3       0.67      0.86      0.76       109\n",
            "           4       0.58      0.79      0.67        58\n",
            "           5       0.00      0.00      0.00        23\n",
            "           6       1.00      0.33      0.50        18\n",
            "\n",
            "    accuracy                           0.72       693\n",
            "   macro avg       0.63      0.57      0.57       693\n",
            "weighted avg       0.71      0.72      0.70       693\n",
            "\n"
          ]
        },
        {
          "output_type": "stream",
          "name": "stderr",
          "text": [
            "/usr/local/lib/python3.10/dist-packages/sklearn/metrics/_classification.py:1344: UndefinedMetricWarning: Precision and F-score are ill-defined and being set to 0.0 in labels with no predicted samples. Use `zero_division` parameter to control this behavior.\n",
            "  _warn_prf(average, modifier, msg_start, len(result))\n",
            "/usr/local/lib/python3.10/dist-packages/sklearn/metrics/_classification.py:1344: UndefinedMetricWarning: Precision and F-score are ill-defined and being set to 0.0 in labels with no predicted samples. Use `zero_division` parameter to control this behavior.\n",
            "  _warn_prf(average, modifier, msg_start, len(result))\n",
            "/usr/local/lib/python3.10/dist-packages/sklearn/metrics/_classification.py:1344: UndefinedMetricWarning: Precision and F-score are ill-defined and being set to 0.0 in labels with no predicted samples. Use `zero_division` parameter to control this behavior.\n",
            "  _warn_prf(average, modifier, msg_start, len(result))\n"
          ]
        }
      ]
    },
    {
      "cell_type": "markdown",
      "source": [
        "## Confusion matrix"
      ],
      "metadata": {
        "id": "srdoC_AkaUFn"
      }
    },
    {
      "cell_type": "code",
      "source": [
        "from sklearn.metrics import confusion_matrix\n",
        "print(confusion_matrix(test_y, cnb_pred_y))"
      ],
      "metadata": {
        "colab": {
          "base_uri": "https://localhost:8080/"
        },
        "id": "BvE5hK5VZqR4",
        "outputId": "23f6f8a6-bff0-4f43-f48f-4f889e5ce135"
      },
      "execution_count": null,
      "outputs": [
        {
          "output_type": "stream",
          "name": "stdout",
          "text": [
            "[[ 23   7   4   0  16   0   0]\n",
            " [  8 177   9   8  13   0   0]\n",
            " [  2  27 151  38   2   0   0]\n",
            " [  1   7   7  94   0   0   0]\n",
            " [  2   9   1   0  46   0   0]\n",
            " [  2  16   3   0   2   0   0]\n",
            " [  0   1  11   0   0   0   6]]\n"
          ]
        }
      ]
    },
    {
      "cell_type": "markdown",
      "source": [
        "## 모델 저장"
      ],
      "metadata": {
        "id": "9MUkc-UHacwM"
      }
    },
    {
      "cell_type": "code",
      "source": [
        "import joblib\n",
        "\n",
        "joblib.dump(cnb_clf, 'clf_news_CNB_v1.pkl', compress=True)"
      ],
      "metadata": {
        "colab": {
          "base_uri": "https://localhost:8080/"
        },
        "id": "DGWzwMj6Z8Ff",
        "outputId": "dba28f6b-a826-43df-902e-e11e5d602d6f"
      },
      "execution_count": null,
      "outputs": [
        {
          "output_type": "execute_result",
          "data": {
            "text/plain": [
              "['clf_news_CNB_v1.pkl']"
            ]
          },
          "metadata": {},
          "execution_count": 63
        }
      ]
    },
    {
      "cell_type": "code",
      "source": [],
      "metadata": {
        "id": "xnv4LGOxXfMw"
      },
      "execution_count": null,
      "outputs": []
    }
  ]
}