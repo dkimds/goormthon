{
 "cells": [
  {
   "cell_type": "markdown",
   "metadata": {},
   "source": [
    "#### 참고 : tensorflow.keras 공식 문서 (Official API Docs) @ https://www.tensorflow.org/api_docs/python/tf/keras"
   ]
  },
  {
   "cell_type": "markdown",
   "metadata": {},
   "source": [
    "<br>\n",
    "\n",
    "## 1. Data loading & preprocessing"
   ]
  },
  {
   "cell_type": "code",
   "execution_count": 2,
   "metadata": {},
   "outputs": [],
   "source": [
    "import pandas as pd\n",
    "import numpy as np\n",
    "import matplotlib.pyplot as plt\n",
    "from sklearn import datasets, preprocessing # Scikit-learn (sklearn)"
   ]
  },
  {
   "cell_type": "code",
   "execution_count": null,
   "metadata": {},
   "outputs": [],
   "source": [
    "# datasets.load # tab"
   ]
  },
  {
   "cell_type": "code",
   "execution_count": 6,
   "metadata": {},
   "outputs": [
    {
     "data": {
      "text/plain": [
       "dict_keys(['data', 'target', 'feature_names', 'DESCR', 'filename'])"
      ]
     },
     "execution_count": 6,
     "metadata": {},
     "output_type": "execute_result"
    }
   ],
   "source": [
    "# datasets.load_boston() #.keys()"
   ]
  },
  {
   "cell_type": "code",
   "execution_count": 5,
   "metadata": {},
   "outputs": [],
   "source": [
    "# print(datasets.load_boston()['DESCR'])"
   ]
  },
  {
   "cell_type": "code",
   "execution_count": 7,
   "metadata": {},
   "outputs": [],
   "source": [
    "# datasets.load_boston().data"
   ]
  },
  {
   "cell_type": "code",
   "execution_count": 3,
   "metadata": {},
   "outputs": [
    {
     "data": {
      "text/html": [
       "<div>\n",
       "<style scoped>\n",
       "    .dataframe tbody tr th:only-of-type {\n",
       "        vertical-align: middle;\n",
       "    }\n",
       "\n",
       "    .dataframe tbody tr th {\n",
       "        vertical-align: top;\n",
       "    }\n",
       "\n",
       "    .dataframe thead th {\n",
       "        text-align: right;\n",
       "    }\n",
       "</style>\n",
       "<table border=\"1\" class=\"dataframe\">\n",
       "  <thead>\n",
       "    <tr style=\"text-align: right;\">\n",
       "      <th></th>\n",
       "      <th>0</th>\n",
       "      <th>1</th>\n",
       "      <th>2</th>\n",
       "      <th>3</th>\n",
       "      <th>4</th>\n",
       "      <th>5</th>\n",
       "      <th>6</th>\n",
       "      <th>7</th>\n",
       "      <th>8</th>\n",
       "      <th>9</th>\n",
       "      <th>10</th>\n",
       "      <th>11</th>\n",
       "      <th>12</th>\n",
       "    </tr>\n",
       "  </thead>\n",
       "  <tbody>\n",
       "    <tr>\n",
       "      <th>0</th>\n",
       "      <td>0.00632</td>\n",
       "      <td>18.0</td>\n",
       "      <td>2.31</td>\n",
       "      <td>0</td>\n",
       "      <td>0.538</td>\n",
       "      <td>6.575</td>\n",
       "      <td>65.2</td>\n",
       "      <td>4.0900</td>\n",
       "      <td>1</td>\n",
       "      <td>296</td>\n",
       "      <td>15.3</td>\n",
       "      <td>396.90</td>\n",
       "      <td>4.98</td>\n",
       "    </tr>\n",
       "    <tr>\n",
       "      <th>1</th>\n",
       "      <td>0.02731</td>\n",
       "      <td>0.0</td>\n",
       "      <td>7.07</td>\n",
       "      <td>0</td>\n",
       "      <td>0.469</td>\n",
       "      <td>6.421</td>\n",
       "      <td>78.9</td>\n",
       "      <td>4.9671</td>\n",
       "      <td>2</td>\n",
       "      <td>242</td>\n",
       "      <td>17.8</td>\n",
       "      <td>396.90</td>\n",
       "      <td>9.14</td>\n",
       "    </tr>\n",
       "    <tr>\n",
       "      <th>2</th>\n",
       "      <td>0.02729</td>\n",
       "      <td>0.0</td>\n",
       "      <td>7.07</td>\n",
       "      <td>0</td>\n",
       "      <td>0.469</td>\n",
       "      <td>7.185</td>\n",
       "      <td>61.1</td>\n",
       "      <td>4.9671</td>\n",
       "      <td>2</td>\n",
       "      <td>242</td>\n",
       "      <td>17.8</td>\n",
       "      <td>392.83</td>\n",
       "      <td>4.03</td>\n",
       "    </tr>\n",
       "    <tr>\n",
       "      <th>3</th>\n",
       "      <td>0.03237</td>\n",
       "      <td>0.0</td>\n",
       "      <td>2.18</td>\n",
       "      <td>0</td>\n",
       "      <td>0.458</td>\n",
       "      <td>6.998</td>\n",
       "      <td>45.8</td>\n",
       "      <td>6.0622</td>\n",
       "      <td>3</td>\n",
       "      <td>222</td>\n",
       "      <td>18.7</td>\n",
       "      <td>394.63</td>\n",
       "      <td>2.94</td>\n",
       "    </tr>\n",
       "    <tr>\n",
       "      <th>4</th>\n",
       "      <td>0.06905</td>\n",
       "      <td>0.0</td>\n",
       "      <td>2.18</td>\n",
       "      <td>0</td>\n",
       "      <td>0.458</td>\n",
       "      <td>7.147</td>\n",
       "      <td>54.2</td>\n",
       "      <td>6.0622</td>\n",
       "      <td>3</td>\n",
       "      <td>222</td>\n",
       "      <td>18.7</td>\n",
       "      <td>396.90</td>\n",
       "      <td>5.33</td>\n",
       "    </tr>\n",
       "  </tbody>\n",
       "</table>\n",
       "</div>"
      ],
      "text/plain": [
       "        0     1     2   3      4      5     6       7   8    9     10      11  \\\n",
       "0  0.00632  18.0  2.31   0  0.538  6.575  65.2  4.0900   1  296  15.3  396.90   \n",
       "1  0.02731   0.0  7.07   0  0.469  6.421  78.9  4.9671   2  242  17.8  396.90   \n",
       "2  0.02729   0.0  7.07   0  0.469  7.185  61.1  4.9671   2  242  17.8  392.83   \n",
       "3  0.03237   0.0  2.18   0  0.458  6.998  45.8  6.0622   3  222  18.7  394.63   \n",
       "4  0.06905   0.0  2.18   0  0.458  7.147  54.2  6.0622   3  222  18.7  396.90   \n",
       "\n",
       "     12  \n",
       "0  4.98  \n",
       "1  9.14  \n",
       "2  4.03  \n",
       "3  2.94  \n",
       "4  5.33  "
      ]
     },
     "execution_count": 3,
     "metadata": {},
     "output_type": "execute_result"
    }
   ],
   "source": [
    "df = pd.read_excel('../Part5/boston_house_data.xlsx', index_col=0) # 엑셀 파일 읽기\n",
    "df.head() # 머리를 영어로?"
   ]
  },
  {
   "cell_type": "code",
   "execution_count": 4,
   "metadata": {},
   "outputs": [],
   "source": [
    "x_data = df\n",
    "y_data = pd.read_excel('../Part5/boston_house_target.xlsx', index_col=0) # 집의 가격 (in $1,000s)"
   ]
  },
  {
   "cell_type": "code",
   "execution_count": 6,
   "metadata": {},
   "outputs": [
    {
     "name": "stdout",
     "output_type": "stream",
     "text": [
      "(506, 13)\n",
      "(506, 1)\n"
     ]
    }
   ],
   "source": [
    "sc = preprocessing.StandardScaler() # Apply standard scaling on x_data (Standardization)\n",
    "x_data = sc.fit_transform(x_data)\n",
    "\n",
    "print(x_data.shape) # 모양을 영어로?\n",
    "print(y_data.shape) # 모양을 영어로?"
   ]
  },
  {
   "cell_type": "markdown",
   "metadata": {},
   "source": [
    "<br>\n",
    "\n",
    "## 2. Devide dataframe into X & Y -> Train X / Test X / Train Y / Test Y"
   ]
  },
  {
   "cell_type": "code",
   "execution_count": 7,
   "metadata": {},
   "outputs": [],
   "source": [
    "from sklearn import model_selection"
   ]
  },
  {
   "cell_type": "code",
   "execution_count": 8,
   "metadata": {},
   "outputs": [
    {
     "name": "stdout",
     "output_type": "stream",
     "text": [
      "(354, 13)\n",
      "(152, 13)\n",
      "(354, 1)\n",
      "(152, 1)\n"
     ]
    }
   ],
   "source": [
    "train_data, test_data, train_label, test_label = model_selection.train_test_split(x_data, y_data,\n",
    "                                                                                 test_size=0.3,\n",
    "                                                                                 random_state=0)\n",
    "print(train_data.shape)\n",
    "print(test_data.shape)\n",
    "print(train_label.shape)\n",
    "print(test_label.shape)"
   ]
  },
  {
   "cell_type": "markdown",
   "metadata": {},
   "source": [
    "<br>\n",
    "\n",
    "## 3. Build & Train the model "
   ]
  },
  {
   "cell_type": "code",
   "execution_count": 9,
   "metadata": {},
   "outputs": [],
   "source": [
    "import tensorflow as tf\n",
    "\n",
    "# tf.keras 에 필요한 함수들이 모여있습니다.\n",
    "from tensorflow.keras import datasets, utils\n",
    "from tensorflow.keras import models, layers, activations, initializers, losses, optimizers, metrics"
   ]
  },
  {
   "cell_type": "code",
   "execution_count": 10,
   "metadata": {},
   "outputs": [],
   "source": [
    "import os\n",
    "os.environ['TF_CPP_MIN_LOG_LEVEL'] = '2' # https://stackoverflow.com/questions/35911252/disable-tensorflow-debugging-information"
   ]
  },
  {
   "cell_type": "code",
   "execution_count": 12,
   "metadata": {},
   "outputs": [
    {
     "name": "stderr",
     "output_type": "stream",
     "text": [
      "/opt/anaconda3/envs/goormthon/lib/python3.9/site-packages/keras/src/layers/core/dense.py:87: UserWarning: Do not pass an `input_shape`/`input_dim` argument to a layer. When using Sequential models, prefer using an `Input(shape)` object as the first layer in the model instead.\n",
      "  super().__init__(activity_regularizer=activity_regularizer, **kwargs)\n"
     ]
    }
   ],
   "source": [
    "model = models.Sequential() # Build up the \"Sequence\" of layers (Linear stack of layers)\n",
    "\n",
    "# Dense-layer (with he-initialization)\n",
    "model.add(layers.Dense(input_dim=13, units=64, activation=None, kernel_initializer=initializers.he_uniform())) # he-uniform initialization\n",
    "# model.add(layers.BatchNormalization()) # Use this line as if needed\n",
    "model.add(layers.Activation('elu')) # elu or relu (or layers.ELU / layers.LeakyReLU)\n",
    "\n",
    "model.add(layers.Dense(units=64, activation=None, kernel_initializer=initializers.he_uniform())) \n",
    "model.add(layers.Activation('elu'))\n",
    "\n",
    "model.add(layers.Dense(units=32, activation=None, kernel_initializer=initializers.he_uniform())) \n",
    "model.add(layers.Activation('elu'))\n",
    "model.add(layers.Dropout(rate=0.4)) # Dropout-layer\n",
    "\n",
    "model.add(layers.Dense(units=1, activation=None)) "
   ]
  },
  {
   "cell_type": "code",
   "execution_count": 18,
   "metadata": {},
   "outputs": [],
   "source": [
    "# \"Compile\" the model description (Configures the model for training)\n",
    "\n",
    "model.compile(optimizer=optimizers.Adam(), # Please try the Adam-optimizer\n",
    "              loss='mean_squared_error', # MSE \n",
    "              metrics=['mean_squared_error']) # MSE"
   ]
  },
  {
   "cell_type": "code",
   "execution_count": 19,
   "metadata": {},
   "outputs": [],
   "source": [
    "# \"Fit\" the model on training data\n",
    "\n",
    "history = model.fit(train_data, train_label, batch_size=100, epochs=1000, validation_split=0.3, verbose=0) "
   ]
  },
  {
   "cell_type": "code",
   "execution_count": 20,
   "metadata": {},
   "outputs": [
    {
     "name": "stdout",
     "output_type": "stream",
     "text": [
      "\u001b[1m5/5\u001b[0m \u001b[32m━━━━━━━━━━━━━━━━━━━━\u001b[0m\u001b[37m\u001b[0m \u001b[1m0s\u001b[0m 802us/step - loss: 17.9957 - mean_squared_error: 17.9957\n",
      "loss (mean_squared_error) : 15.09704875946045\n"
     ]
    }
   ],
   "source": [
    "# \"Evaluate\" the model on test data\n",
    "\n",
    "result = model.evaluate(test_data, test_label)\n",
    "\n",
    "print('loss (mean_squared_error) :', result[0])"
   ]
  },
  {
   "cell_type": "code",
   "execution_count": 21,
   "metadata": {},
   "outputs": [
    {
     "data": {
      "text/plain": [
       "dict_keys(['loss', 'mean_squared_error', 'val_loss', 'val_mean_squared_error'])"
      ]
     },
     "execution_count": 21,
     "metadata": {},
     "output_type": "execute_result"
    }
   ],
   "source": [
    "history.history.keys()"
   ]
  },
  {
   "cell_type": "code",
   "execution_count": 22,
   "metadata": {},
   "outputs": [
    {
     "data": {
      "image/png": "[encoded data removed]",
      "text/plain": [
       "<Figure size 640x480 with 1 Axes>"
      ]
     },
     "metadata": {},
     "output_type": "display_data"
    }
   ],
   "source": [
    "loss = history.history['mean_squared_error']\n",
    "val_loss = history.history['val_mean_squared_error']\n",
    "\n",
    "x_len = np.arange(len(loss))\n",
    "\n",
    "plt.plot(x_len, loss, marker='.', c='blue', label=\"Train-set loss.\")\n",
    "plt.plot(x_len, val_loss, marker='.', c='red', label=\"Validation-set loss.\")\n",
    "\n",
    "plt.legend(loc='upper right')\n",
    "plt.grid()\n",
    "plt.xlabel('epoch')\n",
    "plt.ylabel('Loss(MSE)')\n",
    "plt.show()"
   ]
  },
  {
   "cell_type": "code",
   "execution_count": 23,
   "metadata": {},
   "outputs": [
    {
     "data": {
      "image/png": "[encoded data removed]",
      "text/plain": [
       "<Figure size 640x480 with 1 Axes>"
      ]
     },
     "metadata": {},
     "output_type": "display_data"
    }
   ],
   "source": [
    "loss = history.history['mean_squared_error']\n",
    "val_loss = history.history['val_mean_squared_error']\n",
    "\n",
    "x_len = np.arange(len(loss))\n",
    "\n",
    "# epoch 200 ~ epoch 1000\n",
    "plt.plot(x_len[200:], loss[200:], marker='.', c='blue', label=\"Train-set loss.\")\n",
    "plt.plot(x_len[200:], val_loss[200:], marker='.', c='red', label=\"Validation-set loss.\")\n",
    "\n",
    "plt.legend(loc='upper right')\n",
    "plt.grid()\n",
    "plt.xlabel('epoch')\n",
    "plt.ylabel('Loss(MSE)')\n",
    "plt.show()"
   ]
  },
  {
   "cell_type": "code",
   "execution_count": 24,
   "metadata": {},
   "outputs": [
    {
     "name": "stdout",
     "output_type": "stream",
     "text": [
      "\u001b[1m5/5\u001b[0m \u001b[32m━━━━━━━━━━━━━━━━━━━━\u001b[0m\u001b[37m\u001b[0m \u001b[1m0s\u001b[0m 3ms/step \n"
     ]
    },
    {
     "data": {
      "text/plain": [
       "array([[22.123062 ],\n",
       "       [28.43988  ],\n",
       "       [23.583752 ],\n",
       "       [ 8.343412 ],\n",
       "       [19.394306 ],\n",
       "       [18.825504 ],\n",
       "       [23.523054 ],\n",
       "       [20.580496 ],\n",
       "       [22.105148 ],\n",
       "       [17.151075 ],\n",
       "       [ 9.961568 ],\n",
       "       [ 8.5316305],\n",
       "       [15.782752 ],\n",
       "       [ 7.3140326],\n",
       "       [38.96579  ],\n",
       "       [31.973671 ],\n",
       "       [23.794956 ],\n",
       "       [34.164238 ],\n",
       "       [30.348837 ],\n",
       "       [21.95007  ],\n",
       "       [23.154856 ],\n",
       "       [21.131086 ],\n",
       "       [20.50395  ],\n",
       "       [25.6212   ],\n",
       "       [20.518213 ],\n",
       "       [23.0534   ],\n",
       "       [16.679384 ],\n",
       "       [16.078526 ],\n",
       "       [39.563515 ],\n",
       "       [17.285719 ],\n",
       "       [14.965217 ],\n",
       "       [15.985148 ],\n",
       "       [19.694756 ],\n",
       "       [18.869455 ],\n",
       "       [26.974955 ],\n",
       "       [21.933779 ],\n",
       "       [ 6.535283 ],\n",
       "       [39.710884 ],\n",
       "       [12.106806 ],\n",
       "       [16.581747 ],\n",
       "       [22.508038 ],\n",
       "       [21.571373 ],\n",
       "       [18.363571 ],\n",
       "       [18.218122 ],\n",
       "       [19.577467 ],\n",
       "       [23.89299  ],\n",
       "       [21.006828 ],\n",
       "       [11.55441  ],\n",
       "       [11.925155 ],\n",
       "       [22.232016 ],\n",
       "       [11.860025 ],\n",
       "       [21.146255 ],\n",
       "       [21.649061 ],\n",
       "       [42.111023 ],\n",
       "       [14.011083 ],\n",
       "       [18.345324 ],\n",
       "       [18.043411 ],\n",
       "       [18.60416  ],\n",
       "       [17.852015 ],\n",
       "       [20.239271 ],\n",
       "       [18.380344 ],\n",
       "       [19.74773  ],\n",
       "       [31.981554 ],\n",
       "       [31.179304 ],\n",
       "       [20.842129 ],\n",
       "       [27.682533 ],\n",
       "       [16.826754 ],\n",
       "       [20.976637 ],\n",
       "       [12.743623 ],\n",
       "       [22.514685 ],\n",
       "       [17.743645 ],\n",
       "       [20.60027  ],\n",
       "       [25.186573 ],\n",
       "       [26.902784 ],\n",
       "       [25.576939 ],\n",
       "       [ 6.3362703],\n",
       "       [40.632915 ],\n",
       "       [22.113697 ],\n",
       "       [26.880867 ],\n",
       "       [17.553988 ],\n",
       "       [24.175787 ],\n",
       "       [18.824804 ],\n",
       "       [23.026798 ],\n",
       "       [40.039307 ],\n",
       "       [42.92723  ],\n",
       "       [22.499386 ],\n",
       "       [25.521988 ],\n",
       "       [12.334858 ],\n",
       "       [24.791492 ],\n",
       "       [14.887758 ],\n",
       "       [16.716618 ],\n",
       "       [ 9.494044 ],\n",
       "       [21.013512 ],\n",
       "       [27.691914 ],\n",
       "       [20.413116 ],\n",
       "       [19.876402 ],\n",
       "       [10.7780485],\n",
       "       [22.029387 ],\n",
       "       [13.345689 ],\n",
       "       [15.899829 ],\n",
       "       [24.466236 ],\n",
       "       [20.15547  ],\n",
       "       [29.614634 ],\n",
       "       [21.911951 ],\n",
       "       [25.936707 ],\n",
       "       [17.893194 ],\n",
       "       [11.181233 ],\n",
       "       [18.954813 ],\n",
       "       [20.703094 ],\n",
       "       [24.494959 ],\n",
       "       [35.250107 ],\n",
       "       [16.000944 ],\n",
       "       [20.158066 ],\n",
       "       [17.87325  ],\n",
       "       [13.150157 ],\n",
       "       [19.699568 ],\n",
       "       [10.165096 ],\n",
       "       [19.54542  ],\n",
       "       [10.289191 ],\n",
       "       [43.48673  ],\n",
       "       [26.930481 ],\n",
       "       [11.419841 ],\n",
       "       [19.798122 ],\n",
       "       [20.150593 ],\n",
       "       [19.474848 ],\n",
       "       [19.48092  ],\n",
       "       [32.538307 ],\n",
       "       [13.855496 ],\n",
       "       [19.169676 ],\n",
       "       [30.650694 ],\n",
       "       [14.782082 ],\n",
       "       [ 9.420634 ],\n",
       "       [19.555332 ],\n",
       "       [21.058914 ],\n",
       "       [10.832006 ],\n",
       "       [32.03969  ],\n",
       "       [22.569584 ],\n",
       "       [11.403643 ],\n",
       "       [25.860558 ],\n",
       "       [ 7.957243 ],\n",
       "       [ 7.8244534],\n",
       "       [22.348166 ],\n",
       "       [36.100372 ],\n",
       "       [23.800629 ],\n",
       "       [25.690477 ],\n",
       "       [15.552581 ],\n",
       "       [32.279835 ],\n",
       "       [32.052784 ],\n",
       "       [13.585845 ],\n",
       "       [ 8.382653 ],\n",
       "       [24.733114 ],\n",
       "       [25.037354 ]], dtype=float32)"
      ]
     },
     "execution_count": 24,
     "metadata": {},
     "output_type": "execute_result"
    }
   ],
   "source": [
    "# \"Predict\" on test data\n",
    "\n",
    "model.predict(test_data)"
   ]
  },
  {
   "cell_type": "code",
   "execution_count": 25,
   "metadata": {},
   "outputs": [],
   "source": [
    "sample_data = np.array([[0.02731, 0.0, 7.07, 0.0, 0.469, 6.421, 78.9, 4.9671, 2.0, 242.0, 17.8, 396.90, 9.14]])"
   ]
  },
  {
   "cell_type": "code",
   "execution_count": 26,
   "metadata": {},
   "outputs": [
    {
     "name": "stdout",
     "output_type": "stream",
     "text": [
      "\u001b[1m1/1\u001b[0m \u001b[32m━━━━━━━━━━━━━━━━━━━━\u001b[0m\u001b[37m\u001b[0m \u001b[1m0s\u001b[0m 8ms/step\n"
     ]
    },
    {
     "data": {
      "text/plain": [
       "array([[23.89299]], dtype=float32)"
      ]
     },
     "execution_count": 26,
     "metadata": {},
     "output_type": "execute_result"
    }
   ],
   "source": [
    "sample_data = sc.transform(sample_data) # \"transform\" the sample data with fitted scaler (no \"fit\", just \"transform\")\n",
    "model.predict(sample_data)"
   ]
  },
  {
   "cell_type": "code",
   "execution_count": null,
   "metadata": {},
   "outputs": [],
   "source": []
  }
 ],
 "metadata": {
  "kernel_info": {
   "name": "python3"
  },
  "kernelspec": {
   "display_name": "Python 3",
   "language": "python",
   "name": "python3"
  },
  "language_info": {
   "codemirror_mode": {
    "name": "ipython",
    "version": 3
   },
   "file_extension": ".py",
   "mimetype": "text/x-python",
   "name": "python",
   "nbconvert_exporter": "python",
   "pygments_lexer": "ipython3",
   "version": "3.9.19"
  },
  "nteract": {
   "version": "0.15.0"
  }
 },
 "nbformat": 4,
 "nbformat_minor": 2
}
