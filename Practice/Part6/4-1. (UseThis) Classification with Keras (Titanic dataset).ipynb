{
 "cells": [
  {
   "cell_type": "markdown",
   "metadata": {},
   "source": [
    "#### 참고 : tensorflow.keras 공식 문서 (Official API Docs) @ https://www.tensorflow.org/api_docs/python/tf/keras"
   ]
  },
  {
   "cell_type": "markdown",
   "metadata": {},
   "source": [
    "<br>\n",
    "\n",
    "## 1. Data loading & preprocessing"
   ]
  },
  {
   "cell_type": "code",
   "execution_count": 1,
   "metadata": {},
   "outputs": [],
   "source": [
    "import pandas as pd\n",
    "import numpy as np\n",
    "import matplotlib.pyplot as plt"
   ]
  },
  {
   "cell_type": "code",
   "execution_count": 2,
   "metadata": {},
   "outputs": [
    {
     "data": {
      "text/html": [
       "<div>\n",
       "<style scoped>\n",
       "    .dataframe tbody tr th:only-of-type {\n",
       "        vertical-align: middle;\n",
       "    }\n",
       "\n",
       "    .dataframe tbody tr th {\n",
       "        vertical-align: top;\n",
       "    }\n",
       "\n",
       "    .dataframe thead th {\n",
       "        text-align: right;\n",
       "    }\n",
       "</style>\n",
       "<table border=\"1\" class=\"dataframe\">\n",
       "  <thead>\n",
       "    <tr style=\"text-align: right;\">\n",
       "      <th></th>\n",
       "      <th>PassengerId</th>\n",
       "      <th>Survived</th>\n",
       "      <th>Pclass</th>\n",
       "      <th>Name</th>\n",
       "      <th>Sex</th>\n",
       "      <th>Age</th>\n",
       "      <th>SibSp</th>\n",
       "      <th>Parch</th>\n",
       "      <th>Ticket</th>\n",
       "      <th>Fare</th>\n",
       "      <th>Cabin</th>\n",
       "      <th>Embarked</th>\n",
       "    </tr>\n",
       "  </thead>\n",
       "  <tbody>\n",
       "    <tr>\n",
       "      <th>0</th>\n",
       "      <td>1</td>\n",
       "      <td>0</td>\n",
       "      <td>3</td>\n",
       "      <td>Braund, Mr. Owen Harris</td>\n",
       "      <td>male</td>\n",
       "      <td>22.0</td>\n",
       "      <td>1</td>\n",
       "      <td>0</td>\n",
       "      <td>A/5 21171</td>\n",
       "      <td>7.2500</td>\n",
       "      <td>NaN</td>\n",
       "      <td>S</td>\n",
       "    </tr>\n",
       "    <tr>\n",
       "      <th>1</th>\n",
       "      <td>2</td>\n",
       "      <td>1</td>\n",
       "      <td>1</td>\n",
       "      <td>Cumings, Mrs. John Bradley (Florence Briggs Th...</td>\n",
       "      <td>female</td>\n",
       "      <td>38.0</td>\n",
       "      <td>1</td>\n",
       "      <td>0</td>\n",
       "      <td>PC 17599</td>\n",
       "      <td>71.2833</td>\n",
       "      <td>C85</td>\n",
       "      <td>C</td>\n",
       "    </tr>\n",
       "    <tr>\n",
       "      <th>2</th>\n",
       "      <td>3</td>\n",
       "      <td>1</td>\n",
       "      <td>3</td>\n",
       "      <td>Heikkinen, Miss. Laina</td>\n",
       "      <td>female</td>\n",
       "      <td>26.0</td>\n",
       "      <td>0</td>\n",
       "      <td>0</td>\n",
       "      <td>STON/O2. 3101282</td>\n",
       "      <td>7.9250</td>\n",
       "      <td>NaN</td>\n",
       "      <td>S</td>\n",
       "    </tr>\n",
       "  </tbody>\n",
       "</table>\n",
       "</div>"
      ],
      "text/plain": [
       "   PassengerId  Survived  Pclass  \\\n",
       "0            1         0       3   \n",
       "1            2         1       1   \n",
       "2            3         1       3   \n",
       "\n",
       "                                                Name     Sex   Age  SibSp  \\\n",
       "0                            Braund, Mr. Owen Harris    male  22.0      1   \n",
       "1  Cumings, Mrs. John Bradley (Florence Briggs Th...  female  38.0      1   \n",
       "2                             Heikkinen, Miss. Laina  female  26.0      0   \n",
       "\n",
       "   Parch            Ticket     Fare Cabin Embarked  \n",
       "0      0         A/5 21171   7.2500   NaN        S  \n",
       "1      0          PC 17599  71.2833   C85        C  \n",
       "2      0  STON/O2. 3101282   7.9250   NaN        S  "
      ]
     },
     "execution_count": 2,
     "metadata": {},
     "output_type": "execute_result"
    }
   ],
   "source": [
    "titanic_df = pd.read_csv(\"titanic.csv\")\n",
    "titanic_df.head(3)"
   ]
  },
  {
   "cell_type": "code",
   "execution_count": 3,
   "metadata": {},
   "outputs": [
    {
     "name": "stderr",
     "output_type": "stream",
     "text": [
      "/var/folders/wm/j89vyk052m5bvrvn1dhfyflr0000gn/T/ipykernel_99073/1844474455.py:51: FutureWarning: A value is trying to be set on a copy of a DataFrame or Series through chained assignment using an inplace method.\n",
      "The behavior will change in pandas 3.0. This inplace method will never work because the intermediate object on which we are setting values always behaves as a copy.\n",
      "\n",
      "For example, when doing 'df[col].method(value, inplace=True)', try using 'df.method({col: value}, inplace=True)' or df[col] = df[col].method(value) instead, to perform the operation inplace on the original object.\n",
      "\n",
      "\n",
      "  titanic_df[\"Age\"].fillna(titanic_df.groupby(\"Title\")[\"Age\"].transform(\"median\"), inplace=True)\n"
     ]
    },
    {
     "data": {
      "text/html": [
       "<div>\n",
       "<style scoped>\n",
       "    .dataframe tbody tr th:only-of-type {\n",
       "        vertical-align: middle;\n",
       "    }\n",
       "\n",
       "    .dataframe tbody tr th {\n",
       "        vertical-align: top;\n",
       "    }\n",
       "\n",
       "    .dataframe thead th {\n",
       "        text-align: right;\n",
       "    }\n",
       "</style>\n",
       "<table border=\"1\" class=\"dataframe\">\n",
       "  <thead>\n",
       "    <tr style=\"text-align: right;\">\n",
       "      <th></th>\n",
       "      <th>Survived</th>\n",
       "      <th>Pclass</th>\n",
       "      <th>Sex</th>\n",
       "      <th>Age</th>\n",
       "      <th>Fare</th>\n",
       "      <th>Embarked</th>\n",
       "      <th>Title</th>\n",
       "      <th>FamilySize</th>\n",
       "      <th>isAlone</th>\n",
       "    </tr>\n",
       "  </thead>\n",
       "  <tbody>\n",
       "    <tr>\n",
       "      <th>0</th>\n",
       "      <td>0</td>\n",
       "      <td>3</td>\n",
       "      <td>0</td>\n",
       "      <td>1.0</td>\n",
       "      <td>0.0</td>\n",
       "      <td>0</td>\n",
       "      <td>3</td>\n",
       "      <td>0.4</td>\n",
       "      <td>0</td>\n",
       "    </tr>\n",
       "    <tr>\n",
       "      <th>1</th>\n",
       "      <td>1</td>\n",
       "      <td>1</td>\n",
       "      <td>1</td>\n",
       "      <td>2.0</td>\n",
       "      <td>0.0</td>\n",
       "      <td>2</td>\n",
       "      <td>4</td>\n",
       "      <td>0.4</td>\n",
       "      <td>0</td>\n",
       "    </tr>\n",
       "    <tr>\n",
       "      <th>2</th>\n",
       "      <td>1</td>\n",
       "      <td>3</td>\n",
       "      <td>1</td>\n",
       "      <td>1.0</td>\n",
       "      <td>0.0</td>\n",
       "      <td>0</td>\n",
       "      <td>2</td>\n",
       "      <td>0.0</td>\n",
       "      <td>1</td>\n",
       "    </tr>\n",
       "  </tbody>\n",
       "</table>\n",
       "</div>"
      ],
      "text/plain": [
       "   Survived  Pclass  Sex  Age  Fare  Embarked  Title  FamilySize  isAlone\n",
       "0         0       3    0  1.0   0.0         0      3         0.4        0\n",
       "1         1       1    1  2.0   0.0         2      4         0.4        0\n",
       "2         1       3    1  1.0   0.0         0      2         0.0        1"
      ]
     },
     "execution_count": 3,
     "metadata": {},
     "output_type": "execute_result"
    }
   ],
   "source": [
    "del titanic_df['Cabin'] # 너무 많은 결측치가 존재\n",
    "del titanic_df['PassengerId'] # Passenger 번호는 큰 의미를 갖고있지 않은 일련번호\n",
    "del titanic_df['Ticket'] # ticket 번호에서 패턴이 확인되지 않음\n",
    "\n",
    "\n",
    "titanic_df['Title'] = titanic_df['Name'].str.extract('([A-Za-z]+)\\.', expand=False)\n",
    "del titanic_df['Name'] # 호칭만 남김\n",
    "\n",
    "rare_title = []\n",
    "for title in set(titanic_df['Title']):\n",
    "    if list(titanic_df['Title']).count(title) < 10:\n",
    "        rare_title.append(title)\n",
    "\n",
    "titanic_df['Title'] = titanic_df['Title'].replace('Mlle', 'Miss') # Mademoiselle\n",
    "titanic_df['Title'] = titanic_df['Title'].replace('Ms', 'Miss') \n",
    "titanic_df['Title'] = titanic_df['Title'].replace('Mme', 'Mrs') # Madame\n",
    "titanic_df['Title'] = titanic_df['Title'].replace(rare_title, 'Rare')\n",
    "\n",
    "title_mapping = {\"Master\":1, \"Miss\":2, \"Mr\":3, \"Mrs\":4, \"Rare\":5 }\n",
    "titanic_df['Title'] = titanic_df['Title'].map(title_mapping)\n",
    "titanic_df['Title'] = titanic_df['Title'].fillna(0)\n",
    "titanic_df['Title'].astype(int)\n",
    "\n",
    "\n",
    "sex_mapping = {\"male\": 0 , \"female\":1} \n",
    "titanic_df['Sex'] = titanic_df['Sex'].map(sex_mapping)\n",
    "\n",
    "\n",
    "titanic_df['Embarked'] = titanic_df['Embarked'].fillna('S')\n",
    "mapping_data ={\"S\":0, \"Q\":1, \"C\":2}\n",
    "titanic_df[\"Embarked\"] = titanic_df[\"Embarked\"].map(mapping_data)\n",
    "\n",
    "\n",
    "titanic_df.loc[ titanic_df['Fare'] <= 102, 'Fare'] = 0\n",
    "titanic_df.loc[(titanic_df['Fare'] > 102) & (titanic_df['Fare'] <= 204), 'Fare'] = 1\n",
    "titanic_df.loc[(titanic_df['Fare'] > 204) & (titanic_df['Fare'] <= 307), 'Fare'] = 2\n",
    "titanic_df.loc[ titanic_df['Fare'] > 307, 'Fare'] = 4\n",
    "\n",
    "\n",
    "titanic_df[\"FamilySize\"] = titanic_df[\"SibSp\"] + titanic_df[\"Parch\"] +1\n",
    "del titanic_df['SibSp']\n",
    "del titanic_df['Parch']\n",
    "\n",
    "titanic_df['isAlone'] = 0\n",
    "titanic_df.loc[titanic_df['FamilySize'] == 1, 'isAlone'] = 1\n",
    "\n",
    "family_mapping = {1: 0, 2: 0.4, 3: 0.8, 4: 1.2, 5: 1.6, 6: 2, 7: 2.4, 8: 2.8, 9: 3.2, 10: 3.6, 11: 4}\n",
    "titanic_df['FamilySize'] = titanic_df['FamilySize'].map(family_mapping)\n",
    "\n",
    "\n",
    "titanic_df[\"Age\"].fillna(titanic_df.groupby(\"Title\")[\"Age\"].transform(\"median\"), inplace=True)\n",
    "\n",
    "titanic_df.loc[ titanic_df['Age'] <= 16, 'Age'] = 0\n",
    "titanic_df.loc[(titanic_df['Age'] > 16) & (titanic_df['Age'] <= 32), 'Age'] = 1\n",
    "titanic_df.loc[(titanic_df['Age'] > 32) & (titanic_df['Age'] <= 48), 'Age'] = 2\n",
    "titanic_df.loc[(titanic_df['Age'] > 48) & (titanic_df['Age'] <= 64), 'Age'] = 3\n",
    "titanic_df.loc[ titanic_df['Age'] > 64, 'Age'] = 4\n",
    "\n",
    "titanic_df.head(3)"
   ]
  },
  {
   "cell_type": "markdown",
   "metadata": {},
   "source": [
    "<br>\n",
    "\n",
    "## 2. Devide dataframe into X & Y -> Train X / Test X / Train Y / Test Y"
   ]
  },
  {
   "cell_type": "code",
   "execution_count": 4,
   "metadata": {},
   "outputs": [],
   "source": [
    "titanic_target = titanic_df[['Survived']].copy()\n",
    "titanic_data = titanic_df.copy()\n",
    "\n",
    "del titanic_data['Survived']"
   ]
  },
  {
   "cell_type": "code",
   "execution_count": 5,
   "metadata": {},
   "outputs": [],
   "source": [
    "from sklearn import model_selection"
   ]
  },
  {
   "cell_type": "code",
   "execution_count": 6,
   "metadata": {},
   "outputs": [
    {
     "name": "stdout",
     "output_type": "stream",
     "text": [
      "(623, 8)\n",
      "(268, 8)\n",
      "(623, 1)\n",
      "(268, 1)\n"
     ]
    }
   ],
   "source": [
    "train_data, test_data, train_label, test_label = model_selection.train_test_split(titanic_data, titanic_target,\n",
    "                                                                                 test_size=0.3,\n",
    "                                                                                 random_state=0)\n",
    "print(train_data.shape)\n",
    "print(test_data.shape)\n",
    "print(train_label.shape)\n",
    "print(test_label.shape)"
   ]
  },
  {
   "cell_type": "markdown",
   "metadata": {},
   "source": [
    "<br>\n",
    "\n",
    "## 3. Change normal labels to one-hot labels"
   ]
  },
  {
   "cell_type": "code",
   "execution_count": 7,
   "metadata": {},
   "outputs": [
    {
     "data": {
      "text/html": [
       "<div>\n",
       "<style scoped>\n",
       "    .dataframe tbody tr th:only-of-type {\n",
       "        vertical-align: middle;\n",
       "    }\n",
       "\n",
       "    .dataframe tbody tr th {\n",
       "        vertical-align: top;\n",
       "    }\n",
       "\n",
       "    .dataframe thead th {\n",
       "        text-align: right;\n",
       "    }\n",
       "</style>\n",
       "<table border=\"1\" class=\"dataframe\">\n",
       "  <thead>\n",
       "    <tr style=\"text-align: right;\">\n",
       "      <th></th>\n",
       "      <th>Survived</th>\n",
       "    </tr>\n",
       "  </thead>\n",
       "  <tbody>\n",
       "    <tr>\n",
       "      <th>857</th>\n",
       "      <td>1</td>\n",
       "    </tr>\n",
       "    <tr>\n",
       "      <th>52</th>\n",
       "      <td>1</td>\n",
       "    </tr>\n",
       "    <tr>\n",
       "      <th>386</th>\n",
       "      <td>0</td>\n",
       "    </tr>\n",
       "    <tr>\n",
       "      <th>124</th>\n",
       "      <td>0</td>\n",
       "    </tr>\n",
       "    <tr>\n",
       "      <th>578</th>\n",
       "      <td>0</td>\n",
       "    </tr>\n",
       "  </tbody>\n",
       "</table>\n",
       "</div>"
      ],
      "text/plain": [
       "     Survived\n",
       "857         1\n",
       "52          1\n",
       "386         0\n",
       "124         0\n",
       "578         0"
      ]
     },
     "execution_count": 7,
     "metadata": {},
     "output_type": "execute_result"
    }
   ],
   "source": [
    "train_label[:5]"
   ]
  },
  {
   "cell_type": "code",
   "execution_count": 8,
   "metadata": {},
   "outputs": [
    {
     "name": "stdout",
     "output_type": "stream",
     "text": [
      "(623, 2)\n",
      "(268, 2)\n"
     ]
    }
   ],
   "source": [
    "from tensorflow.keras import utils\n",
    "\n",
    "train_label = utils.to_categorical(train_label) # 0 or 1 -> one-hot vector\n",
    "test_label = utils.to_categorical(test_label) # 0 or 1 -> one-hot vector\n",
    "\n",
    "print(train_label.shape) # 모양을 영어로?\n",
    "print(test_label.shape) # 모양을 영어로?\n",
    "\n",
    "# from sklearn import preprocessing\n",
    "# enc = preprocessing.OneHotEncoder(categories='auto') # Apply 'One-hot encoding' on labels (Single integer to One-hot vector)\n",
    "# train_label = enc.fit_transform(train_label).toarray()\n",
    "# test_label = enc.fit_transform(test_label).toarray()"
   ]
  },
  {
   "cell_type": "code",
   "execution_count": 9,
   "metadata": {},
   "outputs": [
    {
     "data": {
      "text/plain": [
       "array([[0., 1.],\n",
       "       [0., 1.],\n",
       "       [1., 0.],\n",
       "       ...,\n",
       "       [1., 0.],\n",
       "       [0., 1.],\n",
       "       [1., 0.]])"
      ]
     },
     "execution_count": 9,
     "metadata": {},
     "output_type": "execute_result"
    }
   ],
   "source": [
    "train_label"
   ]
  },
  {
   "cell_type": "markdown",
   "metadata": {},
   "source": [
    "<br>\n",
    "\n",
    "## 4. Build & Train the model "
   ]
  },
  {
   "cell_type": "code",
   "execution_count": 10,
   "metadata": {},
   "outputs": [],
   "source": [
    "import tensorflow as tf\n",
    "\n",
    "# tf.keras 에 필요한 함수들이 모여있습니다.\n",
    "from tensorflow.keras import datasets, utils\n",
    "from tensorflow.keras import models, layers, activations, initializers, losses, optimizers, metrics"
   ]
  },
  {
   "cell_type": "code",
   "execution_count": 11,
   "metadata": {},
   "outputs": [],
   "source": [
    "import os\n",
    "os.environ['TF_CPP_MIN_LOG_LEVEL'] = '2' # https://stackoverflow.com/questions/35911252/disable-tensorflow-debugging-information"
   ]
  },
  {
   "cell_type": "code",
   "execution_count": 13,
   "metadata": {},
   "outputs": [],
   "source": [
    "model = models.Sequential() # Build up the \"Sequence\" of layers (Linear stack of layers)\n",
    "\n",
    "# Dense-layer (with he-initialization)\n",
    "model.add(layers.Dense(input_dim=8, units=256, activation=None, kernel_initializer=initializers.he_uniform())) # he-uniform initialization\n",
    "# model.add(layers.BatchNormalization()) # Use this line as if needed\n",
    "model.add(layers.Activation('elu')) # elu or relu (or layers.ELU / layers.LeakyReLU)\n",
    "\n",
    "model.add(layers.Dense(units=512, activation=None, kernel_initializer=initializers.he_uniform())) \n",
    "model.add(layers.Activation('elu')) \n",
    "\n",
    "model.add(layers.Dense(units=512, activation=None, kernel_initializer=initializers.he_uniform())) \n",
    "model.add(layers.Activation('elu'))\n",
    "\n",
    "model.add(layers.Dense(units=256, activation=None, kernel_initializer=initializers.he_uniform())) \n",
    "model.add(layers.Activation('elu')) \n",
    "model.add(layers.Dropout(rate=0.5)) # Dropout-layer\n",
    "\n",
    "model.add(layers.Dense(units=2, activation='softmax')) # Apply softmax function on model's output"
   ]
  },
  {
   "cell_type": "code",
   "execution_count": 14,
   "metadata": {},
   "outputs": [],
   "source": [
    "# \"Compile\" the model description (Configures the model for training)\n",
    "\n",
    "model.compile(optimizer=optimizers.Adam(), # Please try the Adam-optimizer\n",
    "              loss=losses.categorical_crossentropy, \n",
    "              metrics=[metrics.categorical_accuracy]) # Precision / Recall / F1-Score 적용하기 @ https://j.mp/3cf3lbi"
   ]
  },
  {
   "cell_type": "code",
   "execution_count": 15,
   "metadata": {},
   "outputs": [
    {
     "name": "stdout",
     "output_type": "stream",
     "text": [
      "Epoch 1/20\n",
      "\u001b[1m5/5\u001b[0m \u001b[32m━━━━━━━━━━━━━━━━━━━━\u001b[0m\u001b[37m\u001b[0m \u001b[1m1s\u001b[0m 19ms/step - categorical_accuracy: 0.5718 - loss: 2.6307 - val_categorical_accuracy: 0.7594 - val_loss: 0.9270\n",
      "Epoch 2/20\n",
      "\u001b[1m5/5\u001b[0m \u001b[32m━━━━━━━━━━━━━━━━━━━━\u001b[0m\u001b[37m\u001b[0m \u001b[1m0s\u001b[0m 6ms/step - categorical_accuracy: 0.7301 - loss: 1.0748 - val_categorical_accuracy: 0.7540 - val_loss: 0.8181\n",
      "Epoch 3/20\n",
      "\u001b[1m5/5\u001b[0m \u001b[32m━━━━━━━━━━━━━━━━━━━━\u001b[0m\u001b[37m\u001b[0m \u001b[1m0s\u001b[0m 6ms/step - categorical_accuracy: 0.7312 - loss: 0.8523 - val_categorical_accuracy: 0.7754 - val_loss: 0.4940\n",
      "Epoch 4/20\n",
      "\u001b[1m5/5\u001b[0m \u001b[32m━━━━━━━━━━━━━━━━━━━━\u001b[0m\u001b[37m\u001b[0m \u001b[1m0s\u001b[0m 6ms/step - categorical_accuracy: 0.7613 - loss: 0.6676 - val_categorical_accuracy: 0.8075 - val_loss: 0.5047\n",
      "Epoch 5/20\n",
      "\u001b[1m5/5\u001b[0m \u001b[32m━━━━━━━━━━━━━━━━━━━━\u001b[0m\u001b[37m\u001b[0m \u001b[1m0s\u001b[0m 6ms/step - categorical_accuracy: 0.7325 - loss: 0.6476 - val_categorical_accuracy: 0.8021 - val_loss: 0.5972\n",
      "Epoch 6/20\n",
      "\u001b[1m5/5\u001b[0m \u001b[32m━━━━━━━━━━━━━━━━━━━━\u001b[0m\u001b[37m\u001b[0m \u001b[1m0s\u001b[0m 6ms/step - categorical_accuracy: 0.7934 - loss: 0.6105 - val_categorical_accuracy: 0.8182 - val_loss: 0.4668\n",
      "Epoch 7/20\n",
      "\u001b[1m5/5\u001b[0m \u001b[32m━━━━━━━━━━━━━━━━━━━━\u001b[0m\u001b[37m\u001b[0m \u001b[1m0s\u001b[0m 6ms/step - categorical_accuracy: 0.7233 - loss: 0.7389 - val_categorical_accuracy: 0.8235 - val_loss: 0.5455\n",
      "Epoch 8/20\n",
      "\u001b[1m5/5\u001b[0m \u001b[32m━━━━━━━━━━━━━━━━━━━━\u001b[0m\u001b[37m\u001b[0m \u001b[1m0s\u001b[0m 6ms/step - categorical_accuracy: 0.7471 - loss: 0.6028 - val_categorical_accuracy: 0.7914 - val_loss: 0.5851\n",
      "Epoch 9/20\n",
      "\u001b[1m5/5\u001b[0m \u001b[32m━━━━━━━━━━━━━━━━━━━━\u001b[0m\u001b[37m\u001b[0m \u001b[1m0s\u001b[0m 7ms/step - categorical_accuracy: 0.7888 - loss: 0.5814 - val_categorical_accuracy: 0.8021 - val_loss: 0.5289\n",
      "Epoch 10/20\n",
      "\u001b[1m5/5\u001b[0m \u001b[32m━━━━━━━━━━━━━━━━━━━━\u001b[0m\u001b[37m\u001b[0m \u001b[1m0s\u001b[0m 7ms/step - categorical_accuracy: 0.7999 - loss: 0.5912 - val_categorical_accuracy: 0.7647 - val_loss: 0.5561\n",
      "Epoch 11/20\n",
      "\u001b[1m5/5\u001b[0m \u001b[32m━━━━━━━━━━━━━━━━━━━━\u001b[0m\u001b[37m\u001b[0m \u001b[1m0s\u001b[0m 6ms/step - categorical_accuracy: 0.7930 - loss: 0.5906 - val_categorical_accuracy: 0.8235 - val_loss: 0.4775\n",
      "Epoch 12/20\n",
      "\u001b[1m5/5\u001b[0m \u001b[32m━━━━━━━━━━━━━━━━━━━━\u001b[0m\u001b[37m\u001b[0m \u001b[1m0s\u001b[0m 15ms/step - categorical_accuracy: 0.8173 - loss: 0.4906 - val_categorical_accuracy: 0.7487 - val_loss: 0.7640\n",
      "Epoch 13/20\n",
      "\u001b[1m5/5\u001b[0m \u001b[32m━━━━━━━━━━━━━━━━━━━━\u001b[0m\u001b[37m\u001b[0m \u001b[1m0s\u001b[0m 8ms/step - categorical_accuracy: 0.8018 - loss: 0.6377 - val_categorical_accuracy: 0.8289 - val_loss: 0.4570\n",
      "Epoch 14/20\n",
      "\u001b[1m5/5\u001b[0m \u001b[32m━━━━━━━━━━━━━━━━━━━━\u001b[0m\u001b[37m\u001b[0m \u001b[1m0s\u001b[0m 6ms/step - categorical_accuracy: 0.8081 - loss: 0.5352 - val_categorical_accuracy: 0.7433 - val_loss: 0.5951\n",
      "Epoch 15/20\n",
      "\u001b[1m5/5\u001b[0m \u001b[32m━━━━━━━━━━━━━━━━━━━━\u001b[0m\u001b[37m\u001b[0m \u001b[1m0s\u001b[0m 6ms/step - categorical_accuracy: 0.7976 - loss: 0.5179 - val_categorical_accuracy: 0.8128 - val_loss: 0.6156\n",
      "Epoch 16/20\n",
      "\u001b[1m5/5\u001b[0m \u001b[32m━━━━━━━━━━━━━━━━━━━━\u001b[0m\u001b[37m\u001b[0m \u001b[1m0s\u001b[0m 6ms/step - categorical_accuracy: 0.8392 - loss: 0.4830 - val_categorical_accuracy: 0.8182 - val_loss: 0.5380\n",
      "Epoch 17/20\n",
      "\u001b[1m5/5\u001b[0m \u001b[32m━━━━━━━━━━━━━━━━━━━━\u001b[0m\u001b[37m\u001b[0m \u001b[1m0s\u001b[0m 6ms/step - categorical_accuracy: 0.7410 - loss: 0.6471 - val_categorical_accuracy: 0.7059 - val_loss: 0.8464\n",
      "Epoch 18/20\n",
      "\u001b[1m5/5\u001b[0m \u001b[32m━━━━━━━━━━━━━━━━━━━━\u001b[0m\u001b[37m\u001b[0m \u001b[1m0s\u001b[0m 6ms/step - categorical_accuracy: 0.7897 - loss: 0.5918 - val_categorical_accuracy: 0.8396 - val_loss: 0.4392\n",
      "Epoch 19/20\n",
      "\u001b[1m5/5\u001b[0m \u001b[32m━━━━━━━━━━━━━━━━━━━━\u001b[0m\u001b[37m\u001b[0m \u001b[1m0s\u001b[0m 6ms/step - categorical_accuracy: 0.7044 - loss: 0.6660 - val_categorical_accuracy: 0.7059 - val_loss: 0.8219\n",
      "Epoch 20/20\n",
      "\u001b[1m5/5\u001b[0m \u001b[32m━━━━━━━━━━━━━━━━━━━━\u001b[0m\u001b[37m\u001b[0m \u001b[1m0s\u001b[0m 7ms/step - categorical_accuracy: 0.8047 - loss: 0.5792 - val_categorical_accuracy: 0.8289 - val_loss: 0.4635\n"
     ]
    }
   ],
   "source": [
    "# \"Fit\" the model on training data\n",
    "\n",
    "history = model.fit(train_data, train_label, batch_size=100, epochs=20, validation_split=0.3) "
   ]
  },
  {
   "cell_type": "code",
   "execution_count": 16,
   "metadata": {
    "scrolled": true
   },
   "outputs": [
    {
     "name": "stdout",
     "output_type": "stream",
     "text": [
      "\u001b[1m9/9\u001b[0m \u001b[32m━━━━━━━━━━━━━━━━━━━━\u001b[0m\u001b[37m\u001b[0m \u001b[1m0s\u001b[0m 1ms/step - categorical_accuracy: 0.8113 - loss: 0.4802\n",
      "loss (cross-entropy) : 0.5424379706382751\n",
      "test accuracy : 0.8022388219833374\n"
     ]
    }
   ],
   "source": [
    "# \"Evaluate\" the model on test data\n",
    "\n",
    "result = model.evaluate(test_data, test_label)\n",
    "\n",
    "print('loss (cross-entropy) :', result[0])\n",
    "print('test accuracy :', result[1])"
   ]
  },
  {
   "cell_type": "code",
   "execution_count": 17,
   "metadata": {},
   "outputs": [
    {
     "data": {
      "text/plain": [
       "dict_keys(['categorical_accuracy', 'loss', 'val_categorical_accuracy', 'val_loss'])"
      ]
     },
     "execution_count": 17,
     "metadata": {},
     "output_type": "execute_result"
    }
   ],
   "source": [
    "history.history.keys()"
   ]
  },
  {
   "cell_type": "code",
   "execution_count": 18,
   "metadata": {
    "scrolled": true
   },
   "outputs": [
    {
     "data": {
      "image/png": "[encoded data removed]",
      "text/plain": [
       "<Figure size 640x480 with 1 Axes>"
      ]
     },
     "metadata": {},
     "output_type": "display_data"
    }
   ],
   "source": [
    "acc = history.history['categorical_accuracy']\n",
    "val_acc = history.history['val_categorical_accuracy']\n",
    "\n",
    "x_len = np.arange(len(acc))\n",
    "\n",
    "plt.plot(x_len, acc, marker='.', c='blue', label=\"Train-set Acc.\")\n",
    "plt.plot(x_len, val_acc, marker='.', c='red', label=\"Validation-set Acc.\")\n",
    "\n",
    "plt.legend(loc='upper right')\n",
    "plt.grid()\n",
    "plt.xlabel('epoch')\n",
    "plt.ylabel('Accuracy')\n",
    "plt.show()"
   ]
  },
  {
   "cell_type": "code",
   "execution_count": 39,
   "metadata": {},
   "outputs": [
    {
     "data": {
      "text/plain": [
       "dict_keys(['loss', 'categorical_accuracy', 'val_loss', 'val_categorical_accuracy'])"
      ]
     },
     "execution_count": 39,
     "metadata": {},
     "output_type": "execute_result"
    }
   ],
   "source": [
    "history.history.keys()"
   ]
  },
  {
   "cell_type": "code",
   "execution_count": 22,
   "metadata": {},
   "outputs": [
    {
     "data": {
      "image/png": "[encoded data removed]",
      "text/plain": [
       "<Figure size 640x480 with 1 Axes>"
      ]
     },
     "metadata": {},
     "output_type": "display_data"
    }
   ],
   "source": [
    "loss = history.history['loss']\n",
    "val_loss = history.history['val_loss']\n",
    "\n",
    "x_len = np.arange(len(acc))\n",
    "\n",
    "plt.plot(x_len, loss, marker='.', c='blue', label=\"Train-set loss.\")\n",
    "plt.plot(x_len, val_loss, marker='.', c='red', label=\"Validation-set loss.\")\n",
    "\n",
    "plt.legend(loc='upper right')\n",
    "plt.grid()\n",
    "plt.xlabel('epoch')\n",
    "plt.ylabel('Cross-entropy')\n",
    "plt.show()"
   ]
  },
  {
   "cell_type": "code",
   "execution_count": 23,
   "metadata": {},
   "outputs": [
    {
     "name": "stdout",
     "output_type": "stream",
     "text": [
      "\u001b[1m9/9\u001b[0m \u001b[32m━━━━━━━━━━━━━━━━━━━━\u001b[0m\u001b[37m\u001b[0m \u001b[1m0s\u001b[0m 2ms/step \n"
     ]
    },
    {
     "data": {
      "text/plain": [
       "array([[7.91534960e-01, 2.08465040e-01],\n",
       "       [7.88932145e-01, 2.11067826e-01],\n",
       "       [8.52671862e-01, 1.47328168e-01],\n",
       "       [2.23005831e-04, 9.99777019e-01],\n",
       "       [3.52976248e-02, 9.64702308e-01],\n",
       "       [5.67676961e-01, 4.32322979e-01],\n",
       "       [6.52649833e-05, 9.99934673e-01],\n",
       "       [6.42536383e-04, 9.99357522e-01],\n",
       "       [3.37373912e-01, 6.62626147e-01],\n",
       "       [4.96204644e-02, 9.50379610e-01],\n",
       "       [9.10837054e-01, 8.91629606e-02],\n",
       "       [1.63017306e-02, 9.83698308e-01],\n",
       "       [8.27066243e-01, 1.72933847e-01],\n",
       "       [1.11384457e-02, 9.88861561e-01],\n",
       "       [6.70653098e-05, 9.99932885e-01],\n",
       "       [3.68440486e-02, 9.63155925e-01],\n",
       "       [7.88932145e-01, 2.11067826e-01],\n",
       "       [9.20851290e-01, 7.91487545e-02],\n",
       "       [9.56937373e-01, 4.30626310e-02],\n",
       "       [2.81429989e-03, 9.97185707e-01],\n",
       "       [7.61179090e-01, 2.38820866e-01],\n",
       "       [2.48075376e-04, 9.99751925e-01],\n",
       "       [8.27066243e-01, 1.72933847e-01],\n",
       "       [5.67676961e-01, 4.32322979e-01],\n",
       "       [1.42356992e-01, 8.57643068e-01],\n",
       "       [5.79364249e-04, 9.99420583e-01],\n",
       "       [7.88932145e-01, 2.11067826e-01],\n",
       "       [1.42356992e-01, 8.57643068e-01],\n",
       "       [7.00812321e-04, 9.99299228e-01],\n",
       "       [6.23853683e-01, 3.76146257e-01],\n",
       "       [9.26784039e-01, 7.32160583e-02],\n",
       "       [3.60579304e-02, 9.63941932e-01],\n",
       "       [7.88932145e-01, 2.11067826e-01],\n",
       "       [5.67676961e-01, 4.32322979e-01],\n",
       "       [9.10837054e-01, 8.91629606e-02],\n",
       "       [5.80245316e-01, 4.19754714e-01],\n",
       "       [9.56937373e-01, 4.30626310e-02],\n",
       "       [7.61179090e-01, 2.38820866e-01],\n",
       "       [7.61179090e-01, 2.38820866e-01],\n",
       "       [4.97392297e-01, 5.02607644e-01],\n",
       "       [8.07913005e-01, 1.92087084e-01],\n",
       "       [7.91534960e-01, 2.08465040e-01],\n",
       "       [7.88932145e-01, 2.11067826e-01],\n",
       "       [9.46491063e-01, 5.35088181e-02],\n",
       "       [1.81250489e-05, 9.99981940e-01],\n",
       "       [7.88932145e-01, 2.11067826e-01],\n",
       "       [7.88932145e-01, 2.11067826e-01],\n",
       "       [1.45224476e-04, 9.99854863e-01],\n",
       "       [8.66670787e-01, 1.33329198e-01],\n",
       "       [9.49904859e-01, 5.00951111e-02],\n",
       "       [5.67676961e-01, 4.32322979e-01],\n",
       "       [3.37373912e-01, 6.62626147e-01],\n",
       "       [1.11384457e-02, 9.88861561e-01],\n",
       "       [7.88932145e-01, 2.11067826e-01],\n",
       "       [6.65613234e-01, 3.34386826e-01],\n",
       "       [9.20851290e-01, 7.91487545e-02],\n",
       "       [6.13124430e-01, 3.86875510e-01],\n",
       "       [8.02337885e-01, 1.97662055e-01],\n",
       "       [9.16662693e-01, 8.33372176e-02],\n",
       "       [9.40156758e-01, 5.98432235e-02],\n",
       "       [7.91534960e-01, 2.08465040e-01],\n",
       "       [2.32862473e-01, 7.67137587e-01],\n",
       "       [1.21151483e-04, 9.99878883e-01],\n",
       "       [3.20964664e-01, 6.79035306e-01],\n",
       "       [4.44952548e-02, 9.55504656e-01],\n",
       "       [8.27066243e-01, 1.72933847e-01],\n",
       "       [4.02072656e-05, 9.99959886e-01],\n",
       "       [5.61330974e-01, 4.38669026e-01],\n",
       "       [1.11384457e-02, 9.88861561e-01],\n",
       "       [4.47144521e-05, 9.99955356e-01],\n",
       "       [7.00812321e-04, 9.99299228e-01],\n",
       "       [6.16778851e-01, 3.83221090e-01],\n",
       "       [3.37373912e-01, 6.62626147e-01],\n",
       "       [7.88932145e-01, 2.11067826e-01],\n",
       "       [7.88932145e-01, 2.11067826e-01],\n",
       "       [6.64791372e-03, 9.93352056e-01],\n",
       "       [9.89707768e-01, 1.02921370e-02],\n",
       "       [3.60914707e-01, 6.39085293e-01],\n",
       "       [9.56937373e-01, 4.30626310e-02],\n",
       "       [8.08723986e-01, 1.91276044e-01],\n",
       "       [8.98462474e-01, 1.01537488e-01],\n",
       "       [6.79549389e-03, 9.93204474e-01],\n",
       "       [1.96787482e-03, 9.98032153e-01],\n",
       "       [4.97326255e-01, 5.02673745e-01],\n",
       "       [8.66670787e-01, 1.33329198e-01],\n",
       "       [4.47144521e-05, 9.99955356e-01],\n",
       "       [4.28995918e-06, 9.99995708e-01],\n",
       "       [1.46425366e-01, 8.53574634e-01],\n",
       "       [1.63303630e-03, 9.98367012e-01],\n",
       "       [8.32549691e-01, 1.67450383e-01],\n",
       "       [5.67676961e-01, 4.32322979e-01],\n",
       "       [7.88932145e-01, 2.11067826e-01],\n",
       "       [3.16162929e-02, 9.68383729e-01],\n",
       "       [1.66182508e-05, 9.99983490e-01],\n",
       "       [6.23853683e-01, 3.76146257e-01],\n",
       "       [7.91534960e-01, 2.08465040e-01],\n",
       "       [1.96787482e-03, 9.98032153e-01],\n",
       "       [9.46491063e-01, 5.35088181e-02],\n",
       "       [1.25435263e-01, 8.74564707e-01],\n",
       "       [6.65613234e-01, 3.34386826e-01],\n",
       "       [9.88232076e-01, 1.17679462e-02],\n",
       "       [7.14745224e-01, 2.85254806e-01],\n",
       "       [7.88932145e-01, 2.11067826e-01],\n",
       "       [9.54543233e-01, 4.54567336e-02],\n",
       "       [4.44952548e-02, 9.55504656e-01],\n",
       "       [1.20250531e-01, 8.79749417e-01],\n",
       "       [1.54926861e-03, 9.98450816e-01],\n",
       "       [7.74076164e-01, 2.25923747e-01],\n",
       "       [8.25737238e-01, 1.74262688e-01],\n",
       "       [9.80928242e-02, 9.01907206e-01],\n",
       "       [9.56937373e-01, 4.30626310e-02],\n",
       "       [1.39400208e-05, 9.99986053e-01],\n",
       "       [7.88932145e-01, 2.11067826e-01],\n",
       "       [1.42356992e-01, 8.57643068e-01],\n",
       "       [9.86922503e-01, 1.30775785e-02],\n",
       "       [8.94267019e-03, 9.91057396e-01],\n",
       "       [2.04897001e-02, 9.79510427e-01],\n",
       "       [6.96751243e-03, 9.93032455e-01],\n",
       "       [9.56937373e-01, 4.30626310e-02],\n",
       "       [3.25154094e-03, 9.96748447e-01],\n",
       "       [7.88932145e-01, 2.11067826e-01],\n",
       "       [8.27066243e-01, 1.72933847e-01],\n",
       "       [7.88932145e-01, 2.11067826e-01],\n",
       "       [1.63476974e-01, 8.36523056e-01],\n",
       "       [9.56937373e-01, 4.30626310e-02],\n",
       "       [7.12848008e-01, 2.87151992e-01],\n",
       "       [7.91534960e-01, 2.08465040e-01],\n",
       "       [9.10837054e-01, 8.91629606e-02],\n",
       "       [7.61179090e-01, 2.38820866e-01],\n",
       "       [4.97392297e-01, 5.02607644e-01],\n",
       "       [7.04734921e-02, 9.29526508e-01],\n",
       "       [7.88932145e-01, 2.11067826e-01],\n",
       "       [7.88932145e-01, 2.11067826e-01],\n",
       "       [2.26827562e-01, 7.73172438e-01],\n",
       "       [6.13124430e-01, 3.86875510e-01],\n",
       "       [7.88932145e-01, 2.11067826e-01],\n",
       "       [8.98462474e-01, 1.01537488e-01],\n",
       "       [5.15438989e-02, 9.48456168e-01],\n",
       "       [9.55981314e-01, 4.40186709e-02],\n",
       "       [7.61179090e-01, 2.38820866e-01],\n",
       "       [7.61179090e-01, 2.38820866e-01],\n",
       "       [2.19522353e-05, 9.99978125e-01],\n",
       "       [7.88932145e-01, 2.11067826e-01],\n",
       "       [7.04734921e-02, 9.29526508e-01],\n",
       "       [8.94267019e-03, 9.91057396e-01],\n",
       "       [1.42356992e-01, 8.57643068e-01],\n",
       "       [7.61179090e-01, 2.38820866e-01],\n",
       "       [1.08985882e-03, 9.98910189e-01],\n",
       "       [2.39453409e-04, 9.99760509e-01],\n",
       "       [7.88932145e-01, 2.11067826e-01],\n",
       "       [6.16778851e-01, 3.83221090e-01],\n",
       "       [1.42356992e-01, 8.57643068e-01],\n",
       "       [3.66507828e-01, 6.33492231e-01],\n",
       "       [7.88932145e-01, 2.11067826e-01],\n",
       "       [3.67499096e-03, 9.96325016e-01],\n",
       "       [7.61179090e-01, 2.38820866e-01],\n",
       "       [3.14119309e-02, 9.68588054e-01],\n",
       "       [9.53318834e-01, 4.66811731e-02],\n",
       "       [7.04734921e-02, 9.29526508e-01],\n",
       "       [3.46222781e-02, 9.65377688e-01],\n",
       "       [7.88932145e-01, 2.11067826e-01],\n",
       "       [7.91534960e-01, 2.08465040e-01],\n",
       "       [3.44542568e-05, 9.99965608e-01],\n",
       "       [2.75817156e-01, 7.24182785e-01],\n",
       "       [6.21044934e-01, 3.78955036e-01],\n",
       "       [7.88932145e-01, 2.11067826e-01],\n",
       "       [9.89086509e-01, 1.09135220e-02],\n",
       "       [7.88932145e-01, 2.11067826e-01],\n",
       "       [7.88932145e-01, 2.11067826e-01],\n",
       "       [7.88932145e-01, 2.11067826e-01],\n",
       "       [9.89086509e-01, 1.09135220e-02],\n",
       "       [1.66182508e-05, 9.99983490e-01],\n",
       "       [7.88932145e-01, 2.11067826e-01],\n",
       "       [7.88932145e-01, 2.11067826e-01],\n",
       "       [1.41459228e-02, 9.85854089e-01],\n",
       "       [7.88932145e-01, 2.11067826e-01],\n",
       "       [5.25387732e-05, 9.99947429e-01],\n",
       "       [7.88932145e-01, 2.11067826e-01],\n",
       "       [7.88932145e-01, 2.11067826e-01],\n",
       "       [6.05859607e-02, 9.39413965e-01],\n",
       "       [7.61179090e-01, 2.38820866e-01],\n",
       "       [8.17983150e-01, 1.82016805e-01],\n",
       "       [7.91534960e-01, 2.08465040e-01],\n",
       "       [7.88932145e-01, 2.11067826e-01],\n",
       "       [4.61144000e-01, 5.38855970e-01],\n",
       "       [7.88932145e-01, 2.11067826e-01],\n",
       "       [7.04734921e-02, 9.29526508e-01],\n",
       "       [7.61179090e-01, 2.38820866e-01],\n",
       "       [7.88932145e-01, 2.11067826e-01],\n",
       "       [2.24582274e-02, 9.77541804e-01],\n",
       "       [2.26827562e-01, 7.73172438e-01],\n",
       "       [5.25812447e-01, 4.74187493e-01],\n",
       "       [1.41459228e-02, 9.85854089e-01],\n",
       "       [7.04734921e-02, 9.29526508e-01],\n",
       "       [8.27066243e-01, 1.72933847e-01],\n",
       "       [8.37008417e-01, 1.62991598e-01],\n",
       "       [7.88932145e-01, 2.11067826e-01],\n",
       "       [9.36435983e-02, 9.06356394e-01],\n",
       "       [4.61144000e-01, 5.38855970e-01],\n",
       "       [9.89086509e-01, 1.09135220e-02],\n",
       "       [7.88932145e-01, 2.11067826e-01],\n",
       "       [4.40675765e-02, 9.55932438e-01],\n",
       "       [9.76576805e-01, 2.34231837e-02],\n",
       "       [1.73805803e-02, 9.82619345e-01],\n",
       "       [7.88932145e-01, 2.11067826e-01],\n",
       "       [7.30234265e-01, 2.69765705e-01],\n",
       "       [2.04897001e-02, 9.79510427e-01],\n",
       "       [7.88932145e-01, 2.11067826e-01],\n",
       "       [2.23166104e-02, 9.77683485e-01],\n",
       "       [9.89086509e-01, 1.09135220e-02],\n",
       "       [7.88932145e-01, 2.11067826e-01],\n",
       "       [3.20964664e-01, 6.79035306e-01],\n",
       "       [9.16662693e-01, 8.33372176e-02],\n",
       "       [2.32490953e-02, 9.76750851e-01],\n",
       "       [8.66670787e-01, 1.33329198e-01],\n",
       "       [7.88932145e-01, 2.11067826e-01],\n",
       "       [8.61638844e-01, 1.38361171e-01],\n",
       "       [5.97701967e-02, 9.40229774e-01],\n",
       "       [7.74076164e-01, 2.25923747e-01],\n",
       "       [2.13513878e-04, 9.99786556e-01],\n",
       "       [7.88932145e-01, 2.11067826e-01],\n",
       "       [1.45224476e-04, 9.99854863e-01],\n",
       "       [9.36435983e-02, 9.06356394e-01],\n",
       "       [7.88932145e-01, 2.11067826e-01],\n",
       "       [9.58961248e-01, 4.10386547e-02],\n",
       "       [9.10837054e-01, 8.91629606e-02],\n",
       "       [7.88932145e-01, 2.11067826e-01],\n",
       "       [1.63303630e-03, 9.98367012e-01],\n",
       "       [7.88932145e-01, 2.11067826e-01],\n",
       "       [9.54543233e-01, 4.54567336e-02],\n",
       "       [9.56937373e-01, 4.30626310e-02],\n",
       "       [7.35992789e-02, 9.26400781e-01],\n",
       "       [1.42356992e-01, 8.57643068e-01],\n",
       "       [1.42356992e-01, 8.57643068e-01],\n",
       "       [6.13124430e-01, 3.86875510e-01],\n",
       "       [9.10837054e-01, 8.91629606e-02],\n",
       "       [4.63709204e-09, 1.00000000e+00],\n",
       "       [4.28996747e-03, 9.95710075e-01],\n",
       "       [1.08985882e-03, 9.98910189e-01],\n",
       "       [7.88932145e-01, 2.11067826e-01],\n",
       "       [7.91534960e-01, 2.08465040e-01],\n",
       "       [2.10235201e-04, 9.99789774e-01],\n",
       "       [7.88932145e-01, 2.11067826e-01],\n",
       "       [8.66670787e-01, 1.33329198e-01],\n",
       "       [7.31748296e-05, 9.99926805e-01],\n",
       "       [5.83615480e-03, 9.94163811e-01],\n",
       "       [7.04734921e-02, 9.29526508e-01],\n",
       "       [7.88932145e-01, 2.11067826e-01],\n",
       "       [7.88932145e-01, 2.11067826e-01],\n",
       "       [2.04897001e-02, 9.79510427e-01],\n",
       "       [7.88932145e-01, 2.11067826e-01],\n",
       "       [6.97899699e-01, 3.02100331e-01],\n",
       "       [9.15339112e-01, 8.46609175e-02],\n",
       "       [7.61179090e-01, 2.38820866e-01],\n",
       "       [9.11734939e-01, 8.82650092e-02],\n",
       "       [2.04897001e-02, 9.79510427e-01],\n",
       "       [7.04734921e-02, 9.29526508e-01],\n",
       "       [9.56937373e-01, 4.30626310e-02],\n",
       "       [9.90865707e-01, 9.13423859e-03],\n",
       "       [9.94270623e-01, 5.72935538e-03],\n",
       "       [7.88932145e-01, 2.11067826e-01],\n",
       "       [8.59533310e-01, 1.40466705e-01],\n",
       "       [9.26784039e-01, 7.32160583e-02],\n",
       "       [4.61144000e-01, 5.38855970e-01],\n",
       "       [8.27066243e-01, 1.72933847e-01],\n",
       "       [8.05956185e-01, 1.94043770e-01],\n",
       "       [1.42356902e-01, 8.57643068e-01],\n",
       "       [6.65613234e-01, 3.34386826e-01]], dtype=float32)"
      ]
     },
     "execution_count": 23,
     "metadata": {},
     "output_type": "execute_result"
    }
   ],
   "source": [
    "# 'Predict' on test data\n",
    "\n",
    "model.predict(test_data)"
   ]
  },
  {
   "cell_type": "code",
   "execution_count": 24,
   "metadata": {},
   "outputs": [
    {
     "name": "stdout",
     "output_type": "stream",
     "text": [
      "\u001b[1m9/9\u001b[0m \u001b[32m━━━━━━━━━━━━━━━━━━━━\u001b[0m\u001b[37m\u001b[0m \u001b[1m0s\u001b[0m 836us/step\n"
     ]
    },
    {
     "data": {
      "text/plain": [
       "array([0, 0, 0, 1, 1, 0, 1, 1, 1, 1, 0, 1, 0, 1, 1, 1, 0, 0, 0, 1, 0, 1,\n",
       "       0, 0, 1, 1, 0, 1, 1, 0, 0, 1, 0, 0, 0, 0, 0, 0, 0, 1, 0, 0, 0, 0,\n",
       "       1, 0, 0, 1, 0, 0, 0, 1, 1, 0, 0, 0, 0, 0, 0, 0, 0, 1, 1, 1, 1, 0,\n",
       "       1, 0, 1, 1, 1, 0, 1, 0, 0, 1, 0, 1, 0, 0, 0, 1, 1, 1, 0, 1, 1, 1,\n",
       "       1, 0, 0, 0, 1, 1, 0, 0, 1, 0, 1, 0, 0, 0, 0, 0, 1, 1, 1, 0, 0, 1,\n",
       "       0, 1, 0, 1, 0, 1, 1, 1, 0, 1, 0, 0, 0, 1, 0, 0, 0, 0, 0, 1, 1, 0,\n",
       "       0, 1, 0, 0, 0, 1, 0, 0, 0, 1, 0, 1, 1, 1, 0, 1, 1, 0, 0, 1, 1, 0,\n",
       "       1, 0, 1, 0, 1, 1, 0, 0, 1, 1, 0, 0, 0, 0, 0, 0, 0, 1, 0, 0, 1, 0,\n",
       "       1, 0, 0, 1, 0, 0, 0, 0, 1, 0, 1, 0, 0, 1, 1, 0, 1, 1, 0, 0, 0, 1,\n",
       "       1, 0, 0, 1, 0, 1, 0, 0, 1, 0, 1, 0, 0, 1, 0, 1, 0, 0, 0, 1, 0, 1,\n",
       "       0, 1, 1, 0, 0, 0, 0, 1, 0, 0, 0, 1, 1, 1, 0, 0, 1, 1, 1, 0, 0, 1,\n",
       "       0, 0, 1, 1, 1, 0, 0, 1, 0, 0, 0, 0, 0, 1, 1, 0, 0, 0, 0, 0, 0, 1,\n",
       "       0, 0, 1, 0])"
      ]
     },
     "execution_count": 24,
     "metadata": {},
     "output_type": "execute_result"
    }
   ],
   "source": [
    "np.argmax(model.predict(test_data), axis=1)"
   ]
  },
  {
   "cell_type": "code",
   "execution_count": 25,
   "metadata": {},
   "outputs": [],
   "source": [
    "sample_data = np.array([[3, 0, 0.0, 0.0, 1, 1, 2.0, 0]])"
   ]
  },
  {
   "cell_type": "code",
   "execution_count": 26,
   "metadata": {},
   "outputs": [
    {
     "name": "stdout",
     "output_type": "stream",
     "text": [
      "\u001b[1m1/1\u001b[0m \u001b[32m━━━━━━━━━━━━━━━━━━━━\u001b[0m\u001b[37m\u001b[0m \u001b[1m0s\u001b[0m 11ms/step\n"
     ]
    },
    {
     "data": {
      "text/plain": [
       "array([[0.85267186, 0.14732808]], dtype=float32)"
      ]
     },
     "execution_count": 26,
     "metadata": {},
     "output_type": "execute_result"
    }
   ],
   "source": [
    "model.predict(sample_data)"
   ]
  },
  {
   "cell_type": "code",
   "execution_count": 27,
   "metadata": {},
   "outputs": [
    {
     "name": "stdout",
     "output_type": "stream",
     "text": [
      "\u001b[1m1/1\u001b[0m \u001b[32m━━━━━━━━━━━━━━━━━━━━\u001b[0m\u001b[37m\u001b[0m \u001b[1m0s\u001b[0m 9ms/step\n"
     ]
    },
    {
     "data": {
      "text/plain": [
       "array([0])"
      ]
     },
     "execution_count": 27,
     "metadata": {},
     "output_type": "execute_result"
    }
   ],
   "source": [
    "np.argmax(model.predict(sample_data), axis=1)"
   ]
  },
  {
   "cell_type": "code",
   "execution_count": null,
   "metadata": {},
   "outputs": [],
   "source": []
  }
 ],
 "metadata": {
  "kernel_info": {
   "name": "python3"
  },
  "kernelspec": {
   "display_name": "Python 3",
   "language": "python",
   "name": "python3"
  },
  "language_info": {
   "codemirror_mode": {
    "name": "ipython",
    "version": 3
   },
   "file_extension": ".py",
   "mimetype": "text/x-python",
   "name": "python",
   "nbconvert_exporter": "python",
   "pygments_lexer": "ipython3",
   "version": "3.9.19"
  },
  "nteract": {
   "version": "0.15.0"
  }
 },
 "nbformat": 4,
 "nbformat_minor": 2
}
