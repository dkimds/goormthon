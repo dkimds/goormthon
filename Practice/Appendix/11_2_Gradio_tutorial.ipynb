{
  "cells": [
    {
      "cell_type": "markdown",
      "metadata": {
        "id": "view-in-github",
        "colab_type": "text"
      },
      "source": [
        "<a href=\"https://colab.research.google.com/github/dkimds/goormthon/blob/main/Practice/Appendix/11_2_Gradio_tutorial.ipynb\" target=\"_parent\"><img src=\"https://colab.research.google.com/assets/colab-badge.svg\" alt=\"Open In Colab\"/></a>"
      ]
    },
    {
      "cell_type": "markdown",
      "id": "c0eda7a7",
      "metadata": {
        "id": "c0eda7a7"
      },
      "source": [
        "<br>\n",
        "\n",
        "### 0. Install & import the library"
      ]
    },
    {
      "cell_type": "code",
      "execution_count": null,
      "id": "34982ff6",
      "metadata": {
        "id": "34982ff6"
      },
      "outputs": [],
      "source": [
        "!pip install gradio==3.12.0"
      ]
    },
    {
      "cell_type": "code",
      "execution_count": null,
      "id": "dbb23b61",
      "metadata": {
        "id": "dbb23b61"
      },
      "outputs": [],
      "source": [
        "import ? as gr\n",
        "\n",
        "gr.__version__"
      ]
    },
    {
      "cell_type": "markdown",
      "id": "63b3ef51",
      "metadata": {
        "id": "63b3ef51"
      },
      "source": [
        "<br>\n",
        "\n",
        "### 1. Basic usage"
      ]
    },
    {
      "cell_type": "code",
      "execution_count": null,
      "id": "336252f9",
      "metadata": {
        "id": "336252f9"
      },
      "outputs": [],
      "source": [
        "def say_hello(user_name):\n",
        "\n",
        "    return \"Hello {}! Nice to meet you!\".format(user_name)"
      ]
    },
    {
      "cell_type": "code",
      "execution_count": null,
      "id": "c54f687b",
      "metadata": {
        "scrolled": true,
        "id": "c54f687b"
      },
      "outputs": [],
      "source": [
        "# gr.Interface(fn, inputs, outputs)\n",
        "\n",
        "app = gr.?(fn=?,\n",
        "                   ?=\"text\",\n",
        "                   ?=\"text\")\n",
        "\n",
        "# Launch the gradio app\n",
        "app.?()"
      ]
    },
    {
      "cell_type": "markdown",
      "id": "8b655967",
      "metadata": {
        "id": "8b655967"
      },
      "source": [
        "<br>\n",
        "\n",
        "### 2. Multiple inputs & Gradio components\n",
        "\n",
        "<br>\n",
        "\n",
        "- **Components** (pre-built components that can be used as inputs or outputs) @ https://gradio.app/docs/#components\n",
        "<br>\n",
        "\n",
        "- gr.Interface @ https://gradio.app/docs/#interface\n",
        "- gr.Slider @ https://gradio.app/docs/#slider\n",
        "- gr.Image @ https://gradio.app/docs/#image\n",
        "- gr.Label @ https://gradio.app/docs/#label\n",
        "- gr.Number @ https://gradio.app/docs/#number\n"
      ]
    },
    {
      "cell_type": "code",
      "execution_count": null,
      "id": "907b67a4",
      "metadata": {
        "scrolled": true,
        "id": "907b67a4"
      },
      "outputs": [],
      "source": [
        "def return_area(year, square_meter):\n",
        "\n",
        "    result = \"{}년 기준 [ {} ] 제곱미터는 약 [ {} ] 평입니다.\".format(year, square_meter, round(square_meter / 3.30579, 2))\n",
        "\n",
        "    return result\n",
        "\n",
        "\n",
        "app = gr.Interface(fn=?,\n",
        "                   ?=[\"text\", gr.?(0, 200)], # gr.Slider @ https://gradio.app/docs/#slider\n",
        "                   ?=\"text\")\n",
        "\n",
        "app.launch()"
      ]
    },
    {
      "cell_type": "markdown",
      "id": "536c2fe6",
      "metadata": {
        "id": "536c2fe6"
      },
      "source": [
        "<br>\n",
        "\n",
        "### 3. Load the pre-trained model to use within Gradio"
      ]
    },
    {
      "cell_type": "code",
      "execution_count": null,
      "id": "50771f23",
      "metadata": {
        "id": "50771f23"
      },
      "outputs": [],
      "source": [
        "import pickle\n",
        "import joblib\n",
        "from sklearn import datasets, model_selection, metrics, svm"
      ]
    },
    {
      "cell_type": "code",
      "execution_count": null,
      "id": "75a9c34c",
      "metadata": {
        "id": "75a9c34c"
      },
      "outputs": [],
      "source": [
        "iris = datasets.load_iris()\n",
        "train_x, test_x, train_y, test_y = model_selection.train_test_split(iris.data, iris.target, test_size=0.3, random_state=0)\n",
        "\n",
        "model = svm.SVC(C=1.0, gamma='auto')\n",
        "model.fit(train_x, train_y)\n",
        "\n",
        "predicted_y = model.predict(test_x)\n",
        "print(metrics.accuracy_score(predicted_y, test_y))"
      ]
    },
    {
      "cell_type": "code",
      "execution_count": null,
      "id": "5b458d63",
      "metadata": {
        "id": "5b458d63"
      },
      "outputs": [],
      "source": [
        "joblib.dump(model, 'model_iris_svm_v1.pkl', compress=True)"
      ]
    },
    {
      "cell_type": "code",
      "execution_count": null,
      "id": "2b89e3ff",
      "metadata": {
        "id": "2b89e3ff"
      },
      "outputs": [],
      "source": [
        "def make_prediction(sepal_length,\n",
        "                    sepal_width,\n",
        "                    petal_length,\n",
        "                    petal_width):\n",
        "\n",
        "    model_loaded = joblib.load('model_iris_svm_v1.pkl')\n",
        "\n",
        "    predicted_class_num = model_loaded.predict([[ sepal_length, sepal_width, petal_length, petal_width]])[0]\n",
        "    predicted_class = ['Setosa', 'Versicolour', 'Virginica'][predicted_class_num]\n",
        "\n",
        "    return predicted_class"
      ]
    },
    {
      "cell_type": "code",
      "execution_count": null,
      "id": "80aafc02",
      "metadata": {
        "id": "80aafc02"
      },
      "outputs": [],
      "source": [
        "sepal_length = gr.Slider(0.0, 10.0, step=0.1, label=\"Enter the value of sepal-length\")\n",
        "sepal_width  = gr.Slider(0.0, 10.0, step=0.1, label=\"Enter the value of sepal-width\")\n",
        "petal_length = gr.Slider(0.0, 10.0, step=0.1, label=\"Enter the value of petal-length\")\n",
        "petal_width  = gr.Slider(0.0, 10.0, step=0.1, label=\"Enter the value of petal-width\")\n",
        "\n",
        "output = gr.?() # text-box\n",
        "\n",
        "app = gr.?(fn=?,\n",
        "                   ?=[sepal_length, sepal_width, petal_length, petal_width],\n",
        "                   ?=output)\n",
        "\n",
        "app.?() # debug=True"
      ]
    },
    {
      "cell_type": "code",
      "execution_count": null,
      "id": "bfa7c7bf",
      "metadata": {
        "id": "bfa7c7bf"
      },
      "outputs": [],
      "source": []
    }
  ],
  "metadata": {
    "kernelspec": {
      "display_name": "Python 3",
      "language": "python",
      "name": "python3"
    },
    "language_info": {
      "codemirror_mode": {
        "name": "ipython",
        "version": 3
      },
      "file_extension": ".py",
      "mimetype": "text/x-python",
      "name": "python",
      "nbconvert_exporter": "python",
      "pygments_lexer": "ipython3",
      "version": "3.8.8"
    },
    "colab": {
      "provenance": [],
      "include_colab_link": true
    }
  },
  "nbformat": 4,
  "nbformat_minor": 5
}