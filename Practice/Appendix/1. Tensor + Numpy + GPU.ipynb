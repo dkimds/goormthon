{
 "cells": [
  {
   "cell_type": "markdown",
   "id": "16a64a24",
   "metadata": {
    "id": "16a64a24"
   },
   "source": [
    "<br>\n",
    "<br>\n",
    "\n",
    "### (Official) Installation guide @ https://pytorch.org/get-started/locally/"
   ]
  },
  {
   "cell_type": "code",
   "execution_count": 20,
   "id": "95aedce1",
   "metadata": {
    "id": "95aedce1"
   },
   "outputs": [
    {
     "name": "stdout",
     "output_type": "stream",
     "text": [
      "Requirement already satisfied: torch in /opt/anaconda3/envs/goormthon/lib/python3.9/site-packages (1.10.2)\n",
      "Collecting torch\n",
      "  Downloading torch-2.3.1-cp39-none-macosx_11_0_arm64.whl.metadata (26 kB)\n",
      "Collecting filelock (from torch)\n",
      "  Downloading filelock-3.15.4-py3-none-any.whl.metadata (2.9 kB)\n",
      "Requirement already satisfied: typing-extensions>=4.8.0 in /opt/anaconda3/envs/goormthon/lib/python3.9/site-packages (from torch) (4.12.2)\n",
      "Collecting sympy (from torch)\n",
      "  Using cached sympy-1.12.1-py3-none-any.whl.metadata (12 kB)\n",
      "Collecting networkx (from torch)\n",
      "  Downloading networkx-3.2.1-py3-none-any.whl.metadata (5.2 kB)\n",
      "Collecting jinja2 (from torch)\n",
      "  Using cached jinja2-3.1.4-py3-none-any.whl.metadata (2.6 kB)\n",
      "Collecting fsspec (from torch)\n",
      "  Downloading fsspec-2024.6.1-py3-none-any.whl.metadata (11 kB)\n",
      "Requirement already satisfied: MarkupSafe>=2.0 in /opt/anaconda3/envs/goormthon/lib/python3.9/site-packages (from jinja2->torch) (2.1.5)\n",
      "Collecting mpmath<1.4.0,>=1.1.0 (from sympy->torch)\n",
      "  Using cached mpmath-1.3.0-py3-none-any.whl.metadata (8.6 kB)\n",
      "Downloading torch-2.3.1-cp39-none-macosx_11_0_arm64.whl (61.0 MB)\n",
      "\u001b[2K   \u001b[90m━━━━━━━━━━━━━━━━━━━━━━━━━━━━━━━━━━━━━━━━\u001b[0m \u001b[32m61.0/61.0 MB\u001b[0m \u001b[31m11.2 MB/s\u001b[0m eta \u001b[36m0:00:00\u001b[0m00:01\u001b[0m00:01\u001b[0m\n",
      "\u001b[?25hDownloading filelock-3.15.4-py3-none-any.whl (16 kB)\n",
      "Downloading fsspec-2024.6.1-py3-none-any.whl (177 kB)\n",
      "\u001b[2K   \u001b[90m━━━━━━━━━━━━━━━━━━━━━━━━━━━━━━━━━━━━━━━━\u001b[0m \u001b[32m177.6/177.6 kB\u001b[0m \u001b[31m9.0 MB/s\u001b[0m eta \u001b[36m0:00:00\u001b[0m\n",
      "\u001b[?25hUsing cached jinja2-3.1.4-py3-none-any.whl (133 kB)\n",
      "Downloading networkx-3.2.1-py3-none-any.whl (1.6 MB)\n",
      "\u001b[2K   \u001b[90m━━━━━━━━━━━━━━━━━━━━━━━━━━━━━━━━━━━━━━━━\u001b[0m \u001b[32m1.6/1.6 MB\u001b[0m \u001b[31m11.0 MB/s\u001b[0m eta \u001b[36m0:00:00\u001b[0ma \u001b[36m0:00:01\u001b[0m\n",
      "\u001b[?25hUsing cached sympy-1.12.1-py3-none-any.whl (5.7 MB)\n",
      "Using cached mpmath-1.3.0-py3-none-any.whl (536 kB)\n",
      "Installing collected packages: mpmath, sympy, networkx, jinja2, fsspec, filelock, torch\n",
      "  Attempting uninstall: torch\n",
      "    Found existing installation: torch 1.10.2\n",
      "    Uninstalling torch-1.10.2:\n",
      "      Successfully uninstalled torch-1.10.2\n",
      "Successfully installed filelock-3.15.4 fsspec-2024.6.1 jinja2-3.1.4 mpmath-1.3.0 networkx-3.2.1 sympy-1.12.1 torch-2.3.1\n",
      "Requirement already satisfied: torchvision in /opt/anaconda3/envs/goormthon/lib/python3.9/site-packages (0.11.3)\n",
      "Collecting torchvision\n",
      "  Downloading torchvision-0.18.1-cp39-cp39-macosx_11_0_arm64.whl.metadata (6.6 kB)\n",
      "Requirement already satisfied: numpy in /opt/anaconda3/envs/goormthon/lib/python3.9/site-packages (from torchvision) (1.26.4)\n",
      "Requirement already satisfied: torch==2.3.1 in /opt/anaconda3/envs/goormthon/lib/python3.9/site-packages (from torchvision) (2.3.1)\n",
      "Requirement already satisfied: pillow!=8.3.*,>=5.3.0 in /opt/anaconda3/envs/goormthon/lib/python3.9/site-packages (from torchvision) (10.4.0)\n",
      "Requirement already satisfied: filelock in /opt/anaconda3/envs/goormthon/lib/python3.9/site-packages (from torch==2.3.1->torchvision) (3.15.4)\n",
      "Requirement already satisfied: typing-extensions>=4.8.0 in /opt/anaconda3/envs/goormthon/lib/python3.9/site-packages (from torch==2.3.1->torchvision) (4.12.2)\n",
      "Requirement already satisfied: sympy in /opt/anaconda3/envs/goormthon/lib/python3.9/site-packages (from torch==2.3.1->torchvision) (1.12.1)\n",
      "Requirement already satisfied: networkx in /opt/anaconda3/envs/goormthon/lib/python3.9/site-packages (from torch==2.3.1->torchvision) (3.2.1)\n",
      "Requirement already satisfied: jinja2 in /opt/anaconda3/envs/goormthon/lib/python3.9/site-packages (from torch==2.3.1->torchvision) (3.1.4)\n",
      "Requirement already satisfied: fsspec in /opt/anaconda3/envs/goormthon/lib/python3.9/site-packages (from torch==2.3.1->torchvision) (2024.6.1)\n",
      "Requirement already satisfied: MarkupSafe>=2.0 in /opt/anaconda3/envs/goormthon/lib/python3.9/site-packages (from jinja2->torch==2.3.1->torchvision) (2.1.5)\n",
      "Requirement already satisfied: mpmath<1.4.0,>=1.1.0 in /opt/anaconda3/envs/goormthon/lib/python3.9/site-packages (from sympy->torch==2.3.1->torchvision) (1.3.0)\n",
      "Downloading torchvision-0.18.1-cp39-cp39-macosx_11_0_arm64.whl (1.6 MB)\n",
      "\u001b[2K   \u001b[90m━━━━━━━━━━━━━━━━━━━━━━━━━━━━━━━━━━━━━━━━\u001b[0m \u001b[32m1.6/1.6 MB\u001b[0m \u001b[31m10.8 MB/s\u001b[0m eta \u001b[36m0:00:00\u001b[0ma \u001b[36m0:00:01\u001b[0m\n",
      "\u001b[?25hInstalling collected packages: torchvision\n",
      "  Attempting uninstall: torchvision\n",
      "    Found existing installation: torchvision 0.11.3\n",
      "    Uninstalling torchvision-0.11.3:\n",
      "      Successfully uninstalled torchvision-0.11.3\n",
      "Successfully installed torchvision-0.18.1\n",
      "Requirement already satisfied: torchaudio in /opt/anaconda3/envs/goormthon/lib/python3.9/site-packages (0.10.2)\n",
      "Collecting torchaudio\n",
      "  Downloading torchaudio-2.3.1-cp39-cp39-macosx_11_0_arm64.whl.metadata (6.4 kB)\n",
      "Requirement already satisfied: torch==2.3.1 in /opt/anaconda3/envs/goormthon/lib/python3.9/site-packages (from torchaudio) (2.3.1)\n",
      "Requirement already satisfied: filelock in /opt/anaconda3/envs/goormthon/lib/python3.9/site-packages (from torch==2.3.1->torchaudio) (3.15.4)\n",
      "Requirement already satisfied: typing-extensions>=4.8.0 in /opt/anaconda3/envs/goormthon/lib/python3.9/site-packages (from torch==2.3.1->torchaudio) (4.12.2)\n",
      "Requirement already satisfied: sympy in /opt/anaconda3/envs/goormthon/lib/python3.9/site-packages (from torch==2.3.1->torchaudio) (1.12.1)\n",
      "Requirement already satisfied: networkx in /opt/anaconda3/envs/goormthon/lib/python3.9/site-packages (from torch==2.3.1->torchaudio) (3.2.1)\n",
      "Requirement already satisfied: jinja2 in /opt/anaconda3/envs/goormthon/lib/python3.9/site-packages (from torch==2.3.1->torchaudio) (3.1.4)\n",
      "Requirement already satisfied: fsspec in /opt/anaconda3/envs/goormthon/lib/python3.9/site-packages (from torch==2.3.1->torchaudio) (2024.6.1)\n",
      "Requirement already satisfied: MarkupSafe>=2.0 in /opt/anaconda3/envs/goormthon/lib/python3.9/site-packages (from jinja2->torch==2.3.1->torchaudio) (2.1.5)\n",
      "Requirement already satisfied: mpmath<1.4.0,>=1.1.0 in /opt/anaconda3/envs/goormthon/lib/python3.9/site-packages (from sympy->torch==2.3.1->torchaudio) (1.3.0)\n",
      "Downloading torchaudio-2.3.1-cp39-cp39-macosx_11_0_arm64.whl (1.8 MB)\n",
      "\u001b[2K   \u001b[90m━━━━━━━━━━━━━━━━━━━━━━━━━━━━━━━━━━━━━━━━\u001b[0m \u001b[32m1.8/1.8 MB\u001b[0m \u001b[31m7.5 MB/s\u001b[0m eta \u001b[36m0:00:00\u001b[0ma \u001b[36m0:00:01\u001b[0m\n",
      "\u001b[?25hInstalling collected packages: torchaudio\n",
      "  Attempting uninstall: torchaudio\n",
      "    Found existing installation: torchaudio 0.10.2\n",
      "    Uninstalling torchaudio-0.10.2:\n",
      "      Successfully uninstalled torchaudio-0.10.2\n",
      "Successfully installed torchaudio-2.3.1\n"
     ]
    }
   ],
   "source": [
    "!pip install torch --upgrade\n",
    "!pip install torchvision --upgrade\n",
    "!pip install torchaudio --upgrade\n",
    "\n",
    "# \"액세스가 거부되었습니다\" 에러가 발생하거나 정상적으로 설치가 진행되지 않을 경우,\n",
    "# cmd(명령프롬프트) 우클릭 & 관리자권한으로 실행 후,\n",
    "# 느낌표를 제외한 명령어를 1줄씩 입력 & 실행하여 설치를 진행합니다."
   ]
  },
  {
   "cell_type": "code",
   "execution_count": 1,
   "id": "6086652a",
   "metadata": {
    "id": "6086652a",
    "outputId": "317c5381-1adf-42be-affc-e36b29d0217d"
   },
   "outputs": [
    {
     "name": "stdout",
     "output_type": "stream",
     "text": [
      "2.3.1\n",
      "0.18.1\n",
      "2.3.1\n"
     ]
    }
   ],
   "source": [
    "import torch, torchvision, torchaudio\n",
    "\n",
    "print(torch.__version__)\n",
    "print(torchvision.__version__)\n",
    "print(torchaudio.__version__)"
   ]
  },
  {
   "cell_type": "code",
   "execution_count": 3,
   "id": "ce8ca0d7",
   "metadata": {},
   "outputs": [
    {
     "name": "stdout",
     "output_type": "stream",
     "text": [
      "MPS 장치를 지원하도록 build 되었는지: True\n",
      "MPS 장치가 사용 가능한지: True\n"
     ]
    }
   ],
   "source": [
    "print(f\"MPS 장치를 지원하도록 build 되었는지: {torch.backends.mps.is_built()}\") # True 여야 합니다.\n",
    "print(f\"MPS 장치가 사용 가능한지: {torch.backends.mps.is_available()}\") # True 여야 합니다.\n"
   ]
  },
  {
   "cell_type": "code",
   "execution_count": 44,
   "id": "4ee7978c",
   "metadata": {},
   "outputs": [
    {
     "name": "stdout",
     "output_type": "stream",
     "text": [
      "device: mps\n"
     ]
    }
   ],
   "source": [
    "device = torch.device('mps' if torch.backends.mps.is_available() else 'cpu')\n",
    "print(f\"device: {device}\")"
   ]
  },
  {
   "cell_type": "code",
   "execution_count": 4,
   "id": "55f2c176",
   "metadata": {},
   "outputs": [
    {
     "name": "stdout",
     "output_type": "stream",
     "text": [
      "macOS-14.5-arm64-arm-64bit\n"
     ]
    }
   ],
   "source": [
    "!python -c 'import platform;print(platform.platform())'"
   ]
  },
  {
   "cell_type": "markdown",
   "id": "343b867e",
   "metadata": {
    "id": "343b867e"
   },
   "source": [
    "<br>\n",
    "<br>\n",
    "\n",
    "# 1. Tensors\n",
    "<br>\n",
    "\n",
    "- (Official) **torch.Tensor** @ https://pytorch.org/docs/stable/tensors.html"
   ]
  },
  {
   "cell_type": "code",
   "execution_count": null,
   "id": "85aca836",
   "metadata": {},
   "outputs": [],
   "source": [
    "import torch"
   ]
  },
  {
   "cell_type": "markdown",
   "id": "472e9e15",
   "metadata": {
    "id": "472e9e15"
   },
   "source": [
    "<br>\n",
    "<br>\n",
    "\n",
    "### 1) **Scalar** == a single number == a zero dimension tensor\n",
    "\n",
    "<br>\n",
    "\n",
    "#### \\+ ndim / shape / dtype / device\n",
    "#### \\+ item() / type()"
   ]
  },
  {
   "cell_type": "code",
   "execution_count": 5,
   "id": "52a8b8e5",
   "metadata": {
    "id": "52a8b8e5",
    "outputId": "9cc2572e-bccf-47ce-9edf-fab5dbd63295"
   },
   "outputs": [
    {
     "data": {
      "text/plain": [
       "tensor(3)"
      ]
     },
     "execution_count": 5,
     "metadata": {},
     "output_type": "execute_result"
    }
   ],
   "source": [
    "scalar = torch.tensor(3) # tensor 자료형 변수 만들기\n",
    "\n",
    "scalar"
   ]
  },
  {
   "cell_type": "code",
   "execution_count": 6,
   "id": "4633c7cf",
   "metadata": {
    "id": "4633c7cf",
    "outputId": "4779dd72-a3ad-48e0-f735-a8d7cabbc946"
   },
   "outputs": [
    {
     "data": {
      "text/plain": [
       "0"
      ]
     },
     "execution_count": 6,
     "metadata": {},
     "output_type": "execute_result"
    }
   ],
   "source": [
    "scalar.ndim # 차원 갯수 체크 (Number of Dimension)"
   ]
  },
  {
   "cell_type": "code",
   "execution_count": 7,
   "id": "ba824de0",
   "metadata": {
    "id": "ba824de0",
    "outputId": "91f52990-07af-4c01-e411-c70b54621aa7"
   },
   "outputs": [
    {
     "data": {
      "text/plain": [
       "torch.Size([])"
      ]
     },
     "execution_count": 7,
     "metadata": {},
     "output_type": "execute_result"
    }
   ],
   "source": [
    "scalar.shape # 각 차원별 데이터 수 체크 (== np.ndarray.shape)"
   ]
  },
  {
   "cell_type": "code",
   "execution_count": 8,
   "id": "e6748756",
   "metadata": {
    "id": "e6748756",
    "outputId": "95d126ad-fe6c-4f2d-f1ee-9f37ec5ab462"
   },
   "outputs": [
    {
     "data": {
      "text/plain": [
       "torch.int64"
      ]
     },
     "execution_count": 8,
     "metadata": {},
     "output_type": "execute_result"
    }
   ],
   "source": [
    "scalar.dtype # 데이터 타입 체크 "
   ]
  },
  {
   "cell_type": "code",
   "execution_count": 63,
   "id": "928e5d89",
   "metadata": {
    "id": "928e5d89",
    "outputId": "b74c5679-45a8-4acc-edc6-001de131da6c"
   },
   "outputs": [
    {
     "data": {
      "text/plain": [
       "device(type='cpu')"
      ]
     },
     "execution_count": 63,
     "metadata": {},
     "output_type": "execute_result"
    }
   ],
   "source": [
    "scalar.device # tensor 변수가 현재 할당된 장치(device) 체크"
   ]
  },
  {
   "cell_type": "code",
   "execution_count": 8,
   "id": "7254dd9a",
   "metadata": {
    "id": "7254dd9a",
    "outputId": "7650a5ed-a91f-4c1a-ee6e-2f740b6c7b93"
   },
   "outputs": [
    {
     "data": {
      "text/plain": [
       "3"
      ]
     },
     "execution_count": 8,
     "metadata": {},
     "output_type": "execute_result"
    }
   ],
   "source": [
    "scalar.item() # tensor 변수 내부의 값(item) 꺼내기 <- only works with one-element tensors"
   ]
  },
  {
   "cell_type": "code",
   "execution_count": 9,
   "id": "8709f332",
   "metadata": {
    "id": "8709f332",
    "outputId": "f1024bcf-b4fd-4266-d1a4-fb919388fe66"
   },
   "outputs": [
    {
     "data": {
      "text/plain": [
       "3.0"
      ]
     },
     "execution_count": 9,
     "metadata": {},
     "output_type": "execute_result"
    }
   ],
   "source": [
    "# Type-casting\n",
    "\n",
    "scalar.type(torch.float16).item() # 자료형 변환 (type 함수 활용)"
   ]
  },
  {
   "cell_type": "markdown",
   "id": "882d1607",
   "metadata": {
    "id": "882d1607"
   },
   "source": [
    "<br>\n",
    "<br>\n",
    "\n",
    "### 2) **vector** == an array == a single dimension tensor"
   ]
  },
  {
   "cell_type": "code",
   "execution_count": 13,
   "id": "de26c442",
   "metadata": {
    "id": "de26c442",
    "outputId": "0c8e815e-48f1-4ccb-9e04-075e72c85921"
   },
   "outputs": [
    {
     "data": {
      "text/plain": [
       "tensor([1, 2, 3])"
      ]
     },
     "execution_count": 13,
     "metadata": {},
     "output_type": "execute_result"
    }
   ],
   "source": [
    "vector = torch.tensor([1, 2, 3])\n",
    "\n",
    "vector"
   ]
  },
  {
   "cell_type": "code",
   "execution_count": 14,
   "id": "620a3a6a",
   "metadata": {
    "id": "620a3a6a",
    "outputId": "8da48cce-63ad-43fc-f88b-2cfbb912be78"
   },
   "outputs": [
    {
     "data": {
      "text/plain": [
       "1"
      ]
     },
     "execution_count": 14,
     "metadata": {},
     "output_type": "execute_result"
    }
   ],
   "source": [
    "vector.ndim # 1차원 벡터"
   ]
  },
  {
   "cell_type": "code",
   "execution_count": 15,
   "id": "44c16f3d",
   "metadata": {
    "id": "44c16f3d",
    "outputId": "5b7658c2-bc14-43f5-ac1c-88c79b68cfb0"
   },
   "outputs": [
    {
     "data": {
      "text/plain": [
       "torch.Size([3])"
      ]
     },
     "execution_count": 15,
     "metadata": {},
     "output_type": "execute_result"
    }
   ],
   "source": [
    "vector.shape # == np.ndarray.shape"
   ]
  },
  {
   "cell_type": "code",
   "execution_count": 17,
   "id": "184a472c",
   "metadata": {
    "id": "184a472c",
    "outputId": "ebb51574-6caf-45f7-9039-36c54f8d6c0a"
   },
   "outputs": [
    {
     "ename": "RuntimeError",
     "evalue": "a Tensor with 3 elements cannot be converted to Scalar",
     "output_type": "error",
     "traceback": [
      "\u001b[0;31m---------------------------------------------------------------------------\u001b[0m",
      "\u001b[0;31mRuntimeError\u001b[0m                              Traceback (most recent call last)",
      "Cell \u001b[0;32mIn[17], line 1\u001b[0m\n\u001b[0;32m----> 1\u001b[0m \u001b[43mvector\u001b[49m\u001b[38;5;241;43m.\u001b[39;49m\u001b[43mitem\u001b[49m\u001b[43m(\u001b[49m\u001b[43m)\u001b[49m\n",
      "\u001b[0;31mRuntimeError\u001b[0m: a Tensor with 3 elements cannot be converted to Scalar"
     ]
    }
   ],
   "source": [
    "vector.item()"
   ]
  },
  {
   "cell_type": "code",
   "execution_count": 18,
   "id": "59b46ef8",
   "metadata": {
    "id": "59b46ef8",
    "outputId": "547bb61b-516e-4911-c6ab-749283d90e24"
   },
   "outputs": [
    {
     "data": {
      "text/plain": [
       "3"
      ]
     },
     "execution_count": 18,
     "metadata": {},
     "output_type": "execute_result"
    }
   ],
   "source": [
    "vector[2].item() # index 번호로 scalar tensor 꺼낸 후 값(item) 꺼내기"
   ]
  },
  {
   "cell_type": "markdown",
   "id": "57110991",
   "metadata": {
    "id": "57110991"
   },
   "source": [
    "<br>\n",
    "<br>\n",
    "\n",
    "### 3) **matrix** == a multiple dimension tensor"
   ]
  },
  {
   "cell_type": "code",
   "execution_count": 19,
   "id": "080aa168",
   "metadata": {
    "id": "080aa168",
    "outputId": "b191cd32-cc8b-4374-97ec-f1c9134a611e"
   },
   "outputs": [
    {
     "data": {
      "text/plain": [
       "tensor([[1, 2, 3],\n",
       "        [4, 5, 6]])"
      ]
     },
     "execution_count": 19,
     "metadata": {},
     "output_type": "execute_result"
    }
   ],
   "source": [
    "matrix = torch.tensor([[1, 2, 3], \n",
    "                       [4, 5, 6]])\n",
    "matrix"
   ]
  },
  {
   "cell_type": "code",
   "execution_count": 20,
   "id": "51d9dbdf",
   "metadata": {
    "id": "51d9dbdf",
    "outputId": "037718d3-e7ce-47a6-92a8-655b7c2828ae"
   },
   "outputs": [
    {
     "data": {
      "text/plain": [
       "2"
      ]
     },
     "execution_count": 20,
     "metadata": {},
     "output_type": "execute_result"
    }
   ],
   "source": [
    "matrix.ndim # 2차원 행렬"
   ]
  },
  {
   "cell_type": "code",
   "execution_count": 21,
   "id": "83393ba2",
   "metadata": {
    "id": "83393ba2",
    "outputId": "cc2b02ce-3c3b-4e0b-b622-395cd9e36f8e"
   },
   "outputs": [
    {
     "data": {
      "text/plain": [
       "torch.Size([2, 3])"
      ]
     },
     "execution_count": 21,
     "metadata": {},
     "output_type": "execute_result"
    }
   ],
   "source": [
    "matrix.shape # == np.ndarray.shape"
   ]
  },
  {
   "cell_type": "code",
   "execution_count": 22,
   "id": "20101c38",
   "metadata": {
    "id": "20101c38",
    "outputId": "c31309c7-6ee9-4818-bf53-c281089da18c"
   },
   "outputs": [
    {
     "data": {
      "text/plain": [
       "6"
      ]
     },
     "execution_count": 22,
     "metadata": {},
     "output_type": "execute_result"
    }
   ],
   "source": [
    "matrix[1, 2].item() # indexing "
   ]
  },
  {
   "cell_type": "markdown",
   "id": "c69fb87a",
   "metadata": {
    "id": "c69fb87a"
   },
   "source": [
    "<br>\n",
    "<br>\n",
    "\n",
    "### 4) random / zeros / ones / arange"
   ]
  },
  {
   "cell_type": "code",
   "execution_count": 23,
   "id": "3f0c3c0d",
   "metadata": {
    "id": "3f0c3c0d",
    "outputId": "6154c710-73d6-470d-cc58-ce629f10ee84"
   },
   "outputs": [
    {
     "data": {
      "text/plain": [
       "tensor([[0.8115, 0.0051, 0.2005],\n",
       "        [0.6543, 0.9867, 0.3853]])"
      ]
     },
     "execution_count": 23,
     "metadata": {},
     "output_type": "execute_result"
    }
   ],
   "source": [
    "random_tensor = torch.rand(size=(2, 3)) # 랜덤 값들로 채워진 텐서 생성\n",
    "\n",
    "random_tensor"
   ]
  },
  {
   "cell_type": "code",
   "execution_count": 24,
   "id": "bfa94b92",
   "metadata": {
    "id": "bfa94b92",
    "outputId": "f3345b6e-172b-4d97-c627-5e89a15be911"
   },
   "outputs": [
    {
     "data": {
      "text/plain": [
       "torch.float32"
      ]
     },
     "execution_count": 24,
     "metadata": {},
     "output_type": "execute_result"
    }
   ],
   "source": [
    "random_tensor.dtype"
   ]
  },
  {
   "cell_type": "code",
   "execution_count": 25,
   "id": "575d84a6",
   "metadata": {
    "id": "575d84a6",
    "outputId": "ab24ce01-535f-4efd-d0bb-ded0183e6f48"
   },
   "outputs": [
    {
     "data": {
      "text/plain": [
       "tensor([[0.4077, 0.7573, 0.2139],\n",
       "        [0.8613, 0.7832, 0.3706]], dtype=torch.float16)"
      ]
     },
     "execution_count": 25,
     "metadata": {},
     "output_type": "execute_result"
    }
   ],
   "source": [
    "random_tensor = torch.rand(size=(2, 3), dtype=torch.float16)\n",
    "\n",
    "random_tensor"
   ]
  },
  {
   "cell_type": "code",
   "execution_count": 26,
   "id": "06d9c234",
   "metadata": {
    "id": "06d9c234",
    "outputId": "7c95faa5-75c7-4e90-adfe-6b0babaef48e"
   },
   "outputs": [
    {
     "data": {
      "text/plain": [
       "torch.float16"
      ]
     },
     "execution_count": 26,
     "metadata": {},
     "output_type": "execute_result"
    }
   ],
   "source": [
    "random_tensor.dtype"
   ]
  },
  {
   "cell_type": "code",
   "execution_count": 27,
   "id": "5e77ed17",
   "metadata": {
    "id": "5e77ed17",
    "outputId": "c2cda6e8-46ff-457e-fec0-fba2a13f9929"
   },
   "outputs": [
    {
     "data": {
      "text/plain": [
       "torch.Size([2, 3])"
      ]
     },
     "execution_count": 27,
     "metadata": {},
     "output_type": "execute_result"
    }
   ],
   "source": [
    "random_tensor.shape # 각 차원별 데이터 수 체크 (== np.ndarray.shape)"
   ]
  },
  {
   "cell_type": "code",
   "execution_count": 28,
   "id": "6858ff88",
   "metadata": {
    "id": "6858ff88",
    "outputId": "09a119cb-8757-4aa0-849b-04c50949b0dc"
   },
   "outputs": [
    {
     "data": {
      "text/plain": [
       "tensor([[0., 0., 0.],\n",
       "        [0., 0., 0.]])"
      ]
     },
     "execution_count": 28,
     "metadata": {},
     "output_type": "execute_result"
    }
   ],
   "source": [
    "zeros = torch.zeros(size=(2, 3))\n",
    "\n",
    "zeros"
   ]
  },
  {
   "cell_type": "code",
   "execution_count": 29,
   "id": "d4f0200e",
   "metadata": {
    "id": "d4f0200e",
    "outputId": "7c651402-696a-493e-e6c3-411a10b846b7"
   },
   "outputs": [
    {
     "data": {
      "text/plain": [
       "tensor([[1., 1., 1.],\n",
       "        [1., 1., 1.]])"
      ]
     },
     "execution_count": 29,
     "metadata": {},
     "output_type": "execute_result"
    }
   ],
   "source": [
    "ones = torch.ones(size=(2, 3))\n",
    "\n",
    "ones"
   ]
  },
  {
   "cell_type": "code",
   "execution_count": 30,
   "id": "2214cde2",
   "metadata": {
    "id": "2214cde2",
    "outputId": "4c1a57f2-12dd-46de-decd-7cfcf89edb91"
   },
   "outputs": [
    {
     "data": {
      "text/plain": [
       "tensor([ 3,  5,  7,  9, 11, 13])"
      ]
     },
     "execution_count": 30,
     "metadata": {},
     "output_type": "execute_result"
    }
   ],
   "source": [
    "arange = torch.arange(3, 15, 2) # array of range\n",
    "\n",
    "arange"
   ]
  },
  {
   "cell_type": "code",
   "execution_count": 31,
   "id": "a3ad48fd",
   "metadata": {
    "id": "a3ad48fd",
    "outputId": "7fc9beec-d96b-42d8-8db3-799a632867e9"
   },
   "outputs": [
    {
     "data": {
      "text/plain": [
       "tensor([0, 0, 0, 0, 0, 0])"
      ]
     },
     "execution_count": 31,
     "metadata": {},
     "output_type": "execute_result"
    }
   ],
   "source": [
    "zeros_like = torch.zeros_like(arange)\n",
    "\n",
    "zeros_like"
   ]
  },
  {
   "cell_type": "markdown",
   "id": "a9540633",
   "metadata": {
    "id": "a9540633"
   },
   "source": [
    "<br>\n",
    "<br>\n",
    "\n",
    "# 2. Tensor operations\n"
   ]
  },
  {
   "cell_type": "markdown",
   "id": "d1dfa47b",
   "metadata": {
    "id": "d1dfa47b"
   },
   "source": [
    "<br>\n",
    "<br>\n",
    "\n",
    "### Descriptive stats / argmax / matrix calculation / reshape"
   ]
  },
  {
   "cell_type": "code",
   "execution_count": 32,
   "id": "b5279b17",
   "metadata": {
    "id": "b5279b17",
    "outputId": "ac675b54-cae2-4f0d-d72b-27d719f7dc5c"
   },
   "outputs": [
    {
     "data": {
      "text/plain": [
       "tensor([[0.7183, 0.5918, 0.7715],\n",
       "        [0.0015, 0.4590, 0.6074]], dtype=torch.float16)"
      ]
     },
     "execution_count": 32,
     "metadata": {},
     "output_type": "execute_result"
    }
   ],
   "source": [
    "random_tensor = torch.rand(size=(2, 3), dtype=torch.float16)\n",
    "\n",
    "random_tensor"
   ]
  },
  {
   "cell_type": "code",
   "execution_count": 33,
   "id": "7c8ba16d",
   "metadata": {
    "id": "7c8ba16d",
    "outputId": "f242500e-e016-4806-a15e-6328a7c7596a"
   },
   "outputs": [
    {
     "name": "stdout",
     "output_type": "stream",
     "text": [
      "0.00146484375\n",
      "0.771484375\n",
      "0.52490234375\n",
      "0.278564453125\n",
      "3.1484375\n"
     ]
    }
   ],
   "source": [
    "print(random_tensor.min().item()) # 최소\n",
    "print(random_tensor.max().item()) # 최대\n",
    "print(random_tensor.mean().item()) # 평균\n",
    "print(random_tensor.std().item()) # 표준편차\n",
    "print(random_tensor.sum().item()) # 합계"
   ]
  },
  {
   "cell_type": "code",
   "execution_count": 34,
   "id": "69160180",
   "metadata": {
    "id": "69160180",
    "outputId": "4a5cddba-634b-4c44-e797-6790c269cb46"
   },
   "outputs": [
    {
     "name": "stdout",
     "output_type": "stream",
     "text": [
      "0.00146484375\n",
      "0.771484375\n",
      "0.52490234375\n",
      "0.278564453125\n",
      "3.1484375\n"
     ]
    }
   ],
   "source": [
    "print(torch.min(random_tensor).item()) # 최소\n",
    "print(torch.max(random_tensor).item()) # 최대\n",
    "print(torch.mean(random_tensor).item()) # 평균\n",
    "print(torch.std(random_tensor).item()) # 표준편차\n",
    "print(torch.sum(random_tensor).item()) # 합계"
   ]
  },
  {
   "cell_type": "code",
   "execution_count": 35,
   "id": "758d2b64",
   "metadata": {
    "id": "758d2b64",
    "outputId": "76c3650d-77a6-4ae0-c8b4-d884e07d6f79"
   },
   "outputs": [
    {
     "data": {
      "text/plain": [
       "tensor([[0.7183, 0.5918, 0.7715],\n",
       "        [0.0015, 0.4590, 0.6074]], dtype=torch.float16)"
      ]
     },
     "execution_count": 35,
     "metadata": {},
     "output_type": "execute_result"
    }
   ],
   "source": [
    "random_tensor"
   ]
  },
  {
   "cell_type": "code",
   "execution_count": 36,
   "id": "4973f623",
   "metadata": {
    "id": "4973f623",
    "outputId": "58ffd81d-51c3-4509-ca77-d9a9ce230aa5"
   },
   "outputs": [
    {
     "data": {
      "text/plain": [
       "tensor([0, 0, 0])"
      ]
     },
     "execution_count": 36,
     "metadata": {},
     "output_type": "execute_result"
    }
   ],
   "source": [
    "random_tensor.argmax(dim=0) # 열 방향으로 가장 큰 값들의 index 번호 확인하기"
   ]
  },
  {
   "cell_type": "code",
   "execution_count": 37,
   "id": "10002d64",
   "metadata": {
    "id": "10002d64",
    "outputId": "374c9456-e8e6-4bfd-824c-3854c497362f"
   },
   "outputs": [
    {
     "data": {
      "text/plain": [
       "tensor([2, 2])"
      ]
     },
     "execution_count": 37,
     "metadata": {},
     "output_type": "execute_result"
    }
   ],
   "source": [
    "random_tensor.argmax(dim=1) # 행 방향으로 가장 큰 값들의 index 번호 확인하기"
   ]
  },
  {
   "cell_type": "code",
   "execution_count": 38,
   "id": "98fe4d87",
   "metadata": {
    "id": "98fe4d87",
    "outputId": "917e9bd6-a784-43cf-8ee4-113e64e0c0e8"
   },
   "outputs": [
    {
     "data": {
      "text/plain": [
       "tensor([1, 2, 3])"
      ]
     },
     "execution_count": 38,
     "metadata": {},
     "output_type": "execute_result"
    }
   ],
   "source": [
    "tensor = torch.tensor([1, 2, 3])\n",
    "\n",
    "tensor"
   ]
  },
  {
   "cell_type": "code",
   "execution_count": 39,
   "id": "cf1f52d1",
   "metadata": {
    "id": "cf1f52d1",
    "outputId": "48190767-5c32-4471-c297-a289e6280675"
   },
   "outputs": [
    {
     "data": {
      "text/plain": [
       "tensor([11, 12, 13])"
      ]
     },
     "execution_count": 39,
     "metadata": {},
     "output_type": "execute_result"
    }
   ],
   "source": [
    "tensor + 10 # numpy-like"
   ]
  },
  {
   "cell_type": "code",
   "execution_count": 40,
   "id": "f58e611b",
   "metadata": {
    "id": "f58e611b",
    "outputId": "bebce3d0-de71-4f85-e40c-085b1acc4c7d"
   },
   "outputs": [
    {
     "data": {
      "text/plain": [
       "tensor([10, 20, 30])"
      ]
     },
     "execution_count": 40,
     "metadata": {},
     "output_type": "execute_result"
    }
   ],
   "source": [
    "tensor * 10 # numpy-like"
   ]
  },
  {
   "cell_type": "code",
   "execution_count": 41,
   "id": "032d0d95",
   "metadata": {
    "id": "032d0d95",
    "outputId": "74210fa7-304f-4082-d1dd-82bc42ae7a8a"
   },
   "outputs": [
    {
     "name": "stdout",
     "output_type": "stream",
     "text": [
      "tensor([10, 20, 30])\n",
      "tensor([10, 20, 30])\n",
      "tensor([10, 20, 30])\n"
     ]
    }
   ],
   "source": [
    "print(tensor * 10)\n",
    "print(torch.mul(tensor, 10))\n",
    "print(torch.multiply(tensor, 10))"
   ]
  },
  {
   "cell_type": "code",
   "execution_count": 42,
   "id": "31c0d776",
   "metadata": {
    "id": "31c0d776",
    "outputId": "4a80c6fe-1b9b-4aad-cfcc-165445502835"
   },
   "outputs": [
    {
     "data": {
      "text/plain": [
       "tensor([[1, 2],\n",
       "        [3, 4]])"
      ]
     },
     "execution_count": 42,
     "metadata": {},
     "output_type": "execute_result"
    }
   ],
   "source": [
    "# Matrix multiplication @ https://www.mathsisfun.com/algebra/matrix-multiplying.html\n",
    "\n",
    "tensor = torch.tensor([[1, 2], [3, 4]])\n",
    "\n",
    "tensor"
   ]
  },
  {
   "cell_type": "code",
   "execution_count": 46,
   "id": "a32eb096",
   "metadata": {
    "id": "a32eb096",
    "outputId": "ad1fd7ae-8972-4180-b614-6084b8496184"
   },
   "outputs": [
    {
     "data": {
      "text/plain": [
       "tensor([[1, 3],\n",
       "        [2, 4]])"
      ]
     },
     "execution_count": 46,
     "metadata": {},
     "output_type": "execute_result"
    }
   ],
   "source": [
    "tensor.T # Transpose"
   ]
  },
  {
   "cell_type": "code",
   "execution_count": 47,
   "id": "99b9c172",
   "metadata": {
    "id": "99b9c172",
    "outputId": "21807e61-5b89-426f-b2e2-3c2d900ee52d"
   },
   "outputs": [
    {
     "data": {
      "text/plain": [
       "tensor([[ 1,  4],\n",
       "        [ 9, 16]])"
      ]
     },
     "execution_count": 47,
     "metadata": {},
     "output_type": "execute_result"
    }
   ],
   "source": [
    "tensor * tensor # Element-wise multiplication"
   ]
  },
  {
   "cell_type": "code",
   "execution_count": 48,
   "id": "2f48f325",
   "metadata": {
    "id": "2f48f325",
    "outputId": "1d219976-eeb5-4368-c904-b855ae4fb6aa"
   },
   "outputs": [
    {
     "data": {
      "text/plain": [
       "tensor([[ 7, 10],\n",
       "        [15, 22]])"
      ]
     },
     "execution_count": 48,
     "metadata": {},
     "output_type": "execute_result"
    }
   ],
   "source": [
    "# Matrix multiplication 1 \n",
    "\n",
    "torch.matmul(tensor, tensor) # Matrix multiplication"
   ]
  },
  {
   "cell_type": "code",
   "execution_count": 49,
   "id": "83621056",
   "metadata": {
    "id": "83621056",
    "outputId": "3fc65ada-cd74-4c95-8dc1-d10dadab7396"
   },
   "outputs": [
    {
     "data": {
      "text/plain": [
       "tensor([[ 7, 10],\n",
       "        [15, 22]])"
      ]
     },
     "execution_count": 49,
     "metadata": {},
     "output_type": "execute_result"
    }
   ],
   "source": [
    "# Matrix multiplication 2\n",
    "\n",
    "torch.mm(tensor, tensor) # \"M\"atrix \"m\"ultiplication"
   ]
  },
  {
   "cell_type": "code",
   "execution_count": 50,
   "id": "d17503e2",
   "metadata": {
    "id": "d17503e2",
    "outputId": "2e7f0e12-0326-4395-b99d-424717f5df5d"
   },
   "outputs": [
    {
     "data": {
      "text/plain": [
       "tensor([[ 7, 10],\n",
       "        [15, 22]])"
      ]
     },
     "execution_count": 50,
     "metadata": {},
     "output_type": "execute_result"
    }
   ],
   "source": [
    "# Matrix multiplication 3\n",
    "\n",
    "tensor @ tensor # 행렬곱 연산자 @"
   ]
  },
  {
   "cell_type": "code",
   "execution_count": 51,
   "id": "af946549",
   "metadata": {
    "id": "af946549",
    "outputId": "5d97644a-edb2-4735-f8df-94f2c0d428c2"
   },
   "outputs": [
    {
     "data": {
      "text/plain": [
       "tensor([[ 1,  2,  3,  4,  5,  6],\n",
       "        [ 7,  8,  9, 10, 11, 12]])"
      ]
     },
     "execution_count": 51,
     "metadata": {},
     "output_type": "execute_result"
    }
   ],
   "source": [
    "tensor = torch.tensor([[1, 2, 3, 4, 5, 6], [7, 8, 9, 10, 11, 12]])\n",
    "# tensor = torch.arange(1, 13).reshape(2, 6)\n",
    "\n",
    "tensor"
   ]
  },
  {
   "cell_type": "code",
   "execution_count": 52,
   "id": "8e45c3b1",
   "metadata": {
    "id": "8e45c3b1",
    "outputId": "3a76b23a-946b-4a15-c506-4fab788f80c0"
   },
   "outputs": [
    {
     "data": {
      "text/plain": [
       "tensor([[ 1,  2,  3,  4],\n",
       "        [ 5,  6,  7,  8],\n",
       "        [ 9, 10, 11, 12]])"
      ]
     },
     "execution_count": 52,
     "metadata": {},
     "output_type": "execute_result"
    }
   ],
   "source": [
    "tensor.reshape(3, 4) # 모양(shape) 다시 바꾸기 (numpy-like)"
   ]
  },
  {
   "cell_type": "markdown",
   "id": "f333bac8",
   "metadata": {
    "id": "f333bac8"
   },
   "source": [
    "<br>\n",
    "<br>\n",
    "\n",
    "# 3. Pytorch tensor <-> Numpy array\n"
   ]
  },
  {
   "cell_type": "markdown",
   "id": "a66d0657",
   "metadata": {
    "id": "a66d0657"
   },
   "source": [
    "<br>\n",
    "<br>\n",
    "\n",
    "### 1) Pytorch tensor -> Numpy array \n",
    "<br>\n",
    "\n",
    "#### -> tensor.**numpy**() 활용"
   ]
  },
  {
   "cell_type": "code",
   "execution_count": 53,
   "id": "b6e0ca66",
   "metadata": {
    "id": "b6e0ca66",
    "outputId": "ab4ec0ac-fa99-4328-80a9-48695e5b8ad8"
   },
   "outputs": [
    {
     "data": {
      "text/plain": [
       "tensor([[0.9780, 0.9297, 0.5649],\n",
       "        [0.3911, 0.9609, 0.1797]], dtype=torch.float16)"
      ]
     },
     "execution_count": 53,
     "metadata": {},
     "output_type": "execute_result"
    }
   ],
   "source": [
    "random_tensor = torch.rand(size=(2, 3), dtype=torch.float16)\n",
    "\n",
    "random_tensor"
   ]
  },
  {
   "cell_type": "code",
   "execution_count": 54,
   "id": "1abbfe77",
   "metadata": {
    "id": "1abbfe77",
    "outputId": "5e0c2bcd-868a-40ce-e0e0-169a7dbcec98"
   },
   "outputs": [
    {
     "data": {
      "text/plain": [
       "array([[0.978 , 0.9297, 0.565 ],\n",
       "       [0.391 , 0.961 , 0.1797]], dtype=float16)"
      ]
     },
     "execution_count": 54,
     "metadata": {},
     "output_type": "execute_result"
    }
   ],
   "source": [
    "np_array = random_tensor.numpy() # tensor 변수를 \"numpy\"로\n",
    "\n",
    "np_array "
   ]
  },
  {
   "cell_type": "code",
   "execution_count": 55,
   "id": "fb744d3e",
   "metadata": {
    "id": "fb744d3e",
    "outputId": "01ffe642-fe46-49a1-d56b-da3205b8e2f2"
   },
   "outputs": [
    {
     "data": {
      "text/plain": [
       "numpy.ndarray"
      ]
     },
     "execution_count": 55,
     "metadata": {},
     "output_type": "execute_result"
    }
   ],
   "source": [
    "type(np_array)"
   ]
  },
  {
   "cell_type": "markdown",
   "id": "316748af",
   "metadata": {
    "id": "316748af"
   },
   "source": [
    "<br>\n",
    "<br>\n",
    "\n",
    "### 2) Numpy array -> Pytorch tensor\n",
    "<br>\n",
    "\n",
    "#### -> torch.**from_numpy**() 활용"
   ]
  },
  {
   "cell_type": "code",
   "execution_count": 56,
   "id": "a57a4218",
   "metadata": {
    "id": "a57a4218"
   },
   "outputs": [],
   "source": [
    "import numpy as np"
   ]
  },
  {
   "cell_type": "code",
   "execution_count": 57,
   "id": "8fe356c1",
   "metadata": {
    "id": "8fe356c1",
    "outputId": "51bdc848-63d7-484e-95ad-4e9394faddc4"
   },
   "outputs": [
    {
     "data": {
      "text/plain": [
       "array([[ 0.,  1.,  2.,  3.,  4.,  5.],\n",
       "       [ 6.,  7.,  8.,  9., 10., 11.]])"
      ]
     },
     "execution_count": 57,
     "metadata": {},
     "output_type": "execute_result"
    }
   ],
   "source": [
    "array = np.arange(12.0).reshape(2, 6)\n",
    "\n",
    "array"
   ]
  },
  {
   "cell_type": "code",
   "execution_count": 58,
   "id": "8d3ad547",
   "metadata": {
    "id": "8d3ad547",
    "outputId": "e20d5848-8319-4cde-f18a-5253f81e3cfe"
   },
   "outputs": [
    {
     "data": {
      "text/plain": [
       "tensor([[ 0.,  1.,  2.,  3.,  4.,  5.],\n",
       "        [ 6.,  7.,  8.,  9., 10., 11.]], dtype=torch.float64)"
      ]
     },
     "execution_count": 58,
     "metadata": {},
     "output_type": "execute_result"
    }
   ],
   "source": [
    "torch_tensor = torch.from_numpy(array) # \"numpy 변수로부터\"\n",
    "\n",
    "torch_tensor"
   ]
  },
  {
   "cell_type": "code",
   "execution_count": 59,
   "id": "b075d33c",
   "metadata": {
    "id": "b075d33c",
    "outputId": "696e344e-1b1d-4a47-efeb-274a5d318919"
   },
   "outputs": [
    {
     "data": {
      "text/plain": [
       "torch.Tensor"
      ]
     },
     "execution_count": 59,
     "metadata": {},
     "output_type": "execute_result"
    }
   ],
   "source": [
    "type(torch_tensor)"
   ]
  },
  {
   "cell_type": "markdown",
   "id": "3bac5fe1",
   "metadata": {
    "id": "3bac5fe1"
   },
   "source": [
    "<br>\n",
    "<br>\n",
    "\n",
    "# (Appendix 1) Reproducibility \n"
   ]
  },
  {
   "cell_type": "code",
   "execution_count": 60,
   "id": "58c3d1a8",
   "metadata": {
    "colab": {
     "base_uri": "https://localhost:8080/"
    },
    "id": "58c3d1a8",
    "outputId": "ef7c04b2-b4d9-4b50-c0bb-0e3b63db9108"
   },
   "outputs": [
    {
     "data": {
      "text/plain": [
       "<torch._C.Generator at 0x1131dc610>"
      ]
     },
     "execution_count": 60,
     "metadata": {},
     "output_type": "execute_result"
    }
   ],
   "source": [
    "seed = 42 \n",
    "\n",
    "torch.manual_seed(seed=seed) \n",
    "\n",
    "# torch.cuda.manual_seed(seed=seed) # for GPU "
   ]
  },
  {
   "cell_type": "code",
   "execution_count": 61,
   "id": "fc571c9d",
   "metadata": {
    "id": "fc571c9d",
    "outputId": "ff733d32-862d-4e38-def5-5e88786f1f5c"
   },
   "outputs": [
    {
     "data": {
      "text/plain": [
       "tensor([[0.8823, 0.9150, 0.3829, 0.9593],\n",
       "        [0.3904, 0.6009, 0.2566, 0.7936],\n",
       "        [0.9408, 0.1332, 0.9346, 0.5936]])"
      ]
     },
     "execution_count": 61,
     "metadata": {},
     "output_type": "execute_result"
    }
   ],
   "source": [
    "torch.manual_seed(seed=seed) \n",
    "\n",
    "random_tensor_1 = torch.rand(3, 4)\n",
    "\n",
    "random_tensor_1"
   ]
  },
  {
   "cell_type": "code",
   "execution_count": 62,
   "id": "c4f7a3e2",
   "metadata": {
    "id": "c4f7a3e2",
    "outputId": "99a52c4a-4a81-4829-c739-7a9f441ca38d"
   },
   "outputs": [
    {
     "data": {
      "text/plain": [
       "tensor([[0.8823, 0.9150, 0.3829, 0.9593],\n",
       "        [0.3904, 0.6009, 0.2566, 0.7936],\n",
       "        [0.9408, 0.1332, 0.9346, 0.5936]])"
      ]
     },
     "execution_count": 62,
     "metadata": {},
     "output_type": "execute_result"
    }
   ],
   "source": [
    "# rand() 함수 호출 시마다 seed 값을 다시금 세팅해주어야 합니다. (아래 라인 주석 처리 시 다른 tensor가 만들어짐)\n",
    "torch.manual_seed(seed=seed) # 주석 처리 후 다시 실행해 테스트\n",
    "\n",
    "random_tensor_2 = torch.rand(3, 4)\n",
    "\n",
    "random_tensor_2"
   ]
  }
 ],
 "metadata": {
  "accelerator": "GPU",
  "colab": {
   "collapsed_sections": [
    "57110991",
    "c69fb87a",
    "d1dfa47b",
    "316748af"
   ],
   "provenance": []
  },
  "gpuClass": "standard",
  "kernelspec": {
   "display_name": "Python 3",
   "language": "python",
   "name": "python3"
  },
  "language_info": {
   "codemirror_mode": {
    "name": "ipython",
    "version": 3
   },
   "file_extension": ".py",
   "mimetype": "text/x-python",
   "name": "python",
   "nbconvert_exporter": "python",
   "pygments_lexer": "ipython3",
   "version": "3.9.19"
  }
 },
 "nbformat": 4,
 "nbformat_minor": 5
}
