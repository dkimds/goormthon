{
  "nbformat": 4,
  "nbformat_minor": 0,
  "metadata": {
    "colab": {
      "provenance": []
    },
    "kernelspec": {
      "name": "python3",
      "display_name": "Python 3"
    },
    "language_info": {
      "name": "python"
    }
  },
  "cells": [
    {
      "cell_type": "markdown",
      "source": [
        "# 한국어 word2vec 만들기\n",
        "네이버 뉴스 데이터 가져오기"
      ],
      "metadata": {
        "id": "XpxnixVAp1PH"
      }
    },
    {
      "cell_type": "code",
      "source": [
        "from google.colab import drive\n",
        "drive.mount('/content/drive') # 원하는 세부 경로로 변경이 불가능합니다."
      ],
      "metadata": {
        "colab": {
          "base_uri": "https://localhost:8080/"
        },
        "id": "n6guFQKxspui",
        "outputId": "77342155-6f6f-42b9-af6b-91ec8e8818c8"
      },
      "execution_count": 1,
      "outputs": [
        {
          "output_type": "stream",
          "name": "stdout",
          "text": [
            "Mounted at /content/drive\n"
          ]
        }
      ]
    },
    {
      "cell_type": "code",
      "source": [
        "import pandas as pd\n",
        "import numpy as np\n",
        "\n",
        "csv_list = ['/content/drive/MyDrive/data/result_231210_0111.csv',\n",
        "            '/content/drive/MyDrive/data/result_231210_0206.csv',\n",
        "            '/content/drive/MyDrive/data/result_231210_0239.csv',\n",
        "            '/content/drive/MyDrive/data/result_231210_0127.csv',\n",
        "            '/content/drive/MyDrive/data/result_231210_0221.csv']\n",
        "news_df = pd.DataFrame()\n",
        "for csv in csv_list:\n",
        "    df_data = pd.read_csv(csv)\n",
        "    news_df = news_df.append(df_data)\n",
        "\n",
        "print('전체 리뷰 수:', len(news_df))\n",
        "news_df = news_df.dropna()\n",
        "eco_news_df = news_df[news_df['category'] == '경제']\n",
        "eco_news = eco_news_df['document'].tolist()\n",
        "# eco_news[:10]"
      ],
      "metadata": {
        "colab": {
          "base_uri": "https://localhost:8080/"
        },
        "id": "CCzRnw1Rs-Un",
        "outputId": "6dbbb745-d618-4947-d1ad-1b422a2f8dc7"
      },
      "execution_count": 3,
      "outputs": [
        {
          "output_type": "stream",
          "name": "stdout",
          "text": [
            "전체 리뷰 수: 2316\n"
          ]
        },
        {
          "output_type": "stream",
          "name": "stderr",
          "text": [
            "<ipython-input-3-159200164663>:12: FutureWarning: The frame.append method is deprecated and will be removed from pandas in a future version. Use pandas.concat instead.\n",
            "  news_df = news_df.append(df_data)\n",
            "<ipython-input-3-159200164663>:12: FutureWarning: The frame.append method is deprecated and will be removed from pandas in a future version. Use pandas.concat instead.\n",
            "  news_df = news_df.append(df_data)\n",
            "<ipython-input-3-159200164663>:12: FutureWarning: The frame.append method is deprecated and will be removed from pandas in a future version. Use pandas.concat instead.\n",
            "  news_df = news_df.append(df_data)\n",
            "<ipython-input-3-159200164663>:12: FutureWarning: The frame.append method is deprecated and will be removed from pandas in a future version. Use pandas.concat instead.\n",
            "  news_df = news_df.append(df_data)\n",
            "<ipython-input-3-159200164663>:12: FutureWarning: The frame.append method is deprecated and will be removed from pandas in a future version. Use pandas.concat instead.\n",
            "  news_df = news_df.append(df_data)\n"
          ]
        }
      ]
    },
    {
      "cell_type": "code",
      "source": [
        "len(eco_news)"
      ],
      "metadata": {
        "colab": {
          "base_uri": "https://localhost:8080/"
        },
        "id": "VvO5lAewHlyE",
        "outputId": "c849effd-390e-4106-9db6-51312d696fe3"
      },
      "execution_count": 15,
      "outputs": [
        {
          "output_type": "execute_result",
          "data": {
            "text/plain": [
              "713"
            ]
          },
          "metadata": {},
          "execution_count": 15
        }
      ]
    },
    {
      "cell_type": "code",
      "execution_count": 6,
      "metadata": {
        "id": "Uy8oyYMopyql"
      },
      "outputs": [],
      "source": [
        "import pickle\n",
        "\n",
        "# save\n",
        "with open('eco_news.pickle', 'wb') as f:\n",
        "    pickle.dump(eco_news, f, pickle.HIGHEST_PROTOCOL)\n",
        "# load\n",
        "# with open('data.pickle', 'rb') as f:\n",
        "    # eco_news = pickle.load(f)"
      ]
    },
    {
      "cell_type": "markdown",
      "source": [
        "Text preprocessing"
      ],
      "metadata": {
        "id": "rv7kwLpVMehu"
      }
    },
    {
      "cell_type": "code",
      "source": [
        "# Install konlpy\n",
        "!curl -s https://raw.githubusercontent.com/teddylee777/machine-learning/master/99-Misc/01-Colab/mecab-colab.sh | bash"
      ],
      "metadata": {
        "id": "WQJrbNPCNVM_"
      },
      "execution_count": null,
      "outputs": []
    },
    {
      "cell_type": "code",
      "source": [
        "import re\n",
        "\n",
        "def tokenize_and_stemming(sentence, tokenizer):\n",
        "    \"\"\"\n",
        "    토크나이저로 복수의 문장을 한 개의 리스트로 만든다.\n",
        "    :args\n",
        "        sentence: 한국어 문단\n",
        "        tokenizer: konlpy.tag 라이브러리의 토크나이저\n",
        "    :return\n",
        "        sentence_tokenized: 한국어 토큰 e.g. [통계청, 인구, 동향, 작년, 개월, 인구, 자연, 감소, 세종, 연합뉴스, 이준...\n",
        "    \"\"\"\n",
        "    sentence = re.sub(\"[^\\s0-9a-zA-Zㄱ-ㅎㅏ-ㅣ가-힣]\", \"\", sentence)\n",
        "\n",
        "    raw_pos_tagged = tokenizer.pos(sentence, stem=True) # POS Tagging with stemming\n",
        "\n",
        "    sentence_tokenized = []\n",
        "    for token, pos in raw_pos_tagged: # ex) word <- ('서울', 'Noun')\n",
        "        # pos 기준 제거 대상 : [\"Josa\", \"Eomi\", \"Punctuation\", \"Foreign\", \"Number\", \"Suffix\", \"Determiner\"]\n",
        "        # 리뷰 텍스트 상 형태소의 순서를 고려하는 경우 의미를 갖게 됨 : \"VerbPrefix\" (잘/안/못), \"Conjunction\"(하지만/그러나/그리고), \"KoreanParticle\"(ㅋㅋㅋ/ㅎㅎㅎ/ㅠㅠ)\n",
        "        if (len(token) != 1) & (pos in [\"Noun\", \"VerbPrefix\", \"Verb\", \"Adverb\", \"Adjective\", \"Conjunction\", \"KoreanParticle\"]):\n",
        "            sentence_tokenized.append(token)\n",
        "\n",
        "    return sentence_tokenized"
      ],
      "metadata": {
        "id": "6yilK0nVLAfz"
      },
      "execution_count": 7,
      "outputs": []
    },
    {
      "cell_type": "code",
      "source": [
        "from konlpy.tag import Okt\n",
        "import tqdm\n",
        "\n",
        "okt = Okt()\n",
        "tokenized_sentences = []\n",
        "\n",
        "for sentences in tqdm.tqdm(eco_news):\n",
        "    sentence_list = sentences.split('.')\n",
        "    for sentence in sentence_list:\n",
        "        try:\n",
        "            tokenized_sentences.append(tokenize_and_stemming(sentence, okt))\n",
        "        except:\n",
        "            print(\"Error occured at :\", sentence)\n",
        "            tokenized_sentences.append([])"
      ],
      "metadata": {
        "colab": {
          "base_uri": "https://localhost:8080/"
        },
        "id": "hT5f2XZEM85o",
        "outputId": "b6f85296-e079-4671-f30d-15561441fde1"
      },
      "execution_count": 13,
      "outputs": [
        {
          "output_type": "stream",
          "name": "stderr",
          "text": [
            "100%|██████████| 713/713 [01:18<00:00,  9.09it/s]\n"
          ]
        }
      ]
    },
    {
      "cell_type": "code",
      "source": [
        "tokenized_sentences[:10]"
      ],
      "metadata": {
        "colab": {
          "base_uri": "https://localhost:8080/"
        },
        "id": "JTdx21rnOTRD",
        "outputId": "c13d3240-58b8-4f21-ad0c-0b8fb601a3ca"
      },
      "execution_count": 46,
      "outputs": [
        {
          "output_type": "execute_result",
          "data": {
            "text/plain": [
              "[['통계청', '인구', '동향', '광역시', '일제', '하락', '광주'],\n",
              " ['줄다', '하락', '최대', '인구', '개월', '자연', '감소', '혼인', '건수', '넘다', '줄다', '출산율'],\n",
              " ['명대', '떨어지다', '수도', '서울', '지하철', '호선', '임산부', '배려', '비어', '있다'],\n",
              " ['통계청', '발표', '인구', '동향', '따르다', '오다', '합계', '출산율', '전보'],\n",
              " ['낮아지다'],\n",
              " ['기록', '하다'],\n",
              " ['임대', '기자', '올해', '합계', '출산율'],\n",
              " ['기록', '하다'],\n",
              " ['여성', '하다', '평생', '낳을', '예상', '되다', '출생', '아가'],\n",
              " ['그치다']]"
            ]
          },
          "metadata": {},
          "execution_count": 46
        }
      ]
    },
    {
      "cell_type": "code",
      "source": [
        "# save\n",
        "result_file = 'preprocessed_word2vec.pickle'\n",
        "with open(result_file, 'wb') as f:\n",
        "    pickle.dump(tokenized_sentences, f, pickle.HIGHEST_PROTOCOL)\n",
        "print(result_file + ' 파일 저장됨!')"
      ],
      "metadata": {
        "colab": {
          "base_uri": "https://localhost:8080/"
        },
        "id": "_7Pv-PC-UeZ2",
        "outputId": "4db0487a-35c6-4e93-e3b9-d4d0dd08fd76"
      },
      "execution_count": 51,
      "outputs": [
        {
          "output_type": "stream",
          "name": "stdout",
          "text": [
            "preprocessed_word2vec.pickle 파일 저장됨!\n"
          ]
        }
      ]
    },
    {
      "cell_type": "markdown",
      "source": [
        "## CBOW word2vec 모델 학습하기"
      ],
      "metadata": {
        "id": "seXNtuFHp1zn"
      }
    },
    {
      "cell_type": "code",
      "source": [
        "from gensim.models import Word2Vec\n",
        "\n",
        "model_cbow = Word2Vec(sentences=tokenized_sentences, vector_size=100, window=5, min_count=5, workers=4, sg=0)\n",
        "model_cbow.wv.vectors.shape"
      ],
      "metadata": {
        "colab": {
          "base_uri": "https://localhost:8080/"
        },
        "id": "eo2m7qUAen0n",
        "outputId": "230e770e-45b1-4c37-eaeb-ae3cb0c5e43a"
      },
      "execution_count": 38,
      "outputs": [
        {
          "output_type": "execute_result",
          "data": {
            "text/plain": [
              "(4309, 100)"
            ]
          },
          "metadata": {},
          "execution_count": 38
        }
      ]
    },
    {
      "cell_type": "code",
      "source": [
        "model_filename = 'cbow_word2vec.model'\n",
        "model_cbow.save(model_filename)\n",
        "print(model_filename + ' saved!')"
      ],
      "metadata": {
        "colab": {
          "base_uri": "https://localhost:8080/"
        },
        "id": "lYSh1Ew8gFuI",
        "outputId": "2d01e859-a431-4599-cc63-d12784bf921b"
      },
      "execution_count": 39,
      "outputs": [
        {
          "output_type": "stream",
          "name": "stdout",
          "text": [
            "cbow_word2vec.model saved!\n"
          ]
        }
      ]
    },
    {
      "cell_type": "code",
      "source": [
        "print(model_cbow.wv.most_similar(\"주가\"))"
      ],
      "metadata": {
        "colab": {
          "base_uri": "https://localhost:8080/"
        },
        "id": "OAydxeJGmVMS",
        "outputId": "739e439d-f24d-40a0-89e8-05981503cef7"
      },
      "execution_count": 40,
      "outputs": [
        {
          "output_type": "stream",
          "name": "stdout",
          "text": [
            "[('달러', 0.9365742206573486), ('작년', 0.9342687129974365), ('평균', 0.924926221370697), ('매출', 0.9232419729232788), ('정점', 0.922761082649231), ('오른', 0.9204503893852234), ('포인트', 0.9200392961502075), ('시가총액', 0.9184390902519226), ('벌어지다', 0.9183456897735596), ('급등', 0.9183215498924255)]\n"
          ]
        }
      ]
    },
    {
      "cell_type": "markdown",
      "source": [
        "## Skip-gram word2vec 모델 학습하기"
      ],
      "metadata": {
        "id": "0SamqiazqQZM"
      }
    },
    {
      "cell_type": "code",
      "source": [
        "model_sg = Word2Vec(sentences=tokenized_sentences, vector_size=100, window=5, min_count=5, workers=4, sg=1)\n",
        "model_sg.wv.vectors.shape"
      ],
      "metadata": {
        "colab": {
          "base_uri": "https://localhost:8080/"
        },
        "id": "vsU5Pad0rFcR",
        "outputId": "81f7e8d7-a611-49f3-ff60-4ac524d05f96"
      },
      "execution_count": 41,
      "outputs": [
        {
          "output_type": "execute_result",
          "data": {
            "text/plain": [
              "(4309, 100)"
            ]
          },
          "metadata": {},
          "execution_count": 41
        }
      ]
    },
    {
      "cell_type": "code",
      "source": [
        "model_filename = 'skip-gram_word2vec.model'\n",
        "model_sg.save(model_filename)\n",
        "print(model_filename + ' saved!')"
      ],
      "metadata": {
        "colab": {
          "base_uri": "https://localhost:8080/"
        },
        "id": "0Y1utHSqg7b7",
        "outputId": "9502e292-c2a2-4479-e3d4-5f992f2c7fe2"
      },
      "execution_count": 42,
      "outputs": [
        {
          "output_type": "stream",
          "name": "stdout",
          "text": [
            "skip-gram_word2vec.model saved!\n"
          ]
        }
      ]
    },
    {
      "cell_type": "code",
      "source": [
        "print(model_sg.wv.most_similar(\"주가\"))"
      ],
      "metadata": {
        "colab": {
          "base_uri": "https://localhost:8080/"
        },
        "id": "bbAo7KJdh5-a",
        "outputId": "5e122db5-3a4a-489a-8add-d770d4ecae7b"
      },
      "execution_count": 43,
      "outputs": [
        {
          "output_type": "stream",
          "name": "stdout",
          "text": [
            "[('시가총액', 0.8364740610122681), ('달러', 0.8070789575576782), ('하루', 0.7969028353691101), ('찍다', 0.795524537563324), ('오른', 0.7944868803024292), ('코스닥', 0.7841623425483704), ('이노텍', 0.7809240221977234), ('벌어지다', 0.780060887336731), ('무역수지', 0.7799789905548096), ('국고', 0.7668311595916748)]\n"
          ]
        }
      ]
    },
    {
      "cell_type": "code",
      "source": [],
      "metadata": {
        "id": "a9BI9kOgmqT6"
      },
      "execution_count": 43,
      "outputs": []
    }
  ]
}