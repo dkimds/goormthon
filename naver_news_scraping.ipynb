{
  "cells": [
    {
      "cell_type": "markdown",
      "metadata": {
        "colab_type": "text",
        "id": "view-in-github"
      },
      "source": [
        "<a href=\"https://colab.research.google.com/github/dkimds/goormthon/blob/main/naver_news_scraping.ipynb\" target=\"_parent\"><img src=\"https://colab.research.google.com/assets/colab-badge.svg\" alt=\"Open In Colab\"/></a>"
      ]
    },
    {
      "cell_type": "markdown",
      "metadata": {
        "id": "tO-ZEo4TUWLH"
      },
      "source": [
        "# 네이버 뉴스 크롤러 만들기 연습\n",
        "아래 코드를 실행해야 이하부분이 돌아갑니다."
      ]
    },
    {
      "cell_type": "code",
      "execution_count": null,
      "metadata": {
        "id": "wUc2XeYvLZvW"
      },
      "outputs": [],
      "source": [
        "import requests\n",
        "from bs4 import BeautifulSoup\n",
        "\n",
        "import pandas as pd\n",
        "from datetime import datetime\n",
        "import time\n",
        "import re"
      ]
    },
    {
      "cell_type": "markdown",
      "metadata": {
        "id": "mG55dmznUeOx"
      },
      "source": [
        "## 네이버 뉴스 간추리기\n",
        "\n"
      ]
    },
    {
      "cell_type": "markdown",
      "metadata": {
        "id": "WJ18LIC5Co02"
      },
      "source": [
        "- 뉴스 주제: 챗봇\n",
        "- 기간: 1개월"
      ]
    },
    {
      "cell_type": "code",
      "execution_count": null,
      "metadata": {
        "id": "KHJNxOcnCNjP"
      },
      "outputs": [],
      "source": [
        "url = \"https://search.naver.com/search.naver?where=news&query=gpt&sm=tab_opt&sort=0&photo=0&field=0&pd=2&ds=&de=&docid=&related=0&mynews=0&office_type=0&office_section_code=0&news_office_checked=&nso=so%3Ar%2Cp%3A1m&is_sug_officeid=0&office_category=0&service_area=0\""
      ]
    },
    {
      "cell_type": "code",
      "execution_count": null,
      "metadata": {
        "id": "dH-7-hzlSMG-"
      },
      "outputs": [],
      "source": [
        "web = requests.get(url).content\n",
        "source = BeautifulSoup(web, 'html.parser')"
      ]
    },
    {
      "cell_type": "code",
      "execution_count": null,
      "metadata": {
        "colab": {
          "base_uri": "https://localhost:8080/"
        },
        "id": "2LLZg7p0CV2w",
        "outputId": "17f31116-658f-403e-c1e9-bbac5cce97e1"
      },
      "outputs": [
        {
          "name": "stdout",
          "output_type": "stream",
          "text": [
            "[]\n"
          ]
        }
      ],
      "source": [
        "news_subjects = source.find_all('a', {'class' : 'news_tit'}) # ResultSet (리스트와 유사한 형태)\n",
        "\n",
        "subject_list = []\n",
        "\n",
        "for subject in news_subjects:\n",
        "    subject_list.append(subject.get_text())\n",
        "\n",
        "print(subject_list)"
      ]
    },
    {
      "cell_type": "code",
      "execution_count": null,
      "metadata": {
        "colab": {
          "base_uri": "https://localhost:8080/"
        },
        "id": "-Q2zeClxOvY3",
        "outputId": "a9cd0e18-390c-4a80-95c1-7b138ac6c2b4"
      },
      "outputs": [
        {
          "data": {
            "text/plain": [
              "{'href': 'https://www.yna.co.kr/view/AKR20231130006500091?input=1195m',\n",
              " 'class': ['news_tit'],\n",
              " 'target': '_blank',\n",
              " 'onclick': \"return goOtherCR(this, 'a=nws*h.tit&r=1&i=880000D8_000000000000000014362313&g=001.0014362313&u='+urlencode(this.href));\",\n",
              " 'title': '[챗GPT 1년] 인터넷·아이폰 넘은 AI혁명…부작용 우려에 규제 필요성 대두'}"
            ]
          },
          "execution_count": 5,
          "metadata": {},
          "output_type": "execute_result"
        }
      ],
      "source": [
        "urls = news_subjects\n",
        "first_article = urls[0]\n",
        "first_article.attrs # tag's attributes (== attrs)"
      ]
    },
    {
      "cell_type": "code",
      "execution_count": null,
      "metadata": {
        "colab": {
          "base_uri": "https://localhost:8080/",
          "height": 36
        },
        "id": "V9GulVpOTVwg",
        "outputId": "9b5393ae-0534-4037-c221-5577532d8fdc"
      },
      "outputs": [
        {
          "data": {
            "application/vnd.google.colaboratory.intrinsic+json": {
              "type": "string"
            },
            "text/plain": [
              "'https://www.yna.co.kr/view/AKR20231130006500091?input=1195m'"
            ]
          },
          "execution_count": 6,
          "metadata": {},
          "output_type": "execute_result"
        }
      ],
      "source": [
        "first_article.attrs['href'] # tag의 attribute 'href'의 value 꺼내기"
      ]
    },
    {
      "cell_type": "code",
      "execution_count": null,
      "metadata": {
        "colab": {
          "base_uri": "https://localhost:8080/"
        },
        "id": "c-0CH9FyTZKw",
        "outputId": "cb7c327d-334b-4e06-9796-5c85728a0ab1"
      },
      "outputs": [
        {
          "name": "stdout",
          "output_type": "stream",
          "text": [
            "https://www.yna.co.kr/view/AKR20231130006500091?input=1195m\n",
            "https://www.hankookilbo.com/News/Read/A2023112318540001009?did=NA\n",
            "http://www.newsis.com/view/?id=NISX20231128_0002538210&cID=10201&pID=10200\n",
            "http://www.segye.com/newsView/20231129515385?OutUrl=naver\n",
            "http://www.yonhapnewstv.co.kr/MYH20231130010600641/?input=1825m\n",
            "http://www.itdaily.kr/news/articleView.html?idxno=218497\n",
            "https://www.etnews.com/20231130000256\n",
            "https://www.hankookilbo.com/News/Read/A2023112904350005517?did=NA\n",
            "https://www.hankookilbo.com/News/Read/A2023112722110004787?did=NA\n",
            "https://www.mk.co.kr/article/10886457\n"
          ]
        }
      ],
      "source": [
        "for urls in source.find_all('a', {'class' : \"news_tit\"}):\n",
        "    print(urls.attrs['href'])"
      ]
    },
    {
      "cell_type": "code",
      "execution_count": null,
      "metadata": {
        "colab": {
          "base_uri": "https://localhost:8080/"
        },
        "id": "gm6D9lxCThlY",
        "outputId": "df72c3d3-c57f-4fe7-e950-9195b3a6c37a"
      },
      "outputs": [
        {
          "data": {
            "text/plain": [
              "True"
            ]
          },
          "execution_count": 8,
          "metadata": {},
          "output_type": "execute_result"
        }
      ],
      "source": [
        "sample_url = 'https://n.news.naver.com/mnews/article/003/0011379817?sid=102'\n",
        "sample_url.startswith('https://n.news.naver.com/')"
      ]
    },
    {
      "cell_type": "code",
      "execution_count": null,
      "metadata": {
        "colab": {
          "base_uri": "https://localhost:8080/"
        },
        "id": "EyrsJRy0TyWf",
        "outputId": "bf4f8887-1d3a-4c95-d504-2f0ffcc24310"
      },
      "outputs": [
        {
          "data": {
            "text/plain": [
              "['https://n.news.naver.com/mnews/article/001/0014362313?sid=104',\n",
              " 'https://n.news.naver.com/mnews/article/469/0000772918?sid=104',\n",
              " 'https://n.news.naver.com/mnews/article/003/0012236267?sid=102',\n",
              " 'https://n.news.naver.com/mnews/article/022/0003880120?sid=104',\n",
              " 'https://n.news.naver.com/mnews/article/422/0000632048?sid=101',\n",
              " 'https://n.news.naver.com/mnews/article/030/0003161687?sid=105',\n",
              " 'https://n.news.naver.com/mnews/article/469/0000772905?sid=104',\n",
              " 'https://n.news.naver.com/mnews/article/469/0000772895?sid=104',\n",
              " 'https://n.news.naver.com/mnews/article/009/0005222445?sid=004']"
            ]
          },
          "execution_count": 9,
          "metadata": {},
          "output_type": "execute_result"
        }
      ],
      "source": [
        "urls_list = []\n",
        "\n",
        "for urls in source.find_all('a', {'class' : \"info\"}):\n",
        "    if urls.attrs[\"href\"].startswith(\"https://n.news.naver.com\"):\n",
        "        urls_list.append(urls.attrs[\"href\"])\n",
        "\n",
        "urls_list"
      ]
    },
    {
      "cell_type": "code",
      "execution_count": null,
      "metadata": {
        "id": "OBLYBkq6T5ef"
      },
      "outputs": [],
      "source": [
        "headers = {'User-Agent':'Mozilla/5.0 (Windows NT 6.3; Win64; x64) AppleWebKit/537.36 (KHTML, like Gecko) Chrome/63.0.3239.132 Safari/537.36'}\n",
        "\n",
        "web_news = requests.get(urls_list[0], headers=headers).content\n",
        "source_news = BeautifulSoup(web_news, 'html.parser')"
      ]
    },
    {
      "cell_type": "markdown",
      "metadata": {
        "id": "C6HU0AitU2eR"
      },
      "source": [
        "## 단일 뉴스 페이지 분석"
      ]
    },
    {
      "cell_type": "code",
      "execution_count": null,
      "metadata": {
        "id": "K_jAUUSkU5fX"
      },
      "outputs": [],
      "source": [
        "headers = {'User-Agent':'Mozilla/5.0 (Windows NT 6.3; Win64; x64) AppleWebKit/537.36 (KHTML, like Gecko) Chrome/63.0.3239.132 Safari/537.36'}\n",
        "\n",
        "web_news = requests.get(urls_list[0], headers=headers).content\n",
        "source_news = BeautifulSoup(web_news, 'html.parser')"
      ]
    },
    {
      "cell_type": "markdown",
      "metadata": {
        "id": "u_N1L5xSVEqy"
      },
      "source": [
        "1) 기사제목과 발행일자"
      ]
    },
    {
      "cell_type": "code",
      "execution_count": null,
      "metadata": {
        "colab": {
          "base_uri": "https://localhost:8080/"
        },
        "id": "AfJX7QcpU78a",
        "outputId": "88afaff6-b478-47a3-8084-9b31fd2ac478"
      },
      "outputs": [
        {
          "name": "stdout",
          "output_type": "stream",
          "text": [
            "[챗GPT 1년] 인터넷·아이폰 넘은 AI혁명…부작용 우려에 규제 필요성 대두\n"
          ]
        }
      ],
      "source": [
        "title = source_news.find('h2', {'class' : 'media_end_head_headline'}).get_text()\n",
        "print(title)"
      ]
    },
    {
      "cell_type": "code",
      "execution_count": null,
      "metadata": {
        "colab": {
          "base_uri": "https://localhost:8080/"
        },
        "id": "yvEFY42rVQ26",
        "outputId": "e2f050ee-32dc-460a-d208-a145c2d752fd"
      },
      "outputs": [
        {
          "name": "stdout",
          "output_type": "stream",
          "text": [
            "2023-11-30 05:53:00\n"
          ]
        }
      ],
      "source": [
        "date = source_news.find('span', {'class' : 'media_end_head_info_datestamp_time'}).get_text()\n",
        "date = date.replace(\" \",\"\")\n",
        "date1 = date[:11] # 날짜까지 파싱\n",
        "date2 = date[13:] # 시간부분 파싱\n",
        "date3 = (lambda x : 'am' if x == '오전' else 'pm')(date[11:13])\n",
        "date4 = date1 + date2 + date3\n",
        "date = pd.Timestamp(date4)\n",
        "print(date)"
      ]
    },
    {
      "cell_type": "markdown",
      "metadata": {
        "id": "f3x89B8BVdau"
      },
      "source": [
        "2) 기사본문"
      ]
    },
    {
      "cell_type": "code",
      "execution_count": null,
      "metadata": {
        "colab": {
          "base_uri": "https://localhost:8080/",
          "height": 214
        },
        "id": "9pfDIG_YVYm7",
        "outputId": "d1e8f6ee-c0d9-4c49-e176-245c3ae2716c"
      },
      "outputs": [
        {
          "data": {
            "application/vnd.google.colaboratory.intrinsic+json": {
              "type": "string"
            },
            "text/plain": [
              "'\\n예상 못한 열풍…애초 이름은 \\'챗위드GPT\\', 출시 5분 전에 \\'위드\\' 빠져숙제·여행계획 등 일상질문 답변부터 문학·예술 창작, 판결문 작성까지업계 지각변동 속 기술개발 무한경쟁…가짜뉴스 확산·범죄악용 차단 시급\\n\\n\\n\\n챗GPT 로고[로이터 연합뉴스 자료사진. 재판매 및 DB 금지](샌프란시스코=연합뉴스) 김태종 특파원 = 사람처럼 묻고 답하는 생성형 인공지능(AI) 챗GPT가 30일로 \\'첫 돌\\'을 맞았다.    세상에 나온 지 채 1년 만에 챗GPT는 전 세계 생성형 AI 열풍을 일으켰고, 개발사 오픈AI는 일약 세계 최고 기업 중 하나로 도약했다.    챗GPT의 1년은 역대 가장 임팩트 있는 기술로 받아들여지고 있다.     1990년대 인터넷, 2000년대 아이폰을 뛰어넘는 혁명을 만들어내고 있다는 평가가 나온다.    챗GPT를 계기로 AI 기술은 이미 생활 속에 깊숙이 자리를 잡아가고 있지만, 악용의 우려도 커지면서 규제 필요성도 제기되고 있다. \\n\\n\\n\\n오픈AI와 챗GPT 로고[AFP 연합뉴스 자료사진. 재판매 및 DB 금지] 출시 두 달만에 이용자 1억명…기업가치 111조원, CEO 거취 \\'진통\\'     이제는 익숙해진 챗GPT라는 이름은 애초 \\'챗위드GPT\\'(Chat With GPT)였다. 오픈AI의 대규모 언어 모델(LLM)인 \\'GPT와 대화한다\\'는 의미로 지어졌다.    그러나 이는 세상에 존재를 알리기 직전 현재의 챗GPT로 바뀌었다.    챗GPT를 디자인하는 데 관여한 오픈AI 한 관계자는 \"출시 예정 시간 바로 5분 전 \\'챗위드GPT\\'에서 지금의 챗GPT로 바뀌었다\"고 밝혔다.    이름이 갑작스럽게 바뀐 이유는 간단했다. 이 관계자는 \"이름이 너무 거추장스럽게 길다는 지적이 나왔고, 그래서 그냥 \\'위드\\'(With)를 뺐다\"고 설명했다.    어렵지 않게 이름을 바꿀 수 있었던 데에는 챗GPT가 지금과 같은 열풍을 일으키리라고는 오픈AI도 전혀 예상하지 못했기 때문이다.     이 관계자는 \"사실 하루에 20만∼30만명 정도가 들어오겠지, 생각했다\"며 \"단기간에 수천만 명이 이용하게 될 것이라고는 생각지도 못했다\"고 회고했다.      챗GPT는 출시 두 달 만에 이용자 수가 1억명에 이르며 붐을 일으켰다.     샘 올트먼 최고경영자(CEO)는 지난 6일 오픈AI의 첫 개발자 회의에서 \"챗GPT 주간 활성 이용자 수 1억명을 보유하고 있다\"고 밝힌 바 있다.    챗GPT를 개발한 오픈AI는 마이크로소프트(MS)의 대규모 투자 속에 1년 새 기업 가치가 3배로 늘어나며 860억달러(111조7천140억원)에 달했다.     일론 머스크의 우주기업 스페이스X와 틱톡의 모기업 바이트댄스 다음으로 세계에서 가장 가치 있는 비상장 기업이라는 평가를 받고 있다.    \\'챗GPT 아버지\\'라 불리는 올트먼은 전 세계에서 주목받는 CEO 중 한 명으로 이름을 날렸다.    그러나 오픈AI는 AI의 지속적인 개발을 둘러싼 경영진과 이사회의 갈등 속에 올트먼 CEO가 지난 18일 축출당했다가 닷새 만에 복귀하는 진통을 겪기도 했다.\\n\\n\\n\\n챗GPT 앱[AFP 연합뉴스 자료사진. 재판매 및 DB 금지] \\'해결사\\'로 생활 속 파고든 AI…각종 시험서 상위권 올라     미국 새너제이의 한 고등학교에 다니는 로이(14)군은 요즘 챗GPT와 같은 생성형 AI를 달고 다닌다.     그는 \"꼭 챗GPT는 아니지만, 글을 쓸 때 잘 생각이 나지 않는 경우 생성형 AI에 아이디어를 구한다\"며 \"어법상 잘못된 곳이 없는지 체크할 때도 도움을 받는다\"고 말했다.    프롬프트로 단어나 문장을 입력만 하면 챗GPT가 친절하게 답을 해준다.    로이 군은 챗GPT가 나오기 전에는 구글 검색에 100% 의존했지만 지금은 20∼30%는 생성형 AI의 도움을 받는다고 했다. 그는 일주일에 2∼3일가량, 한 번 쓸 때는 1시간 반가량 사용한다.    이렇듯 생성형 AI는 빠르게 일상생활 속으로 파고들고 있다. 간단한 질문을 하는 것부터 학교 숙제를 하고 여행 등의 일정을 짜는 등에 이르기까지 도움을 준다.    어려운 글을 대신 써주는 것은 물론 작곡을 하고 그림도 그려 주고 코딩까지 척척 해낸다.    미국의 유명 출판사가 챗GPT로 작성한 기사를 잡지에 싣고, 미국 의회에서는 챗GPT가 쓴 연설문이 낭독되기도 했다.    콜롬비아의 한 판사는 올해 2월 챗GPT를 이용해 판결문을 작성했다고 밝혀 논란이 되기도 했다.    이제는 공식적으로 판결문 작성에도 AI가 사용될 예정이다. 중국 법원은 판결문 작성에 생성형 AI를 시범 활용하기로 했다.    이처럼 생성형 AI가 생활 속으로 발 빠르게 파고들고 있는 이유 중 하나는 정확성이다.     오픈AI의 최신 대규모 언어모델(LLM)인 챗GPT-4는 미국 모의 변호사 시험에서는 90번째, 대학 입학 자격시험인 SAT 읽기와 수학 시험에서는 각각 93번째와 89번째의 백분위수를 기록했다.     즉 챗GPT-4가 미국 모의 변호사 시험에선 상위 10%, SAT 읽기와 수학 시험에선 각각 상위 7%와 11%의 성적을 거뒀다는 것이다.      또 지난 4월 한의사 국가시험에 도전해 합격선인 60%에 근접하는 평균 57.29%의 정답률을 기록하기도 했다.\\n\\n\\n\\nAI[로이터 연합뉴스 자료사진. 재판매 및 DB 금지] 생성형 AI 고도화하는 빅테크…엔비디아 두각 등 업계 재편도    지난 1년간 생성형 AI 기술은 빅테크가 주도하면서 챗GPT 개발사 오픈AI 등 스타트업도 두각을 나타내며 업계의 구도를 바꿔놓고 있다.     그 선두에는 마이크로소프트(MS)가 있다. MS는 2019년부터 오픈AI에 투자를 시작해 올해까지 130만 달러(약 17조원)를 투자했다.    올해 1월 MS는 오픈AI에 100억 달러로 추정되는 투자 계획을 밝힌 데 이어 자체 검색 엔진 \\'빙\\'에 챗GPT와 같은 AI 챗봇을 탑재하며 구글 아성에 도전장을 던졌다.    또 워드와 엑셀, 아웃룩, 팀즈 등이 포함된 MS 사무용 소프트웨어에 챗GPT와 같은 자사의 AI 비서 코파일럿을 탑재하며 인기몰이를 하고 있다.    사티아 나델라 최고경영자(CEO)는 \"(미 유력 매체) 포춘의 매출 순위 100대 기업의 40%가 코파일럿을 사용하고 있다\"고 밝히기도 했다.     그동안 AI 부문에서 가장 앞서 있다는 평가를 받았던 구글도 뒤질세라 자사 제품에 AI를 접목했다.     검색 엔진에 자사의 AI 챗봇인 바드를 탑재했고, 자사가 제공하는 클라우드 협업 도구인 워크스페이스에 생성형 AI인 \\'듀엣 AI\\'를 얹으며 MS에 맞섰다.    오픈AI의 최신 LLM인 GPT-4를 능가하는 \\'제미니\\'도 조만간 내놓을 예정이다.    아마존도 자사의 클라우드 서비스를 이용하는 기업 고객을 위한 AI 챗봇 \\'큐\\'(Q)를 선보였고, 페이스북 모회사 메타도 인스타그램과 왓츠앱, 메신저 등 메타의 SNS 제품에서 텍스트 입력으로 구동하는 AI 비서인 \\'메타 AI\\'를 내놓았다.    일론 머스크 테슬라 CEO는 자신이 소유한 엑스(X)에서 이용할 수 있는 생성형 AI \\'그록\\'(Grok)을 최근 공개했다.    스타트업 가운데에서는 MS가 전략적 파트너십을 공고히 하는 오픈AI가 단연 두각을 나타냈다.     여기에 구글과 아마존이 각각 20억 달러(약 2조6천억원)와 40억 달러(5조2천억원)를 투자할 것으로 알려진 앤스로픽 등도 주목받고 있다.    미국 반도체 기업 엔비디아는 AI 기술 발전에 따른 가장 큰 수혜 기업이 됐다.     AI 모델을 구동시키는 H100 등 칩이 전 세계적으로 인기를 끌면서 지난해 말 140달러대였던 주가는 500달러에 육박하며 200% 이상 급등했다.\\n\\n\\n\\nAI가 만든 트럼프 체포 가짜 사진[엘리엇 히긴스 트위터. 재판매 및 DB 금지]  진짜 같은 \\'가짜\\' 난무…\"AI가 인류를 위협할 수 있다\"     AI 기술이 빠르게 고도화하면서 가짜뉴스 등의 문제도 커지고 있다. 진짜와 가짜를 구별할 수 없을 정도로 AI 기술이 정교해지고 있기 때문이다.    내달 7∼8일 온라인으로 열릴 예정이었던 기술개발 콘퍼런스 \\'데브터니티\\'(DevTernity)가 최근 취소됐다. AI를 이용한 \\'가짜 연사\\'가 이름을 올린 사실이 들통났기 때문이다.    발표자 명단에 \\'애나 보이코\\'라는 이름의 여성이 가상화폐거래소 코인베이스 직원으로 소개됐는데, 실제 존재하지 않는 직원으로 드러났다.    지난달 시작된 이스라엘과 팔레스타인 무장정파 하마스 간 전쟁을 계기로 인터넷 공간에서는 AI를 이용한 가짜뉴스가 범람했다.    이스라엘 총리가 병원에 긴급 이송됐다는 뉴스가 진짜처럼 온라인상을 떠돌았고, 비디오게임 연출 장면이 실제 헬리콥터 격추처럼 둔갑하기도 했다.     미국에서는 내년 대선을 앞두고 가짜뉴스의 확산과 AI를 이용한 특정 인물의 이미지 합성인 \\'딥페이크\\'에 대한 우려가 커지고 있다.    지난 4월 한 SNS에서는 힐러리 클린턴 전 미 국무장관이 공화당 대선 주자 론 디샌티스 플로리다주지사를 지지하는 발언을 하는 딥페이크 영상이 떠돌아 다니기도 했다.      앞서 3월에는 한 SNS에 \"트럼프가 맨해튼에서 체포됐다\"는 설명과 함께 관련 사진이 확산하기도 했다.    진짜와 가짜의 구분이 어려워지면서 미국 유명 사전 출판사 메리엄웹스터의 \\'올해의 단어\\'에는 \\'진짜의\\'라는 의미의 \\'어센틱\\'(authentic)이 꼽히기도 했다.    AI 기술이 인류 존재를 위협할 수 있다며 규제를 신속히 도입해야 한다는 주장도 힘을 얻고 있다.     IT 기업 경영자와 과학자로 구성된 비영리단체 \\'AI 안전센터\\'(CAIS)는 지난 5월 AI의 위험성을 핵무기와 신종 전염병에 비견하며 AI 기술 통제 필요성을 주장하는 성명을 발표했다.    미국과 유럽연합(EU)이 규제 도입에 착수했다.     여기에 올트먼 CEO가 쫓겨났다 5일 만에 복귀한 이른바 \\'오픈AI 사태\\'로 AI의 안전 문제를 기업 자율에 맡겨서는 안 된다는 주장이 더욱 힘을 얻고 있다.    영국 옥스퍼드대 인터넷 연구소의 AI 전문가인 요한 라욱스는 \"오픈AI 사건은 현재 AI 생태계가 얼마나 취약한지를 보여줬다\"고 말했다.    taejong75@yna.co.kr\\n'"
            ]
          },
          "execution_count": 14,
          "metadata": {},
          "output_type": "execute_result"
        }
      ],
      "source": [
        "article = source_news.find('article', {'id' : 'dic_area'}).get_text()\n",
        "article"
      ]
    },
    {
      "cell_type": "code",
      "execution_count": null,
      "metadata": {
        "colab": {
          "base_uri": "https://localhost:8080/",
          "height": 214
        },
        "id": "oSYgICcqVrLQ",
        "outputId": "b1d50eb6-3d7e-4806-92d2-0275d9c7f0ab"
      },
      "outputs": [
        {
          "data": {
            "application/vnd.google.colaboratory.intrinsic+json": {
              "type": "string"
            },
            "text/plain": [
              "'예상 못한 열풍…애초 이름은 챗위드GPT, 출시 5분 전에 위드 빠져숙제·여행계획 등 일상질문 답변부터 문학·예술 창작, 판결문 작성까지업계 지각변동 속 기술개발 무한경쟁…가짜뉴스 확산·범죄악용 차단 시급챗GPT 로고[로이터 연합뉴스 자료사진. 재판매 및 DB 금지](샌프란시스코=연합뉴스) 김태종 특파원 = 사람처럼 묻고 답하는 생성형 인공지능(AI) 챗GPT가 30일로 첫 돌을 맞았다.    세상에 나온 지 채 1년 만에 챗GPT는 전 세계 생성형 AI 열풍을 일으켰고, 개발사 오픈AI는 일약 세계 최고 기업 중 하나로 도약했다.    챗GPT의 1년은 역대 가장 임팩트 있는 기술로 받아들여지고 있다.     1990년대 인터넷, 2000년대 아이폰을 뛰어넘는 혁명을 만들어내고 있다는 평가가 나온다.    챗GPT를 계기로 AI 기술은 이미 생활 속에 깊숙이 자리를 잡아가고 있지만, 악용의 우려도 커지면서 규제 필요성도 제기되고 있다. 오픈AI와 챗GPT 로고[AFP 연합뉴스 자료사진. 재판매 및 DB 금지] 출시 두 달만에 이용자 1억명…기업가치 111조원, CEO 거취 진통     이제는 익숙해진 챗GPT라는 이름은 애초 챗위드GPT(Chat With GPT)였다. 오픈AI의 대규모 언어 모델(LLM)인 GPT와 대화한다는 의미로 지어졌다.    그러나 이는 세상에 존재를 알리기 직전 현재의 챗GPT로 바뀌었다.    챗GPT를 디자인하는 데 관여한 오픈AI 한 관계자는 \"출시 예정 시간 바로 5분 전 챗위드GPT에서 지금의 챗GPT로 바뀌었다\"고 밝혔다.    이름이 갑작스럽게 바뀐 이유는 간단했다. 이 관계자는 \"이름이 너무 거추장스럽게 길다는 지적이 나왔고, 그래서 그냥 위드(With)를 뺐다\"고 설명했다.    어렵지 않게 이름을 바꿀 수 있었던 데에는 챗GPT가 지금과 같은 열풍을 일으키리라고는 오픈AI도 전혀 예상하지 못했기 때문이다.     이 관계자는 \"사실 하루에 20만∼30만명 정도가 들어오겠지, 생각했다\"며 \"단기간에 수천만 명이 이용하게 될 것이라고는 생각지도 못했다\"고 회고했다.      챗GPT는 출시 두 달 만에 이용자 수가 1억명에 이르며 붐을 일으켰다.     샘 올트먼 최고경영자(CEO)는 지난 6일 오픈AI의 첫 개발자 회의에서 \"챗GPT 주간 활성 이용자 수 1억명을 보유하고 있다\"고 밝힌 바 있다.    챗GPT를 개발한 오픈AI는 마이크로소프트(MS)의 대규모 투자 속에 1년 새 기업 가치가 3배로 늘어나며 860억달러(111조7천140억원)에 달했다.     일론 머스크의 우주기업 스페이스X와 틱톡의 모기업 바이트댄스 다음으로 세계에서 가장 가치 있는 비상장 기업이라는 평가를 받고 있다.    챗GPT 아버지라 불리는 올트먼은 전 세계에서 주목받는 CEO 중 한 명으로 이름을 날렸다.    그러나 오픈AI는 AI의 지속적인 개발을 둘러싼 경영진과 이사회의 갈등 속에 올트먼 CEO가 지난 18일 축출당했다가 닷새 만에 복귀하는 진통을 겪기도 했다.챗GPT 앱[AFP 연합뉴스 자료사진. 재판매 및 DB 금지] 해결사로 생활 속 파고든 AI…각종 시험서 상위권 올라     미국 새너제이의 한 고등학교에 다니는 로이(14)군은 요즘 챗GPT와 같은 생성형 AI를 달고 다닌다.     그는 \"꼭 챗GPT는 아니지만, 글을 쓸 때 잘 생각이 나지 않는 경우 생성형 AI에 아이디어를 구한다\"며 \"어법상 잘못된 곳이 없는지 체크할 때도 도움을 받는다\"고 말했다.    프롬프트로 단어나 문장을 입력만 하면 챗GPT가 친절하게 답을 해준다.    로이 군은 챗GPT가 나오기 전에는 구글 검색에 100% 의존했지만 지금은 20∼30%는 생성형 AI의 도움을 받는다고 했다. 그는 일주일에 2∼3일가량, 한 번 쓸 때는 1시간 반가량 사용한다.    이렇듯 생성형 AI는 빠르게 일상생활 속으로 파고들고 있다. 간단한 질문을 하는 것부터 학교 숙제를 하고 여행 등의 일정을 짜는 등에 이르기까지 도움을 준다.    어려운 글을 대신 써주는 것은 물론 작곡을 하고 그림도 그려 주고 코딩까지 척척 해낸다.    미국의 유명 출판사가 챗GPT로 작성한 기사를 잡지에 싣고, 미국 의회에서는 챗GPT가 쓴 연설문이 낭독되기도 했다.    콜롬비아의 한 판사는 올해 2월 챗GPT를 이용해 판결문을 작성했다고 밝혀 논란이 되기도 했다.    이제는 공식적으로 판결문 작성에도 AI가 사용될 예정이다. 중국 법원은 판결문 작성에 생성형 AI를 시범 활용하기로 했다.    이처럼 생성형 AI가 생활 속으로 발 빠르게 파고들고 있는 이유 중 하나는 정확성이다.     오픈AI의 최신 대규모 언어모델(LLM)인 챗GPT-4는 미국 모의 변호사 시험에서는 90번째, 대학 입학 자격시험인 SAT 읽기와 수학 시험에서는 각각 93번째와 89번째의 백분위수를 기록했다.     즉 챗GPT-4가 미국 모의 변호사 시험에선 상위 10%, SAT 읽기와 수학 시험에선 각각 상위 7%와 11%의 성적을 거뒀다는 것이다.      또 지난 4월 한의사 국가시험에 도전해 합격선인 60%에 근접하는 평균 57.29%의 정답률을 기록하기도 했다.AI[로이터 연합뉴스 자료사진. 재판매 및 DB 금지] 생성형 AI 고도화하는 빅테크…엔비디아 두각 등 업계 재편도    지난 1년간 생성형 AI 기술은 빅테크가 주도하면서 챗GPT 개발사 오픈AI 등 스타트업도 두각을 나타내며 업계의 구도를 바꿔놓고 있다.     그 선두에는 마이크로소프트(MS)가 있다. MS는 2019년부터 오픈AI에 투자를 시작해 올해까지 130만 달러(약 17조원)를 투자했다.    올해 1월 MS는 오픈AI에 100억 달러로 추정되는 투자 계획을 밝힌 데 이어 자체 검색 엔진 빙에 챗GPT와 같은 AI 챗봇을 탑재하며 구글 아성에 도전장을 던졌다.    또 워드와 엑셀, 아웃룩, 팀즈 등이 포함된 MS 사무용 소프트웨어에 챗GPT와 같은 자사의 AI 비서 코파일럿을 탑재하며 인기몰이를 하고 있다.    사티아 나델라 최고경영자(CEO)는 \"(미 유력 매체) 포춘의 매출 순위 100대 기업의 40%가 코파일럿을 사용하고 있다\"고 밝히기도 했다.     그동안 AI 부문에서 가장 앞서 있다는 평가를 받았던 구글도 뒤질세라 자사 제품에 AI를 접목했다.     검색 엔진에 자사의 AI 챗봇인 바드를 탑재했고, 자사가 제공하는 클라우드 협업 도구인 워크스페이스에 생성형 AI인 듀엣 AI를 얹으며 MS에 맞섰다.    오픈AI의 최신 LLM인 GPT-4를 능가하는 제미니도 조만간 내놓을 예정이다.    아마존도 자사의 클라우드 서비스를 이용하는 기업 고객을 위한 AI 챗봇 큐(Q)를 선보였고, 페이스북 모회사 메타도 인스타그램과 왓츠앱, 메신저 등 메타의 SNS 제품에서 텍스트 입력으로 구동하는 AI 비서인 메타 AI를 내놓았다.    일론 머스크 테슬라 CEO는 자신이 소유한 엑스(X)에서 이용할 수 있는 생성형 AI 그록(Grok)을 최근 공개했다.    스타트업 가운데에서는 MS가 전략적 파트너십을 공고히 하는 오픈AI가 단연 두각을 나타냈다.     여기에 구글과 아마존이 각각 20억 달러(약 2조6천억원)와 40억 달러(5조2천억원)를 투자할 것으로 알려진 앤스로픽 등도 주목받고 있다.    미국 반도체 기업 엔비디아는 AI 기술 발전에 따른 가장 큰 수혜 기업이 됐다.     AI 모델을 구동시키는 H100 등 칩이 전 세계적으로 인기를 끌면서 지난해 말 140달러대였던 주가는 500달러에 육박하며 200% 이상 급등했다.AI가 만든 트럼프 체포 가짜 사진[엘리엇 히긴스 트위터. 재판매 및 DB 금지]  진짜 같은 가짜 난무…\"AI가 인류를 위협할 수 있다\"     AI 기술이 빠르게 고도화하면서 가짜뉴스 등의 문제도 커지고 있다. 진짜와 가짜를 구별할 수 없을 정도로 AI 기술이 정교해지고 있기 때문이다.    내달 7∼8일 온라인으로 열릴 예정이었던 기술개발 콘퍼런스 데브터니티(DevTernity)가 최근 취소됐다. AI를 이용한 가짜 연사가 이름을 올린 사실이 들통났기 때문이다.    발표자 명단에 애나 보이코라는 이름의 여성이 가상화폐거래소 코인베이스 직원으로 소개됐는데, 실제 존재하지 않는 직원으로 드러났다.    지난달 시작된 이스라엘과 팔레스타인 무장정파 하마스 간 전쟁을 계기로 인터넷 공간에서는 AI를 이용한 가짜뉴스가 범람했다.    이스라엘 총리가 병원에 긴급 이송됐다는 뉴스가 진짜처럼 온라인상을 떠돌았고, 비디오게임 연출 장면이 실제 헬리콥터 격추처럼 둔갑하기도 했다.     미국에서는 내년 대선을 앞두고 가짜뉴스의 확산과 AI를 이용한 특정 인물의 이미지 합성인 딥페이크에 대한 우려가 커지고 있다.    지난 4월 한 SNS에서는 힐러리 클린턴 전 미 국무장관이 공화당 대선 주자 론 디샌티스 플로리다주지사를 지지하는 발언을 하는 딥페이크 영상이 떠돌아 다니기도 했다.      앞서 3월에는 한 SNS에 \"트럼프가 맨해튼에서 체포됐다\"는 설명과 함께 관련 사진이 확산하기도 했다.    진짜와 가짜의 구분이 어려워지면서 미국 유명 사전 출판사 메리엄웹스터의 올해의 단어에는 진짜의라는 의미의 어센틱(authentic)이 꼽히기도 했다.    AI 기술이 인류 존재를 위협할 수 있다며 규제를 신속히 도입해야 한다는 주장도 힘을 얻고 있다.     IT 기업 경영자와 과학자로 구성된 비영리단체 AI 안전센터(CAIS)는 지난 5월 AI의 위험성을 핵무기와 신종 전염병에 비견하며 AI 기술 통제 필요성을 주장하는 성명을 발표했다.    미국과 유럽연합(EU)이 규제 도입에 착수했다.     여기에 올트먼 CEO가 쫓겨났다 5일 만에 복귀한 이른바 오픈AI 사태로 AI의 안전 문제를 기업 자율에 맡겨서는 안 된다는 주장이 더욱 힘을 얻고 있다.    영국 옥스퍼드대 인터넷 연구소의 AI 전문가인 요한 라욱스는 \"오픈AI 사건은 현재 AI 생태계가 얼마나 취약한지를 보여줬다\"고 말했다.    taejong75@yna.co.kr'"
            ]
          },
          "execution_count": 15,
          "metadata": {},
          "output_type": "execute_result"
        }
      ],
      "source": [
        "article = article.replace(\"\\n\", \"\")\n",
        "article = article.replace(\"\\'\", \"\")\n",
        "article = article.strip()\n",
        "article"
      ]
    },
    {
      "cell_type": "markdown",
      "metadata": {
        "id": "ZCEkGC2ggN9z"
      },
      "source": [
        "불필요한 기호와 이메일주소를 삭제"
      ]
    },
    {
      "cell_type": "code",
      "execution_count": null,
      "metadata": {
        "colab": {
          "base_uri": "https://localhost:8080/"
        },
        "id": "mK8vkzZcYM3f",
        "outputId": "f13bd8d1-2908-4752-8af0-4d0ef32b496e"
      },
      "outputs": [
        {
          "name": "stdout",
          "output_type": "stream",
          "text": [
            "예상 못한 열풍…애초 이름은 챗위드GPT, 출시 5분 전에 위드 빠져숙제·여행계획 등 일상질문 답변부터 문학·예술 창작, 판결문 작성까지업계 지각변동 속 기술개발 무한경쟁…가짜뉴스 확산·범죄악용 차단 시급챗GPT 로고[로이터 연합뉴스 자료사진. 재판매 및 DB 금지](샌프란시스코=연합뉴스) 김태종 특파원 = 사람처럼 묻고 답하는 생성형 인공지능(AI) 챗GPT가 30일로 첫 돌을 맞았다.    세상에 나온 지 채 1년 만에 챗GPT는 전 세계 생성형 AI 열풍을 일으켰고, 개발사 오픈AI는 일약 세계 최고 기업 중 하나로 도약했다.    챗GPT의 1년은 역대 가장 임팩트 있는 기술로 받아들여지고 있다.     1990년대 인터넷, 2000년대 아이폰을 뛰어넘는 혁명을 만들어내고 있다는 평가가 나온다.    챗GPT를 계기로 AI 기술은 이미 생활 속에 깊숙이 자리를 잡아가고 있지만, 악용의 우려도 커지면서 규제 필요성도 제기되고 있다. 오픈AI와 챗GPT 로고[AFP 연합뉴스 자료사진. 재판매 및 DB 금지] 출시 두 달만에 이용자 1억명…기업가치 111조원, CEO 거취 진통     이제는 익숙해진 챗GPT라는 이름은 애초 챗위드GPT(Chat With GPT)였다. 오픈AI의 대규모 언어 모델(LLM)인 GPT와 대화한다는 의미로 지어졌다.    그러나 이는 세상에 존재를 알리기 직전 현재의 챗GPT로 바뀌었다.    챗GPT를 디자인하는 데 관여한 오픈AI 한 관계자는 \"출시 예정 시간 바로 5분 전 챗위드GPT에서 지금의 챗GPT로 바뀌었다\"고 밝혔다.    이름이 갑작스럽게 바뀐 이유는 간단했다. 이 관계자는 \"이름이 너무 거추장스럽게 길다는 지적이 나왔고, 그래서 그냥 위드(With)를 뺐다\"고 설명했다.    어렵지 않게 이름을 바꿀 수 있었던 데에는 챗GPT가 지금과 같은 열풍을 일으키리라고는 오픈AI도 전혀 예상하지 못했기 때문이다.     이 관계자는 \"사실 하루에 20만∼30만명 정도가 들어오겠지, 생각했다\"며 \"단기간에 수천만 명이 이용하게 될 것이라고는 생각지도 못했다\"고 회고했다.      챗GPT는 출시 두 달 만에 이용자 수가 1억명에 이르며 붐을 일으켰다.     샘 올트먼 최고경영자(CEO)는 지난 6일 오픈AI의 첫 개발자 회의에서 \"챗GPT 주간 활성 이용자 수 1억명을 보유하고 있다\"고 밝힌 바 있다.    챗GPT를 개발한 오픈AI는 마이크로소프트(MS)의 대규모 투자 속에 1년 새 기업 가치가 3배로 늘어나며 860억달러(111조7천140억원)에 달했다.     일론 머스크의 우주기업 스페이스X와 틱톡의 모기업 바이트댄스 다음으로 세계에서 가장 가치 있는 비상장 기업이라는 평가를 받고 있다.    챗GPT 아버지라 불리는 올트먼은 전 세계에서 주목받는 CEO 중 한 명으로 이름을 날렸다.    그러나 오픈AI는 AI의 지속적인 개발을 둘러싼 경영진과 이사회의 갈등 속에 올트먼 CEO가 지난 18일 축출당했다가 닷새 만에 복귀하는 진통을 겪기도 했다.챗GPT 앱[AFP 연합뉴스 자료사진. 재판매 및 DB 금지] 해결사로 생활 속 파고든 AI…각종 시험서 상위권 올라     미국 새너제이의 한 고등학교에 다니는 로이(14)군은 요즘 챗GPT와 같은 생성형 AI를 달고 다닌다.     그는 \"꼭 챗GPT는 아니지만, 글을 쓸 때 잘 생각이 나지 않는 경우 생성형 AI에 아이디어를 구한다\"며 \"어법상 잘못된 곳이 없는지 체크할 때도 도움을 받는다\"고 말했다.    프롬프트로 단어나 문장을 입력만 하면 챗GPT가 친절하게 답을 해준다.    로이 군은 챗GPT가 나오기 전에는 구글 검색에 100% 의존했지만 지금은 20∼30%는 생성형 AI의 도움을 받는다고 했다. 그는 일주일에 2∼3일가량, 한 번 쓸 때는 1시간 반가량 사용한다.    이렇듯 생성형 AI는 빠르게 일상생활 속으로 파고들고 있다. 간단한 질문을 하는 것부터 학교 숙제를 하고 여행 등의 일정을 짜는 등에 이르기까지 도움을 준다.    어려운 글을 대신 써주는 것은 물론 작곡을 하고 그림도 그려 주고 코딩까지 척척 해낸다.    미국의 유명 출판사가 챗GPT로 작성한 기사를 잡지에 싣고, 미국 의회에서는 챗GPT가 쓴 연설문이 낭독되기도 했다.    콜롬비아의 한 판사는 올해 2월 챗GPT를 이용해 판결문을 작성했다고 밝혀 논란이 되기도 했다.    이제는 공식적으로 판결문 작성에도 AI가 사용될 예정이다. 중국 법원은 판결문 작성에 생성형 AI를 시범 활용하기로 했다.    이처럼 생성형 AI가 생활 속으로 발 빠르게 파고들고 있는 이유 중 하나는 정확성이다.     오픈AI의 최신 대규모 언어모델(LLM)인 챗GPT-4는 미국 모의 변호사 시험에서는 90번째, 대학 입학 자격시험인 SAT 읽기와 수학 시험에서는 각각 93번째와 89번째의 백분위수를 기록했다.     즉 챗GPT-4가 미국 모의 변호사 시험에선 상위 10%, SAT 읽기와 수학 시험에선 각각 상위 7%와 11%의 성적을 거뒀다는 것이다.      또 지난 4월 한의사 국가시험에 도전해 합격선인 60%에 근접하는 평균 57.29%의 정답률을 기록하기도 했다.AI[로이터 연합뉴스 자료사진. 재판매 및 DB 금지] 생성형 AI 고도화하는 빅테크…엔비디아 두각 등 업계 재편도    지난 1년간 생성형 AI 기술은 빅테크가 주도하면서 챗GPT 개발사 오픈AI 등 스타트업도 두각을 나타내며 업계의 구도를 바꿔놓고 있다.     그 선두에는 마이크로소프트(MS)가 있다. MS는 2019년부터 오픈AI에 투자를 시작해 올해까지 130만 달러(약 17조원)를 투자했다.    올해 1월 MS는 오픈AI에 100억 달러로 추정되는 투자 계획을 밝힌 데 이어 자체 검색 엔진 빙에 챗GPT와 같은 AI 챗봇을 탑재하며 구글 아성에 도전장을 던졌다.    또 워드와 엑셀, 아웃룩, 팀즈 등이 포함된 MS 사무용 소프트웨어에 챗GPT와 같은 자사의 AI 비서 코파일럿을 탑재하며 인기몰이를 하고 있다.    사티아 나델라 최고경영자(CEO)는 \"(미 유력 매체) 포춘의 매출 순위 100대 기업의 40%가 코파일럿을 사용하고 있다\"고 밝히기도 했다.     그동안 AI 부문에서 가장 앞서 있다는 평가를 받았던 구글도 뒤질세라 자사 제품에 AI를 접목했다.     검색 엔진에 자사의 AI 챗봇인 바드를 탑재했고, 자사가 제공하는 클라우드 협업 도구인 워크스페이스에 생성형 AI인 듀엣 AI를 얹으며 MS에 맞섰다.    오픈AI의 최신 LLM인 GPT-4를 능가하는 제미니도 조만간 내놓을 예정이다.    아마존도 자사의 클라우드 서비스를 이용하는 기업 고객을 위한 AI 챗봇 큐(Q)를 선보였고, 페이스북 모회사 메타도 인스타그램과 왓츠앱, 메신저 등 메타의 SNS 제품에서 텍스트 입력으로 구동하는 AI 비서인 메타 AI를 내놓았다.    일론 머스크 테슬라 CEO는 자신이 소유한 엑스(X)에서 이용할 수 있는 생성형 AI 그록(Grok)을 최근 공개했다.    스타트업 가운데에서는 MS가 전략적 파트너십을 공고히 하는 오픈AI가 단연 두각을 나타냈다.     여기에 구글과 아마존이 각각 20억 달러(약 2조6천억원)와 40억 달러(5조2천억원)를 투자할 것으로 알려진 앤스로픽 등도 주목받고 있다.    미국 반도체 기업 엔비디아는 AI 기술 발전에 따른 가장 큰 수혜 기업이 됐다.     AI 모델을 구동시키는 H100 등 칩이 전 세계적으로 인기를 끌면서 지난해 말 140달러대였던 주가는 500달러에 육박하며 200% 이상 급등했다.AI가 만든 트럼프 체포 가짜 사진[엘리엇 히긴스 트위터. 재판매 및 DB 금지]  진짜 같은 가짜 난무…\"AI가 인류를 위협할 수 있다\"     AI 기술이 빠르게 고도화하면서 가짜뉴스 등의 문제도 커지고 있다. 진짜와 가짜를 구별할 수 없을 정도로 AI 기술이 정교해지고 있기 때문이다.    내달 7∼8일 온라인으로 열릴 예정이었던 기술개발 콘퍼런스 데브터니티(DevTernity)가 최근 취소됐다. AI를 이용한 가짜 연사가 이름을 올린 사실이 들통났기 때문이다.    발표자 명단에 애나 보이코라는 이름의 여성이 가상화폐거래소 코인베이스 직원으로 소개됐는데, 실제 존재하지 않는 직원으로 드러났다.    지난달 시작된 이스라엘과 팔레스타인 무장정파 하마스 간 전쟁을 계기로 인터넷 공간에서는 AI를 이용한 가짜뉴스가 범람했다.    이스라엘 총리가 병원에 긴급 이송됐다는 뉴스가 진짜처럼 온라인상을 떠돌았고, 비디오게임 연출 장면이 실제 헬리콥터 격추처럼 둔갑하기도 했다.     미국에서는 내년 대선을 앞두고 가짜뉴스의 확산과 AI를 이용한 특정 인물의 이미지 합성인 딥페이크에 대한 우려가 커지고 있다.    지난 4월 한 SNS에서는 힐러리 클린턴 전 미 국무장관이 공화당 대선 주자 론 디샌티스 플로리다주지사를 지지하는 발언을 하는 딥페이크 영상이 떠돌아 다니기도 했다.      앞서 3월에는 한 SNS에 \"트럼프가 맨해튼에서 체포됐다\"는 설명과 함께 관련 사진이 확산하기도 했다.    진짜와 가짜의 구분이 어려워지면서 미국 유명 사전 출판사 메리엄웹스터의 올해의 단어에는 진짜의라는 의미의 어센틱(authentic)이 꼽히기도 했다.    AI 기술이 인류 존재를 위협할 수 있다며 규제를 신속히 도입해야 한다는 주장도 힘을 얻고 있다.     IT 기업 경영자와 과학자로 구성된 비영리단체 AI 안전센터(CAIS)는 지난 5월 AI의 위험성을 핵무기와 신종 전염병에 비견하며 AI 기술 통제 필요성을 주장하는 성명을 발표했다.    미국과 유럽연합(EU)이 규제 도입에 착수했다.     여기에 올트먼 CEO가 쫓겨났다 5일 만에 복귀한 이른바 오픈AI 사태로 AI의 안전 문제를 기업 자율에 맡겨서는 안 된다는 주장이 더욱 힘을 얻고 있다.    영국 옥스퍼드대 인터넷 연구소의 AI 전문가인 요한 라욱스는 \"오픈AI 사건은 현재 AI 생태계가 얼마나 취약한지를 보여줬다\"고 말했다\n"
          ]
        }
      ],
      "source": [
        "import re\n",
        "news_contents = article\n",
        "# 기자 이메일 주소부터 그 이후 전체 삭제하기\n",
        "pattern = re.compile(r'[\\s\\Wa-zA-Z0-9]*@')\n",
        "email_address = pattern.search(news_contents)\n",
        "news_contents = news_contents[:email_address.start()]\n",
        "\n",
        "print(news_contents)"
      ]
    },
    {
      "cell_type": "markdown",
      "metadata": {
        "id": "ZXdNa-uFuCUR"
      },
      "source": [
        "3) 기사 발행사"
      ]
    },
    {
      "cell_type": "code",
      "execution_count": null,
      "metadata": {
        "colab": {
          "base_uri": "https://localhost:8080/"
        },
        "id": "UO_SKa11tQMx",
        "outputId": "9cbba21b-d980-4f91-c665-a45a0d02d393"
      },
      "outputs": [
        {
          "name": "stdout",
          "output_type": "stream",
          "text": [
            "연합뉴스\n"
          ]
        }
      ],
      "source": [
        "press_company = source_news.find('em', {'class':'media_end_linked_more_point'}).get_text()\n",
        "print(press_company)"
      ]
    },
    {
      "cell_type": "markdown",
      "metadata": {
        "id": "styJKR1svDVP"
      },
      "source": [
        "### 여러 뉴스 모으기"
      ]
    },
    {
      "cell_type": "code",
      "execution_count": null,
      "metadata": {
        "id": "tDLHDfoW0x1E"
      },
      "outputs": [],
      "source": [
        "import requests\n",
        "from bs4 import BeautifulSoup\n",
        "\n",
        "import pandas as pd\n",
        "from datetime import datetime\n",
        "import time\n",
        "import re"
      ]
    },
    {
      "cell_type": "code",
      "execution_count": null,
      "metadata": {
        "colab": {
          "base_uri": "https://localhost:8080/"
        },
        "id": "yHlBKBTmvCWT",
        "outputId": "c76b78f5-8969-4d7f-f5da-2cf17d7aa338"
      },
      "outputs": [
        {
          "data": {
            "text/plain": [
              "['https://n.news.naver.com/mnews/article/032/0003263907?sid=105',\n",
              " 'https://n.news.naver.com/mnews/article/009/0005223085?sid=104',\n",
              " 'https://n.news.naver.com/mnews/article/640/0000046593?sid=110']"
            ]
          },
          "execution_count": 3,
          "metadata": {},
          "output_type": "execute_result"
        }
      ],
      "source": [
        "url = \"https://search.naver.com/search.naver?where=news&query=chatgpt&sm=tab_opt&sort=0&photo=0&field=0&pd=2&ds=&de=&docid=&related=0&mynews=0&office_type=0&office_section_code=0&news_office_checked=&nso=so%3Ar%2Cp%3A1m&is_sug_officeid=0&office_category=0&service_area=0web = requests.get(url).content\"\n",
        "web = requests.get(url).content\n",
        "\n",
        "source = BeautifulSoup(web, 'html.parser')\n",
        "\n",
        "urls_list = []\n",
        "\n",
        "for urls in source.find_all('a', {'class' : \"info\"}):\n",
        "    if urls[\"href\"].startswith(\"https://n.news.naver.com\"):\n",
        "        urls_list.append(urls[\"href\"])\n",
        "\n",
        "urls_list"
      ]
    },
    {
      "cell_type": "code",
      "execution_count": null,
      "metadata": {
        "id": "vxBsZ2gwu9F9"
      },
      "outputs": [],
      "source": [
        "categories = []\n",
        "titles = []\n",
        "dates = []\n",
        "articles = []\n",
        "article_urls = []\n",
        "press_companies = []"
      ]
    },
    {
      "cell_type": "code",
      "execution_count": null,
      "metadata": {
        "colab": {
          "base_uri": "https://localhost:8080/"
        },
        "id": "MHcwCOd03ZBh",
        "outputId": "511a255d-327b-4446-be43-7cd16d5f4d4e"
      },
      "outputs": [
        {
          "name": "stdout",
          "output_type": "stream",
          "text": [
            "Processing article : 코딩 전혀 몰라도 나만의 챗봇 뚝딱[ChatGPT AI 빅뱅 1년]\n",
            "Processing article : Multi-modal AI gains global traction as technology advances\n",
            "Processing article : Imagination is key to prosperity in the AI century\n"
          ]
        }
      ],
      "source": [
        "for url in urls_list:\n",
        "    try:\n",
        "        headers = {'User-Agent':'Mozilla/5.0 (Windows NT 6.3; Win64; x64) AppleWebKit/537.36 (KHTML, like Gecko) Chrome/63.0.3239.132 Safari/537.36'}\n",
        "        web_news = requests.get(url, headers=headers).content\n",
        "        source_news = BeautifulSoup(web_news, 'html.parser')\n",
        "\n",
        "        # 1) 카테고리 class=\"media_end_categorize_item\"\n",
        "        category = source_news.find('em',{'class' : 'media_end_categorize_item'}).get_text()\n",
        "        # 2) 기사 제목\n",
        "        title = source_news.find('h2', {'class' : 'media_end_head_headline'}).get_text()\n",
        "        print('Processing article : {}'.format(title))\n",
        "\n",
        "        # 3) 기사 날짜\n",
        "        date = source_news.find('span', {'class' : 'media_end_head_info_datestamp_time'}).get_text()\n",
        "\n",
        "        # 4) 기사 본문\n",
        "        article = source_news.find('article', {'id' : 'dic_area'}).get_text()\n",
        "        article = article.replace(\"\\n\", \"\")\n",
        "        article = article.replace(\"// flash 오류를 우회하기 위한 함수 추가function _flash_removeCallback() {}\", \"\")\n",
        "        article = article.replace(\"동영상 뉴스       \", \"\")\n",
        "        article = article.replace(\"동영상 뉴스\", \"\")\n",
        "        article = article.strip()\n",
        "\n",
        "        # 5) 기사 발행 언론사\n",
        "        press_company = source_news.find('em', {'class':'media_end_linked_more_point'}).get_text()\n",
        "\n",
        "        # 위 2~5를 통해 성공적으로 제목/날짜/본문/언론사 정보가 모두 추출되었을 때에만 리스트에 추가해 길이를 동일하게 유지해줍니다.\n",
        "        categories.append(category)\n",
        "        titles.append(title)\n",
        "        dates.append(date)\n",
        "        articles.append(article)\n",
        "        article_urls.append(url) # 6) 기사 URL\n",
        "        press_companies.append(press_company)\n",
        "\n",
        "    except:\n",
        "        print('*** 다음 링크의 뉴스를 크롤링하는 중 에러가 발생했습니다 : {}'.format(url))\n"
      ]
    },
    {
      "cell_type": "code",
      "execution_count": null,
      "metadata": {
        "colab": {
          "base_uri": "https://localhost:8080/",
          "height": 248
        },
        "id": "FnsMk3Be6rau",
        "outputId": "cb8dc3c7-5bdb-4e40-c9f3-2fa708077d62"
      },
      "outputs": [
        {
          "data": {
            "text/html": [
              "\n",
              "  <div id=\"df-86cb5dbe-2a7e-4d17-a160-8ccfcfb979a8\" class=\"colab-df-container\">\n",
              "    <div>\n",
              "<style scoped>\n",
              "    .dataframe tbody tr th:only-of-type {\n",
              "        vertical-align: middle;\n",
              "    }\n",
              "\n",
              "    .dataframe tbody tr th {\n",
              "        vertical-align: top;\n",
              "    }\n",
              "\n",
              "    .dataframe thead th {\n",
              "        text-align: right;\n",
              "    }\n",
              "</style>\n",
              "<table border=\"1\" class=\"dataframe\">\n",
              "  <thead>\n",
              "    <tr style=\"text-align: right;\">\n",
              "      <th></th>\n",
              "      <th>Category</th>\n",
              "      <th>Title</th>\n",
              "      <th>Date</th>\n",
              "      <th>Article</th>\n",
              "      <th>URL</th>\n",
              "      <th>PressCompany</th>\n",
              "    </tr>\n",
              "  </thead>\n",
              "  <tbody>\n",
              "    <tr>\n",
              "      <th>0</th>\n",
              "      <td>IT</td>\n",
              "      <td>코딩 전혀 몰라도 나만의 챗봇 뚝딱[ChatGPT AI 빅뱅 1년]</td>\n",
              "      <td>2023.11.28. 오전 6:03</td>\n",
              "      <td>(상) 일상 파고든 AI최신 버전 GPT4, 음성도 인식소비자의 ‘AI 접근’ 문턱...</td>\n",
              "      <td>https://n.news.naver.com/mnews/article/032/000...</td>\n",
              "      <td>경향신문</td>\n",
              "    </tr>\n",
              "    <tr>\n",
              "      <th>1</th>\n",
              "      <td>세계</td>\n",
              "      <td>Multi-modal AI gains global traction as techno...</td>\n",
              "      <td>2023.11.30. 오후 2:44</td>\n",
              "      <td>[Courtesy of Soul Machines]Artificial intellig...</td>\n",
              "      <td>https://n.news.naver.com/mnews/article/009/000...</td>\n",
              "      <td>매일경제</td>\n",
              "    </tr>\n",
              "    <tr>\n",
              "      <th>2</th>\n",
              "      <td>오피니언</td>\n",
              "      <td>Imagination is key to prosperity in the AI cen...</td>\n",
              "      <td>2023.11.29. 오후 8:11</td>\n",
              "      <td>Yeom Jae-ho The author, a former president of ...</td>\n",
              "      <td>https://n.news.naver.com/mnews/article/640/000...</td>\n",
              "      <td>코리아중앙데일리</td>\n",
              "    </tr>\n",
              "  </tbody>\n",
              "</table>\n",
              "</div>\n",
              "    <div class=\"colab-df-buttons\">\n",
              "\n",
              "  <div class=\"colab-df-container\">\n",
              "    <button class=\"colab-df-convert\" onclick=\"convertToInteractive('df-86cb5dbe-2a7e-4d17-a160-8ccfcfb979a8')\"\n",
              "            title=\"Convert this dataframe to an interactive table.\"\n",
              "            style=\"display:none;\">\n",
              "\n",
              "  <svg xmlns=\"http://www.w3.org/2000/svg\" height=\"24px\" viewBox=\"0 -960 960 960\">\n",
              "    <path d=\"M120-120v-720h720v720H120Zm60-500h600v-160H180v160Zm220 220h160v-160H400v160Zm0 220h160v-160H400v160ZM180-400h160v-160H180v160Zm440 0h160v-160H620v160ZM180-180h160v-160H180v160Zm440 0h160v-160H620v160Z\"/>\n",
              "  </svg>\n",
              "    </button>\n",
              "\n",
              "  <style>\n",
              "    .colab-df-container {\n",
              "      display:flex;\n",
              "      gap: 12px;\n",
              "    }\n",
              "\n",
              "    .colab-df-convert {\n",
              "      background-color: #E8F0FE;\n",
              "      border: none;\n",
              "      border-radius: 50%;\n",
              "      cursor: pointer;\n",
              "      display: none;\n",
              "      fill: #1967D2;\n",
              "      height: 32px;\n",
              "      padding: 0 0 0 0;\n",
              "      width: 32px;\n",
              "    }\n",
              "\n",
              "    .colab-df-convert:hover {\n",
              "      background-color: #E2EBFA;\n",
              "      box-shadow: 0px 1px 2px rgba(60, 64, 67, 0.3), 0px 1px 3px 1px rgba(60, 64, 67, 0.15);\n",
              "      fill: #174EA6;\n",
              "    }\n",
              "\n",
              "    .colab-df-buttons div {\n",
              "      margin-bottom: 4px;\n",
              "    }\n",
              "\n",
              "    [theme=dark] .colab-df-convert {\n",
              "      background-color: #3B4455;\n",
              "      fill: #D2E3FC;\n",
              "    }\n",
              "\n",
              "    [theme=dark] .colab-df-convert:hover {\n",
              "      background-color: #434B5C;\n",
              "      box-shadow: 0px 1px 3px 1px rgba(0, 0, 0, 0.15);\n",
              "      filter: drop-shadow(0px 1px 2px rgba(0, 0, 0, 0.3));\n",
              "      fill: #FFFFFF;\n",
              "    }\n",
              "  </style>\n",
              "\n",
              "    <script>\n",
              "      const buttonEl =\n",
              "        document.querySelector('#df-86cb5dbe-2a7e-4d17-a160-8ccfcfb979a8 button.colab-df-convert');\n",
              "      buttonEl.style.display =\n",
              "        google.colab.kernel.accessAllowed ? 'block' : 'none';\n",
              "\n",
              "      async function convertToInteractive(key) {\n",
              "        const element = document.querySelector('#df-86cb5dbe-2a7e-4d17-a160-8ccfcfb979a8');\n",
              "        const dataTable =\n",
              "          await google.colab.kernel.invokeFunction('convertToInteractive',\n",
              "                                                    [key], {});\n",
              "        if (!dataTable) return;\n",
              "\n",
              "        const docLinkHtml = 'Like what you see? Visit the ' +\n",
              "          '<a target=\"_blank\" href=https://colab.research.google.com/notebooks/data_table.ipynb>data table notebook</a>'\n",
              "          + ' to learn more about interactive tables.';\n",
              "        element.innerHTML = '';\n",
              "        dataTable['output_type'] = 'display_data';\n",
              "        await google.colab.output.renderOutput(dataTable, element);\n",
              "        const docLink = document.createElement('div');\n",
              "        docLink.innerHTML = docLinkHtml;\n",
              "        element.appendChild(docLink);\n",
              "      }\n",
              "    </script>\n",
              "  </div>\n",
              "\n",
              "\n",
              "<div id=\"df-d68cb581-a7f3-4862-bc68-711813923433\">\n",
              "  <button class=\"colab-df-quickchart\" onclick=\"quickchart('df-d68cb581-a7f3-4862-bc68-711813923433')\"\n",
              "            title=\"Suggest charts\"\n",
              "            style=\"display:none;\">\n",
              "\n",
              "<svg xmlns=\"http://www.w3.org/2000/svg\" height=\"24px\"viewBox=\"0 0 24 24\"\n",
              "     width=\"24px\">\n",
              "    <g>\n",
              "        <path d=\"M19 3H5c-1.1 0-2 .9-2 2v14c0 1.1.9 2 2 2h14c1.1 0 2-.9 2-2V5c0-1.1-.9-2-2-2zM9 17H7v-7h2v7zm4 0h-2V7h2v10zm4 0h-2v-4h2v4z\"/>\n",
              "    </g>\n",
              "</svg>\n",
              "  </button>\n",
              "\n",
              "<style>\n",
              "  .colab-df-quickchart {\n",
              "      --bg-color: #E8F0FE;\n",
              "      --fill-color: #1967D2;\n",
              "      --hover-bg-color: #E2EBFA;\n",
              "      --hover-fill-color: #174EA6;\n",
              "      --disabled-fill-color: #AAA;\n",
              "      --disabled-bg-color: #DDD;\n",
              "  }\n",
              "\n",
              "  [theme=dark] .colab-df-quickchart {\n",
              "      --bg-color: #3B4455;\n",
              "      --fill-color: #D2E3FC;\n",
              "      --hover-bg-color: #434B5C;\n",
              "      --hover-fill-color: #FFFFFF;\n",
              "      --disabled-bg-color: #3B4455;\n",
              "      --disabled-fill-color: #666;\n",
              "  }\n",
              "\n",
              "  .colab-df-quickchart {\n",
              "    background-color: var(--bg-color);\n",
              "    border: none;\n",
              "    border-radius: 50%;\n",
              "    cursor: pointer;\n",
              "    display: none;\n",
              "    fill: var(--fill-color);\n",
              "    height: 32px;\n",
              "    padding: 0;\n",
              "    width: 32px;\n",
              "  }\n",
              "\n",
              "  .colab-df-quickchart:hover {\n",
              "    background-color: var(--hover-bg-color);\n",
              "    box-shadow: 0 1px 2px rgba(60, 64, 67, 0.3), 0 1px 3px 1px rgba(60, 64, 67, 0.15);\n",
              "    fill: var(--button-hover-fill-color);\n",
              "  }\n",
              "\n",
              "  .colab-df-quickchart-complete:disabled,\n",
              "  .colab-df-quickchart-complete:disabled:hover {\n",
              "    background-color: var(--disabled-bg-color);\n",
              "    fill: var(--disabled-fill-color);\n",
              "    box-shadow: none;\n",
              "  }\n",
              "\n",
              "  .colab-df-spinner {\n",
              "    border: 2px solid var(--fill-color);\n",
              "    border-color: transparent;\n",
              "    border-bottom-color: var(--fill-color);\n",
              "    animation:\n",
              "      spin 1s steps(1) infinite;\n",
              "  }\n",
              "\n",
              "  @keyframes spin {\n",
              "    0% {\n",
              "      border-color: transparent;\n",
              "      border-bottom-color: var(--fill-color);\n",
              "      border-left-color: var(--fill-color);\n",
              "    }\n",
              "    20% {\n",
              "      border-color: transparent;\n",
              "      border-left-color: var(--fill-color);\n",
              "      border-top-color: var(--fill-color);\n",
              "    }\n",
              "    30% {\n",
              "      border-color: transparent;\n",
              "      border-left-color: var(--fill-color);\n",
              "      border-top-color: var(--fill-color);\n",
              "      border-right-color: var(--fill-color);\n",
              "    }\n",
              "    40% {\n",
              "      border-color: transparent;\n",
              "      border-right-color: var(--fill-color);\n",
              "      border-top-color: var(--fill-color);\n",
              "    }\n",
              "    60% {\n",
              "      border-color: transparent;\n",
              "      border-right-color: var(--fill-color);\n",
              "    }\n",
              "    80% {\n",
              "      border-color: transparent;\n",
              "      border-right-color: var(--fill-color);\n",
              "      border-bottom-color: var(--fill-color);\n",
              "    }\n",
              "    90% {\n",
              "      border-color: transparent;\n",
              "      border-bottom-color: var(--fill-color);\n",
              "    }\n",
              "  }\n",
              "</style>\n",
              "\n",
              "  <script>\n",
              "    async function quickchart(key) {\n",
              "      const quickchartButtonEl =\n",
              "        document.querySelector('#' + key + ' button');\n",
              "      quickchartButtonEl.disabled = true;  // To prevent multiple clicks.\n",
              "      quickchartButtonEl.classList.add('colab-df-spinner');\n",
              "      try {\n",
              "        const charts = await google.colab.kernel.invokeFunction(\n",
              "            'suggestCharts', [key], {});\n",
              "      } catch (error) {\n",
              "        console.error('Error during call to suggestCharts:', error);\n",
              "      }\n",
              "      quickchartButtonEl.classList.remove('colab-df-spinner');\n",
              "      quickchartButtonEl.classList.add('colab-df-quickchart-complete');\n",
              "    }\n",
              "    (() => {\n",
              "      let quickchartButtonEl =\n",
              "        document.querySelector('#df-d68cb581-a7f3-4862-bc68-711813923433 button');\n",
              "      quickchartButtonEl.style.display =\n",
              "        google.colab.kernel.accessAllowed ? 'block' : 'none';\n",
              "    })();\n",
              "  </script>\n",
              "</div>\n",
              "    </div>\n",
              "  </div>\n"
            ],
            "text/plain": [
              "  Category                                              Title  \\\n",
              "0       IT              코딩 전혀 몰라도 나만의 챗봇 뚝딱[ChatGPT AI 빅뱅 1년]   \n",
              "1       세계  Multi-modal AI gains global traction as techno...   \n",
              "2     오피니언  Imagination is key to prosperity in the AI cen...   \n",
              "\n",
              "                  Date                                            Article  \\\n",
              "0  2023.11.28. 오전 6:03  (상) 일상 파고든 AI최신 버전 GPT4, 음성도 인식소비자의 ‘AI 접근’ 문턱...   \n",
              "1  2023.11.30. 오후 2:44  [Courtesy of Soul Machines]Artificial intellig...   \n",
              "2  2023.11.29. 오후 8:11  Yeom Jae-ho The author, a former president of ...   \n",
              "\n",
              "                                                 URL PressCompany  \n",
              "0  https://n.news.naver.com/mnews/article/032/000...         경향신문  \n",
              "1  https://n.news.naver.com/mnews/article/009/000...         매일경제  \n",
              "2  https://n.news.naver.com/mnews/article/640/000...     코리아중앙데일리  "
            ]
          },
          "execution_count": 21,
          "metadata": {},
          "output_type": "execute_result"
        }
      ],
      "source": [
        "# 각 데이터 종류별 list에 담아둔 전체 데이터를 DataFrame에 모아둡니다.\n",
        "article_df = pd.DataFrame({'Category':categories,\n",
        "                           'Title':titles,\n",
        "                           'Date':dates,\n",
        "                           'Article':articles,\n",
        "                           'URL':article_urls,\n",
        "                           'PressCompany':press_companies})\n",
        "article_df"
      ]
    },
    {
      "cell_type": "markdown",
      "metadata": {
        "id": "lXBYxZIF_pB5"
      },
      "source": [
        "# 제출 평가 부분"
      ]
    },
    {
      "cell_type": "code",
      "execution_count": null,
      "metadata": {
        "id": "oi0NWviPJblt"
      },
      "outputs": [],
      "source": [
        "def main_crawling(query, start_date, end_date, sort_type, max_page):\n",
        "    '''\n",
        "    뉴스를 검색하여 데이터 프레임으로 반환\n",
        "    input args::\n",
        "        query: 검색하려는 뉴스주제\n",
        "        start_date: 뉴스검색이 시작되는 날짜\n",
        "        end_date: 뉴스검색이 끝나는 날짜\n",
        "        sort_type: 정렬타입. 관련도순 = 0, 최신순 = 1, 오래된순 = 2\n",
        "        max_page: \n",
        "    return:\n",
        "        데이터 필드: 날짜, 카테고리, 발행사, 제목, 기사문, 기사주소\n",
        "    '''\n",
        "    if query == '':\n",
        "        query = '데이터 분석'\n",
        "    if len(start_date) != 10:\n",
        "        start_date = '2021.01.01'\n",
        "    if len(end_date) != 10:\n",
        "        end_date = '2021.12.31'\n",
        "    if sort_type not in ['0', '1', '2']:\n",
        "        sort_type = '0'\n",
        "    if max_page == '':\n",
        "        max_page = 5\n",
        "\n",
        "\n",
        "    # 각 기사들의 데이터를 종류별로 나눠담을 리스트를 생성합니다. (추후 DataFrame으로 모을 예정)\n",
        "    categories = []\n",
        "    titles = []\n",
        "    dates = []\n",
        "    articles = []\n",
        "    article_urls = []\n",
        "    press_companies = []\n",
        "\n",
        "    # 주어진 일자를 쿼리에 맞는 형태로 변경해줍니다.\n",
        "    start_date = start_date.replace(\".\", \"\")\n",
        "    end_date = end_date.replace(\".\", \"\")\n",
        "\n",
        "    # 지정한 기간 내 원하는 페이지 수만큼의 기사를 크롤링합니다.\n",
        "    current_call = 1\n",
        "    last_call = (max_page - 1) * 10 + 1 # max_page이 5일 경우 41에 해당\n",
        "\n",
        "\n",
        "    while current_call <= last_call:\n",
        "\n",
        "        print('\\n{}번째 기사글부터 크롤링을 시작합니다.'.format(current_call))\n",
        "\n",
        "        url = \"https://search.naver.com/search.naver?where=news&query=\" + query \\\n",
        "              + \"&sort=\" + sort_type \\\n",
        "              + \"&nso=so%3Ar%2Cp%3Afrom\" + start_date \\\n",
        "              + \"to\" + end_date \\\n",
        "              + \"%2Ca%3A&start=\" + str(current_call)\n",
        "\n",
        "        urls_list = []\n",
        "        try: # 네이버 뉴스 검색결과 페이지 자체에 접근이 불가능할 경우 에러가 발생할 수 있습니다.\n",
        "            web = requests.get(url).content\n",
        "            source = BeautifulSoup(web, 'html.parser')\n",
        "\n",
        "            for urls in source.find_all('a', {'class' : \"info\"}):\n",
        "                if urls[\"href\"].startswith(\"https://n.news.naver.com\"):\n",
        "                    urls_list.append(urls[\"href\"])\n",
        "        except:\n",
        "            print('해당 뉴스 검색 페이지의 네이버 뉴스 링크를 모으는 중 에러가 발생했습니다. : ', url)\n",
        "\n",
        "        # urls_list : 해당 페이지에 있는 \"네이버 뉴스\"의 링크 모음(list)\n",
        "        if urls_list != []:\n",
        "            for url in urls_list:\n",
        "                try: # 특정 뉴스 기사글 하나를 크롤링하는 중 에러가 발생할 수 있습니다.ㄴ\n",
        "                    headers = {'User-Agent':'Mozilla/5.0 (Windows NT 6.3; Win64; x64) AppleWebKit/537.36 (KHTML, like Gecko) Chrome/63.0.3239.132 Safari/537.36'}\n",
        "                    web_news = requests.get(url, headers=headers).content\n",
        "                    source_news = BeautifulSoup(web_news, 'html.parser')\n",
        "                    # 1) 카테고리 class=\"media_end_categorize_item\"\n",
        "                    category = source_news.find('em',{'class' : 'media_end_categorize_item'}).get_text()\n",
        "\n",
        "                    title = source_news.find('h2', {'class' : 'media_end_head_headline'}).get_text()\n",
        "                    print('Processing article : {}'.format(title))\n",
        "\n",
        "                    date = source_news.find('span', {'class' : 'media_end_head_info_datestamp_time'}).get_text()\n",
        "\n",
        "                    article = source_news.find('article', {'id' : 'dic_area'}).get_text()\n",
        "                    article = article.replace(\"\\n\", \"\")\n",
        "                    article = article.replace(\"\\'\", \"\")\n",
        "                    # article = article.replace(\"// flash 오류를 우회하기 위한 함수 추가function _flash_removeCallback() {}\", \"\")\n",
        "                    # article = article.replace(\"동영상 뉴스       \", \"\")\n",
        "                    # article = article.replace(\"동영상 뉴스\", \"\")\n",
        "                    article = article.strip()\n",
        "\n",
        "                    press_company = source_news.find('em', {'class':'media_end_linked_more_point'}).get_text()\n",
        "\n",
        "                    categories.append(category)\n",
        "                    titles.append(title)\n",
        "                    dates.append(date)\n",
        "                    articles.append(article)\n",
        "                    press_companies.append(press_company)\n",
        "                    article_urls.append(url)\n",
        "                    time.sleep(1)\n",
        "                except:\n",
        "                    print('\\n*** {}번부터 {}번까지의 기사글을 크롤링하는 중 문제가 발생했습니다.'.format(current_call, current_call+9))\n",
        "                    print('*** 다음 링크의 뉴스를 크롤링하는 중 에러가 발생했습니다 : {}'.format(url))\n",
        "\n",
        "        else:\n",
        "            pass\n",
        "\n",
        "        current_call += 10\n",
        "\n",
        "\n",
        "    article_df = pd.DataFrame({'date':dates,\n",
        "                               'category':categories,\n",
        "                               'press':press_companies,\n",
        "                               'title':titles,\n",
        "                               'document':articles,\n",
        "                               'link':article_urls,\n",
        "                               })\n",
        "\n",
        "    # article_df.to_csv('result_{}.csv'.format(datetime.now().strftime('%y%m%d_%H%M')), index=False, encoding='utf-8')\n",
        "\n",
        "    print('\\n크롤링이 성공적으로 완료되었습니다!')\n",
        "    print('\\n크롤링 결과를 다음 파일에 저장하였습니다 : {}'.format(datetime.now().strftime('%y%m%d_%H%M')))\n",
        "\n",
        "    return article_df"
      ]
    },
    {
      "cell_type": "code",
      "execution_count": null,
      "metadata": {
        "colab": {
          "base_uri": "https://localhost:8080/"
        },
        "id": "WWoH3YzaJbiY",
        "outputId": "c886d3bf-04ba-46ce-d8c8-2c2ba76380b3"
      },
      "outputs": [
        {
          "name": "stdout",
          "output_type": "stream",
          "text": [
            "검색어를 입력해주세요. (ex. 데이터 분석) : 인공지능\n",
            "검색 시작 날짜를 입력해주세요. (형식 : 2021.01.01) : 2023.11.28\n",
            "검색 종료 날짜를 입력해주세요. (형식 : 2021.12.31) : 2023.11.30\n",
            "정렬 타입을 입력해주세요 (관련도순 = 0, 최신순 = 1, 오래된순 = 2) : 2\n",
            "크롤링을 원하는 전체 페이지 수를 입력해주세요. (ex. 5) : 5\n",
            "\n",
            "1번째 기사글부터 크롤링을 시작합니다.\n",
            "Processing article : [알림] 뉴스1 콘텐츠 저작권 고지\n",
            "Processing article : 연말 '인사폭풍' 부는 통신3사, 거세지는 '탈통신' 움직임\n",
            "Processing article : [제59회 중앙광고대상] AI로 연결된 세상, 친근한 메시지로 다가간 듯\n",
            "Processing article : 정의선, 미국 오토모티브뉴스 ‘자동차 산업 올해의 리더’\n",
            "\n",
            "11번째 기사글부터 크롤링을 시작합니다.\n",
            "\n",
            "21번째 기사글부터 크롤링을 시작합니다.\n",
            "\n",
            "31번째 기사글부터 크롤링을 시작합니다.\n",
            "\n",
            "41번째 기사글부터 크롤링을 시작합니다.\n",
            "\n",
            "크롤링이 성공적으로 완료되었습니다!\n",
            "\n",
            "크롤링 결과를 다음 파일에 저장하였습니다 : 231130_0912\n"
          ]
        }
      ],
      "source": [
        "query = input('검색어를 입력해주세요. (ex. 데이터 분석) : ')\n",
        "start_date = input('검색 시작 날짜를 입력해주세요. (형식 : 2021.01.01) : ')\n",
        "end_date = input('검색 종료 날짜를 입력해주세요. (형식 : 2021.12.31) : ')\n",
        "sort_type = input('정렬 타입을 입력해주세요 (관련도순 = 0, 최신순 = 1, 오래된순 = 2) : ')\n",
        "max_page = input('크롤링을 원하는 전체 페이지 수를 입력해주세요. (ex. 5) : ')\n",
        "\n",
        "if start_date > end_date:\n",
        "    print('\\n시작 날짜는 종료 날짜보다 이후로 지정하실 수 없습니다. 다시 실행해주세요!')\n",
        "elif max_page == '':\n",
        "    max_page = 5\n",
        "    print('\\n원하시는 페이지 수가 입력되지 않았습니다. 5 페이지까지만 크롤링을 진행합니다.')\n",
        "    main_crawling(query, start_date, end_date, sort_type, max_page)\n",
        "else:\n",
        "    max_page = int(max_page)\n",
        "    scraped_news = main_crawling(query, start_date, end_date, sort_type, max_page)\n",
        "    scraped_news.to_csv('result_{}.csv'.format(datetime.now().strftime('%y%m%d_%H%M')), index=False, encoding='utf-8')"
      ]
    },
    {
      "cell_type": "code",
      "execution_count": null,
      "metadata": {
        "id": "_OrtxQGk-amS"
      },
      "outputs": [],
      "source": []
    }
  ],
  "metadata": {
    "colab": {
      "authorship_tag": "ABX9TyNrSxnWGEaqDKwDjhL/yAll",
      "include_colab_link": true,
      "provenance": [],
      "toc_visible": true
    },
    "kernelspec": {
      "display_name": "Python 3",
      "name": "python3"
    },
    "language_info": {
      "name": "python"
    }
  },
  "nbformat": 4,
  "nbformat_minor": 0
}
