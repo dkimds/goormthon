{
  "cells": [
    {
      "cell_type": "code",
      "source": [
        "# Install konlpy\n",
        "!curl -s https://raw.githubusercontent.com/teddylee777/machine-learning/master/99-Misc/01-Colab/mecab-colab.sh | bash"
      ],
      "metadata": {
        "id": "cHfeXfkSMV8t"
      },
      "id": "cHfeXfkSMV8t",
      "execution_count": null,
      "outputs": []
    },
    {
      "cell_type": "code",
      "execution_count": null,
      "id": "6f3b329b",
      "metadata": {
        "id": "6f3b329b"
      },
      "outputs": [],
      "source": [
        "import pandas as pd\n",
        "import numpy as np\n",
        "import matplotlib.pyplot as plt\n",
        "from matplotlib import font_manager, rc\n",
        "\n",
        "\n",
        "from sklearn.preprocessing import OneHotEncoder, LabelEncoder\n",
        "from keras.preprocessing.text import Tokenizer\n",
        "\n",
        "import tensorflow as tf\n",
        "from tensorflow.keras import utils\n",
        "from tensorflow.keras.layers import Dense, LSTM, Dropout, Bidirectional, GlobalMaxPooling1D\n",
        "from tensorflow.keras.layers import Input, Embedding, Conv1D, Flatten, Conv2D, MaxPool2D\n",
        "from tensorflow.keras.layers import SpatialDropout1D, Reshape, Concatenate\n",
        "from tensorflow.keras.models import Sequential, Model\n",
        "from tensorflow.keras.preprocessing.text import Tokenizer\n",
        "from tensorflow.keras.preprocessing.sequence import pad_sequences\n",
        "from sklearn.model_selection import train_test_split\n",
        "from sklearn.metrics import roc_auc_score, accuracy_score\n",
        "from keras.preprocessing import text, sequence\n",
        "from keras.callbacks import Callback\n",
        "\n",
        "import gensim\n",
        "from gensim.models import word2vec\n",
        "from konlpy.tag import Kkma, Komoran, Okt, Hannanum\n",
        "\n",
        "import re"
      ]
    },
    {
      "cell_type": "markdown",
      "id": "b4bfeb1e",
      "metadata": {
        "id": "b4bfeb1e"
      },
      "source": [
        "# 데이터 준비하기"
      ]
    },
    {
      "cell_type": "code",
      "source": [
        "from google.colab import drive\n",
        "drive.mount('/content/drive') # 원하는 세부 경로로 변경이 불가능합니다."
      ],
      "metadata": {
        "colab": {
          "base_uri": "https://localhost:8080/"
        },
        "id": "iGWeT5wcOAXf",
        "outputId": "28f09c2a-f799-430f-f05e-5e610a79792e"
      },
      "id": "iGWeT5wcOAXf",
      "execution_count": null,
      "outputs": [
        {
          "output_type": "stream",
          "name": "stdout",
          "text": [
            "Mounted at /content/drive\n"
          ]
        }
      ]
    },
    {
      "cell_type": "code",
      "execution_count": null,
      "id": "8abfdd0a",
      "metadata": {
        "id": "8abfdd0a"
      },
      "outputs": [],
      "source": [
        "# TSV 파일 불러오기\n",
        "data_dir = '/content/drive/MyDrive/data/'\n",
        "train = pd.read_csv(data_dir + 'train.tsv', sep='\\t')\n",
        "test = pd.read_csv(data_dir + 'dev.tsv', sep='\\t')"
      ]
    },
    {
      "cell_type": "code",
      "execution_count": null,
      "id": "2e355bba",
      "metadata": {
        "colab": {
          "base_uri": "https://localhost:8080/",
          "height": 206
        },
        "id": "2e355bba",
        "outputId": "70cf948d-ada4-41eb-f9a2-cade50d683fc"
      },
      "outputs": [
        {
          "output_type": "execute_result",
          "data": {
            "text/plain": [
              "                                            comments  contain_gender_bias  \\\n",
              "0  (현재 호텔주인 심정) 아18 난 마른하늘에 날벼락맞고 호텔망하게생겼는데 누군 계속...                False   \n",
              "1  ....한국적인 미인의 대표적인 분...너무나 곱고아름다운모습...그모습뒤의 슬픔을...                False   \n",
              "2  ...못된 넘들...남의 고통을 즐겼던 넘들..이젠 마땅한 처벌을 받아야지..,그래...                False   \n",
              "3                 1,2화 어설펐는데 3,4화 지나서부터는 갈수록 너무 재밌던데                False   \n",
              "4  1. 사람 얼굴 손톱으로 긁은것은 인격살해이고2. 동영상이 몰카냐? 메걸리안들 생각...                 True   \n",
              "\n",
              "     bias  hate  \n",
              "0  others  hate  \n",
              "1    none  none  \n",
              "2    none  hate  \n",
              "3    none  none  \n",
              "4  gender  hate  "
            ],
            "text/html": [
              "\n",
              "  <div id=\"df-fd6862f6-98d7-4971-8262-aa6330db60b8\" class=\"colab-df-container\">\n",
              "    <div>\n",
              "<style scoped>\n",
              "    .dataframe tbody tr th:only-of-type {\n",
              "        vertical-align: middle;\n",
              "    }\n",
              "\n",
              "    .dataframe tbody tr th {\n",
              "        vertical-align: top;\n",
              "    }\n",
              "\n",
              "    .dataframe thead th {\n",
              "        text-align: right;\n",
              "    }\n",
              "</style>\n",
              "<table border=\"1\" class=\"dataframe\">\n",
              "  <thead>\n",
              "    <tr style=\"text-align: right;\">\n",
              "      <th></th>\n",
              "      <th>comments</th>\n",
              "      <th>contain_gender_bias</th>\n",
              "      <th>bias</th>\n",
              "      <th>hate</th>\n",
              "    </tr>\n",
              "  </thead>\n",
              "  <tbody>\n",
              "    <tr>\n",
              "      <th>0</th>\n",
              "      <td>(현재 호텔주인 심정) 아18 난 마른하늘에 날벼락맞고 호텔망하게생겼는데 누군 계속...</td>\n",
              "      <td>False</td>\n",
              "      <td>others</td>\n",
              "      <td>hate</td>\n",
              "    </tr>\n",
              "    <tr>\n",
              "      <th>1</th>\n",
              "      <td>....한국적인 미인의 대표적인 분...너무나 곱고아름다운모습...그모습뒤의 슬픔을...</td>\n",
              "      <td>False</td>\n",
              "      <td>none</td>\n",
              "      <td>none</td>\n",
              "    </tr>\n",
              "    <tr>\n",
              "      <th>2</th>\n",
              "      <td>...못된 넘들...남의 고통을 즐겼던 넘들..이젠 마땅한 처벌을 받아야지..,그래...</td>\n",
              "      <td>False</td>\n",
              "      <td>none</td>\n",
              "      <td>hate</td>\n",
              "    </tr>\n",
              "    <tr>\n",
              "      <th>3</th>\n",
              "      <td>1,2화 어설펐는데 3,4화 지나서부터는 갈수록 너무 재밌던데</td>\n",
              "      <td>False</td>\n",
              "      <td>none</td>\n",
              "      <td>none</td>\n",
              "    </tr>\n",
              "    <tr>\n",
              "      <th>4</th>\n",
              "      <td>1. 사람 얼굴 손톱으로 긁은것은 인격살해이고2. 동영상이 몰카냐? 메걸리안들 생각...</td>\n",
              "      <td>True</td>\n",
              "      <td>gender</td>\n",
              "      <td>hate</td>\n",
              "    </tr>\n",
              "  </tbody>\n",
              "</table>\n",
              "</div>\n",
              "    <div class=\"colab-df-buttons\">\n",
              "\n",
              "  <div class=\"colab-df-container\">\n",
              "    <button class=\"colab-df-convert\" onclick=\"convertToInteractive('df-fd6862f6-98d7-4971-8262-aa6330db60b8')\"\n",
              "            title=\"Convert this dataframe to an interactive table.\"\n",
              "            style=\"display:none;\">\n",
              "\n",
              "  <svg xmlns=\"http://www.w3.org/2000/svg\" height=\"24px\" viewBox=\"0 -960 960 960\">\n",
              "    <path d=\"M120-120v-720h720v720H120Zm60-500h600v-160H180v160Zm220 220h160v-160H400v160Zm0 220h160v-160H400v160ZM180-400h160v-160H180v160Zm440 0h160v-160H620v160ZM180-180h160v-160H180v160Zm440 0h160v-160H620v160Z\"/>\n",
              "  </svg>\n",
              "    </button>\n",
              "\n",
              "  <style>\n",
              "    .colab-df-container {\n",
              "      display:flex;\n",
              "      gap: 12px;\n",
              "    }\n",
              "\n",
              "    .colab-df-convert {\n",
              "      background-color: #E8F0FE;\n",
              "      border: none;\n",
              "      border-radius: 50%;\n",
              "      cursor: pointer;\n",
              "      display: none;\n",
              "      fill: #1967D2;\n",
              "      height: 32px;\n",
              "      padding: 0 0 0 0;\n",
              "      width: 32px;\n",
              "    }\n",
              "\n",
              "    .colab-df-convert:hover {\n",
              "      background-color: #E2EBFA;\n",
              "      box-shadow: 0px 1px 2px rgba(60, 64, 67, 0.3), 0px 1px 3px 1px rgba(60, 64, 67, 0.15);\n",
              "      fill: #174EA6;\n",
              "    }\n",
              "\n",
              "    .colab-df-buttons div {\n",
              "      margin-bottom: 4px;\n",
              "    }\n",
              "\n",
              "    [theme=dark] .colab-df-convert {\n",
              "      background-color: #3B4455;\n",
              "      fill: #D2E3FC;\n",
              "    }\n",
              "\n",
              "    [theme=dark] .colab-df-convert:hover {\n",
              "      background-color: #434B5C;\n",
              "      box-shadow: 0px 1px 3px 1px rgba(0, 0, 0, 0.15);\n",
              "      filter: drop-shadow(0px 1px 2px rgba(0, 0, 0, 0.3));\n",
              "      fill: #FFFFFF;\n",
              "    }\n",
              "  </style>\n",
              "\n",
              "    <script>\n",
              "      const buttonEl =\n",
              "        document.querySelector('#df-fd6862f6-98d7-4971-8262-aa6330db60b8 button.colab-df-convert');\n",
              "      buttonEl.style.display =\n",
              "        google.colab.kernel.accessAllowed ? 'block' : 'none';\n",
              "\n",
              "      async function convertToInteractive(key) {\n",
              "        const element = document.querySelector('#df-fd6862f6-98d7-4971-8262-aa6330db60b8');\n",
              "        const dataTable =\n",
              "          await google.colab.kernel.invokeFunction('convertToInteractive',\n",
              "                                                    [key], {});\n",
              "        if (!dataTable) return;\n",
              "\n",
              "        const docLinkHtml = 'Like what you see? Visit the ' +\n",
              "          '<a target=\"_blank\" href=https://colab.research.google.com/notebooks/data_table.ipynb>data table notebook</a>'\n",
              "          + ' to learn more about interactive tables.';\n",
              "        element.innerHTML = '';\n",
              "        dataTable['output_type'] = 'display_data';\n",
              "        await google.colab.output.renderOutput(dataTable, element);\n",
              "        const docLink = document.createElement('div');\n",
              "        docLink.innerHTML = docLinkHtml;\n",
              "        element.appendChild(docLink);\n",
              "      }\n",
              "    </script>\n",
              "  </div>\n",
              "\n",
              "\n",
              "<div id=\"df-ec18e4af-703d-499b-aa68-2d5c400c3f02\">\n",
              "  <button class=\"colab-df-quickchart\" onclick=\"quickchart('df-ec18e4af-703d-499b-aa68-2d5c400c3f02')\"\n",
              "            title=\"Suggest charts\"\n",
              "            style=\"display:none;\">\n",
              "\n",
              "<svg xmlns=\"http://www.w3.org/2000/svg\" height=\"24px\"viewBox=\"0 0 24 24\"\n",
              "     width=\"24px\">\n",
              "    <g>\n",
              "        <path d=\"M19 3H5c-1.1 0-2 .9-2 2v14c0 1.1.9 2 2 2h14c1.1 0 2-.9 2-2V5c0-1.1-.9-2-2-2zM9 17H7v-7h2v7zm4 0h-2V7h2v10zm4 0h-2v-4h2v4z\"/>\n",
              "    </g>\n",
              "</svg>\n",
              "  </button>\n",
              "\n",
              "<style>\n",
              "  .colab-df-quickchart {\n",
              "      --bg-color: #E8F0FE;\n",
              "      --fill-color: #1967D2;\n",
              "      --hover-bg-color: #E2EBFA;\n",
              "      --hover-fill-color: #174EA6;\n",
              "      --disabled-fill-color: #AAA;\n",
              "      --disabled-bg-color: #DDD;\n",
              "  }\n",
              "\n",
              "  [theme=dark] .colab-df-quickchart {\n",
              "      --bg-color: #3B4455;\n",
              "      --fill-color: #D2E3FC;\n",
              "      --hover-bg-color: #434B5C;\n",
              "      --hover-fill-color: #FFFFFF;\n",
              "      --disabled-bg-color: #3B4455;\n",
              "      --disabled-fill-color: #666;\n",
              "  }\n",
              "\n",
              "  .colab-df-quickchart {\n",
              "    background-color: var(--bg-color);\n",
              "    border: none;\n",
              "    border-radius: 50%;\n",
              "    cursor: pointer;\n",
              "    display: none;\n",
              "    fill: var(--fill-color);\n",
              "    height: 32px;\n",
              "    padding: 0;\n",
              "    width: 32px;\n",
              "  }\n",
              "\n",
              "  .colab-df-quickchart:hover {\n",
              "    background-color: var(--hover-bg-color);\n",
              "    box-shadow: 0 1px 2px rgba(60, 64, 67, 0.3), 0 1px 3px 1px rgba(60, 64, 67, 0.15);\n",
              "    fill: var(--button-hover-fill-color);\n",
              "  }\n",
              "\n",
              "  .colab-df-quickchart-complete:disabled,\n",
              "  .colab-df-quickchart-complete:disabled:hover {\n",
              "    background-color: var(--disabled-bg-color);\n",
              "    fill: var(--disabled-fill-color);\n",
              "    box-shadow: none;\n",
              "  }\n",
              "\n",
              "  .colab-df-spinner {\n",
              "    border: 2px solid var(--fill-color);\n",
              "    border-color: transparent;\n",
              "    border-bottom-color: var(--fill-color);\n",
              "    animation:\n",
              "      spin 1s steps(1) infinite;\n",
              "  }\n",
              "\n",
              "  @keyframes spin {\n",
              "    0% {\n",
              "      border-color: transparent;\n",
              "      border-bottom-color: var(--fill-color);\n",
              "      border-left-color: var(--fill-color);\n",
              "    }\n",
              "    20% {\n",
              "      border-color: transparent;\n",
              "      border-left-color: var(--fill-color);\n",
              "      border-top-color: var(--fill-color);\n",
              "    }\n",
              "    30% {\n",
              "      border-color: transparent;\n",
              "      border-left-color: var(--fill-color);\n",
              "      border-top-color: var(--fill-color);\n",
              "      border-right-color: var(--fill-color);\n",
              "    }\n",
              "    40% {\n",
              "      border-color: transparent;\n",
              "      border-right-color: var(--fill-color);\n",
              "      border-top-color: var(--fill-color);\n",
              "    }\n",
              "    60% {\n",
              "      border-color: transparent;\n",
              "      border-right-color: var(--fill-color);\n",
              "    }\n",
              "    80% {\n",
              "      border-color: transparent;\n",
              "      border-right-color: var(--fill-color);\n",
              "      border-bottom-color: var(--fill-color);\n",
              "    }\n",
              "    90% {\n",
              "      border-color: transparent;\n",
              "      border-bottom-color: var(--fill-color);\n",
              "    }\n",
              "  }\n",
              "</style>\n",
              "\n",
              "  <script>\n",
              "    async function quickchart(key) {\n",
              "      const quickchartButtonEl =\n",
              "        document.querySelector('#' + key + ' button');\n",
              "      quickchartButtonEl.disabled = true;  // To prevent multiple clicks.\n",
              "      quickchartButtonEl.classList.add('colab-df-spinner');\n",
              "      try {\n",
              "        const charts = await google.colab.kernel.invokeFunction(\n",
              "            'suggestCharts', [key], {});\n",
              "      } catch (error) {\n",
              "        console.error('Error during call to suggestCharts:', error);\n",
              "      }\n",
              "      quickchartButtonEl.classList.remove('colab-df-spinner');\n",
              "      quickchartButtonEl.classList.add('colab-df-quickchart-complete');\n",
              "    }\n",
              "    (() => {\n",
              "      let quickchartButtonEl =\n",
              "        document.querySelector('#df-ec18e4af-703d-499b-aa68-2d5c400c3f02 button');\n",
              "      quickchartButtonEl.style.display =\n",
              "        google.colab.kernel.accessAllowed ? 'block' : 'none';\n",
              "    })();\n",
              "  </script>\n",
              "</div>\n",
              "\n",
              "    </div>\n",
              "  </div>\n"
            ]
          },
          "metadata": {},
          "execution_count": 7
        }
      ],
      "source": [
        "train.head()"
      ]
    },
    {
      "cell_type": "code",
      "execution_count": null,
      "id": "3e8eb88a",
      "metadata": {
        "colab": {
          "base_uri": "https://localhost:8080/"
        },
        "id": "3e8eb88a",
        "outputId": "a1af9431-8b7a-4e4e-ddcb-07151bb40706"
      },
      "outputs": [
        {
          "output_type": "execute_result",
          "data": {
            "text/plain": [
              "(comments               0\n",
              " contain_gender_bias    0\n",
              " bias                   0\n",
              " hate                   0\n",
              " dtype: int64,\n",
              " comments               0\n",
              " contain_gender_bias    0\n",
              " bias                   0\n",
              " hate                   0\n",
              " dtype: int64)"
            ]
          },
          "metadata": {},
          "execution_count": 8
        }
      ],
      "source": [
        "train.isna().sum(), test.isna().sum()"
      ]
    },
    {
      "cell_type": "code",
      "execution_count": null,
      "id": "2d79cf2d",
      "metadata": {
        "colab": {
          "base_uri": "https://localhost:8080/"
        },
        "id": "2d79cf2d",
        "outputId": "194fabce-8abd-4b9f-d9e7-25c4ac8d94cb"
      },
      "outputs": [
        {
          "output_type": "execute_result",
          "data": {
            "text/plain": [
              "none         0.441489\n",
              "offensive    0.316489\n",
              "hate         0.242021\n",
              "Name: hate, dtype: float64"
            ]
          },
          "metadata": {},
          "execution_count": 9
        }
      ],
      "source": [
        "# 라벨 데이터 확인 - 다중 분류 문제\n",
        "train['hate'].value_counts()/len(train)"
      ]
    },
    {
      "cell_type": "code",
      "execution_count": null,
      "id": "27f9f845",
      "metadata": {
        "colab": {
          "base_uri": "https://localhost:8080/"
        },
        "id": "27f9f845",
        "outputId": "5de9c85e-6bcb-4db8-b139-15bb3d0a1801"
      },
      "outputs": [
        {
          "output_type": "execute_result",
          "data": {
            "text/plain": [
              "offensive    0.401274\n",
              "none         0.339703\n",
              "hate         0.259023\n",
              "Name: hate, dtype: float64"
            ]
          },
          "metadata": {},
          "execution_count": 10
        }
      ],
      "source": [
        "# train 과 test 라벨 데이터 분포 비교 (비슷함 확인)\n",
        "test['hate'].value_counts()/len(test)"
      ]
    },
    {
      "cell_type": "code",
      "execution_count": null,
      "id": "32ed072e",
      "metadata": {
        "colab": {
          "base_uri": "https://localhost:8080/"
        },
        "id": "32ed072e",
        "outputId": "04c3fcc0-57f1-4964-d375-7b65925288e8"
      },
      "outputs": [
        {
          "output_type": "execute_result",
          "data": {
            "text/plain": [
              "((7896, 4), (471, 4))"
            ]
          },
          "metadata": {},
          "execution_count": 11
        }
      ],
      "source": [
        "train.shape, test.shape"
      ]
    },
    {
      "cell_type": "code",
      "execution_count": null,
      "id": "1523645a",
      "metadata": {
        "id": "1523645a"
      },
      "outputs": [],
      "source": [
        "train = train[['comments','hate']]\n",
        "test = test[['comments','hate']]"
      ]
    },
    {
      "cell_type": "markdown",
      "id": "062ccaae",
      "metadata": {
        "id": "062ccaae"
      },
      "source": [
        "# 타겟변수 인코딩 (라벨-원핫 인코딩)"
      ]
    },
    {
      "cell_type": "code",
      "execution_count": null,
      "id": "23224158",
      "metadata": {
        "colab": {
          "base_uri": "https://localhost:8080/"
        },
        "id": "23224158",
        "outputId": "7aff6d16-9e0f-46db-971a-2665b9c2e351"
      },
      "outputs": [
        {
          "output_type": "stream",
          "name": "stdout",
          "text": [
            "                                               comments  hate  label_encoded\n",
            "0     (현재 호텔주인 심정) 아18 난 마른하늘에 날벼락맞고 호텔망하게생겼는데 누군 계속...  hate              0\n",
            "1     ....한국적인 미인의 대표적인 분...너무나 곱고아름다운모습...그모습뒤의 슬픔을...  none              1\n",
            "2     ...못된 넘들...남의 고통을 즐겼던 넘들..이젠 마땅한 처벌을 받아야지..,그래...  hate              0\n",
            "3                    1,2화 어설펐는데 3,4화 지나서부터는 갈수록 너무 재밌던데  none              1\n",
            "4     1. 사람 얼굴 손톱으로 긁은것은 인격살해이고2. 동영상이 몰카냐? 메걸리안들 생각...  hate              0\n",
            "...                                                 ...   ...            ...\n",
            "7891                                      힘내세요~ 응원합니다!!  none              1\n",
            "7892                             힘내세요~~삼가 고인의 명복을 빕니다..  none              1\n",
            "7893                              힘내세용 ^^ 항상 응원합니닷 ^^ !  none              1\n",
            "7894  힘내소...연기로 답해요.나도 53살 인데 이런일 저런일 다 있더라구요.인격을 믿습...  none              1\n",
            "7895                                 힘들면 관뒀어야지 그게 현명한거다  none              1\n",
            "\n",
            "[7896 rows x 3 columns]\n"
          ]
        },
        {
          "output_type": "stream",
          "name": "stderr",
          "text": [
            "<ipython-input-13-0d89f2f6095c>:3: SettingWithCopyWarning: \n",
            "A value is trying to be set on a copy of a slice from a DataFrame.\n",
            "Try using .loc[row_indexer,col_indexer] = value instead\n",
            "\n",
            "See the caveats in the documentation: https://pandas.pydata.org/pandas-docs/stable/user_guide/indexing.html#returning-a-view-versus-a-copy\n",
            "  train['label_encoded'] = label_encoder.fit_transform(train['hate'])\n"
          ]
        }
      ],
      "source": [
        "# LabelEncoder를 사용하여 문자열 레이블을 정수로 변환\n",
        "label_encoder = LabelEncoder()\n",
        "train['label_encoded'] = label_encoder.fit_transform(train['hate'])\n",
        "\n",
        "# # OneHotEncoder를 사용하여 원-핫 인코딩 : loss : sparse 삭제\n",
        "# onehot_encoder = OneHotEncoder(sparse=False)\n",
        "# onehot_encoded = onehot_encoder.fit_transform(train[['label_encoded']])\n",
        "\n",
        "# train_label = utils.to_categorical(train_label) # 0 or 1 -> one-hot vector\n",
        "# test_label = utils.to_categorical(test_label) # 0 or 1 -> one-hot vector\n",
        "\n",
        "# # 결과 확인\n",
        "# # train['label_encoded'] = train['label_encoded'].astype(str)  # 정수를 문자열로 변환 (선택적)\n",
        "# train['onehot_encoded'] = list(map(lambda x: list(map(int, x)), onehot_encoded))\n",
        "print(train)"
      ]
    },
    {
      "cell_type": "markdown",
      "id": "a36bd3c4",
      "metadata": {
        "id": "a36bd3c4"
      },
      "source": [
        "# 한국어 전처리"
      ]
    },
    {
      "cell_type": "code",
      "execution_count": null,
      "id": "5503a607",
      "metadata": {
        "id": "5503a607"
      },
      "outputs": [],
      "source": [
        "def morphs_cleaning(column):\n",
        "    '''\n",
        "    1. 함수 설명 : input으로 넣은 열을 토큰화하고 불용어 제거, 숫자 및 구두점 제거 문자만 추출, 클렌징 작업을 마친 문장을 리스트로 반환하는 함수\n",
        "    2. Args :\n",
        "        column   (Series) : 클렌징하고 싶은 열 이름\n",
        "    3. Return :\n",
        "        cleaned_list (List) : 클렌징 작업을 마친 리스트 형태의 데이터\n",
        "    '''\n",
        "\n",
        "    okt = Okt()\n",
        "\n",
        "    cleaned_list = [] # 클렌징된 본문 내용\n",
        "    # 감정분석이므로 중립적인 단어만 빼자\n",
        "    stopwords = ['하다','있다','같다','너무','되다','그렇다','돼다','나다','때문','스럽다','지금','우리','되어다','이렇다'\n",
        "                 ,'하나','이다','대해','위해','자기','그렇게','수가','두다','진짜','정도','이렇게','내다','이지','말다'\n",
        "                 ,'내','들','것','나','수','게','거','다','때','이','적','그','응','난','걸','건','곳','후','님','데','중','만'\n",
        "                 , '좀', '한', '니', '하', '더', '뭐', '애', '저', '지다', '하', '너', '해', '네', '기', '아', '도', '전','알'\n",
        "                 , '자', '대', '함', '듯', '두', '줄','임','살','분','남','지','머','원','보다','대다','제','연','성','문','앞'\n",
        "                 , '가','은','에','는','을','의','를','로','으로','고','에서','하고','들다','가다','인데','주','구','번'\n",
        "                 ,'인','라','면','랑','까지','야','한테','냐','요','이나','차다','이나','치','리다','과','서','부터'\n",
        "                 ,'해주다','싶다','이랑','이네','처럼','와','여','비','라고','이라','에게','이냐','해보다','이야','이고','이라고'\n",
        "                 ,'인가','이다','녀','명','눈','세','서다','사','찌','시','위','상','기','니까','엔','에는','그','저','처','조'\n",
        "                 ,'래','라는','모','물','보','식','든','단','에도','이번','이기','젠','몇','질','이라는','바','재','감','얼','양'\n",
        "                 ,'작','백','죠','이니','솔','인거','밖에','지만','어','라면','이래','그거','저거','이거','씩','박'\n",
        "                ]\n",
        "    for idx in range(len(column)):\n",
        "        #- 토큰화, 품사 태깅\n",
        "        # stem은 아름다운-> 아름답다\n",
        "        # norm ~하게 -> 하다\n",
        "        raw_morphs_tagged = okt.morphs(column[idx], norm=True, stem=True)\n",
        "\n",
        "        # 불용어 제거\n",
        "        word_cleaned = []\n",
        "        for word in raw_morphs_tagged: #  ('서울', 'Noun'), ('인천', 'Noun')\n",
        "            # Foreign == ”, “ 와 같이 제외되어야할 항목들\n",
        "            # & 한 글자로 이뤄진 단어들을 제외 & 원치 않는 단어들을 제외\n",
        "            # 특수 기호에 해당하지 않을 경우\n",
        "\n",
        "            if (word not in stopwords) and re.match('^[a-zA-Z가-힣]+', word):\n",
        "                word_cleaned.append(word)\n",
        "\n",
        "        word_cleaned = ' '.join(word_cleaned)\n",
        "        cleaned_list.append(word_cleaned)\n",
        "\n",
        "\n",
        "    return cleaned_list\n"
      ]
    },
    {
      "cell_type": "code",
      "execution_count": null,
      "id": "69a676c8",
      "metadata": {
        "id": "69a676c8"
      },
      "outputs": [],
      "source": [
        "# 전처리된 열과 사용빈도를 확인하기\n",
        "cleaned_list = morphs_cleaning(train['comments'])"
      ]
    },
    {
      "cell_type": "code",
      "execution_count": null,
      "id": "e30c5bdc",
      "metadata": {
        "colab": {
          "base_uri": "https://localhost:8080/"
        },
        "id": "e30c5bdc",
        "outputId": "6bd37c2f-5766-4e54-e49c-b8c08172f810"
      },
      "outputs": [
        {
          "output_type": "stream",
          "name": "stdout",
          "text": [
            "0    (현재 호텔주인 심정) 아18 난 마른하늘에 날벼락맞고 호텔망하게생겼는데 누군 계속...\n",
            "1    ....한국적인 미인의 대표적인 분...너무나 곱고아름다운모습...그모습뒤의 슬픔을...\n",
            "2    ...못된 넘들...남의 고통을 즐겼던 넘들..이젠 마땅한 처벌을 받아야지..,그래...\n",
            "Name: comments, dtype: object\n"
          ]
        }
      ],
      "source": [
        "print(train['comments'][:3])"
      ]
    },
    {
      "cell_type": "code",
      "execution_count": null,
      "id": "0c3ae608",
      "metadata": {
        "colab": {
          "base_uri": "https://localhost:8080/"
        },
        "id": "0c3ae608",
        "outputId": "d009c3e4-6542-4958-f6ec-16fb6df74a6e"
      },
      "outputs": [
        {
          "output_type": "execute_result",
          "data": {
            "text/plain": [
              "['현재 호텔 주인 심정 마른하늘 날벼락 맞다 호텔 망하다 생기다 누 군 계속 추모 받다',\n",
              " '한국 미인 대표 너무나 곱 아름답다 모습 모습 뒤 슬픔 미처 알다',\n",
              " '못 넘다 고통 즐기다 넘다 마땅하다 처벌 받다 래야 공정하다 사회 심다 거두다']"
            ]
          },
          "metadata": {},
          "execution_count": 17
        }
      ],
      "source": [
        "cleaned_list[:3]"
      ]
    },
    {
      "cell_type": "code",
      "execution_count": null,
      "id": "07a48977",
      "metadata": {
        "colab": {
          "base_uri": "https://localhost:8080/"
        },
        "id": "07a48977",
        "outputId": "dc97db7e-3415-4ade-9a61-cc53563628d2"
      },
      "outputs": [
        {
          "output_type": "stream",
          "name": "stdout",
          "text": [
            "korean_hate_speech.txt 파일 저장됨!\n"
          ]
        }
      ],
      "source": [
        "# 전처리한 결과를 텍스트 파일로 저장\n",
        "result_file = 'korean_hate_speech.txt'       # 텍스트 파일임!\n",
        "with open(result_file, 'wt', encoding='utf-8') as myfile:\n",
        "     myfile.write('\\n'.join(cleaned_list))           # 라인으로 결합\n",
        "\n",
        "print(result_file + ' 파일 저장됨!')"
      ]
    },
    {
      "cell_type": "markdown",
      "id": "99c4e1eb",
      "metadata": {
        "id": "99c4e1eb"
      },
      "source": [
        "# 토큰화 및 사전 만들기"
      ]
    },
    {
      "cell_type": "code",
      "source": [
        "# Okt 객체 생성\n",
        "okt = Okt()\n",
        "# 각 문서에 대해 Okt를 사용하여 토큰화\n",
        "tokenized_documents = [okt.morphs(sentence) for sentence in cleaned_list]\n",
        "# Tokenizer 객체 생성 및 단어 인덱스 생성\n",
        "tokenizer = Tokenizer()\n",
        "tokenizer.fit_on_texts(tokenized_documents)\n",
        "input_sequences = tokenizer.texts_to_sequences(cleaned_list)\n",
        "word_index = tokenizer.word_index\n",
        "max_vocab_size = 150000\n",
        "vocab_size = min(max_vocab_size, len(word_index) + 1)\n",
        "vocab_size"
      ],
      "metadata": {
        "colab": {
          "base_uri": "https://localhost:8080/"
        },
        "id": "-RIK0t78ZTMS",
        "outputId": "e638fd9f-84a1-473a-b6c4-8207fa16cfd2"
      },
      "id": "-RIK0t78ZTMS",
      "execution_count": null,
      "outputs": [
        {
          "output_type": "execute_result",
          "data": {
            "text/plain": [
              "11730"
            ]
          },
          "metadata": {},
          "execution_count": 21
        }
      ]
    },
    {
      "cell_type": "code",
      "execution_count": 62,
      "id": "c3ab67e8",
      "metadata": {
        "scrolled": true,
        "colab": {
          "base_uri": "https://localhost:8080/"
        },
        "id": "c3ab67e8",
        "outputId": "62b2783c-7adf-4b39-f6d3-f2cde8a94e80"
      },
      "outputs": [
        {
          "output_type": "execute_result",
          "data": {
            "text/plain": [
              "array([   0,    0,    0,    0,    0,    0,    0,    0,    0,    0,    0,\n",
              "          0,    0,    0,    0,    0,    0,    0,    0,    0,    0,    0,\n",
              "          0,    0,    0,    0,    0,    0,    0,    0,    0,    0,    0,\n",
              "          0,    0,    0,    0,    0,    0,    0,    0,    0,    0,    0,\n",
              "          0,    0,    0,    0,    0,    0,    0,    0,    0,    0,    0,\n",
              "          0,    0,    0, 1181, 1304, 2565, 1877, 5965, 4171,   40, 1304,\n",
              "        160,  792,  697,  149, 1878,   30], dtype=int32)"
            ]
          },
          "metadata": {},
          "execution_count": 62
        }
      ],
      "source": [
        "# PBL3 참조\n",
        "max_len = 72\n",
        "padded_sequences = pad_sequences(input_sequences, maxlen=max_len)\n",
        "padded_sequences[0]"
      ]
    },
    {
      "cell_type": "markdown",
      "id": "45cee72b",
      "metadata": {
        "id": "45cee72b"
      },
      "source": [
        "# Word2Vec 임베딩하기"
      ]
    },
    {
      "cell_type": "code",
      "execution_count": null,
      "id": "2daccdf6",
      "metadata": {
        "id": "2daccdf6"
      },
      "outputs": [],
      "source": [
        "# 지난 번에 만든 word2vec 모델 불러오기\n",
        "model_dir = '/content/drive/MyDrive/models/'\n",
        "model_filename = model_dir + 'kor_w2v.model'\n",
        "model = word2vec.Word2Vec.load(model_filename)"
      ]
    },
    {
      "cell_type": "code",
      "execution_count": null,
      "id": "f383d2d1",
      "metadata": {
        "id": "f383d2d1"
      },
      "outputs": [],
      "source": [
        "def make_embedding(vocab_size, embedding_dim):\n",
        "\n",
        "    embeddings_dict = {}\n",
        "    for i in range(len(word_index)):\n",
        "        if i < max_vocab_size:\n",
        "            word = list(word_index.keys())[i]\n",
        "            try:\n",
        "                embeddings_dict[word] = model.wv[word]\n",
        "            except KeyError:\n",
        "                pass\n",
        "\n",
        "    embedding_matrix = np.zeros((vocab_size, embedding_dim))    # zero 로 초기화\n",
        "\n",
        "    print(\"word 갯수 =\", vocab_size)\n",
        "    print(embedding_matrix.shape)\n",
        "\n",
        "    count = 0\n",
        "    for word, i in word_index.items():\n",
        "        embedding_vector = embeddings_dict.get(word)\n",
        "        if embedding_vector is not None:         # 해당 word 가 없으면 all zero 로 남겨둠\n",
        "            count += 1\n",
        "            embedding_matrix[i] = embedding_vector\n",
        "    print('pre-trained embedding : {} 개'.format(count))\n",
        "    return embedding_matrix"
      ]
    },
    {
      "cell_type": "code",
      "source": [
        "model.wv.vectors.shape"
      ],
      "metadata": {
        "colab": {
          "base_uri": "https://localhost:8080/"
        },
        "id": "HbyuyOIKQkLT",
        "outputId": "74f64193-4186-465a-8f24-cae8b6239242"
      },
      "id": "HbyuyOIKQkLT",
      "execution_count": null,
      "outputs": [
        {
          "output_type": "execute_result",
          "data": {
            "text/plain": [
              "(16477, 100)"
            ]
          },
          "metadata": {},
          "execution_count": 35
        }
      ]
    },
    {
      "cell_type": "code",
      "execution_count": 23,
      "id": "2e80f239",
      "metadata": {
        "colab": {
          "base_uri": "https://localhost:8080/"
        },
        "id": "2e80f239",
        "outputId": "0935e46a-41f8-49e7-8a8a-109aca7842d1"
      },
      "outputs": [
        {
          "output_type": "stream",
          "name": "stdout",
          "text": [
            "word 갯수 = 16477\n",
            "(16477, 100)\n",
            "pre-trained embedding : 7408 개\n"
          ]
        }
      ],
      "source": [
        "# create embedding layer\n",
        "embedding_dim = 100\n",
        "vocab_size = 16477\n",
        "embedding_matrix = make_embedding(vocab_size, embedding_dim)"
      ]
    },
    {
      "cell_type": "markdown",
      "id": "747ac087",
      "metadata": {
        "id": "747ac087"
      },
      "source": [
        "# 모델 만들기"
      ]
    },
    {
      "cell_type": "code",
      "execution_count": 24,
      "id": "f28d5ae8",
      "metadata": {
        "id": "f28d5ae8"
      },
      "outputs": [],
      "source": [
        "class RocAucEvaluation(Callback):\n",
        "    def __init__(self, validation_data=(), interval=1):\n",
        "        super(Callback, self).__init__()\n",
        "\n",
        "        self.interval = interval\n",
        "        self.X_val, self.y_val = validation_data\n",
        "\n",
        "    def on_epoch_end(self, epoch, logs={}):\n",
        "        if epoch % self.interval == 0:\n",
        "            y_pred = self.model.predict(self.X_val, verbose=0)\n",
        "            score = roc_auc_score(self.y_val, y_pred, multi_class='ovo') # 'ovr' 또는 'ovo'\n",
        "            print(\"\\n ROC-AUC - epoch: %d - score: %.6f \\n\" % (epoch+1, score))\n"
      ]
    },
    {
      "cell_type": "code",
      "execution_count": 57,
      "id": "26d2623e",
      "metadata": {
        "id": "26d2623e"
      },
      "outputs": [],
      "source": [
        "\n",
        "filter_sizes = [1,2,3,5]\n",
        "num_filters = 32\n",
        "\n",
        "def get_model():\n",
        "    \"\"\"\n",
        "\n",
        "\n",
        "    \"\"\"\n",
        "    inp = Input(shape=(max_len, ))\n",
        "    x = Embedding(vocab_size, embedding_dim, weights=[embedding_matrix], trainable=True)(inp)\n",
        "    x = SpatialDropout1D(0.4)(x)\n",
        "    x = Reshape((max_len, embedding_dim, 1))(x)\n",
        "\n",
        "    conv_0 = Conv2D(num_filters, kernel_size=(filter_sizes[0], embedding_dim), kernel_initializer='normal',\n",
        "                                                                                    activation='elu')(x)\n",
        "    conv_1 = Conv2D(num_filters, kernel_size=(filter_sizes[1], embedding_dim), kernel_initializer='normal',\n",
        "                                                                                    activation='elu')(x)\n",
        "    conv_2 = Conv2D(num_filters, kernel_size=(filter_sizes[2], embedding_dim), kernel_initializer='normal',\n",
        "                                                                                    activation='elu')(x)\n",
        "    conv_3 = Conv2D(num_filters, kernel_size=(filter_sizes[3], embedding_dim), kernel_initializer='normal',\n",
        "                                                                                    activation='elu')(x)\n",
        "\n",
        "    maxpool_0 = MaxPool2D(pool_size=(max_len - filter_sizes[0] + 1, 1))(conv_0)\n",
        "    maxpool_1 = MaxPool2D(pool_size=(max_len - filter_sizes[1] + 1, 1))(conv_1)\n",
        "    maxpool_2 = MaxPool2D(pool_size=(max_len - filter_sizes[2] + 1, 1))(conv_2)\n",
        "    maxpool_3 = MaxPool2D(pool_size=(max_len - filter_sizes[3] + 1, 1))(conv_3)\n",
        "\n",
        "    z = Concatenate(axis=1)([maxpool_0, maxpool_1, maxpool_2, maxpool_3])\n",
        "    z = Flatten()(z)\n",
        "    z = Dropout(0.1)(z)\n",
        "\n",
        "    outp = Dense(3, activation=\"softmax\")(z)\n",
        "\n",
        "    model = Model(inputs=inp, outputs=outp)\n",
        "    model.compile(loss='sparse_categorical_crossentropy',\n",
        "                  optimizer='adam',\n",
        "                  metrics=['accuracy'])\n",
        "    return model\n"
      ]
    },
    {
      "cell_type": "code",
      "execution_count": 41,
      "id": "a82eafe0",
      "metadata": {
        "id": "a82eafe0"
      },
      "outputs": [],
      "source": [
        "model = get_model()\n",
        "\n",
        "batch_size = 256\n",
        "epochs = 7\n",
        "\n",
        "X_tra, X_val, y_tra, y_val = train_test_split(padded_sequences, train['label_encoded'], train_size=0.95, random_state=233)\n",
        "RocAuc = RocAucEvaluation(validation_data=(X_val, y_val), interval=1)"
      ]
    },
    {
      "cell_type": "code",
      "execution_count": 42,
      "id": "255a0e0e",
      "metadata": {
        "id": "255a0e0e",
        "outputId": "a1f5bc45-c945-4ce2-e0d3-0cbc6bc3aa51",
        "colab": {
          "base_uri": "https://localhost:8080/"
        }
      },
      "outputs": [
        {
          "output_type": "stream",
          "name": "stdout",
          "text": [
            "Epoch 1/7\n",
            "\n",
            " ROC-AUC - epoch: 1 - score: 0.671742 \n",
            "\n",
            "30/30 - 14s - loss: 1.1799 - accuracy: 0.4235 - val_loss: 0.9791 - val_accuracy: 0.4759 - 14s/epoch - 470ms/step\n",
            "Epoch 2/7\n",
            "\n",
            " ROC-AUC - epoch: 2 - score: 0.682898 \n",
            "\n",
            "30/30 - 10s - loss: 1.0454 - accuracy: 0.4913 - val_loss: 0.9608 - val_accuracy: 0.4734 - 10s/epoch - 336ms/step\n",
            "Epoch 3/7\n",
            "\n",
            " ROC-AUC - epoch: 3 - score: 0.681951 \n",
            "\n",
            "30/30 - 11s - loss: 1.0039 - accuracy: 0.5057 - val_loss: 0.9571 - val_accuracy: 0.4937 - 11s/epoch - 381ms/step\n",
            "Epoch 4/7\n",
            "\n",
            " ROC-AUC - epoch: 4 - score: 0.689890 \n",
            "\n",
            "30/30 - 12s - loss: 0.9651 - accuracy: 0.5270 - val_loss: 0.9541 - val_accuracy: 0.4987 - 12s/epoch - 387ms/step\n",
            "Epoch 5/7\n",
            "\n",
            " ROC-AUC - epoch: 5 - score: 0.689127 \n",
            "\n",
            "30/30 - 12s - loss: 0.9358 - accuracy: 0.5485 - val_loss: 0.9587 - val_accuracy: 0.4785 - 12s/epoch - 396ms/step\n",
            "Epoch 6/7\n",
            "\n",
            " ROC-AUC - epoch: 6 - score: 0.697460 \n",
            "\n",
            "30/30 - 12s - loss: 0.9224 - accuracy: 0.5534 - val_loss: 0.9421 - val_accuracy: 0.4835 - 12s/epoch - 397ms/step\n",
            "Epoch 7/7\n",
            "\n",
            " ROC-AUC - epoch: 7 - score: 0.700983 \n",
            "\n",
            "30/30 - 10s - loss: 0.9054 - accuracy: 0.5645 - val_loss: 0.9394 - val_accuracy: 0.5013 - 10s/epoch - 341ms/step\n"
          ]
        }
      ],
      "source": [
        "hist = model.fit(X_tra, y_tra, batch_size=batch_size, epochs=epochs, validation_data=(X_val, y_val),\n",
        "                 callbacks=[RocAuc], verbose=2)\n"
      ]
    },
    {
      "cell_type": "code",
      "execution_count": 43,
      "id": "1ecf0571",
      "metadata": {
        "id": "1ecf0571",
        "outputId": "48839626-5816-4093-8bd2-9d695627ac88",
        "colab": {
          "base_uri": "https://localhost:8080/"
        }
      },
      "outputs": [
        {
          "output_type": "execute_result",
          "data": {
            "text/plain": [
              "dict_keys(['loss', 'accuracy', 'val_loss', 'val_accuracy'])"
            ]
          },
          "metadata": {},
          "execution_count": 43
        }
      ],
      "source": [
        "hist.history.keys()"
      ]
    },
    {
      "cell_type": "code",
      "execution_count": 44,
      "id": "d6853d28",
      "metadata": {
        "id": "d6853d28",
        "outputId": "bb59d3fc-924e-4b16-f890-4115c912ca58",
        "colab": {
          "base_uri": "https://localhost:8080/",
          "height": 449
        }
      },
      "outputs": [
        {
          "output_type": "display_data",
          "data": {
            "text/plain": [
              "<Figure size 640x480 with 1 Axes>"
            ],
            "image/png": "[encoded data removed]"
          },
          "metadata": {}
        }
      ],
      "source": [
        "acc = hist.history['accuracy']\n",
        "val_acc = hist.history['val_accuracy']\n",
        "\n",
        "x_len = np.arange(len(acc))\n",
        "\n",
        "plt.plot(x_len, acc, marker='.', c='blue', label=\"Train-set Acc.\")\n",
        "plt.plot(x_len, val_acc, marker='.', c='red', label=\"Validation-set Acc.\")\n",
        "\n",
        "plt.legend(loc='upper right')\n",
        "plt.grid()\n",
        "plt.xlabel('epoch')\n",
        "plt.ylabel('Accuracy')\n",
        "plt.show()"
      ]
    },
    {
      "cell_type": "code",
      "execution_count": 45,
      "id": "18dbc1c0",
      "metadata": {
        "id": "18dbc1c0",
        "outputId": "02e21847-1177-489a-d19a-e1513ff4ed47",
        "colab": {
          "base_uri": "https://localhost:8080/",
          "height": 449
        }
      },
      "outputs": [
        {
          "output_type": "display_data",
          "data": {
            "text/plain": [
              "<Figure size 640x480 with 1 Axes>"
            ],
            "image/png": "[encoded data removed]"
          },
          "metadata": {}
        }
      ],
      "source": [
        "loss = hist.history['loss']\n",
        "val_loss = hist.history['val_loss']\n",
        "\n",
        "x_len = np.arange(len(acc))\n",
        "\n",
        "plt.plot(x_len, loss, marker='.', c='blue', label=\"Train-set loss.\")\n",
        "plt.plot(x_len, val_loss, marker='.', c='red', label=\"Validation-set loss.\")\n",
        "\n",
        "plt.legend(loc='upper right')\n",
        "plt.grid()\n",
        "plt.xlabel('epoch')\n",
        "plt.ylabel('Cross-entropy')\n",
        "plt.show()"
      ]
    },
    {
      "cell_type": "code",
      "execution_count": 45,
      "id": "15b1c88c",
      "metadata": {
        "id": "15b1c88c"
      },
      "outputs": [],
      "source": []
    },
    {
      "cell_type": "markdown",
      "id": "e96bcbf9",
      "metadata": {
        "id": "e96bcbf9"
      },
      "source": [
        "# 테스트 데이터 평가하기"
      ]
    },
    {
      "cell_type": "code",
      "execution_count": 46,
      "id": "e86439eb",
      "metadata": {
        "id": "e86439eb"
      },
      "outputs": [],
      "source": [
        "test['label_encoded'] = label_encoder.transform(test['hate'])"
      ]
    },
    {
      "cell_type": "code",
      "execution_count": 47,
      "id": "b72c001f",
      "metadata": {
        "id": "b72c001f"
      },
      "outputs": [],
      "source": [
        "# 전처리된 열과 사용빈도를 확인하기\n",
        "test_cleaned_list = morphs_cleaning(test['comments'])"
      ]
    },
    {
      "cell_type": "code",
      "execution_count": null,
      "id": "a56f7488",
      "metadata": {
        "id": "a56f7488"
      },
      "outputs": [],
      "source": [
        "test_cleaned_list"
      ]
    },
    {
      "cell_type": "code",
      "execution_count": 49,
      "id": "4c2f34f1",
      "metadata": {
        "id": "4c2f34f1"
      },
      "outputs": [],
      "source": [
        "test_input_sequences = tokenizer.texts_to_sequences(test_cleaned_list)\n",
        "\n",
        "# 패딩을 사용하여 시퀀스의 길이를 맞춤\n",
        "test_padded_sequences = pad_sequences(test_input_sequences, maxlen=max_len, padding='post')"
      ]
    },
    {
      "cell_type": "code",
      "execution_count": 50,
      "id": "11afad34",
      "metadata": {
        "id": "11afad34",
        "outputId": "0fa0b428-2a3f-4906-8dcc-2b2734181cb6",
        "colab": {
          "base_uri": "https://localhost:8080/"
        }
      },
      "outputs": [
        {
          "output_type": "execute_result",
          "data": {
            "text/plain": [
              "(471, 72)"
            ]
          },
          "metadata": {},
          "execution_count": 50
        }
      ],
      "source": [
        "test_padded_sequences.shape"
      ]
    },
    {
      "cell_type": "code",
      "execution_count": 51,
      "id": "9a78072f",
      "metadata": {
        "id": "9a78072f",
        "outputId": "8afa55b8-db83-40fa-862c-c934af394500",
        "colab": {
          "base_uri": "https://localhost:8080/"
        }
      },
      "outputs": [
        {
          "output_type": "stream",
          "name": "stdout",
          "text": [
            "15/15 [==============================] - 0s 8ms/step - loss: 1.0065 - accuracy: 0.4692\n",
            "loss (cross-entropy) : 1.0065220594406128\n",
            "test accuracy : 0.46921443939208984\n"
          ]
        }
      ],
      "source": [
        "result = model.evaluate(test_padded_sequences, test['label_encoded'])\n",
        "print('loss (cross-entropy) :', result[0])\n",
        "print('test accuracy :', result[1])"
      ]
    },
    {
      "cell_type": "markdown",
      "source": [
        "임베딩 , 데이터의 처리가 중요\n",
        "\n",
        "데이터 정보 압축\n",
        "\n",
        "데이터 EDA로 좀 더 태스크에 맞게 하기?"
      ],
      "metadata": {
        "id": "PZSAXB9zf8b0"
      },
      "id": "PZSAXB9zf8b0"
    },
    {
      "cell_type": "code",
      "execution_count": null,
      "id": "ab7463c6",
      "metadata": {
        "id": "ab7463c6"
      },
      "outputs": [],
      "source": []
    },
    {
      "cell_type": "markdown",
      "id": "ab826536",
      "metadata": {
        "id": "ab826536"
      },
      "source": [
        "# 정확도 계산하는 다른 방법"
      ]
    },
    {
      "cell_type": "code",
      "execution_count": 52,
      "id": "3ebc9c86",
      "metadata": {
        "id": "3ebc9c86",
        "outputId": "6e6b1238-2a57-4caa-bf1d-f2e32deb0c03",
        "colab": {
          "base_uri": "https://localhost:8080/"
        }
      },
      "outputs": [
        {
          "output_type": "stream",
          "name": "stdout",
          "text": [
            "1/1 [==============================] - 0s 122ms/step\n",
            "Accuracy: 0.4692144373673036\n"
          ]
        }
      ],
      "source": [
        "y_pred = model.predict(test_padded_sequences, batch_size=1024)\n",
        "test_pred_argmax = y_pred.argmax(axis=-1)\n",
        "accuracy = accuracy_score(test_pred_argmax, test['label_encoded'])\n",
        "print(f'Accuracy: {accuracy}')"
      ]
    },
    {
      "cell_type": "markdown",
      "id": "b2ff1e2e",
      "metadata": {
        "id": "b2ff1e2e"
      },
      "source": [
        "# 디코딩하여 정답 데이터 저장"
      ]
    },
    {
      "cell_type": "code",
      "execution_count": 53,
      "id": "d62a5e88",
      "metadata": {
        "id": "d62a5e88",
        "outputId": "441b1313-76bf-4e88-de9e-22f74b8cf837",
        "colab": {
          "base_uri": "https://localhost:8080/"
        }
      },
      "outputs": [
        {
          "output_type": "stream",
          "name": "stdout",
          "text": [
            "1/1 [==============================] - 0s 81ms/step\n"
          ]
        }
      ],
      "source": [
        "y_pred = model.predict(test_padded_sequences, batch_size=1024)\n",
        "test_pred_argmax = y_pred.argmax(axis=-1)\n",
        "decoded_predicted_labels = label_encoder.inverse_transform(test_pred_argmax)\n",
        "pd.DataFrame({'Predicted_hate':decoded_predicted_labels}).to_csv('submission.csv', index=False)"
      ]
    },
    {
      "cell_type": "code",
      "execution_count": null,
      "id": "7a48d606",
      "metadata": {
        "id": "7a48d606"
      },
      "outputs": [],
      "source": []
    }
  ],
  "metadata": {
    "kernelspec": {
      "display_name": "Python 3 (ipykernel)",
      "language": "python",
      "name": "python3"
    },
    "language_info": {
      "codemirror_mode": {
        "name": "ipython",
        "version": 3
      },
      "file_extension": ".py",
      "mimetype": "text/x-python",
      "name": "python",
      "nbconvert_exporter": "python",
      "pygments_lexer": "ipython3",
      "version": "3.11.5"
    },
    "colab": {
      "provenance": []
    }
  },
  "nbformat": 4,
  "nbformat_minor": 5
}