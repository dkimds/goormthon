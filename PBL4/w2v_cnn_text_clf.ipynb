{
 "cells": [
  {
   "cell_type": "markdown",
   "id": "58096c92",
   "metadata": {},
   "source": [
    "이 코드는 민유진님에게 권리가 있습니다."
   ]
  },
  {
   "cell_type": "code",
   "execution_count": 2,
   "id": "6f3b329b",
   "metadata": {},
   "outputs": [],
   "source": [
    "import pandas as pd\n",
    "import numpy as np\n",
    "import matplotlib.pyplot as plt\n",
    "from matplotlib import font_manager, rc\n",
    "\n",
    "\n",
    "from sklearn.preprocessing import OneHotEncoder, LabelEncoder\n",
    "from keras.preprocessing.text import Tokenizer\n",
    "\n",
    "import tensorflow as tf\n",
    "from tensorflow.keras import utils\n",
    "from tensorflow.keras.layers import Dense, LSTM, Dropout, Bidirectional, GlobalMaxPooling1D\n",
    "from tensorflow.keras.layers import Input, Embedding, Conv1D, Flatten, Conv2D, MaxPool2D\n",
    "from tensorflow.keras.models import Sequential, Model\n",
    "from tensorflow.keras.preprocessing.text import Tokenizer\n",
    "from tensorflow.keras.preprocessing.sequence import pad_sequences\n",
    "from sklearn.model_selection import train_test_split\n",
    "from sklearn.metrics import roc_auc_score, accuracy_score\n",
    "from keras.preprocessing import text, sequence\n",
    "from keras.callbacks import Callback\n",
    "\n",
    "import gensim\n",
    "from gensim.models import word2vec\n",
    "from konlpy.tag import Kkma, Komoran, Okt, Hannanum \n",
    "\n",
    "import re"
   ]
  },
  {
   "cell_type": "markdown",
   "id": "b4bfeb1e",
   "metadata": {},
   "source": [
    "# 데이터 준비하기"
   ]
  },
  {
   "cell_type": "code",
   "execution_count": 391,
   "id": "8abfdd0a",
   "metadata": {},
   "outputs": [],
   "source": [
    "# TSV 파일 불러오기\n",
    "train = pd.read_csv('train.tsv', sep='\\t')\n",
    "test = pd.read_csv('dev.tsv', sep='\\t')"
   ]
  },
  {
   "cell_type": "code",
   "execution_count": 392,
   "id": "2e355bba",
   "metadata": {},
   "outputs": [
    {
     "data": {
      "text/html": [
       "<div>\n",
       "<style scoped>\n",
       "    .dataframe tbody tr th:only-of-type {\n",
       "        vertical-align: middle;\n",
       "    }\n",
       "\n",
       "    .dataframe tbody tr th {\n",
       "        vertical-align: top;\n",
       "    }\n",
       "\n",
       "    .dataframe thead th {\n",
       "        text-align: right;\n",
       "    }\n",
       "</style>\n",
       "<table border=\"1\" class=\"dataframe\">\n",
       "  <thead>\n",
       "    <tr style=\"text-align: right;\">\n",
       "      <th></th>\n",
       "      <th>comments</th>\n",
       "      <th>contain_gender_bias</th>\n",
       "      <th>bias</th>\n",
       "      <th>hate</th>\n",
       "    </tr>\n",
       "  </thead>\n",
       "  <tbody>\n",
       "    <tr>\n",
       "      <th>0</th>\n",
       "      <td>(현재 호텔주인 심정) 아18 난 마른하늘에 날벼락맞고 호텔망하게생겼는데 누군 계속...</td>\n",
       "      <td>False</td>\n",
       "      <td>others</td>\n",
       "      <td>hate</td>\n",
       "    </tr>\n",
       "    <tr>\n",
       "      <th>1</th>\n",
       "      <td>....한국적인 미인의 대표적인 분...너무나 곱고아름다운모습...그모습뒤의 슬픔을...</td>\n",
       "      <td>False</td>\n",
       "      <td>none</td>\n",
       "      <td>none</td>\n",
       "    </tr>\n",
       "    <tr>\n",
       "      <th>2</th>\n",
       "      <td>...못된 넘들...남의 고통을 즐겼던 넘들..이젠 마땅한 처벌을 받아야지..,그래...</td>\n",
       "      <td>False</td>\n",
       "      <td>none</td>\n",
       "      <td>hate</td>\n",
       "    </tr>\n",
       "    <tr>\n",
       "      <th>3</th>\n",
       "      <td>1,2화 어설펐는데 3,4화 지나서부터는 갈수록 너무 재밌던데</td>\n",
       "      <td>False</td>\n",
       "      <td>none</td>\n",
       "      <td>none</td>\n",
       "    </tr>\n",
       "    <tr>\n",
       "      <th>4</th>\n",
       "      <td>1. 사람 얼굴 손톱으로 긁은것은 인격살해이고2. 동영상이 몰카냐? 메걸리안들 생각...</td>\n",
       "      <td>True</td>\n",
       "      <td>gender</td>\n",
       "      <td>hate</td>\n",
       "    </tr>\n",
       "  </tbody>\n",
       "</table>\n",
       "</div>"
      ],
      "text/plain": [
       "                                            comments  contain_gender_bias  \\\n",
       "0  (현재 호텔주인 심정) 아18 난 마른하늘에 날벼락맞고 호텔망하게생겼는데 누군 계속...                False   \n",
       "1  ....한국적인 미인의 대표적인 분...너무나 곱고아름다운모습...그모습뒤의 슬픔을...                False   \n",
       "2  ...못된 넘들...남의 고통을 즐겼던 넘들..이젠 마땅한 처벌을 받아야지..,그래...                False   \n",
       "3                 1,2화 어설펐는데 3,4화 지나서부터는 갈수록 너무 재밌던데                False   \n",
       "4  1. 사람 얼굴 손톱으로 긁은것은 인격살해이고2. 동영상이 몰카냐? 메걸리안들 생각...                 True   \n",
       "\n",
       "     bias  hate  \n",
       "0  others  hate  \n",
       "1    none  none  \n",
       "2    none  hate  \n",
       "3    none  none  \n",
       "4  gender  hate  "
      ]
     },
     "execution_count": 392,
     "metadata": {},
     "output_type": "execute_result"
    }
   ],
   "source": [
    "train.head()"
   ]
  },
  {
   "cell_type": "code",
   "execution_count": 390,
   "id": "3e8eb88a",
   "metadata": {},
   "outputs": [
    {
     "data": {
      "text/plain": [
       "(comments         0\n",
       " hate             0\n",
       " label_encoded    0\n",
       " dtype: int64,\n",
       " comments         0\n",
       " hate             0\n",
       " label_encoded    0\n",
       " dtype: int64)"
      ]
     },
     "execution_count": 390,
     "metadata": {},
     "output_type": "execute_result"
    }
   ],
   "source": [
    "train.isna().sum(), test.isna().sum()"
   ]
  },
  {
   "cell_type": "code",
   "execution_count": 4,
   "id": "2d79cf2d",
   "metadata": {},
   "outputs": [
    {
     "data": {
      "text/plain": [
       "hate\n",
       "none         0.441489\n",
       "offensive    0.316489\n",
       "hate         0.242021\n",
       "Name: count, dtype: float64"
      ]
     },
     "execution_count": 4,
     "metadata": {},
     "output_type": "execute_result"
    }
   ],
   "source": [
    "# 라벨 데이터 확인 - 다중 분류 문제\n",
    "train['hate'].value_counts()/len(train)"
   ]
  },
  {
   "cell_type": "code",
   "execution_count": 6,
   "id": "27f9f845",
   "metadata": {},
   "outputs": [
    {
     "data": {
      "text/plain": [
       "hate\n",
       "offensive    0.401274\n",
       "none         0.339703\n",
       "hate         0.259023\n",
       "Name: count, dtype: float64"
      ]
     },
     "execution_count": 6,
     "metadata": {},
     "output_type": "execute_result"
    }
   ],
   "source": [
    "# train 과 test 라벨 데이터 분포 비교 (비슷함 확인)\n",
    "test['hate'].value_counts()/len(test)"
   ]
  },
  {
   "cell_type": "code",
   "execution_count": null,
   "id": "c1b09357",
   "metadata": {},
   "outputs": [],
   "source": []
  },
  {
   "cell_type": "code",
   "execution_count": 7,
   "id": "32ed072e",
   "metadata": {},
   "outputs": [
    {
     "data": {
      "text/plain": [
       "((7896, 4), (471, 4))"
      ]
     },
     "execution_count": 7,
     "metadata": {},
     "output_type": "execute_result"
    }
   ],
   "source": [
    "train.shape, test.shape"
   ]
  },
  {
   "cell_type": "code",
   "execution_count": 260,
   "id": "1523645a",
   "metadata": {},
   "outputs": [],
   "source": [
    "train = train[['comments','hate']]\n",
    "test = test[['comments','hate']]"
   ]
  },
  {
   "cell_type": "markdown",
   "id": "062ccaae",
   "metadata": {},
   "source": [
    "# 타겟변수 인코딩 (라벨-원핫 인코딩)"
   ]
  },
  {
   "cell_type": "code",
   "execution_count": 261,
   "id": "23224158",
   "metadata": {},
   "outputs": [
    {
     "name": "stdout",
     "output_type": "stream",
     "text": [
      "                                               comments  hate  label_encoded\n",
      "0     (현재 호텔주인 심정) 아18 난 마른하늘에 날벼락맞고 호텔망하게생겼는데 누군 계속...  hate              0\n",
      "1     ....한국적인 미인의 대표적인 분...너무나 곱고아름다운모습...그모습뒤의 슬픔을...  none              1\n",
      "2     ...못된 넘들...남의 고통을 즐겼던 넘들..이젠 마땅한 처벌을 받아야지..,그래...  hate              0\n",
      "3                    1,2화 어설펐는데 3,4화 지나서부터는 갈수록 너무 재밌던데  none              1\n",
      "4     1. 사람 얼굴 손톱으로 긁은것은 인격살해이고2. 동영상이 몰카냐? 메걸리안들 생각...  hate              0\n",
      "...                                                 ...   ...            ...\n",
      "7891                                      힘내세요~ 응원합니다!!  none              1\n",
      "7892                             힘내세요~~삼가 고인의 명복을 빕니다..  none              1\n",
      "7893                              힘내세용 ^^ 항상 응원합니닷 ^^ !  none              1\n",
      "7894  힘내소...연기로 답해요.나도 53살 인데 이런일 저런일 다 있더라구요.인격을 믿습...  none              1\n",
      "7895                                 힘들면 관뒀어야지 그게 현명한거다  none              1\n",
      "\n",
      "[7896 rows x 3 columns]\n"
     ]
    }
   ],
   "source": [
    "# LabelEncoder를 사용하여 문자열 레이블을 정수로 변환\n",
    "label_encoder = LabelEncoder()\n",
    "train['label_encoded'] = label_encoder.fit_transform(train['hate'])\n",
    "\n",
    "# # OneHotEncoder를 사용하여 원-핫 인코딩 : loss : sparse 삭제 \n",
    "# onehot_encoder = OneHotEncoder(sparse=False)\n",
    "# onehot_encoded = onehot_encoder.fit_transform(train[['label_encoded']])\n",
    "\n",
    "# train_label = utils.to_categorical(train_label) # 0 or 1 -> one-hot vector\n",
    "# test_label = utils.to_categorical(test_label) # 0 or 1 -> one-hot vector\n",
    "\n",
    "# # 결과 확인\n",
    "# # train['label_encoded'] = train['label_encoded'].astype(str)  # 정수를 문자열로 변환 (선택적)\n",
    "# train['onehot_encoded'] = list(map(lambda x: list(map(int, x)), onehot_encoded))\n",
    "print(train)"
   ]
  },
  {
   "cell_type": "markdown",
   "id": "a36bd3c4",
   "metadata": {},
   "source": [
    "# 한국어 전처리"
   ]
  },
  {
   "cell_type": "code",
   "execution_count": 85,
   "id": "5503a607",
   "metadata": {},
   "outputs": [],
   "source": [
    "def morphs_cleaning(column):\n",
    "    '''\n",
    "    1. 함수 설명 : input으로 넣은 열을 토큰화하고 불용어 제거, 숫자 및 구두점 제거 문자만 추출, 클렌징 작업을 마친 문장을 리스트로 반환하는 함수\n",
    "    2. Args : \n",
    "        column   (Series) : 클렌징하고 싶은 열 이름\n",
    "    3. Return : \n",
    "        cleaned_list (List) : 클렌징 작업을 마친 리스트 형태의 데이터\n",
    "    '''\n",
    "\n",
    "    okt = Okt()\n",
    "    \n",
    "    cleaned_list = [] # 클렌징된 본문 내용\n",
    "    # 감정분석이므로 중립적인 단어만 빼자\n",
    "    stopwords = ['하다','있다','같다','너무','되다','그렇다','돼다','나다','때문','스럽다','지금','우리','되어다','이렇다'\n",
    "                 ,'하나','이다','대해','위해','자기','그렇게','수가','두다','진짜','정도','이렇게','내다','이지','말다'\n",
    "                 ,'내','들','것','나','수','게','거','다','때','이','적','그','응','난','걸','건','곳','후','님','데','중','만'\n",
    "                 , '좀', '한', '니', '하', '더', '뭐', '애', '저', '지다', '하', '너', '해', '네', '기', '아', '도', '전','알'\n",
    "                 , '자', '대', '함', '듯', '두', '줄','임','살','분','남','지','머','원','보다','대다','제','연','성','문','앞'\n",
    "                 , '가','은','에','는','을','의','를','로','으로','고','에서','하고','들다','가다','인데','주','구','번'\n",
    "                 ,'인','라','면','랑','까지','야','한테','냐','요','이나','차다','이나','치','리다','과','서','부터'\n",
    "                 ,'해주다','싶다','이랑','이네','처럼','와','여','비','라고','이라','에게','이냐','해보다','이야','이고','이라고'\n",
    "                 ,'인가','이다','녀','명','눈','세','서다','사','찌','시','위','상','기','니까','엔','에는','그','저','처','조'\n",
    "                 ,'래','라는','모','물','보','식','든','단','에도','이번','이기','젠','몇','질','이라는','바','재','감','얼','양'\n",
    "                 ,'작','백','죠','이니','솔','인거','밖에','지만','어','라면','이래','그거','저거','이거','씩','박'\n",
    "                ]\n",
    "    for idx in range(len(column)):\n",
    "        #- 토큰화, 품사 태깅\n",
    "        # stem은 아름다운-> 아름답다\n",
    "        # norm ~하게 -> 하다\n",
    "        raw_morphs_tagged = okt.morphs(column[idx], norm=True, stem=True)\n",
    "\n",
    "        # 불용어 제거\n",
    "        word_cleaned = []\n",
    "        for word in raw_morphs_tagged: #  ('서울', 'Noun'), ('인천', 'Noun')\n",
    "            # Foreign == ”, “ 와 같이 제외되어야할 항목들 \n",
    "            # & 한 글자로 이뤄진 단어들을 제외 & 원치 않는 단어들을 제외\n",
    "            # 특수 기호에 해당하지 않을 경우\n",
    "\n",
    "            if (word not in stopwords) and re.match('^[a-zA-Z가-힣]+', word): \n",
    "                word_cleaned.append(word) \n",
    "\n",
    "        word_cleaned = ' '.join(word_cleaned)\n",
    "        cleaned_list.append(word_cleaned)\n",
    "\n",
    "\n",
    "    return cleaned_list\n"
   ]
  },
  {
   "cell_type": "code",
   "execution_count": 86,
   "id": "69a676c8",
   "metadata": {},
   "outputs": [],
   "source": [
    "# 전처리된 열과 사용빈도를 확인하기\n",
    "cleaned_list = morphs_cleaning(train['comments'])"
   ]
  },
  {
   "cell_type": "code",
   "execution_count": 395,
   "id": "e30c5bdc",
   "metadata": {},
   "outputs": [
    {
     "name": "stdout",
     "output_type": "stream",
     "text": [
      "0    (현재 호텔주인 심정) 아18 난 마른하늘에 날벼락맞고 호텔망하게생겼는데 누군 계속...\n",
      "1    ....한국적인 미인의 대표적인 분...너무나 곱고아름다운모습...그모습뒤의 슬픔을...\n",
      "2    ...못된 넘들...남의 고통을 즐겼던 넘들..이젠 마땅한 처벌을 받아야지..,그래...\n",
      "Name: comments, dtype: object\n"
     ]
    }
   ],
   "source": [
    "print(train['comments'][:3])"
   ]
  },
  {
   "cell_type": "code",
   "execution_count": 394,
   "id": "0c3ae608",
   "metadata": {},
   "outputs": [
    {
     "data": {
      "text/plain": [
       "['현재 호텔 주인 심정 마른하늘 날벼락 맞다 호텔 망하다 생기다 누 군 계속 추모 받다',\n",
       " '한국 미인 대표 너무나 곱 아름답다 모습 모습 뒤 슬픔 미처 알다',\n",
       " '못 넘다 고통 즐기다 넘다 마땅하다 처벌 받다 래야 공정하다 사회 심다 거두다']"
      ]
     },
     "execution_count": 394,
     "metadata": {},
     "output_type": "execute_result"
    }
   ],
   "source": [
    "cleaned_list[:3]"
   ]
  },
  {
   "cell_type": "code",
   "execution_count": 88,
   "id": "07a48977",
   "metadata": {},
   "outputs": [
    {
     "name": "stdout",
     "output_type": "stream",
     "text": [
      "korean_hate_speech.txt 파일 저장됨!\n"
     ]
    }
   ],
   "source": [
    "# 전처리한 결과를 텍스트 파일로 저장\n",
    "result_file = 'korean_hate_speech.txt'       # 텍스트 파일임!\n",
    "with open(result_file, 'wt', encoding='utf-8') as myfile:\n",
    "     myfile.write('\\n'.join(cleaned_list))           # 라인으로 결합\n",
    "\n",
    "print(result_file + ' 파일 저장됨!')"
   ]
  },
  {
   "cell_type": "markdown",
   "id": "99c4e1eb",
   "metadata": {},
   "source": [
    "# 토큰화 및 사전 만들기"
   ]
  },
  {
   "cell_type": "code",
   "execution_count": 348,
   "id": "c3ab67e8",
   "metadata": {
    "scrolled": true
   },
   "outputs": [
    {
     "data": {
      "text/plain": [
       "array([   0,    0,    0,    0,    0,    0,    0,    0,    0,    0,    0,\n",
       "          0,    0,    0,    0,    0,    0,    0,    0,    0,    0,    0,\n",
       "       1181, 1304, 2565, 1877, 5965, 4171,   40, 1304,  160,  792,  697,\n",
       "        149, 1878,   30], dtype=int32)"
      ]
     },
     "execution_count": 348,
     "metadata": {},
     "output_type": "execute_result"
    }
   ],
   "source": [
    "padded_sequences[0]"
   ]
  },
  {
   "cell_type": "markdown",
   "id": "45cee72b",
   "metadata": {},
   "source": [
    "# Word2Vec 임베딩하기"
   ]
  },
  {
   "cell_type": "code",
   "execution_count": 93,
   "id": "2daccdf6",
   "metadata": {},
   "outputs": [],
   "source": [
    "# 지난 번에 만든 word2vec 모델 불러오기\n",
    "model_filename = '/Users/youjin/Desktop/구름 자연어처리/과제/3차 과제/word2vec.model'\n",
    "model = word2vec.Word2Vec.load(model_filename)"
   ]
  },
  {
   "cell_type": "code",
   "execution_count": 94,
   "id": "f383d2d1",
   "metadata": {},
   "outputs": [],
   "source": [
    "def make_embedding(vocab_size, embedding_dim):\n",
    "\n",
    "    embeddings_dict = {}\n",
    "    for i in range(len(word_index)):\n",
    "        if i < max_vocab_size:\n",
    "            word = list(word_index.keys())[i] \n",
    "            try:\n",
    "                embeddings_dict[word] = model.wv[word]\n",
    "            except KeyError:\n",
    "                pass\n",
    "\n",
    "    embedding_matrix = np.zeros((vocab_size, embedding_dim))    # zero 로 초기화   \n",
    "    \n",
    "    print(\"word 갯수 =\", vocab_size)\n",
    "    print(embedding_matrix.shape)\n",
    "    \n",
    "    count = 0\n",
    "    for word, i in word_index.items():\n",
    "        embedding_vector = embeddings_dict.get(word)\n",
    "        if embedding_vector is not None:         # 해당 word 가 없으면 all zero 로 남겨둠\n",
    "            count += 1\n",
    "            embedding_matrix[i] = embedding_vector\n",
    "    print('pre-trained embedding : {} 개'.format(count))\n",
    "    return embedding_matrix"
   ]
  },
  {
   "cell_type": "code",
   "execution_count": 95,
   "id": "2e80f239",
   "metadata": {},
   "outputs": [
    {
     "name": "stdout",
     "output_type": "stream",
     "text": [
      "word 갯수 = 11730\n",
      "(11730, 100)\n",
      "pre-trained embedding : 6180 개\n"
     ]
    }
   ],
   "source": [
    "# create embedding layer\n",
    "embedding_dim=100\n",
    "embedding_matrix = make_embedding(vocab_size, embedding_dim)"
   ]
  },
  {
   "cell_type": "markdown",
   "id": "747ac087",
   "metadata": {},
   "source": [
    "# 모델 만들기"
   ]
  },
  {
   "cell_type": "code",
   "execution_count": 310,
   "id": "f28d5ae8",
   "metadata": {},
   "outputs": [],
   "source": [
    "class RocAucEvaluation(Callback):\n",
    "    def __init__(self, validation_data=(), interval=1):\n",
    "        super(Callback, self).__init__()\n",
    "\n",
    "        self.interval = interval\n",
    "        self.X_val, self.y_val = validation_data\n",
    "\n",
    "    def on_epoch_end(self, epoch, logs={}):\n",
    "        if epoch % self.interval == 0:\n",
    "            y_pred = self.model.predict(self.X_val, verbose=0)\n",
    "            score = roc_auc_score(self.y_val, y_pred, multi_class='ovo') # 'ovr' 또는 'ovo'\n",
    "            print(\"\\n ROC-AUC - epoch: %d - score: %.6f \\n\" % (epoch+1, score))\n"
   ]
  },
  {
   "cell_type": "code",
   "execution_count": 366,
   "id": "26d2623e",
   "metadata": {},
   "outputs": [],
   "source": [
    "filter_sizes = [1,2,3,5]\n",
    "num_filters = 32\n",
    "\n",
    "def get_model():    \n",
    "    \"\"\"\n",
    "    \n",
    "    \n",
    "    \"\"\"\n",
    "    inp = Input(shape=(max_len, ))\n",
    "    x = Embedding(vocab_size, embedding_dim, weights=[embedding_matrix], trainable=True)(inp)\n",
    "    x = SpatialDropout1D(0.4)(x)\n",
    "    x = Reshape((max_len, embedding_dim, 1))(x)\n",
    "    \n",
    "    conv_0 = Conv2D(num_filters, kernel_size=(filter_sizes[0], embedding_dim), kernel_initializer='normal',\n",
    "                                                                                    activation='elu')(x)\n",
    "    conv_1 = Conv2D(num_filters, kernel_size=(filter_sizes[1], embedding_dim), kernel_initializer='normal',\n",
    "                                                                                    activation='elu')(x)\n",
    "    conv_2 = Conv2D(num_filters, kernel_size=(filter_sizes[2], embedding_dim), kernel_initializer='normal',\n",
    "                                                                                    activation='elu')(x)\n",
    "    conv_3 = Conv2D(num_filters, kernel_size=(filter_sizes[3], embedding_dim), kernel_initializer='normal',\n",
    "                                                                                    activation='elu')(x)\n",
    "    \n",
    "    maxpool_0 = MaxPool2D(pool_size=(max_len - filter_sizes[0] + 1, 1))(conv_0)\n",
    "    maxpool_1 = MaxPool2D(pool_size=(max_len - filter_sizes[1] + 1, 1))(conv_1)\n",
    "    maxpool_2 = MaxPool2D(pool_size=(max_len - filter_sizes[2] + 1, 1))(conv_2)\n",
    "    maxpool_3 = MaxPool2D(pool_size=(max_len - filter_sizes[3] + 1, 1))(conv_3)\n",
    "        \n",
    "    z = Concatenate(axis=1)([maxpool_0, maxpool_1, maxpool_2, maxpool_3])   \n",
    "    z = Flatten()(z)\n",
    "    z = Dropout(0.1)(z)\n",
    "        \n",
    "    outp = Dense(3, activation=\"softmax\")(z)\n",
    "    \n",
    "    model = Model(inputs=inp, outputs=outp)\n",
    "    model.compile(loss='sparse_categorical_crossentropy',\n",
    "                  optimizer='adam',\n",
    "                  metrics=['accuracy'])\n",
    "    return model\n"
   ]
  },
  {
   "cell_type": "code",
   "execution_count": 373,
   "id": "a82eafe0",
   "metadata": {},
   "outputs": [],
   "source": [
    "model = get_model()\n",
    "\n",
    "batch_size = 256\n",
    "epochs = 7\n",
    "\n",
    "X_tra, X_val, y_tra, y_val = train_test_split(padded_sequences, train['label_encoded'], train_size=0.95, random_state=233)\n",
    "RocAuc = RocAucEvaluation(validation_data=(X_val, y_val), interval=1)"
   ]
  },
  {
   "cell_type": "code",
   "execution_count": 374,
   "id": "255a0e0e",
   "metadata": {},
   "outputs": [
    {
     "name": "stdout",
     "output_type": "stream",
     "text": [
      "Epoch 1/7\n",
      "\n",
      " ROC-AUC - epoch: 1 - score: 0.656588 \n",
      "\n",
      "30/30 - 1s - loss: 1.0573 - accuracy: 0.4465 - val_loss: 1.0123 - val_accuracy: 0.4835 - 1s/epoch - 41ms/step\n",
      "Epoch 2/7\n",
      "\n",
      " ROC-AUC - epoch: 2 - score: 0.673696 \n",
      "\n",
      "30/30 - 1s - loss: 0.9833 - accuracy: 0.4966 - val_loss: 0.9827 - val_accuracy: 0.5013 - 669ms/epoch - 22ms/step\n",
      "Epoch 3/7\n",
      "\n",
      " ROC-AUC - epoch: 3 - score: 0.692444 \n",
      "\n",
      "30/30 - 1s - loss: 0.9398 - accuracy: 0.5387 - val_loss: 0.9505 - val_accuracy: 0.5038 - 979ms/epoch - 33ms/step\n",
      "Epoch 4/7\n",
      "\n",
      " ROC-AUC - epoch: 4 - score: 0.709756 \n",
      "\n",
      "30/30 - 1s - loss: 0.8995 - accuracy: 0.5658 - val_loss: 0.9280 - val_accuracy: 0.5367 - 971ms/epoch - 32ms/step\n",
      "Epoch 5/7\n",
      "\n",
      " ROC-AUC - epoch: 5 - score: 0.724771 \n",
      "\n",
      "30/30 - 1s - loss: 0.8521 - accuracy: 0.6014 - val_loss: 0.9091 - val_accuracy: 0.5443 - 969ms/epoch - 32ms/step\n",
      "Epoch 6/7\n",
      "\n",
      " ROC-AUC - epoch: 6 - score: 0.738272 \n",
      "\n",
      "30/30 - 1s - loss: 0.8026 - accuracy: 0.6383 - val_loss: 0.8845 - val_accuracy: 0.5468 - 710ms/epoch - 24ms/step\n",
      "Epoch 7/7\n",
      "\n",
      " ROC-AUC - epoch: 7 - score: 0.747613 \n",
      "\n",
      "30/30 - 1s - loss: 0.7401 - accuracy: 0.6780 - val_loss: 0.8744 - val_accuracy: 0.5544 - 685ms/epoch - 23ms/step\n"
     ]
    }
   ],
   "source": [
    "hist = model.fit(X_tra, y_tra, batch_size=batch_size, epochs=epochs, validation_data=(X_val, y_val),\n",
    "                 callbacks=[RocAuc], verbose=2)\n"
   ]
  },
  {
   "cell_type": "code",
   "execution_count": 369,
   "id": "1ecf0571",
   "metadata": {},
   "outputs": [
    {
     "data": {
      "text/plain": [
       "dict_keys(['loss', 'accuracy', 'val_loss', 'val_accuracy'])"
      ]
     },
     "execution_count": 369,
     "metadata": {},
     "output_type": "execute_result"
    }
   ],
   "source": [
    "hist.history.keys()"
   ]
  },
  {
   "cell_type": "code",
   "execution_count": 375,
   "id": "d6853d28",
   "metadata": {},
   "outputs": [
    {
     "data": {
      "image/png": "[encoded data removed]",
      "text/plain": [
       "<Figure size 640x480 with 1 Axes>"
      ]
     },
     "metadata": {},
     "output_type": "display_data"
    }
   ],
   "source": [
    "acc = hist.history['accuracy']\n",
    "val_acc = hist.history['val_accuracy']\n",
    "\n",
    "x_len = np.arange(len(acc))\n",
    "\n",
    "plt.plot(x_len, acc, marker='.', c='blue', label=\"Train-set Acc.\")\n",
    "plt.plot(x_len, val_acc, marker='.', c='red', label=\"Validation-set Acc.\")\n",
    "\n",
    "plt.legend(loc='upper right')\n",
    "plt.grid()\n",
    "plt.xlabel('epoch')\n",
    "plt.ylabel('Accuracy')\n",
    "plt.show()"
   ]
  },
  {
   "cell_type": "code",
   "execution_count": 376,
   "id": "18dbc1c0",
   "metadata": {},
   "outputs": [
    {
     "data": {
      "image/png": "[encoded data removed]",
      "text/plain": [
       "<Figure size 640x480 with 1 Axes>"
      ]
     },
     "metadata": {},
     "output_type": "display_data"
    }
   ],
   "source": [
    "loss = hist.history['loss']\n",
    "val_loss = hist.history['val_loss']\n",
    "\n",
    "x_len = np.arange(len(acc))\n",
    "\n",
    "plt.plot(x_len, loss, marker='.', c='blue', label=\"Train-set loss.\")\n",
    "plt.plot(x_len, val_loss, marker='.', c='red', label=\"Validation-set loss.\")\n",
    "\n",
    "plt.legend(loc='upper right')\n",
    "plt.grid()\n",
    "plt.xlabel('epoch')\n",
    "plt.ylabel('Cross-entropy')\n",
    "plt.show()"
   ]
  },
  {
   "cell_type": "code",
   "execution_count": null,
   "id": "15b1c88c",
   "metadata": {},
   "outputs": [],
   "source": []
  },
  {
   "cell_type": "markdown",
   "id": "e96bcbf9",
   "metadata": {},
   "source": [
    "# 테스트 데이터 평가하기"
   ]
  },
  {
   "cell_type": "code",
   "execution_count": 324,
   "id": "e86439eb",
   "metadata": {},
   "outputs": [],
   "source": [
    "test['label_encoded'] = label_encoder.transform(test['hate'])"
   ]
  },
  {
   "cell_type": "code",
   "execution_count": 325,
   "id": "b72c001f",
   "metadata": {},
   "outputs": [],
   "source": [
    "# 전처리된 열과 사용빈도를 확인하기\n",
    "test_cleaned_list = morphs_cleaning(test['comments'])"
   ]
  },
  {
   "cell_type": "code",
   "execution_count": 326,
   "id": "a56f7488",
   "metadata": {},
   "outputs": [
    {
     "data": {
      "text/plain": [
       "['송중기 시대극 믿다 첫 회 신선하다 좋다',\n",
       " '지현우 나쁘다 놈',\n",
       " '알바 쓰다 많이 돈 욕심 없다 골목 식당 왜 나오다 겨 댕기 나하 산 에가 팔다',\n",
       " '설마 현정 작가 아니다',\n",
       " '이미자 씨 송혜교 씨 돈 그리다 많다 탈세 말고 돈 평소 불우 이웃 기부 사시',\n",
       " '일베충 거리',\n",
       " '아이즈 힘내다 일본 진출 일본 좋다 모습 보여주다 팬 응원',\n",
       " '강부자 선생님 전미선 비보 오열 눈물 힘내다',\n",
       " '알다 그만',\n",
       " '이영자 씨 진정 녹화 불참 끝내다 자진하차 시청자 고려 안 일방 불참 아니다 엠비씨 시청율 좋다 고민 결방 아니다 폐지',\n",
       " '이경규 세련되다 나이 차 은우 누가 알꼬 아무리 잘생기다 다해 배우다 야하다 점 많다 신분',\n",
       " 'c 발 어쩌라고 뭔 기사 계속 나오다',\n",
       " '멋지다',\n",
       " '명수 응근슬쩍 뒷 치기 각 잡',\n",
       " '철구 별 풍 쏘다 놈 수준 똑같다',\n",
       " '둘 화장실 싸우다',\n",
       " '송이 매니저 거지 치과 치료 비용 타다 솔직하다 치아 관리 얼마나 안 앞니 시커멓다 따다 치과 공포증 핑계 볼때 마다 얼마나 거슬리다 쟤 부모님 앞니 치료 못',\n",
       " '언제 반일 감정 불타다 막상 역사 모르다 개돼지 꼭 흥분하다',\n",
       " '기자 왜 아니다 일기장 써다 제목 오',\n",
       " '아직도',\n",
       " '조우종 장성규 보단 낫 장성규 얼마 못 간다',\n",
       " '주말 드라마 장사 엄마 폐암 걸리다 드라마',\n",
       " '남자 쪽 여자 버리다 알다 자세하다 여자 쪽 집 남자 버리다 버리다 이제',\n",
       " '언플 오지 언플 연기력 겸손하다 치다 배우다',\n",
       " '한화 이글스 해산 빱',\n",
       " '유이 자연스럽다 연기',\n",
       " '알다 이제 조용하다 관 종이',\n",
       " '죽창 울다 반 일 선동 뒤 일제 쓸다 쓰다 한국 정치인 간악 쪽 XX 울다 즈그 렉서스 끌 일제 전자기기 쓰다 북한 놈 순진하다 부화 뇌동 국민 바보',\n",
       " '서현진 이민기 연기 식상하다',\n",
       " '임신 몸 안좋다 임신 안되다 알다 우울하다 왜 따다 따르다 임신 잘 안되다',\n",
       " '왜 유재석 에게는 얼굴 케익 폭탄 벌칙 안',\n",
       " '유승준 천재 재능 이라도 넘다 없다 대중 왜',\n",
       " '왜 현우',\n",
       " '여기 댓글 tv 조선 직원 동원',\n",
       " '그래도 분은 보여주다',\n",
       " '누가 한국 사람 마음 열다 진심 다해 대하 한국 사람 사기 칠 생각',\n",
       " '남자 애걸 복걸 여자 좋아하다 않다 박나래 알다 그냥 쇼맨 쉬다',\n",
       " '이승기 예능 이끌다 능력 없다 팬 프론 가보다',\n",
       " '캡쳐 인간 수두 룩',\n",
       " '비교 곡 장르 분위기 비슷하다 느끼다 표절 아니다 그냥 가수 목소리 비슷하다 창법 비슷하다 혼돈',\n",
       " '지인 끼리 밥 내기 골프 안 기레기 어떻 엮으려',\n",
       " '꺼지다 보기 싫다',\n",
       " '재앙 놈 땜 애꿎 젊은이 희생 당하다',\n",
       " '스포츠 예능 약 쟁이 라니',\n",
       " '간이 덜컥 빠지다 소리 컥 세종 만은 아니다',\n",
       " '듣보잡 이지만 축하',\n",
       " '하여간 죳티즌들 양반 인척 역겹다',\n",
       " '여자 서로 끄다 세명 이면 둘 깜',\n",
       " '손예진 소지섭 곧 결혼 이글 곧 성지글',\n",
       " '한혜진 성격 모르다 방송 이미지 여자 좋아하다 성격 남자 볼땐 그냥 친구 란 생각 안 물론 좋다 성격 방송 이미지 대로',\n",
       " '꼰 베 플 연령 대보다 대들다 대부분',\n",
       " '효녀 좋다 혜나 미워하다 인간',\n",
       " '머리 삼발이 짜다 보기 싫다',\n",
       " '일반인 귀찮다 비추다 안 찍다 견제 질투 빠 질린다',\n",
       " '디패 추가 공식 입장 바라다 저렇게 무성의 조작 알다 없다 올 리지 말고 내부 외부 누가 조작 밝혀내다 혼선 드리다 죄송하다 사람 사과 등 내야 아니다',\n",
       " '아니다 놓다 팬 아니다 짜증나다 말고 웠 대가리 파라',\n",
       " '조금 헷갈리다 하지만 자세하다 맞추다',\n",
       " '미치다 왜 통 잘못 덮다 뭘 덮다',\n",
       " '언니 토닥토닥 응원 욧',\n",
       " '고현정 연기 미모 카리스마 소름 드라마 자다 안 오늘 첨 시간 모르다 몰입',\n",
       " '정해 인도 닮다',\n",
       " '여기 고소하다 악 풀다 많다',\n",
       " '김태리 정말 연기 자다',\n",
       " '현지 반응 별로 던데 노래 이상하다 춤 난해하다 국내 에서도 지코 뺏다 국내 반응 별로',\n",
       " '임현주 열폭 부리다 많다 임현주 가지다 매력 반의 반도 없다 남다 꼬 시지',\n",
       " '삼가다 고인 명복 비다',\n",
       " '오 판사',\n",
       " '요즘 용다 남자 없다 이르다 손예진 연애 못',\n",
       " '힘내다 뭐라다 열심히 좋다 일만 가득하다',\n",
       " '그냥 김치 석 따로 만들다 지적 장애인 대우 해주 께',\n",
       " '짜다 돌이 보단 낫다',\n",
       " '짜다 투어 멤버 랩퍼 도끼 추천 근 검 절약 아이콘',\n",
       " '예쁘다 행복하다',\n",
       " '자빠졋 판빙빙 얼굴 탈세 자랑스럽다 일이',\n",
       " '본 판이 예쁘다',\n",
       " '최지우 오랜 좋다 임신 예쁘다',\n",
       " '나라 죽다 진심 최악',\n",
       " '미나 세면 유산 및 형아 장애 출산 가능성 엄청 높다',\n",
       " '모든 책임 악플러 돌리다 책임 기획사 즉 sm 잊다',\n",
       " '악플 멀다 그것 어리다 악플 쓰다 죄책감 안 가정교육 이란 못 받다 런가 아니다 부모 자식',\n",
       " '김신영 넘다 예쁘다 간도 찾다 날씬 굿굿 화이팅',\n",
       " '두번째 사진 코 콧구멍 보이',\n",
       " '존나 징그럽다 따다 예술 누드 인즉슨 빨갛다 벗다 나오다 페인 팅옷 입다 뭔 개 솔이',\n",
       " '화나다 풀다 센스 없다 현아',\n",
       " '사실 억울하다 당하다 살아오다 경찰 고소하다 법 심판 받다 네티즌 왈가 불가',\n",
       " '층간소음 장난 아니다 아랫 집 스트레스 엄청 받다',\n",
       " '갑자기 내용 왜',\n",
       " '어쩐지 키 커서 빠지다 이쁘다 생각 살이 빠지다 점점 예쁘다',\n",
       " '악플러 싫다 도와주다 싫다 외면 왜 글 쓰다 수고 행태 외면 못 정말',\n",
       " '슥 나오다 프로 마다 애국가 시청률 경쟁',\n",
       " '엄청 좋아하다 이효리 대의 소박 하고도 멋지다 새다 럽 세분 우정 행복 성원',\n",
       " '한은정 코카콜라 씨 에프 대박 댕 이쁘다',\n",
       " '얘 feel 왠지 자다 생기다 왠지 컨츄리 하단 느낌 분명 그나마 가꾸다 지르다 기본 바탕 자다 생기다 이미지 거리 멀다 암튼 아직 어리다 나이 일이 자다 풀리다',\n",
       " '구혜선 씨 따돌리다 챙기다 않다 HB 엔터 계약 해지 왜 아직도 안 더럽다 발목 그만 붙들다 놓다',\n",
       " '아니다 남자 태연 왜 깔다 그것 십대 아니다 남자 태연 질질 릴텐 여자 질투 나서다 OOO 남앞 에두 뒤 화 나요나 누르다',\n",
       " '살인마 와이프',\n",
       " '슬슬 본색 드러내다 장난 아니다 음 구혜선 씨 넘다 불쌍하다 누구 좋다 이혼',\n",
       " '빠순이 년 또 죄 없다 보내다',\n",
       " '은퇴 아직 안 노인 주니어',\n",
       " '얜 뭔 듣보잡',\n",
       " '잘나다 군대 안 김우빈 암 이라도 걸리다',\n",
       " '시청자 갑 갑 그따위 고지도 안 치다 맞다',\n",
       " '백종원 진지하다 연예 대상 후보 아니다',\n",
       " '부 잠깐 손 칼 잡다 보고 바로 돌리다 현빈 도대체 왜 이리 작품 없다 시크릿가든 이후 마음 작품 없다 하기야 시가 장혁 대타 못 현빈 B 급',\n",
       " '양다리 다리 연예 범죄자 취급 많이 사귀다 범죄인 떠들다 마르다 각자 알다 해결 네이버 메인 왜 올라오다 겨',\n",
       " '류준열 뮤탈리스크 같이 생기다 왜 친한척',\n",
       " '월 받다 월급쟁이 천만원 밥값 발언 단체 풀발 돈 많다 소비 액 높아지다 스스럼없이 표현 모이다',\n",
       " '부인 재산 분할 합의 이혼 결국 돈 제대로 안주 이혼 안',\n",
       " '최수종 유이 연기 왜 어색하다',\n",
       " '가운데 빼 이민호 중국 팬 난리 겠다',\n",
       " '악마 재능 신정환 들어가다 좋다',\n",
       " '교익 이형 진가 인정 갓 교익 안목',\n",
       " '휴 퇴 추다 운동 대표 새끼 일 커지다 삭제 바로 숨다 대표 OOO',\n",
       " '모르다 그랬는데 사회 떨어지다',\n",
       " '최민수 성질 더럽다 맞다 세월 지나다 요즘 포장 보고 착각 옛날 유명하다 크다 힐 죽돌이 드라마 촬영 말 안 듣다 소문 자자하다',\n",
       " '하필 구원파 교회',\n",
       " '당시 신재호 나이 살다 짜다 리가 사기혐의 적극 개입 아니다 법적 마닷 책임지다 일 없다',\n",
       " '방송 보이다 좋다 부분 만으로 좋다 인간 일 착각 멍충',\n",
       " '어후 폐경기 아줌마 또 악플다다',\n",
       " '아직도 죽다 엄마 팔 먹다 관심 받다 관 종이',\n",
       " '음 열애설 비다 막 내리다',\n",
       " '솔직하다 초반 회 빼다 유치하다 노잼',\n",
       " '생기다 이하이 이쁘다 보이',\n",
       " '딸 해결 야하다 아니다 엄마 잖다',\n",
       " '역사 영화 어제 마녀',\n",
       " '어찌 김수민 이쁘다 허다',\n",
       " '케이블 대박 아니다 성공 아니다 안 나오다 지상파 드라마 많다 드라마 tvN 니깐 오히려 지상파 당연하다 나오다 생각 한다는 건지다',\n",
       " '김태희 발끝 이라도 쫓다 미백 시급하다 김유정 동남아 냄새',\n",
       " '못 생기다 여자 벗다 생기다 꼭 노래방 도우미 같이 생기 노래방 도우미 착각',\n",
       " '영심 용 식이 첫사랑 누가',\n",
       " '탑 오빠 뭔 잘못 예요',\n",
       " '노래방 가면 항상 부르다 노래 대단하다 한번 이분 뭘 지내다 생각 슈가 맨 이재영 불청 에나 오다 어쨌든 다시 반갑다',\n",
       " '나이 맞다 치다 놀다 이제 마흔 넘다 언제 까지나 귀엽다 척',\n",
       " '이분 디졋답니',\n",
       " '상아 이혼 몇번',\n",
       " '예전 삼청동 실물 이쁘다 피부 완전 좋다 날씬 깜놀',\n",
       " '엑소 명일 가장 빛나다',\n",
       " '황민 현 최고다',\n",
       " '제발 못 생기다 연예인 티비 못 나오다 하자',\n",
       " '사람 거짓 치부 드러내다 살다 사람 얼마나 대통령 주위 않다 어찌 알다 사람 박근혜 예전 드러나다 사실',\n",
       " '최자 사람 잡음',\n",
       " '할배 결혼 이유 이거지',\n",
       " '저만 느끼다 아니다 연기 완전 늘다 감정이입 같이 울다 예고 딸 안다 또 눈물',\n",
       " '돌아오다 아저씨 감사',\n",
       " '도쿄 유흥가 걷다 일본 야동 가게 포스터 똥 문지르다 참고 똥 싸다 받다 먹다 동영상 보고 놈 많다 한번 찾다',\n",
       " '아주머니 일 모습 눈물 엄마 기도 주방 일 힘내다 좋다 결과 바라다',\n",
       " '엥 장도연 말 심하다 느끼다 손담비 착',\n",
       " '아내 이민정 여주 오징어 보이다',\n",
       " '살다 다행 감사하다 전세계 적다 루 이슈 화 못 어떻다 모르다',\n",
       " '그냥 얼굴 보고 반하다 빠순이 짓 선 왜 포장',\n",
       " '살빼다 연예계 데뷔 방송 계속 나오다 누구',\n",
       " '안재현 망 놈 얼마나 개 망나니 같이 행동 구혜선 품다 끄다 구혜선 인기 보고 접근 놈 밥 먹다 숟가락 늘다 돈 사다 거지 근성 거기 주제 바람 끼 러운 TV 나오다 마르다 비뚤어지다 인성 가지다 놓다 끄다',\n",
       " '형 화이팅',\n",
       " '이하정 코 수술 티나',\n",
       " '둘 얼굴 체인지 건줄',\n",
       " '존나 느끼하다 생기다 짜장 먹다 왜 나라 기사',\n",
       " '누군지 모르다',\n",
       " '울다 많다',\n",
       " '큐브 막대 투자 대한 책임 없이 연애 펜 곤 다른 뭐임',\n",
       " '유재석 요즘 재미없다 맨날 오씨 오씨 힐줄 확실하다 예전 만큼 엘리트 많이 떨어지다',\n",
       " '별로 잘 못 생각 안함',\n",
       " '송혜교 예쁘다 우아하다 오연수 닮다 kg 빼다 최고 자연미인',\n",
       " '이분 은혁 소리 소문 없이 사라지다 아니다',\n",
       " '근데 이영자 먹다 좋다 점점',\n",
       " '시청자 막판 이영자 선택',\n",
       " '응원 다시 노래 모습 포',\n",
       " '오달수 총 각 혈기 왕성 실수 누구 반성 다시 열심히 조연 배우',\n",
       " '글쎄 사람 모르다',\n",
       " '머리 살짝 당기다 머리 채 잡다 잡고 끌 간걸루 변하다 조금 머리 채 잡고 바닥 질질 끌 간걸루 물론 스텝 잘 못 맞다 왜 이리 이상하다 변하다',\n",
       " '문희준 예쁘다 모습 보여주다',\n",
       " '여자 잘 만나다 징글징글 만나다 인생 끝 가지 돌아가다 근데 왜 김새롬 편 미치다 들이다',\n",
       " '아시 블 개시 블',\n",
       " '이쁘다 이쁘다',\n",
       " '장윤정 딸 래미 친정 엄마 똑같이 생기다',\n",
       " '쯔음 여자 딱 중고 교때 불평 불만 많다',\n",
       " '페미 정신병 정신병 회사 여대 거르는 왜 아직도 모르다',\n",
       " '기자 누구 안과 소개',\n",
       " '응원 이제 자다 일만 남다',\n",
       " '자다 누가 죽다 꿈꾸다 방금 일어나서 불키 휴대폰 실검 누가 죽다 소식 이라니 믿다 않다 스스로 소름 돋다 눈물',\n",
       " '조작 돌다 이제 생활 곱다',\n",
       " '역사 사실 들어가다 주연 캐릭터 탄생 배경 성장 과정 들어가다 루즈 감다 다소 연출 산만하다 내일 예고 내일 꿀잼각',\n",
       " '손 타 기전 잘 타 즐 기기 더하다',\n",
       " '하필 이면 얼굴 제일 민감하다 입술 부상 이라니 매우 안타깝다 치료 자다 받다 조속 히 방송 복귀 기원 마음',\n",
       " '엄 마 친구 신경 써주다 할부 친구 와의 의리 자식 키우다 엄마 입장 이기도',\n",
       " '던데 오나라 부부',\n",
       " '독전 김주혁 정말 연기 잘 축하 드리다',\n",
       " '돼지 이유',\n",
       " '연예 인들 돈 수십억 넘다 벌다 왜 힘드다 척 싸다',\n",
       " '좀찌 아이 낳다 겨우 키로 뺏다 다시 찜',\n",
       " '본인 노력 예쁘다 무슨 상관 욕 말고 격려 줍다',\n",
       " '아빠 죽이다',\n",
       " '길다 이혼 간다',\n",
       " '진실 인지 모르다 상속 그냥 웃음 진실 미치다 팔짝 뛰다 일 사람 엮 일이 얼마나 쉽다',\n",
       " '기자',\n",
       " '역겹다 련 방송 오는 자체 국민 멘붕 주제 파악 좋다',\n",
       " '아니다 바다 왜 타임 나타나다 난리 부르다 스 sm 입김 분명하다 강타 린 맞어 중간 에나 오다 표지',\n",
       " '상품 제로 진자 대형 기획사 빨 녓슴 진장 끝낫',\n",
       " '박경림 빼 목소리 자체 짜증',\n",
       " '년 간 aomg 게뭐 열심히 곡 뽑다 박재범 해외 활동 소화 공동 대표 란 사람 여태 놀다 이제 곡 작업 징징거리다 나가다',\n",
       " '놀다 자빠지다 주다 콱 때리다 뿔',\n",
       " '확실하다 조급하다 가보 오히려 큐브 소 속 일 나오다 않다 현아 기사 급속도 터지다 나오다 선 조급하다 or 조만간 복귀 수순 이겠다',\n",
       " '정신 아니다 고딩 계 웃기 성인 피임 도안 남자 주다 버리다 결혼',\n",
       " '지니 혜 훨씬 잘 아쉽다',\n",
       " '임신 몸 저런 모습 정상 이런 사진 뭐땜 올 리지',\n",
       " '귀 뚫다 난리 누나 연예인병',\n",
       " '구혜선 씨 다른사람 신경 쓰다 악플 도보 힘내다 기르다 응원',\n",
       " '섣부르다 판단',\n",
       " '재앙 별의별 OOO 놈 치다 나오다',\n",
       " '박진영 인성 성실하다 인정',\n",
       " '근데 목소리 또 남다 신기하다',\n",
       " '그냥',\n",
       " '차화연 씨 언급 아니다 조세호 질문 거기 대답 내용 자다 모르다 찌다 또 난리 대한민국 못난이 댓글 러 큰일',\n",
       " '근데 울산 경상도 아니다 울 사람 경상도 티비 와도 동네 인지 의문 경상도 사투리 자체 아이 정서 좋다 않다 주의 좋다',\n",
       " '티아라 년 저지르다 행실 나쁘다 벌 받다',\n",
       " '정연 힘내다 오빠 잘못 아니다',\n",
       " '트위터 가보다 인신공격 일상 이던 아니다 척',\n",
       " '이혼 안 부인 고집 만치 않다',\n",
       " '식스센스 가성 불다 브아걸 누르다 끼치다',\n",
       " '불편하다 통계 프로 여성 카이스트 문짝 못 들어가다 년',\n",
       " '드라마 이딴 알맹이 없다 단순 자극 시청률 올리다 대단하다 작품 대단하다 생각 도안 개막 장 시청률 실컷 올리다',\n",
       " '신기하다 낳다 재밌다 낳다 낳다 힘드다 대단하다 심',\n",
       " '끝 읽다 한편 이종석 중학교 재학 시절 크다 교통사고 십 자인 파열 보충역 급 판정 받다 알려지다 따르다 이종석 대체 복무 시점 결정 사회 복무 요원 간 병역 의무',\n",
       " '중후 반대 캐 동안',\n",
       " '세븐 인성 왜 알다 사귀다 끄다 대물 흠',\n",
       " '중기 왜 히 필 늙다리 물리다',\n",
       " '일 아직도 울궈 먹다 병티즌 클라스 오히려 월드 스타 흠 잡히다 없다 대단하다 이면 그룹 데뷔 해체 기간',\n",
       " '남자 착하다 생기다 저런 남편 김영애 오늘 모습 이유지 된거',\n",
       " '엄청 기대',\n",
       " '원호 팬 보여주다 모습 믿다',\n",
       " '삼가다 고인 명복 비다 휘성 부친상 솔직하다 알다',\n",
       " '나이 아쉽다',\n",
       " '아니다 열등감 찌들다 여자 역겹다',\n",
       " '재미 없다',\n",
       " '이혁 얼굴 실력 집중 조명 받다 빈형 나름 잘생기다 실력 파이다 노랗다 응원 이혁 씨 락커 성공하다 서로 잘 콜라보 그런 모습',\n",
       " '가정 딸 사람 건드리다 말',\n",
       " '효가 도대체 뭘 잘 못 어제 웅앵웅 보고 누가 상처 받다 악플러 말고는 없다 채팅 전체 이야기 나오다 이유 효 악플 그만 쓰다 욕 없다 그게 악플 아니다 아니다',\n",
       " '손태영 몸매 갑',\n",
       " '뉴스 만들다 똑똑하다',\n",
       " '솔직하다 이쁘다',\n",
       " '어찌 마무리 될런 갈수록 산 드라마 현빈 땜 재미있다 스토리 자다 이해 안되다 특히 게임 자다 모르다 사람',\n",
       " '아이구 지민 씨 예쁘다',\n",
       " '단단하다 걸리다 느낌 꽃뱀',\n",
       " '채수빈 이애 아이돌 듣보다 모르다',\n",
       " '관심 없다 느그 결혼 국민 비호감 이상화 강남 드릴 뚫다 나오다 나오다 으이 지겹다',\n",
       " '그러니까 현빈 손예진 결혼',\n",
       " '가정폭력 피해자 그만하다 엄마 어리다 세상 물정 모르다 전남편 짓 완전 힘내다 이혼 잘 마음껏 날',\n",
       " '예전 순수하다 손나은 좋다 공 주병 생기다',\n",
       " '많이 행복하다',\n",
       " '라디오스타 대본 리딩 도안 올 돈 환장하다 상업 으로만 보이다 그래서 어느 순간 비호 라디오스타 짤릴 꺼 생각',\n",
       " '별 또리 일 안 거기 왜 한심하다',\n",
       " '죄송하다 말씀 이지만 촌스럽다',\n",
       " '기사 읽다 마음 짠하다',\n",
       " '우리나라 이래서 안되다 서로 힘드다 서로 견디다 잘 축하 까지는 아니다 욕 까지는 필요 없다 않다 조선시대 오다 현재 오다 나라 마인드',\n",
       " '김지원 고대 분장 소화 미모 존예',\n",
       " '동거 여자 주먹 가능',\n",
       " '언니 이혼 동생 자다 사다 이쁘다',\n",
       " '이국주 씨 좋다 항상 건강하다 행복하다 착힌신것 헤헤',\n",
       " '또 눈물나다',\n",
       " 'MBC 연기대상 이유리 주다 내용 허다 접 연기 로는 아무 못 깔다 올해 드리다 시청률',\n",
       " '임나 영은 아깝다 오빠 시집 오다 몸 오다',\n",
       " '박유천 억울하다 과정 이상하다',\n",
       " '보석 빛나다',\n",
       " '그래도 빼다',\n",
       " '운전 제대로 못 매니저 붙이다 성광 회사 바닥 취급 당하다',\n",
       " '트퀴들 트와이스 호감 마리 나오다 일 본 불매 개 소리 알다 구입 얼마 군대 간 사람 보고 어쩌 은지 모르다 긋다',\n",
       " '권태기 없이 이뿌다 사랑 하므다 아끼다 모습 보기 좋다 사연 언니 천상 여자 여자',\n",
       " '블록버스터 액션 영화 좋아하다 사람 에겐 어렵다 영화 영화 이해 안되다 해석 모르다',\n",
       " '스트레스 약하다 사람 연예인 안 좋다 베르테르 효과',\n",
       " '별탈 없다 나쁘다 아니다 근데 알다 형님 에서도 느끼다 재미 드럽다 없다 없다',\n",
       " '이름 시발 왕 대륙',\n",
       " '끝나다 볼 스토리 자체 돌담 이야기 오로지 돌담 닫다 유치하다 더컷 뼈 선생 애비 필연 서우진 애비 무슨 관계 같이 사업 배신 사체 썻거',\n",
       " '성추행 당하다 사정 왜 이제야 밝히다 그걸 피해자 그게 제일 해안가 여태',\n",
       " '안시성 영화 당신 오점 현빈 이태곤 연기 못 발성 그냥 생활 목소리 그대 로고 왜 사람 캐스팅 에고 영화 잘 만들다',\n",
       " '아니다 부모 잘못 거지 마닷 인정 사과 드렷 잖다 밉다 밉다 인터폴 잡다 깜방 넣다',\n",
       " '꺄 씨아이 엑스 훈훈하다',\n",
       " '최진실 씨 이은주 씨 돌아가다 우울하다 그때 맘 슬프다',\n",
       " '경리 잘 생기다',\n",
       " '방청 오다 여태 비밀 유지 힘들다 실제 캐 감동',\n",
       " '큰딸 시어머니 입다 희다 블라우스 어디 건지다',\n",
       " '이나라 에서는 자살 사치 마음 의병 사치',\n",
       " '여자 분들 인생 신경 끌다 사회 정치 신경 쓰다',\n",
       " '닮다 선남선녀',\n",
       " '애초 박성광 예능 나가다 신입 매니저 무리하다 데리 나가다 생기다 알다 방송 나오다 얘기 조차가 송이 늘다 스트레스 그만 뽑다 먹다',\n",
       " '벌써 sns 멘탈 쓰다 뻔뻔 쓰다 쓰다',\n",
       " '아주머니 화가 많이 날다',\n",
       " '연예인병 걸리다 사람 필요없다',\n",
       " '네이버 검색 조작 댓글알바 여론조작 사안 문재인 OOO 들어오다 여기저기 비리 심각하다 쓰레기 판치다 방송 말아먹다 나라 말아먹다 즁 문재인 촛불시위 퇴 출시 켜',\n",
       " '멋쪄욤 남편 아빠 로써 욤',\n",
       " '왜 화사 먹방 화제 도통 이해 안되다',\n",
       " '존나 개 쩌리 나오다',\n",
       " '우 빈 빨리 복수 끝내다 황실 무너 뜨다 리 총알 빼다 써니 행복하다',\n",
       " '성추행 범 처벌 받다 무섭다 마음대로 뒤 인간 생일 축하 이미 뒤지다 인간 축하 자격 없다 누가 의인',\n",
       " '고인 팔이 언제',\n",
       " '시장 횟집 아구찜 먹다 왜 극찬 이해 안감 백종원 효 과일 뿐',\n",
       " '이쁘다 이쁘다 추카 추카 누구 잘살다',\n",
       " '이영자 편 달리 집중 떨어지다 관심 받다 표정 조금 호감 알다 개인 취향 이니까',\n",
       " '아니다 근데 희다 해안가 동생 없어지다 유진우 관계 생각 유진우 오 외모 신경 쓰다 해안',\n",
       " '홍진영 싫어하다 남자',\n",
       " '스티브 유 기사 당장 내리다 보기 싫다',\n",
       " '수신료 연예 인들 여행 보내다 주다 그만 보고',\n",
       " '승리 뭘 잘 못 도저히 모르다',\n",
       " '아우 극혐',\n",
       " '이다해 얼굴 갈수록 이상하다 이다해 성형수술 중독',\n",
       " '알다 알다 마닷 대체 뭘 잘 못 마닷 아니다 어리다 왜 부모 잘 못 아들 피해 왜 똑같이 생각',\n",
       " '애프터스쿨 멤버 의리 뭉치다 가희 유이 화보 없다 인성 안좋다 쏙 빠지다',\n",
       " '오우 잘생기다 사진 안 오르다 오다 잘나다 슈돌이 다시 나오다 작은딸 크다 나가다 모습 보여주다',\n",
       " '자다 어울림',\n",
       " '종민 한참 부족',\n",
       " '달리 뭔가 틀다 별 없다 노래 자다 연기 글 타고 말제 주가 끼 요즘 거리 차고 넘치다 노력 이상하다 컨셉 잡다 이슈 메이커 컨셉 건지다 그건 모르다',\n",
       " '박해진 장 근 형님 군대 안 법 자다 배우다 하지만 끌리다 도와주다 개 끌리다 않다',\n",
       " '여자 의사 종목 마저 쉬다 편하다',\n",
       " '존잼 글 서강준 연기 잘',\n",
       " '겁나다 씨 기한 드라마',\n",
       " '언니 악플 보지 말고 선플 늘 응원 보살 대장님',\n",
       " '페미 양성평등 외치다 드라마 시시 껄렁 기사 복기 기자 여성 댓글 비율 화 력 사회 경제 정치 문화 관심 갖다 남자 여자 유리천장 씨부리다 드라마 그만 보고',\n",
       " '일본 영화 리메이크 ost 내용 완전 똑같다',\n",
       " '누굴 닮다 실존 인물 이면 머리 뜯다 안 끝나다',\n",
       " '충재 투입 시키다 신선하다 쭉 버랍 즐기다 프로',\n",
       " '헐다 좋다 제니 매력',\n",
       " '참다 안긔 말투 아니다 페미',\n",
       " '앞뒤 안보 사람 몰다 죽이다 버리다 대한민국 종특 특히 방 구석 백수',\n",
       " '줌마 최진실 죽이다 이제 미안하다 OOO',\n",
       " '일본 안 나오다 좋다',\n",
       " '양준 일 심취 다른 채널 돌리다 양준 일 방송 또 언제 나오다 슈가 맨 책임지다 나오다',\n",
       " '여프듀 최고 아웃 풋 김세정 그룹 짜다 소 미도 JYP 연습생 스케줄 안 잡다 줌 짜다 사실 청 체고 넘다',\n",
       " '돈',\n",
       " '무 실망하다 마지막 실망',\n",
       " '헬 조선 김치 마녀사냥 토',\n",
       " '우와 맘충 노처녀 질투',\n",
       " '징그럽다 쓸다 의미 보이다',\n",
       " '한의사 벌이 그닥',\n",
       " '그깟 돈까스 집 망하다 말 나하 뭔 상관 잘 백가 좋다 옆 호텔 믄',\n",
       " '여러 대형 가수 수상 거부 아쉽다 감다 결국 상이 받다 장땡 불법 투표 받다 비난 받다 곧 잠잠하다 오빠 축하 축하',\n",
       " '헌법 권리 항소 뭐라다 왜 법 절차 개무시 사람 많다 자유 일본 당',\n",
       " '당신 멋지다 목소리 멋지다 드럼 솜씨 다정하다 미소 기억나다 고통 없다 편안하다 잠들다 기르다 기원 삼가다 고인 명복 비다',\n",
       " '징그럽다 크다 헐다 집 귀하다 딸 무식하다 발언 개념 상실',\n",
       " '홍어 백제 친일파 많다',\n",
       " '현영 한때 반짝 잘나가다 원래 머리 없이 뜨다 오래 힘드다 법 꽤 잘 먹다',\n",
       " '복 형 복 편이',\n",
       " '짓 없다 댓글 쓰다',\n",
       " '대은 날수 거울 녀콘',\n",
       " '랩퍼 아치',\n",
       " '아줌마 비공 누르다 처녀 뚫리다 모유 나오다 젖 소녀 새다 현실 이면 대화 못 노친 련',\n",
       " '태양 휴가 나오다 아내 사진 같이 찍다 낚었 기레기 안 나이 알다',\n",
       " '재수없다 걸리다 당연하다 풀다',\n",
       " '전소민 머리 자르다 즉 도로',\n",
       " '누군지 모르다',\n",
       " '누구 개 듣보다',\n",
       " '연예계 생활 끝나다 먹다 회사 온 세상 호락호락 않다 는걸 가르다 켜다 맨 밑바닥 생활 차근차근 가르다 켜다',\n",
       " '채 여니 이쁘다 얼굴 마음',\n",
       " '어떻다 연인 지는 모르다 박유천 별로 사람인 확실하다 느껴지다',\n",
       " '미치다 톱스타 저런 시골 촌 구석 저런 촌년 사랑 빠지다 우리나라 드라마 막장 아니다 맨날 신데렐라 스토리 절레절레',\n",
       " '머리 숱 없다 갑자기 용',\n",
       " '그래서 이분 담화',\n",
       " '중국 저러다 정말 잘 헬 조선 연예인 탈세 하고도 뻔 뻔하다 광고 찍다 활동 잘만 라이',\n",
       " '다시다 못 조합 생각 동방신기 가능하다',\n",
       " '죽다 힘 들이다 훌훌 털다 버리다 고영 하소',\n",
       " '장도연 편 솔직하다 별로 재미없다 손담비 편이 재밌다',\n",
       " '아니다 본인 엄청 유명하다 영향력 가수 해외 미루다 이제 이유',\n",
       " '세월호 이리 호들갑 뉴스 나오다 괜찮다 예능 나오다 이리 호들갑 떨다 안되다 원빈 라디오스타 나오다 아주 호들갑 떨다',\n",
       " '꺄악 여신 한채영 어떻다 매력',\n",
       " '마약 적어도 피 넌 피해 주다 상처 주다',\n",
       " '왜 쿵쾅 들이다 결혼 뉴스 유독 거리 겠다 뚱뚱하다 못 생기다 결혼 절 대못',\n",
       " '다큐 내용 뒤죽박죽 뭘 얘기 건지다 편집 엉망',\n",
       " '캐릭터 좋다 연기 아쉽다',\n",
       " '인생 더하다 일이 많다 남다 잊다 시간',\n",
       " '악플 왜 이리 많다 아직 어리다 친구 참나',\n",
       " '평소 잘',\n",
       " '갑자기 뭔 일본인 개 싫다',\n",
       " '오빠 힘내다 화이팅 오빠 팬 오빠 믿다',\n",
       " '한혜연 안 나오다 좋다',\n",
       " '한혜진 사람 빛 보임 멋지다 예쁘다 말로 한정 없다',\n",
       " '그동안 마마 무가 실력 없다 벗다 실시간 찍다 흥분하다 난리 피다 남자 상품화',\n",
       " '급하다 살빼다 생기 없다 보이다 나이 살빼다 아니다',\n",
       " '판빙빙 이미 공안 사람 돌리다 빵 당하다 협박 영상 오늘 판청 청 팬미팅 계속 누나 애기 만하 눈물 나오다 이제 다시 만나다 없다',\n",
       " '가족 이유 손가락질 받다 안타깝다',\n",
       " '그걸 찍다 올리다 놈 연예인 사생활 뭣 없다 공식 석상 아니다 에선 찍다 대지 마',\n",
       " '기사 눈물나다 안타깝다',\n",
       " '재수 없다 꽃뱀 당한 이서 원만 불쌍하다',\n",
       " '아직 인국 크다 그릇 아니다 많이 아쉽다 드라마 인국 아니다 엿 으 좋다',\n",
       " '그러니까 맘 곱 먹다 관종',\n",
       " '어장 관리 프로그램',\n",
       " '근데 충재 기안 수원 미대 출신 아니다',\n",
       " '무슨 내용 재밌다 화 뎅',\n",
       " '남자친구 쪽 사고 바로 인터뷰 구하라 쪽 인터뷰 불응 며칠 동안 잠수 인지 알다',\n",
       " '결혼 빌푸사미빌레 득남 기념 핀란드 친구 한국',\n",
       " '오영주 계속 떠보다 그러니까 마음 떠나다',\n",
       " '쥐 새끼 커플',\n",
       " '오정연 배 꽤 아프다',\n",
       " '칼 살인 소시오패스 엿 날다 인성 쓰레기 급 근데 좋아하다 팬 놀라다 저런 그리고 운전 사망',\n",
       " '완전 쓰레기',\n",
       " '한국 인들 극단 적임 단순하다 얘 욱일기 라서 좋다 누르다 아니다 감독 사진 좋다 누르다 당황 감독 욱일기 설명 하든 한국 인들 으 지겹다 지겹다 예민하다 민감하다',\n",
       " '김종민 이주연 들어가다 솔직하다 엉뚱하다 토크 진행',\n",
       " '뻔하다 재민 겠다',\n",
       " '이하늬 빼다 배우 아니다 기린 뺏다',\n",
       " '키 딱 적당하다 요즘 대한민국 여자 다이어트 말로 하나같이 존나 뚱뚱하다',\n",
       " '이래서 대통령 자다 뽑다 예 로부터 선조 지혜 틀리다 없다 흉년 가뭄 심하다 왕도 짤 린다 던데 허허 말세 로구나',\n",
       " '무분별 글 속상하다',\n",
       " '멤버 출연 문제 아니다 이미 높아지다 대치 충족 시키다 기다 어렵다 시즌 늘다 안 좋다 호 추리 여왕 실망',\n",
       " '현역 면제 빅픽처',\n",
       " '미투 대한 반발 말 이구만 여자 남자에게 성희롱 이시영 아줌마 승리 결혼 안 총각 든지 삐 딱하다 보이다',\n",
       " '핫 즐 누가 핫 건지다',\n",
       " '미연 효섭 연기 갑 가족 캐스팅 잘 이상우 가족 황금 빛 가족 드라마 로서 최고다 끝나다 아쉽다 해피엔딩 이기다',\n",
       " '전현무 넘다 싫다 여친 야구선수 장창 나오다 본인 체력 딸리다 개고기 먹다 전현무 극 혐 미식 회 나오다 개고기 극찬 노견 또또 태도 이중',\n",
       " '현역 갓 상근 제발 군복무 란 말 안햇으 특기 없다 무슨 군인 이여 군복무 말고 대체복무 란 표현 써주다',\n",
       " '졸라 뻔 뻔하다 안 나오다',\n",
       " '그냥 다시 연인 만나다 좋다 응원 많이 결별 소식 안타깝다 그래도 친하다 관계 자다 지내다 다행',\n",
       " '채 은씨 이쁘다 선남선녀 예쁘다 만나다 언론 관심 안 오래 가시다',\n",
       " '류 필립 생기다 꼬 라지 꼭 기생 오래 미나 불쌍하다 능력 여자 저러다 애가 붙다 살다 추',\n",
       " '무조건 황민 잘못 씻다 없다 일일 테 화물차 왜 거기 화물차 일 수도 화물차 조사해',\n",
       " '안되다 일 없다 노력 응원',\n",
       " '박가원 정말 이쁘다 착하다 보임 당나귀 방송 보고 정말 이쁘다 착하다 생각 어제 방송 에서도 정말 이쁘다',\n",
       " '티아라 명칭 소속사 소유 맞다',\n",
       " '아가 뒷 머리 귀엽다 아가 안기다 자다 젤루 뽕',\n",
       " '스타 연예인 아무리 잘 악플 슬기롭다 넘기다',\n",
       " '반 일 짓 폭 망하다 전례 삼가다 명복 비다 트와이스',\n",
       " '슈스케 나오다 췍 엊그제 명복 비다',\n",
       " '아니다 빠지다 무슨 무섭다 소리 아니다 사과받다 당연하다 계속 일 인생 아니다 말 함부로',\n",
       " '바로 손 절하 몹시 기적 여자 군',\n",
       " '와우 친언니 역쉬 이분 관리 일 에서나 열심히 멋지다 바쁘다 와중 소통 잘 대단하다 신분 인정',\n",
       " '안 다르다 입다 신세경 이쁘다 옷 엄청 팔리다 사실',\n",
       " '드라마 안 뻔하다 스토리 역시 폐암 말기',\n",
       " '무책임하다 기사 너무하다',\n",
       " '백종원 최곤 주다 비기다 안',\n",
       " '사재기 결정 증거 뭐임 노래방 많이 불리다 음원 순위 높다 반대 라서 사재기',\n",
       " '송가 OOO 외출 시키다',\n",
       " '멜론 폭소 열차 뭐시기 없이 드립 치다 놓다 자르다 앨범 많이 저급하다',\n",
       " '혜나 혜나 자다 살다 고통 받다 죽다',\n",
       " '지현우 주연 급 아니다 왜 매번 주연 이해 안되다 나오다 재미없다',\n",
       " '여자 땜시 혼자 안 죽다 이제 끝 잇다',\n",
       " '비결 야구 코시 땜 살림 김승현 연속 결방 뭔 개솔 인지',\n",
       " '사람 잘 못 떠나다 왜 백종원 이란 사람과 비교 신격화 깔다 뭉 려고 이해 안 사람 잘못 자체 비판',\n",
       " '성폭력 당하다 유행 왜 나서다 지랄 안 얼마 든지 안 잇다 OOO 쪽팔리다 안다 여자 벼슬',\n",
       " '미우다 새다 보여주다 사치 극 인지 보여주다 이르다 믿다 따르다 박수홍 호구 버리다',\n",
       " '봉준호 설국열차 찍 생각 하니 성적 흥분 미치다 인간 터널 기차 남근',\n",
       " '딸 늘다 보수 홍석천 씨 평범하다 부모 자녀 늘다 동성애 퀴어 축제 못 이해',\n",
       " '급 걱정 이상화 많이 어리다 않다 이혼 흠 아니다 세상 조금 생각 결정 자다 살길 바라다',\n",
       " '서울 아니다 저택 강남 아파트 채보 저렴하다',\n",
       " '오다 대박 형 사기 치고',\n",
       " '간 적도 없다 검사 받다 띨띨이들',\n",
       " '소유 원래 얼굴 보단 목소리 몸매 뜨다',\n",
       " '사람 고치다 쓰다 아니다',\n",
       " '본인 선택 아니다 왜 눈물 짜다',\n",
       " '헐리웃 에선 못 나가다 한국 오다',\n",
       " '불운 그대 탓 다른 사람 탓 아니다 그냥 상황 그리다 만들다 다만 잘 못 선택 안 따다 깝습니 정선희 씨 힘내다 자다 살다',\n",
       " '월 버그 영화 개꿀잼 김치 년 뿔',\n",
       " '우한 폐렴 초기 중국 아양 떤다 정부 차원 마스크 퍼주 중국 놈 한국 꺼 사가다 사재기 남다 마스크',\n",
       " '살빼다 뭔가 잭블랙',\n",
       " '아니다 버 남자 능력 여자도 후리 여자도 좋다 즐기다 신고 안 아니다',\n",
       " '샘 쉬 아쉽다',\n",
       " '아이유 여진구 최고',\n",
       " '정우성 씨 난민 많다 노력 도움 멋지다 배우 노력 홧팅',\n",
       " '안타깝다 학교폭력 가해자 굳이 감싸다 사람 심리 궁금하다',\n",
       " '제일 싫어하다 싸 보이다 여자 싸다 티',\n",
       " '이쁘다 크다',\n",
       " '지환 씨 힘내다',\n",
       " '웃다 간다 하루 이면 전성기 간 돈 우리나라 부자 순위 이름 터',\n",
       " '김태희 연기 발전 없다 뭔가 기대하다 사람 무색',\n",
       " '종 미나 커플 쫑난거 미나 종민 이를 역 용하다 순진하다 쫑민이 또 당하다',\n",
       " '내한 고생 자다 가세',\n",
       " '파혼 좋다 선후배 윾시 개그맨 죄다 아치 헤헤',\n",
       " '송윤아 예쁘다 옷 이쁘다 고급 지고 우아하다',\n",
       " '기미 흔 공황장애 장애 없다 벌금 이쁘다',\n",
       " '강용석 찌질하다 과거 들추다 추하다',\n",
       " '지겹다 이프 그만하다 작가',\n",
       " '그래도 좋다 노래 많다',\n",
       " '지현우 범죄 저지르다 않다',\n",
       " '여자 인생 망치다 일',\n",
       " '근데 전라도 사고 굳이 서울 오다 병원 이유',\n",
       " '젖 x 뱃살 x 몸매 s 라인 유륜 적당하다 무크 거나 작다 x 엉덩이 빵빵',\n",
       " '남자 잘 못 반성 없다 여자 아주 못 왜 나르다 배신']"
      ]
     },
     "execution_count": 326,
     "metadata": {},
     "output_type": "execute_result"
    }
   ],
   "source": [
    "test_cleaned_list"
   ]
  },
  {
   "cell_type": "code",
   "execution_count": 327,
   "id": "4c2f34f1",
   "metadata": {},
   "outputs": [],
   "source": [
    "test_input_sequences = tokenizer.texts_to_sequences(test_cleaned_list)\n",
    "\n",
    "# 패딩을 사용하여 시퀀스의 길이를 맞춤\n",
    "test_padded_sequences = pad_sequences(test_input_sequences, maxlen=max_len, padding='post')"
   ]
  },
  {
   "cell_type": "code",
   "execution_count": 398,
   "id": "11afad34",
   "metadata": {},
   "outputs": [
    {
     "data": {
      "text/plain": [
       "(471, 36)"
      ]
     },
     "execution_count": 398,
     "metadata": {},
     "output_type": "execute_result"
    }
   ],
   "source": [
    "test_padded_sequences.shape"
   ]
  },
  {
   "cell_type": "code",
   "execution_count": 377,
   "id": "9a78072f",
   "metadata": {},
   "outputs": [
    {
     "name": "stdout",
     "output_type": "stream",
     "text": [
      "15/15 [==============================] - 0s 2ms/step - loss: 0.8817 - accuracy: 0.5817\n",
      "loss (cross-entropy) : 0.8816719651222229\n",
      "test accuracy : 0.5817409753799438\n"
     ]
    }
   ],
   "source": [
    "result = model.evaluate(test_padded_sequences, test['label_encoded'])\n",
    "print('loss (cross-entropy) :', result[0])\n",
    "print('test accuracy :', result[1])"
   ]
  },
  {
   "cell_type": "code",
   "execution_count": null,
   "id": "1957a3fe",
   "metadata": {},
   "outputs": [],
   "source": [
    "임베딩 , 데이터의 처리가 중요\n",
    "데이터 정보 압축\n",
    "데이터 EDA로 좀 더 태스크에 맞게 하기?"
   ]
  },
  {
   "cell_type": "code",
   "execution_count": null,
   "id": "b83d8a3e",
   "metadata": {},
   "outputs": [],
   "source": []
  },
  {
   "cell_type": "code",
   "execution_count": null,
   "id": "ab7463c6",
   "metadata": {},
   "outputs": [],
   "source": []
  },
  {
   "cell_type": "markdown",
   "id": "ab826536",
   "metadata": {},
   "source": [
    "# 정확도 계산하는 다른 방법"
   ]
  },
  {
   "cell_type": "code",
   "execution_count": 378,
   "id": "3ebc9c86",
   "metadata": {},
   "outputs": [
    {
     "name": "stdout",
     "output_type": "stream",
     "text": [
      "1/1 [==============================] - 0s 23ms/step\n",
      "Accuracy: 0.5817409766454352\n"
     ]
    }
   ],
   "source": [
    "y_pred = model.predict(test_padded_sequences, batch_size=1024)\n",
    "test_pred_argmax = y_pred.argmax(axis=-1)\n",
    "accuracy = accuracy_score(test_pred_argmax, test['label_encoded'])\n",
    "print(f'Accuracy: {accuracy}')"
   ]
  },
  {
   "cell_type": "markdown",
   "id": "b2ff1e2e",
   "metadata": {},
   "source": [
    "# 디코딩하여 정답 데이터 저장"
   ]
  },
  {
   "cell_type": "code",
   "execution_count": 389,
   "id": "d62a5e88",
   "metadata": {},
   "outputs": [
    {
     "name": "stdout",
     "output_type": "stream",
     "text": [
      "1/1 [==============================] - 0s 24ms/step\n"
     ]
    }
   ],
   "source": [
    "y_pred = model.predict(test_padded_sequences, batch_size=1024)\n",
    "test_pred_argmax = y_pred.argmax(axis=-1)\n",
    "decoded_predicted_labels = label_encoder.inverse_transform(test_pred_argmax)\n",
    "pd.DataFrame({'Predicted_hate':decoded_predicted_labels}).to_csv('submission.csv', index=False)"
   ]
  },
  {
   "cell_type": "code",
   "execution_count": 386,
   "id": "7a48d606",
   "metadata": {},
   "outputs": [],
   "source": []
  },
  {
   "cell_type": "code",
   "execution_count": null,
   "id": "207349cc",
   "metadata": {},
   "outputs": [],
   "source": []
  }
 ],
 "metadata": {
  "kernelspec": {
   "display_name": "Python 3 (ipykernel)",
   "language": "python",
   "name": "python3"
  },
  "language_info": {
   "codemirror_mode": {
    "name": "ipython",
    "version": 3
   },
   "file_extension": ".py",
   "mimetype": "text/x-python",
   "name": "python",
   "nbconvert_exporter": "python",
   "pygments_lexer": "ipython3",
   "version": "3.11.5"
  }
 },
 "nbformat": 4,
 "nbformat_minor": 5
}
